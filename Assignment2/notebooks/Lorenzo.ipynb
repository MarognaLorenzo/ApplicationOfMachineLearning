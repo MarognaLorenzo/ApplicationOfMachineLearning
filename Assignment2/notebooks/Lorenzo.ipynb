{
 "cells": [
  {
   "cell_type": "markdown",
   "id": "indian-mauritius",
   "metadata": {},
   "source": [
    "# Assignment 2 - Predictive Process Monitoring"
   ]
  },
  {
   "cell_type": "markdown",
   "id": "surrounded-oracle",
   "metadata": {},
   "source": [
    "*Due: Friday, 15 December, 2023 at 14:00 CET*\n",
    "\n",
    "In this assignment, you will learn to use several regression models to predict the process remaining time. In addition, you will also show that you can evaluate their performance and discuss the results in a report. The learning objectives of this assignment are: \n",
    "\n",
    "- use the data aggregation, feature encoding, and data transformation techniques to preprocess event data\n",
    "- use the regression models to predict the remaining time of ongoing cases. \n",
    "- perform cross validation and fine-tune the model parameters of each algorithm\n",
    "- calculate model performance (e.g., MAE, MSE, RMSE, R^2, etc.)\n",
    "- design experiments to compare the performance of algorithms\n",
    "- reflect on the difference between different models\n",
    "\n",
    "\n",
    "This assignment includes two algorithms: Regression Tree (or Random Forest Regression) and kNN regressor. Following a similar structure as the first assignment, your first task is to perform data exploration and data cleaning. \n",
    "In Task 2, you will perform two trace encoding techniques (covered during Lecture 07). \n",
    "In Task 3-4, you will use the two algorithms to learn regression models to forecast the remaining time of each case after each event. \n",
    "In Task 5, you will compare the algorithms and evaluate their results. \n",
    "\n",
    "Please note that Task 3 and 4 have the following structure:\n",
    "1. First, find the library (e.g., sklearn examples) and try out the algorithm by simply training the model on the training data (do not consider any parameters or cross validation just yet); \n",
    "2. Train the model with the training data by using cross validation and find the best parameter setting for the parameters of interest;\n",
    "3. Report the average MAE, MSE, RMSE, and R^2 of all validation sets;\n",
    "4. Finally, test the optimal model that has the best fitting parameters on your held-out test data, and report its MAE, MSE, RMSE, and R^2. \n",
    "\n",
    "Note that, in Task 5, you will need all the calculated MAE, MSE, RMSE, and R^2 on both encoded data from previous tasks. Make sure you save these to a list or dictionary so you can easily evaluate and compare the results. \n",
    "\n"
   ]
  },
  {
   "cell_type": "markdown",
   "id": "binding-pixel",
   "metadata": {},
   "source": [
    "## Task 1: Exploring the data set\n",
    "\n",
    "\n",
    "\n",
    "### Data set: Sepsis\n",
    "\n",
    "Import the file *sepsis.csv* to load the Sepsis data set. This real-life event log contains events of sepsis cases from a hospital. Sepsis is a life threatening condition typically caused by an infection. One case represents a patient's pathway through the treatment process. The events were recorded by the ERP (Enterprise Resource Planning) system of the hospital. The original data set contains about 1000 cases with in total 15,000 events that were recorded for 16 different activities. Moreover, 39 data attributes are recorded, e.g., the group responsible for the activity, the results of tests and information from checklists. \n",
    "\n",
    "Additional information about the data can be found :\n",
    "- https://data.4tu.nl/articles/dataset/Sepsis_Cases_-_Event_Log/12707639\n",
    "- http://ceur-ws.org/Vol-1859/bpmds-08-paper.pdf\n",
    "\n",
    "\n"
   ]
  },
  {
   "cell_type": "code",
   "execution_count": 36,
   "id": "appropriate-michigan",
   "metadata": {},
   "outputs": [
    {
     "name": "stdout",
     "output_type": "stream",
     "text": [
      "Index(['DiagnosticArtAstrup', 'DiagnosticBlood', 'DiagnosticECG',\n",
      "       'DiagnosticIC', 'DiagnosticLacticAcid', 'DiagnosticLiquor',\n",
      "       'DiagnosticOther', 'DiagnosticSputum', 'DiagnosticUrinaryCulture',\n",
      "       'DiagnosticUrinarySediment', 'DiagnosticXthorax', 'DisfuncOrg',\n",
      "       'Hypotensie', 'Hypoxie', 'InfectionSuspected', 'Infusion', 'Oligurie',\n",
      "       'SIRSCritHeartRate', 'SIRSCritLeucos', 'SIRSCritTachypnea',\n",
      "       'SIRSCritTemperature', 'SIRSCriteria2OrMore', 'Age', 'Case ID',\n",
      "       'Activity', 'Diagnose', 'org:group', 'CRP', 'LacticAcid', 'Leucocytes',\n",
      "       'Complete Timestamp', 'duration', 'month', 'weekday', 'hour', 'remtime',\n",
      "       'elapsed'],\n",
      "      dtype='object')\n",
      "  DiagnosticArtAstrup DiagnosticBlood DiagnosticECG DiagnosticIC  \\\n",
      "0                True            True          True         True   \n",
      "1                True            True          True         True   \n",
      "2                True            True          True         True   \n",
      "3                True            True          True         True   \n",
      "4                True            True          True         True   \n",
      "\n",
      "  DiagnosticLacticAcid DiagnosticLiquor DiagnosticOther DiagnosticSputum  \\\n",
      "0                 True            False           False            False   \n",
      "1                 True            False           False            False   \n",
      "2                 True            False           False            False   \n",
      "3                 True            False           False            False   \n",
      "4                 True            False           False            False   \n",
      "\n",
      "  DiagnosticUrinaryCulture DiagnosticUrinarySediment  ...   CRP LacticAcid  \\\n",
      "0                     True                      True  ...  21.0        2.2   \n",
      "1                     True                      True  ...  21.0        2.2   \n",
      "2                     True                      True  ...  21.0        2.2   \n",
      "3                     True                      True  ...  21.0        2.2   \n",
      "4                     True                      True  ...   0.0        2.2   \n",
      "\n",
      "  Leucocytes   Complete Timestamp   duration month weekday hour remtime  \\\n",
      "0        9.6  2014-10-22 19:34:00   0.383333    10       2   19     0.0   \n",
      "1        9.6  2014-10-22 19:33:37   6.616667    10       2   19    23.0   \n",
      "2        9.6  2014-10-22 19:27:00   0.000000    10       2   19   420.0   \n",
      "3        0.0  2014-10-22 19:27:00   0.000000    10       2   19   420.0   \n",
      "4        0.0  2014-10-22 19:27:00  11.316667    10       2   19   420.0   \n",
      "\n",
      "  elapsed  \n",
      "0  1099.0  \n",
      "1  1076.0  \n",
      "2   679.0  \n",
      "3   679.0  \n",
      "4   679.0  \n",
      "\n",
      "[5 rows x 37 columns]\n",
      "['ER Sepsis Triage' 'ER Triage' 'Leucocytes' 'CRP' 'LacticAcid'\n",
      " 'ER Registration']\n"
     ]
    }
   ],
   "source": [
    "# Import packages\n",
    "import pandas as pd\n",
    "\n",
    "# Import data\n",
    "# TODO: Change the file path to your file path\n",
    "data = pd.read_csv(\"../data/sepsis.csv\", sep=\";\")\n",
    "\n",
    "# create an overview of the data\n",
    "# print(data_Sepsis.describe())\n",
    "print(data.columns)\n",
    "print(data.head())\n",
    "print(data['Activity'].unique())"
   ]
  },
  {
   "cell_type": "code",
   "execution_count": 72,
   "metadata": {},
   "outputs": [
    {
     "name": "stdout",
     "output_type": "stream",
     "text": [
      "Memory usage: 1.532224 MB\n",
      "Null value 37.0\n"
     ]
    }
   ],
   "source": [
    "print(f'Memory usage: {data.memory_usage().sum() / 1e6} MB')\n",
    "print(f\"Null value {data.notnull().sum().sum() / len(data)}\")"
   ]
  },
  {
   "cell_type": "code",
   "execution_count": 47,
   "metadata": {},
   "outputs": [
    {
     "data": {
      "text/html": [
       "<div>\n",
       "<style scoped>\n",
       "    .dataframe tbody tr th:only-of-type {\n",
       "        vertical-align: middle;\n",
       "    }\n",
       "\n",
       "    .dataframe tbody tr th {\n",
       "        vertical-align: top;\n",
       "    }\n",
       "\n",
       "    .dataframe thead th {\n",
       "        text-align: right;\n",
       "    }\n",
       "</style>\n",
       "<table border=\"1\" class=\"dataframe\">\n",
       "  <thead>\n",
       "    <tr style=\"text-align: right;\">\n",
       "      <th></th>\n",
       "      <th>Age</th>\n",
       "      <th>CRP</th>\n",
       "      <th>LacticAcid</th>\n",
       "      <th>Leucocytes</th>\n",
       "      <th>duration</th>\n",
       "      <th>month</th>\n",
       "      <th>weekday</th>\n",
       "      <th>hour</th>\n",
       "      <th>remtime</th>\n",
       "      <th>elapsed</th>\n",
       "    </tr>\n",
       "  </thead>\n",
       "  <tbody>\n",
       "    <tr>\n",
       "      <th>count</th>\n",
       "      <td>5176.000000</td>\n",
       "      <td>5176.000000</td>\n",
       "      <td>5176.000000</td>\n",
       "      <td>5176.000000</td>\n",
       "      <td>5176.000000</td>\n",
       "      <td>5176.000000</td>\n",
       "      <td>5176.000000</td>\n",
       "      <td>5176.000000</td>\n",
       "      <td>5176.000000</td>\n",
       "      <td>5176.000000</td>\n",
       "    </tr>\n",
       "    <tr>\n",
       "      <th>mean</th>\n",
       "      <td>70.191267</td>\n",
       "      <td>33.845634</td>\n",
       "      <td>0.547276</td>\n",
       "      <td>4.700155</td>\n",
       "      <td>8.265385</td>\n",
       "      <td>6.531685</td>\n",
       "      <td>2.930835</td>\n",
       "      <td>11.244397</td>\n",
       "      <td>1193.775889</td>\n",
       "      <td>1574.430835</td>\n",
       "    </tr>\n",
       "    <tr>\n",
       "      <th>std</th>\n",
       "      <td>17.418468</td>\n",
       "      <td>74.729799</td>\n",
       "      <td>1.187220</td>\n",
       "      <td>10.590811</td>\n",
       "      <td>35.952867</td>\n",
       "      <td>3.568158</td>\n",
       "      <td>2.018046</td>\n",
       "      <td>8.203143</td>\n",
       "      <td>3469.657735</td>\n",
       "      <td>4087.046260</td>\n",
       "    </tr>\n",
       "    <tr>\n",
       "      <th>min</th>\n",
       "      <td>0.000000</td>\n",
       "      <td>0.000000</td>\n",
       "      <td>0.000000</td>\n",
       "      <td>0.000000</td>\n",
       "      <td>0.000000</td>\n",
       "      <td>1.000000</td>\n",
       "      <td>0.000000</td>\n",
       "      <td>0.000000</td>\n",
       "      <td>0.000000</td>\n",
       "      <td>0.000000</td>\n",
       "    </tr>\n",
       "    <tr>\n",
       "      <th>25%</th>\n",
       "      <td>60.000000</td>\n",
       "      <td>0.000000</td>\n",
       "      <td>0.000000</td>\n",
       "      <td>0.000000</td>\n",
       "      <td>0.000000</td>\n",
       "      <td>3.000000</td>\n",
       "      <td>1.000000</td>\n",
       "      <td>3.000000</td>\n",
       "      <td>0.000000</td>\n",
       "      <td>155.000000</td>\n",
       "    </tr>\n",
       "    <tr>\n",
       "      <th>50%</th>\n",
       "      <td>75.000000</td>\n",
       "      <td>0.000000</td>\n",
       "      <td>0.000000</td>\n",
       "      <td>0.000000</td>\n",
       "      <td>0.266667</td>\n",
       "      <td>6.000000</td>\n",
       "      <td>3.000000</td>\n",
       "      <td>9.000000</td>\n",
       "      <td>236.500000</td>\n",
       "      <td>759.000000</td>\n",
       "    </tr>\n",
       "    <tr>\n",
       "      <th>75%</th>\n",
       "      <td>85.000000</td>\n",
       "      <td>20.000000</td>\n",
       "      <td>0.700000</td>\n",
       "      <td>8.800000</td>\n",
       "      <td>7.366667</td>\n",
       "      <td>10.000000</td>\n",
       "      <td>5.000000</td>\n",
       "      <td>19.000000</td>\n",
       "      <td>1173.500000</td>\n",
       "      <td>1553.000000</td>\n",
       "    </tr>\n",
       "    <tr>\n",
       "      <th>max</th>\n",
       "      <td>90.000000</td>\n",
       "      <td>573.000000</td>\n",
       "      <td>11.000000</td>\n",
       "      <td>296.200000</td>\n",
       "      <td>782.466667</td>\n",
       "      <td>12.000000</td>\n",
       "      <td>6.000000</td>\n",
       "      <td>23.000000</td>\n",
       "      <td>47793.000000</td>\n",
       "      <td>47793.000000</td>\n",
       "    </tr>\n",
       "  </tbody>\n",
       "</table>\n",
       "</div>"
      ],
      "text/plain": [
       "               Age          CRP   LacticAcid   Leucocytes     duration  \\\n",
       "count  5176.000000  5176.000000  5176.000000  5176.000000  5176.000000   \n",
       "mean     70.191267    33.845634     0.547276     4.700155     8.265385   \n",
       "std      17.418468    74.729799     1.187220    10.590811    35.952867   \n",
       "min       0.000000     0.000000     0.000000     0.000000     0.000000   \n",
       "25%      60.000000     0.000000     0.000000     0.000000     0.000000   \n",
       "50%      75.000000     0.000000     0.000000     0.000000     0.266667   \n",
       "75%      85.000000    20.000000     0.700000     8.800000     7.366667   \n",
       "max      90.000000   573.000000    11.000000   296.200000   782.466667   \n",
       "\n",
       "             month      weekday         hour       remtime       elapsed  \n",
       "count  5176.000000  5176.000000  5176.000000   5176.000000   5176.000000  \n",
       "mean      6.531685     2.930835    11.244397   1193.775889   1574.430835  \n",
       "std       3.568158     2.018046     8.203143   3469.657735   4087.046260  \n",
       "min       1.000000     0.000000     0.000000      0.000000      0.000000  \n",
       "25%       3.000000     1.000000     3.000000      0.000000    155.000000  \n",
       "50%       6.000000     3.000000     9.000000    236.500000    759.000000  \n",
       "75%      10.000000     5.000000    19.000000   1173.500000   1553.000000  \n",
       "max      12.000000     6.000000    23.000000  47793.000000  47793.000000  "
      ]
     },
     "execution_count": 47,
     "metadata": {},
     "output_type": "execute_result"
    }
   ],
   "source": [
    "data.describe()"
   ]
  },
  {
   "cell_type": "code",
   "execution_count": 45,
   "metadata": {},
   "outputs": [
    {
     "name": "stdout",
     "output_type": "stream",
     "text": [
      "1035\n",
      "5176\n"
     ]
    }
   ],
   "source": [
    "print(len(data['Case ID'].unique()))\n",
    "print(len(data['Case ID']))"
   ]
  },
  {
   "cell_type": "markdown",
   "id": "written-queen",
   "metadata": {},
   "source": [
    "\n",
    "### 1.1 Exploratory data analysis\n",
    "\n",
    "For the data set, create 2-3 figures and tables that help you understand the data \n",
    "\n",
    "**Use the column \"remtime\" (which indicates the remaining time of each case after each corresponding event) as the response variable for regression**\n",
    "\n",
    "Note that some of these variables are categorical variables. How would you preprocess these variables?\n",
    "\n",
    "\n",
    "#### Tips: ---------------\n",
    "\n",
    "During the data exploration, you, as a team, are trying to get an impression of the data. You will create figures and/or tables that help you to get to know the data. While exploring the data, you may also consider answering the following questions, which may help you understand the data better. For example, \n",
    "\n",
    "- How many variables are in the data? What are the data type and the distribution of each variable? \n",
    "- What is the discribution of the response variable?\n",
    "- Are the variables informative?\n",
    "- Are any pair of the potential predictor variables highly correlated?\n",
    "- (Should the variables be normalized or not?)\n",
    "- (Any relevant, useful preprocessing steps that may be taken?)\n",
    "\n",
    "\n",
    "\n",
    "Make sure to at least check the data type of each variable and to understand the distribution of each variable, especially the response variable. \n",
    "\n",
    "Try to find out what factors seem to determine whether an instance is an outlier or not. What do you conclude?\n",
    "\n",
    "*For creating data visualizations, you may consider using the matplot library and visit the [matplot gallery](https://matplotlib.org/stable/gallery/index.html) for inspiration (e.g., histograms for distribution, or heatmaps for feature correlation).*"
   ]
  },
  {
   "cell_type": "code",
   "execution_count": 55,
   "id": "dangerous-tournament",
   "metadata": {},
   "outputs": [
    {
     "data": {
      "text/html": [
       "<div>\n",
       "<style scoped>\n",
       "    .dataframe tbody tr th:only-of-type {\n",
       "        vertical-align: middle;\n",
       "    }\n",
       "\n",
       "    .dataframe tbody tr th {\n",
       "        vertical-align: top;\n",
       "    }\n",
       "\n",
       "    .dataframe thead th {\n",
       "        text-align: right;\n",
       "    }\n",
       "</style>\n",
       "<table border=\"1\" class=\"dataframe\">\n",
       "  <thead>\n",
       "    <tr style=\"text-align: right;\">\n",
       "      <th></th>\n",
       "      <th>DiagnosticArtAstrup</th>\n",
       "      <th>DiagnosticBlood</th>\n",
       "      <th>DiagnosticECG</th>\n",
       "      <th>DiagnosticIC</th>\n",
       "      <th>DiagnosticLacticAcid</th>\n",
       "      <th>DiagnosticLiquor</th>\n",
       "      <th>DiagnosticOther</th>\n",
       "      <th>DiagnosticSputum</th>\n",
       "      <th>DiagnosticUrinaryCulture</th>\n",
       "      <th>DiagnosticUrinarySediment</th>\n",
       "      <th>...</th>\n",
       "      <th>CRP</th>\n",
       "      <th>LacticAcid</th>\n",
       "      <th>Leucocytes</th>\n",
       "      <th>Complete Timestamp</th>\n",
       "      <th>duration</th>\n",
       "      <th>month</th>\n",
       "      <th>weekday</th>\n",
       "      <th>hour</th>\n",
       "      <th>remtime</th>\n",
       "      <th>elapsed</th>\n",
       "    </tr>\n",
       "    <tr>\n",
       "      <th>Case ID</th>\n",
       "      <th></th>\n",
       "      <th></th>\n",
       "      <th></th>\n",
       "      <th></th>\n",
       "      <th></th>\n",
       "      <th></th>\n",
       "      <th></th>\n",
       "      <th></th>\n",
       "      <th></th>\n",
       "      <th></th>\n",
       "      <th></th>\n",
       "      <th></th>\n",
       "      <th></th>\n",
       "      <th></th>\n",
       "      <th></th>\n",
       "      <th></th>\n",
       "      <th></th>\n",
       "      <th></th>\n",
       "      <th></th>\n",
       "      <th></th>\n",
       "      <th></th>\n",
       "    </tr>\n",
       "  </thead>\n",
       "  <tbody>\n",
       "    <tr>\n",
       "      <th>A</th>\n",
       "      <td>6</td>\n",
       "      <td>6</td>\n",
       "      <td>6</td>\n",
       "      <td>6</td>\n",
       "      <td>6</td>\n",
       "      <td>6</td>\n",
       "      <td>6</td>\n",
       "      <td>6</td>\n",
       "      <td>6</td>\n",
       "      <td>6</td>\n",
       "      <td>...</td>\n",
       "      <td>6</td>\n",
       "      <td>6</td>\n",
       "      <td>6</td>\n",
       "      <td>6</td>\n",
       "      <td>6</td>\n",
       "      <td>6</td>\n",
       "      <td>6</td>\n",
       "      <td>6</td>\n",
       "      <td>6</td>\n",
       "      <td>6</td>\n",
       "    </tr>\n",
       "    <tr>\n",
       "      <th>AA</th>\n",
       "      <td>6</td>\n",
       "      <td>6</td>\n",
       "      <td>6</td>\n",
       "      <td>6</td>\n",
       "      <td>6</td>\n",
       "      <td>6</td>\n",
       "      <td>6</td>\n",
       "      <td>6</td>\n",
       "      <td>6</td>\n",
       "      <td>6</td>\n",
       "      <td>...</td>\n",
       "      <td>6</td>\n",
       "      <td>6</td>\n",
       "      <td>6</td>\n",
       "      <td>6</td>\n",
       "      <td>6</td>\n",
       "      <td>6</td>\n",
       "      <td>6</td>\n",
       "      <td>6</td>\n",
       "      <td>6</td>\n",
       "      <td>6</td>\n",
       "    </tr>\n",
       "    <tr>\n",
       "      <th>AAA</th>\n",
       "      <td>3</td>\n",
       "      <td>3</td>\n",
       "      <td>3</td>\n",
       "      <td>3</td>\n",
       "      <td>3</td>\n",
       "      <td>3</td>\n",
       "      <td>3</td>\n",
       "      <td>3</td>\n",
       "      <td>3</td>\n",
       "      <td>3</td>\n",
       "      <td>...</td>\n",
       "      <td>3</td>\n",
       "      <td>3</td>\n",
       "      <td>3</td>\n",
       "      <td>3</td>\n",
       "      <td>3</td>\n",
       "      <td>3</td>\n",
       "      <td>3</td>\n",
       "      <td>3</td>\n",
       "      <td>3</td>\n",
       "      <td>3</td>\n",
       "    </tr>\n",
       "    <tr>\n",
       "      <th>AB</th>\n",
       "      <td>6</td>\n",
       "      <td>6</td>\n",
       "      <td>6</td>\n",
       "      <td>6</td>\n",
       "      <td>6</td>\n",
       "      <td>6</td>\n",
       "      <td>6</td>\n",
       "      <td>6</td>\n",
       "      <td>6</td>\n",
       "      <td>6</td>\n",
       "      <td>...</td>\n",
       "      <td>6</td>\n",
       "      <td>6</td>\n",
       "      <td>6</td>\n",
       "      <td>6</td>\n",
       "      <td>6</td>\n",
       "      <td>6</td>\n",
       "      <td>6</td>\n",
       "      <td>6</td>\n",
       "      <td>6</td>\n",
       "      <td>6</td>\n",
       "    </tr>\n",
       "    <tr>\n",
       "      <th>ABA</th>\n",
       "      <td>3</td>\n",
       "      <td>3</td>\n",
       "      <td>3</td>\n",
       "      <td>3</td>\n",
       "      <td>3</td>\n",
       "      <td>3</td>\n",
       "      <td>3</td>\n",
       "      <td>3</td>\n",
       "      <td>3</td>\n",
       "      <td>3</td>\n",
       "      <td>...</td>\n",
       "      <td>3</td>\n",
       "      <td>3</td>\n",
       "      <td>3</td>\n",
       "      <td>3</td>\n",
       "      <td>3</td>\n",
       "      <td>3</td>\n",
       "      <td>3</td>\n",
       "      <td>3</td>\n",
       "      <td>3</td>\n",
       "      <td>3</td>\n",
       "    </tr>\n",
       "    <tr>\n",
       "      <th>AC</th>\n",
       "      <td>6</td>\n",
       "      <td>6</td>\n",
       "      <td>6</td>\n",
       "      <td>6</td>\n",
       "      <td>6</td>\n",
       "      <td>6</td>\n",
       "      <td>6</td>\n",
       "      <td>6</td>\n",
       "      <td>6</td>\n",
       "      <td>6</td>\n",
       "      <td>...</td>\n",
       "      <td>6</td>\n",
       "      <td>6</td>\n",
       "      <td>6</td>\n",
       "      <td>6</td>\n",
       "      <td>6</td>\n",
       "      <td>6</td>\n",
       "      <td>6</td>\n",
       "      <td>6</td>\n",
       "      <td>6</td>\n",
       "      <td>6</td>\n",
       "    </tr>\n",
       "    <tr>\n",
       "      <th>ACA</th>\n",
       "      <td>6</td>\n",
       "      <td>6</td>\n",
       "      <td>6</td>\n",
       "      <td>6</td>\n",
       "      <td>6</td>\n",
       "      <td>6</td>\n",
       "      <td>6</td>\n",
       "      <td>6</td>\n",
       "      <td>6</td>\n",
       "      <td>6</td>\n",
       "      <td>...</td>\n",
       "      <td>6</td>\n",
       "      <td>6</td>\n",
       "      <td>6</td>\n",
       "      <td>6</td>\n",
       "      <td>6</td>\n",
       "      <td>6</td>\n",
       "      <td>6</td>\n",
       "      <td>6</td>\n",
       "      <td>6</td>\n",
       "      <td>6</td>\n",
       "    </tr>\n",
       "    <tr>\n",
       "      <th>AD</th>\n",
       "      <td>6</td>\n",
       "      <td>6</td>\n",
       "      <td>6</td>\n",
       "      <td>6</td>\n",
       "      <td>6</td>\n",
       "      <td>6</td>\n",
       "      <td>6</td>\n",
       "      <td>6</td>\n",
       "      <td>6</td>\n",
       "      <td>6</td>\n",
       "      <td>...</td>\n",
       "      <td>6</td>\n",
       "      <td>6</td>\n",
       "      <td>6</td>\n",
       "      <td>6</td>\n",
       "      <td>6</td>\n",
       "      <td>6</td>\n",
       "      <td>6</td>\n",
       "      <td>6</td>\n",
       "      <td>6</td>\n",
       "      <td>6</td>\n",
       "    </tr>\n",
       "    <tr>\n",
       "      <th>ADA</th>\n",
       "      <td>6</td>\n",
       "      <td>6</td>\n",
       "      <td>6</td>\n",
       "      <td>6</td>\n",
       "      <td>6</td>\n",
       "      <td>6</td>\n",
       "      <td>6</td>\n",
       "      <td>6</td>\n",
       "      <td>6</td>\n",
       "      <td>6</td>\n",
       "      <td>...</td>\n",
       "      <td>6</td>\n",
       "      <td>6</td>\n",
       "      <td>6</td>\n",
       "      <td>6</td>\n",
       "      <td>6</td>\n",
       "      <td>6</td>\n",
       "      <td>6</td>\n",
       "      <td>6</td>\n",
       "      <td>6</td>\n",
       "      <td>6</td>\n",
       "    </tr>\n",
       "    <tr>\n",
       "      <th>AE</th>\n",
       "      <td>6</td>\n",
       "      <td>6</td>\n",
       "      <td>6</td>\n",
       "      <td>6</td>\n",
       "      <td>6</td>\n",
       "      <td>6</td>\n",
       "      <td>6</td>\n",
       "      <td>6</td>\n",
       "      <td>6</td>\n",
       "      <td>6</td>\n",
       "      <td>...</td>\n",
       "      <td>6</td>\n",
       "      <td>6</td>\n",
       "      <td>6</td>\n",
       "      <td>6</td>\n",
       "      <td>6</td>\n",
       "      <td>6</td>\n",
       "      <td>6</td>\n",
       "      <td>6</td>\n",
       "      <td>6</td>\n",
       "      <td>6</td>\n",
       "    </tr>\n",
       "  </tbody>\n",
       "</table>\n",
       "<p>10 rows × 36 columns</p>\n",
       "</div>"
      ],
      "text/plain": [
       "         DiagnosticArtAstrup  DiagnosticBlood  DiagnosticECG  DiagnosticIC  \\\n",
       "Case ID                                                                      \n",
       "A                          6                6              6             6   \n",
       "AA                         6                6              6             6   \n",
       "AAA                        3                3              3             3   \n",
       "AB                         6                6              6             6   \n",
       "ABA                        3                3              3             3   \n",
       "AC                         6                6              6             6   \n",
       "ACA                        6                6              6             6   \n",
       "AD                         6                6              6             6   \n",
       "ADA                        6                6              6             6   \n",
       "AE                         6                6              6             6   \n",
       "\n",
       "         DiagnosticLacticAcid  DiagnosticLiquor  DiagnosticOther  \\\n",
       "Case ID                                                            \n",
       "A                           6                 6                6   \n",
       "AA                          6                 6                6   \n",
       "AAA                         3                 3                3   \n",
       "AB                          6                 6                6   \n",
       "ABA                         3                 3                3   \n",
       "AC                          6                 6                6   \n",
       "ACA                         6                 6                6   \n",
       "AD                          6                 6                6   \n",
       "ADA                         6                 6                6   \n",
       "AE                          6                 6                6   \n",
       "\n",
       "         DiagnosticSputum  DiagnosticUrinaryCulture  \\\n",
       "Case ID                                               \n",
       "A                       6                         6   \n",
       "AA                      6                         6   \n",
       "AAA                     3                         3   \n",
       "AB                      6                         6   \n",
       "ABA                     3                         3   \n",
       "AC                      6                         6   \n",
       "ACA                     6                         6   \n",
       "AD                      6                         6   \n",
       "ADA                     6                         6   \n",
       "AE                      6                         6   \n",
       "\n",
       "         DiagnosticUrinarySediment  ...  CRP  LacticAcid  Leucocytes  \\\n",
       "Case ID                             ...                                \n",
       "A                                6  ...    6           6           6   \n",
       "AA                               6  ...    6           6           6   \n",
       "AAA                              3  ...    3           3           3   \n",
       "AB                               6  ...    6           6           6   \n",
       "ABA                              3  ...    3           3           3   \n",
       "AC                               6  ...    6           6           6   \n",
       "ACA                              6  ...    6           6           6   \n",
       "AD                               6  ...    6           6           6   \n",
       "ADA                              6  ...    6           6           6   \n",
       "AE                               6  ...    6           6           6   \n",
       "\n",
       "         Complete Timestamp  duration  month  weekday  hour  remtime  elapsed  \n",
       "Case ID                                                                        \n",
       "A                         6         6      6        6     6        6        6  \n",
       "AA                        6         6      6        6     6        6        6  \n",
       "AAA                       3         3      3        3     3        3        3  \n",
       "AB                        6         6      6        6     6        6        6  \n",
       "ABA                       3         3      3        3     3        3        3  \n",
       "AC                        6         6      6        6     6        6        6  \n",
       "ACA                       6         6      6        6     6        6        6  \n",
       "AD                        6         6      6        6     6        6        6  \n",
       "ADA                       6         6      6        6     6        6        6  \n",
       "AE                        6         6      6        6     6        6        6  \n",
       "\n",
       "[10 rows x 36 columns]"
      ]
     },
     "execution_count": 55,
     "metadata": {},
     "output_type": "execute_result"
    }
   ],
   "source": [
    "# import packages\n",
    "import matplotlib.pyplot as plt\n",
    "\n",
    "data_aggr = data.groupby([\"Case ID\"]).count()\n",
    "data_aggr.head(10)\n",
    "\n",
    "# TODO: plot figure(s)\n"
   ]
  },
  {
   "cell_type": "code",
   "execution_count": 81,
   "metadata": {},
   "outputs": [
    {
     "name": "stderr",
     "output_type": "stream",
     "text": [
      "/tmp/ipykernel_8837/3590427057.py:3: SettingWithCopyWarning:\n",
      "\n",
      "\n",
      "A value is trying to be set on a copy of a slice from a DataFrame.\n",
      "Try using .loc[row_indexer,col_indexer] = value instead\n",
      "\n",
      "See the caveats in the documentation: https://pandas.pydata.org/pandas-docs/stable/user_guide/indexing.html#returning-a-view-versus-a-copy\n",
      "\n"
     ]
    },
    {
     "data": {
      "application/vnd.plotly.v1+json": {
       "config": {
        "plotlyServerURL": "https://plot.ly"
       },
       "data": [
        {
         "hovertemplate": "remtime=%{x}<br>elapsed=%{y}<br>duration=%{marker.color}<extra></extra>",
         "legendgroup": "",
         "marker": {
          "color": [
           23,
           397,
           0,
           0,
           679,
           0
          ],
          "coloraxis": "coloraxis",
          "symbol": "circle"
         },
         "mode": "markers",
         "name": "",
         "orientation": "v",
         "showlegend": false,
         "type": "scatter",
         "x": [
          0,
          23,
          420,
          420,
          420,
          1099
         ],
         "xaxis": "x",
         "y": [
          1099,
          1076,
          679,
          679,
          679,
          0
         ],
         "yaxis": "y"
        }
       ],
       "layout": {
        "coloraxis": {
         "colorbar": {
          "title": {
           "text": "duration"
          }
         },
         "colorscale": [
          [
           0,
           "#0d0887"
          ],
          [
           0.1111111111111111,
           "#46039f"
          ],
          [
           0.2222222222222222,
           "#7201a8"
          ],
          [
           0.3333333333333333,
           "#9c179e"
          ],
          [
           0.4444444444444444,
           "#bd3786"
          ],
          [
           0.5555555555555556,
           "#d8576b"
          ],
          [
           0.6666666666666666,
           "#ed7953"
          ],
          [
           0.7777777777777778,
           "#fb9f3a"
          ],
          [
           0.8888888888888888,
           "#fdca26"
          ],
          [
           1,
           "#f0f921"
          ]
         ]
        },
        "legend": {
         "tracegroupgap": 0
        },
        "margin": {
         "t": 60
        },
        "template": {
         "data": {
          "bar": [
           {
            "error_x": {
             "color": "#2a3f5f"
            },
            "error_y": {
             "color": "#2a3f5f"
            },
            "marker": {
             "line": {
              "color": "#E5ECF6",
              "width": 0.5
             },
             "pattern": {
              "fillmode": "overlay",
              "size": 10,
              "solidity": 0.2
             }
            },
            "type": "bar"
           }
          ],
          "barpolar": [
           {
            "marker": {
             "line": {
              "color": "#E5ECF6",
              "width": 0.5
             },
             "pattern": {
              "fillmode": "overlay",
              "size": 10,
              "solidity": 0.2
             }
            },
            "type": "barpolar"
           }
          ],
          "carpet": [
           {
            "aaxis": {
             "endlinecolor": "#2a3f5f",
             "gridcolor": "white",
             "linecolor": "white",
             "minorgridcolor": "white",
             "startlinecolor": "#2a3f5f"
            },
            "baxis": {
             "endlinecolor": "#2a3f5f",
             "gridcolor": "white",
             "linecolor": "white",
             "minorgridcolor": "white",
             "startlinecolor": "#2a3f5f"
            },
            "type": "carpet"
           }
          ],
          "choropleth": [
           {
            "colorbar": {
             "outlinewidth": 0,
             "ticks": ""
            },
            "type": "choropleth"
           }
          ],
          "contour": [
           {
            "colorbar": {
             "outlinewidth": 0,
             "ticks": ""
            },
            "colorscale": [
             [
              0,
              "#0d0887"
             ],
             [
              0.1111111111111111,
              "#46039f"
             ],
             [
              0.2222222222222222,
              "#7201a8"
             ],
             [
              0.3333333333333333,
              "#9c179e"
             ],
             [
              0.4444444444444444,
              "#bd3786"
             ],
             [
              0.5555555555555556,
              "#d8576b"
             ],
             [
              0.6666666666666666,
              "#ed7953"
             ],
             [
              0.7777777777777778,
              "#fb9f3a"
             ],
             [
              0.8888888888888888,
              "#fdca26"
             ],
             [
              1,
              "#f0f921"
             ]
            ],
            "type": "contour"
           }
          ],
          "contourcarpet": [
           {
            "colorbar": {
             "outlinewidth": 0,
             "ticks": ""
            },
            "type": "contourcarpet"
           }
          ],
          "heatmap": [
           {
            "colorbar": {
             "outlinewidth": 0,
             "ticks": ""
            },
            "colorscale": [
             [
              0,
              "#0d0887"
             ],
             [
              0.1111111111111111,
              "#46039f"
             ],
             [
              0.2222222222222222,
              "#7201a8"
             ],
             [
              0.3333333333333333,
              "#9c179e"
             ],
             [
              0.4444444444444444,
              "#bd3786"
             ],
             [
              0.5555555555555556,
              "#d8576b"
             ],
             [
              0.6666666666666666,
              "#ed7953"
             ],
             [
              0.7777777777777778,
              "#fb9f3a"
             ],
             [
              0.8888888888888888,
              "#fdca26"
             ],
             [
              1,
              "#f0f921"
             ]
            ],
            "type": "heatmap"
           }
          ],
          "heatmapgl": [
           {
            "colorbar": {
             "outlinewidth": 0,
             "ticks": ""
            },
            "colorscale": [
             [
              0,
              "#0d0887"
             ],
             [
              0.1111111111111111,
              "#46039f"
             ],
             [
              0.2222222222222222,
              "#7201a8"
             ],
             [
              0.3333333333333333,
              "#9c179e"
             ],
             [
              0.4444444444444444,
              "#bd3786"
             ],
             [
              0.5555555555555556,
              "#d8576b"
             ],
             [
              0.6666666666666666,
              "#ed7953"
             ],
             [
              0.7777777777777778,
              "#fb9f3a"
             ],
             [
              0.8888888888888888,
              "#fdca26"
             ],
             [
              1,
              "#f0f921"
             ]
            ],
            "type": "heatmapgl"
           }
          ],
          "histogram": [
           {
            "marker": {
             "pattern": {
              "fillmode": "overlay",
              "size": 10,
              "solidity": 0.2
             }
            },
            "type": "histogram"
           }
          ],
          "histogram2d": [
           {
            "colorbar": {
             "outlinewidth": 0,
             "ticks": ""
            },
            "colorscale": [
             [
              0,
              "#0d0887"
             ],
             [
              0.1111111111111111,
              "#46039f"
             ],
             [
              0.2222222222222222,
              "#7201a8"
             ],
             [
              0.3333333333333333,
              "#9c179e"
             ],
             [
              0.4444444444444444,
              "#bd3786"
             ],
             [
              0.5555555555555556,
              "#d8576b"
             ],
             [
              0.6666666666666666,
              "#ed7953"
             ],
             [
              0.7777777777777778,
              "#fb9f3a"
             ],
             [
              0.8888888888888888,
              "#fdca26"
             ],
             [
              1,
              "#f0f921"
             ]
            ],
            "type": "histogram2d"
           }
          ],
          "histogram2dcontour": [
           {
            "colorbar": {
             "outlinewidth": 0,
             "ticks": ""
            },
            "colorscale": [
             [
              0,
              "#0d0887"
             ],
             [
              0.1111111111111111,
              "#46039f"
             ],
             [
              0.2222222222222222,
              "#7201a8"
             ],
             [
              0.3333333333333333,
              "#9c179e"
             ],
             [
              0.4444444444444444,
              "#bd3786"
             ],
             [
              0.5555555555555556,
              "#d8576b"
             ],
             [
              0.6666666666666666,
              "#ed7953"
             ],
             [
              0.7777777777777778,
              "#fb9f3a"
             ],
             [
              0.8888888888888888,
              "#fdca26"
             ],
             [
              1,
              "#f0f921"
             ]
            ],
            "type": "histogram2dcontour"
           }
          ],
          "mesh3d": [
           {
            "colorbar": {
             "outlinewidth": 0,
             "ticks": ""
            },
            "type": "mesh3d"
           }
          ],
          "parcoords": [
           {
            "line": {
             "colorbar": {
              "outlinewidth": 0,
              "ticks": ""
             }
            },
            "type": "parcoords"
           }
          ],
          "pie": [
           {
            "automargin": true,
            "type": "pie"
           }
          ],
          "scatter": [
           {
            "fillpattern": {
             "fillmode": "overlay",
             "size": 10,
             "solidity": 0.2
            },
            "type": "scatter"
           }
          ],
          "scatter3d": [
           {
            "line": {
             "colorbar": {
              "outlinewidth": 0,
              "ticks": ""
             }
            },
            "marker": {
             "colorbar": {
              "outlinewidth": 0,
              "ticks": ""
             }
            },
            "type": "scatter3d"
           }
          ],
          "scattercarpet": [
           {
            "marker": {
             "colorbar": {
              "outlinewidth": 0,
              "ticks": ""
             }
            },
            "type": "scattercarpet"
           }
          ],
          "scattergeo": [
           {
            "marker": {
             "colorbar": {
              "outlinewidth": 0,
              "ticks": ""
             }
            },
            "type": "scattergeo"
           }
          ],
          "scattergl": [
           {
            "marker": {
             "colorbar": {
              "outlinewidth": 0,
              "ticks": ""
             }
            },
            "type": "scattergl"
           }
          ],
          "scattermapbox": [
           {
            "marker": {
             "colorbar": {
              "outlinewidth": 0,
              "ticks": ""
             }
            },
            "type": "scattermapbox"
           }
          ],
          "scatterpolar": [
           {
            "marker": {
             "colorbar": {
              "outlinewidth": 0,
              "ticks": ""
             }
            },
            "type": "scatterpolar"
           }
          ],
          "scatterpolargl": [
           {
            "marker": {
             "colorbar": {
              "outlinewidth": 0,
              "ticks": ""
             }
            },
            "type": "scatterpolargl"
           }
          ],
          "scatterternary": [
           {
            "marker": {
             "colorbar": {
              "outlinewidth": 0,
              "ticks": ""
             }
            },
            "type": "scatterternary"
           }
          ],
          "surface": [
           {
            "colorbar": {
             "outlinewidth": 0,
             "ticks": ""
            },
            "colorscale": [
             [
              0,
              "#0d0887"
             ],
             [
              0.1111111111111111,
              "#46039f"
             ],
             [
              0.2222222222222222,
              "#7201a8"
             ],
             [
              0.3333333333333333,
              "#9c179e"
             ],
             [
              0.4444444444444444,
              "#bd3786"
             ],
             [
              0.5555555555555556,
              "#d8576b"
             ],
             [
              0.6666666666666666,
              "#ed7953"
             ],
             [
              0.7777777777777778,
              "#fb9f3a"
             ],
             [
              0.8888888888888888,
              "#fdca26"
             ],
             [
              1,
              "#f0f921"
             ]
            ],
            "type": "surface"
           }
          ],
          "table": [
           {
            "cells": {
             "fill": {
              "color": "#EBF0F8"
             },
             "line": {
              "color": "white"
             }
            },
            "header": {
             "fill": {
              "color": "#C8D4E3"
             },
             "line": {
              "color": "white"
             }
            },
            "type": "table"
           }
          ]
         },
         "layout": {
          "annotationdefaults": {
           "arrowcolor": "#2a3f5f",
           "arrowhead": 0,
           "arrowwidth": 1
          },
          "autotypenumbers": "strict",
          "coloraxis": {
           "colorbar": {
            "outlinewidth": 0,
            "ticks": ""
           }
          },
          "colorscale": {
           "diverging": [
            [
             0,
             "#8e0152"
            ],
            [
             0.1,
             "#c51b7d"
            ],
            [
             0.2,
             "#de77ae"
            ],
            [
             0.3,
             "#f1b6da"
            ],
            [
             0.4,
             "#fde0ef"
            ],
            [
             0.5,
             "#f7f7f7"
            ],
            [
             0.6,
             "#e6f5d0"
            ],
            [
             0.7,
             "#b8e186"
            ],
            [
             0.8,
             "#7fbc41"
            ],
            [
             0.9,
             "#4d9221"
            ],
            [
             1,
             "#276419"
            ]
           ],
           "sequential": [
            [
             0,
             "#0d0887"
            ],
            [
             0.1111111111111111,
             "#46039f"
            ],
            [
             0.2222222222222222,
             "#7201a8"
            ],
            [
             0.3333333333333333,
             "#9c179e"
            ],
            [
             0.4444444444444444,
             "#bd3786"
            ],
            [
             0.5555555555555556,
             "#d8576b"
            ],
            [
             0.6666666666666666,
             "#ed7953"
            ],
            [
             0.7777777777777778,
             "#fb9f3a"
            ],
            [
             0.8888888888888888,
             "#fdca26"
            ],
            [
             1,
             "#f0f921"
            ]
           ],
           "sequentialminus": [
            [
             0,
             "#0d0887"
            ],
            [
             0.1111111111111111,
             "#46039f"
            ],
            [
             0.2222222222222222,
             "#7201a8"
            ],
            [
             0.3333333333333333,
             "#9c179e"
            ],
            [
             0.4444444444444444,
             "#bd3786"
            ],
            [
             0.5555555555555556,
             "#d8576b"
            ],
            [
             0.6666666666666666,
             "#ed7953"
            ],
            [
             0.7777777777777778,
             "#fb9f3a"
            ],
            [
             0.8888888888888888,
             "#fdca26"
            ],
            [
             1,
             "#f0f921"
            ]
           ]
          },
          "colorway": [
           "#636efa",
           "#EF553B",
           "#00cc96",
           "#ab63fa",
           "#FFA15A",
           "#19d3f3",
           "#FF6692",
           "#B6E880",
           "#FF97FF",
           "#FECB52"
          ],
          "font": {
           "color": "#2a3f5f"
          },
          "geo": {
           "bgcolor": "white",
           "lakecolor": "white",
           "landcolor": "#E5ECF6",
           "showlakes": true,
           "showland": true,
           "subunitcolor": "white"
          },
          "hoverlabel": {
           "align": "left"
          },
          "hovermode": "closest",
          "mapbox": {
           "style": "light"
          },
          "paper_bgcolor": "white",
          "plot_bgcolor": "#E5ECF6",
          "polar": {
           "angularaxis": {
            "gridcolor": "white",
            "linecolor": "white",
            "ticks": ""
           },
           "bgcolor": "#E5ECF6",
           "radialaxis": {
            "gridcolor": "white",
            "linecolor": "white",
            "ticks": ""
           }
          },
          "scene": {
           "xaxis": {
            "backgroundcolor": "#E5ECF6",
            "gridcolor": "white",
            "gridwidth": 2,
            "linecolor": "white",
            "showbackground": true,
            "ticks": "",
            "zerolinecolor": "white"
           },
           "yaxis": {
            "backgroundcolor": "#E5ECF6",
            "gridcolor": "white",
            "gridwidth": 2,
            "linecolor": "white",
            "showbackground": true,
            "ticks": "",
            "zerolinecolor": "white"
           },
           "zaxis": {
            "backgroundcolor": "#E5ECF6",
            "gridcolor": "white",
            "gridwidth": 2,
            "linecolor": "white",
            "showbackground": true,
            "ticks": "",
            "zerolinecolor": "white"
           }
          },
          "shapedefaults": {
           "line": {
            "color": "#2a3f5f"
           }
          },
          "ternary": {
           "aaxis": {
            "gridcolor": "white",
            "linecolor": "white",
            "ticks": ""
           },
           "baxis": {
            "gridcolor": "white",
            "linecolor": "white",
            "ticks": ""
           },
           "bgcolor": "#E5ECF6",
           "caxis": {
            "gridcolor": "white",
            "linecolor": "white",
            "ticks": ""
           }
          },
          "title": {
           "x": 0.05
          },
          "xaxis": {
           "automargin": true,
           "gridcolor": "white",
           "linecolor": "white",
           "ticks": "",
           "title": {
            "standoff": 15
           },
           "zerolinecolor": "white",
           "zerolinewidth": 2
          },
          "yaxis": {
           "automargin": true,
           "gridcolor": "white",
           "linecolor": "white",
           "ticks": "",
           "title": {
            "standoff": 15
           },
           "zerolinecolor": "white",
           "zerolinewidth": 2
          }
         }
        },
        "xaxis": {
         "anchor": "y",
         "domain": [
          0,
          1
         ],
         "title": {
          "text": "remtime"
         }
        },
        "yaxis": {
         "anchor": "x",
         "domain": [
          0,
          1
         ],
         "title": {
          "text": "elapsed"
         }
        }
       }
      }
     },
     "metadata": {},
     "output_type": "display_data"
    }
   ],
   "source": [
    "data.loc[data[\"Case ID\"] == \"A\"]\n",
    "data_a = data.loc[data[\"Case ID\"] == \"A\"]\n",
    "data_a['duration'] = (data_a[\"duration\"]*60).round()\n",
    "import plotly.express as px\n",
    "\n",
    "fig = px.scatter(data_a, x = \"remtime\", y = \"elapsed\", color = \"duration\")\n",
    "fig.show()"
   ]
  },
  {
   "cell_type": "code",
   "execution_count": 75,
   "metadata": {},
   "outputs": [
    {
     "data": {
      "text/html": [
       "<div>\n",
       "<style scoped>\n",
       "    .dataframe tbody tr th:only-of-type {\n",
       "        vertical-align: middle;\n",
       "    }\n",
       "\n",
       "    .dataframe tbody tr th {\n",
       "        vertical-align: top;\n",
       "    }\n",
       "\n",
       "    .dataframe thead th {\n",
       "        text-align: right;\n",
       "    }\n",
       "</style>\n",
       "<table border=\"1\" class=\"dataframe\">\n",
       "  <thead>\n",
       "    <tr style=\"text-align: right;\">\n",
       "      <th></th>\n",
       "      <th>DiagnosticArtAstrup</th>\n",
       "      <th>DiagnosticBlood</th>\n",
       "      <th>DiagnosticECG</th>\n",
       "      <th>DiagnosticIC</th>\n",
       "      <th>DiagnosticLacticAcid</th>\n",
       "      <th>DiagnosticLiquor</th>\n",
       "      <th>DiagnosticOther</th>\n",
       "      <th>DiagnosticSputum</th>\n",
       "      <th>DiagnosticUrinaryCulture</th>\n",
       "      <th>DiagnosticUrinarySediment</th>\n",
       "      <th>...</th>\n",
       "      <th>CRP</th>\n",
       "      <th>LacticAcid</th>\n",
       "      <th>Leucocytes</th>\n",
       "      <th>Complete Timestamp</th>\n",
       "      <th>duration</th>\n",
       "      <th>month</th>\n",
       "      <th>weekday</th>\n",
       "      <th>hour</th>\n",
       "      <th>remtime</th>\n",
       "      <th>elapsed</th>\n",
       "    </tr>\n",
       "  </thead>\n",
       "  <tbody>\n",
       "    <tr>\n",
       "      <th>6</th>\n",
       "      <td>False</td>\n",
       "      <td>True</td>\n",
       "      <td>True</td>\n",
       "      <td>True</td>\n",
       "      <td>True</td>\n",
       "      <td>False</td>\n",
       "      <td>False</td>\n",
       "      <td>False</td>\n",
       "      <td>True</td>\n",
       "      <td>True</td>\n",
       "      <td>...</td>\n",
       "      <td>23.0</td>\n",
       "      <td>1.4</td>\n",
       "      <td>8.6</td>\n",
       "      <td>2014-12-03 18:32:00</td>\n",
       "      <td>0.000000</td>\n",
       "      <td>12</td>\n",
       "      <td>2</td>\n",
       "      <td>18</td>\n",
       "      <td>0.0</td>\n",
       "      <td>1516.0</td>\n",
       "    </tr>\n",
       "    <tr>\n",
       "      <th>7</th>\n",
       "      <td>False</td>\n",
       "      <td>True</td>\n",
       "      <td>True</td>\n",
       "      <td>True</td>\n",
       "      <td>True</td>\n",
       "      <td>False</td>\n",
       "      <td>False</td>\n",
       "      <td>False</td>\n",
       "      <td>True</td>\n",
       "      <td>True</td>\n",
       "      <td>...</td>\n",
       "      <td>0.0</td>\n",
       "      <td>1.4</td>\n",
       "      <td>8.6</td>\n",
       "      <td>2014-12-03 18:32:00</td>\n",
       "      <td>0.000000</td>\n",
       "      <td>12</td>\n",
       "      <td>2</td>\n",
       "      <td>18</td>\n",
       "      <td>0.0</td>\n",
       "      <td>1516.0</td>\n",
       "    </tr>\n",
       "    <tr>\n",
       "      <th>8</th>\n",
       "      <td>False</td>\n",
       "      <td>True</td>\n",
       "      <td>True</td>\n",
       "      <td>True</td>\n",
       "      <td>True</td>\n",
       "      <td>False</td>\n",
       "      <td>False</td>\n",
       "      <td>False</td>\n",
       "      <td>True</td>\n",
       "      <td>True</td>\n",
       "      <td>...</td>\n",
       "      <td>0.0</td>\n",
       "      <td>0.0</td>\n",
       "      <td>8.6</td>\n",
       "      <td>2014-12-03 18:32:00</td>\n",
       "      <td>24.416667</td>\n",
       "      <td>12</td>\n",
       "      <td>2</td>\n",
       "      <td>18</td>\n",
       "      <td>0.0</td>\n",
       "      <td>1516.0</td>\n",
       "    </tr>\n",
       "    <tr>\n",
       "      <th>9</th>\n",
       "      <td>False</td>\n",
       "      <td>True</td>\n",
       "      <td>True</td>\n",
       "      <td>True</td>\n",
       "      <td>True</td>\n",
       "      <td>False</td>\n",
       "      <td>False</td>\n",
       "      <td>False</td>\n",
       "      <td>True</td>\n",
       "      <td>True</td>\n",
       "      <td>...</td>\n",
       "      <td>0.0</td>\n",
       "      <td>0.0</td>\n",
       "      <td>0.0</td>\n",
       "      <td>2014-12-03 18:07:35</td>\n",
       "      <td>0.166667</td>\n",
       "      <td>12</td>\n",
       "      <td>2</td>\n",
       "      <td>18</td>\n",
       "      <td>1465.0</td>\n",
       "      <td>51.0</td>\n",
       "    </tr>\n",
       "    <tr>\n",
       "      <th>10</th>\n",
       "      <td>False</td>\n",
       "      <td>True</td>\n",
       "      <td>True</td>\n",
       "      <td>True</td>\n",
       "      <td>True</td>\n",
       "      <td>False</td>\n",
       "      <td>False</td>\n",
       "      <td>False</td>\n",
       "      <td>True</td>\n",
       "      <td>True</td>\n",
       "      <td>...</td>\n",
       "      <td>0.0</td>\n",
       "      <td>0.0</td>\n",
       "      <td>0.0</td>\n",
       "      <td>2014-12-03 18:07:25</td>\n",
       "      <td>0.683333</td>\n",
       "      <td>12</td>\n",
       "      <td>2</td>\n",
       "      <td>18</td>\n",
       "      <td>1475.0</td>\n",
       "      <td>41.0</td>\n",
       "    </tr>\n",
       "    <tr>\n",
       "      <th>11</th>\n",
       "      <td>False</td>\n",
       "      <td>True</td>\n",
       "      <td>True</td>\n",
       "      <td>True</td>\n",
       "      <td>True</td>\n",
       "      <td>False</td>\n",
       "      <td>False</td>\n",
       "      <td>False</td>\n",
       "      <td>True</td>\n",
       "      <td>True</td>\n",
       "      <td>...</td>\n",
       "      <td>0.0</td>\n",
       "      <td>0.0</td>\n",
       "      <td>0.0</td>\n",
       "      <td>2014-12-03 18:06:44</td>\n",
       "      <td>0.000000</td>\n",
       "      <td>12</td>\n",
       "      <td>2</td>\n",
       "      <td>18</td>\n",
       "      <td>1516.0</td>\n",
       "      <td>0.0</td>\n",
       "    </tr>\n",
       "  </tbody>\n",
       "</table>\n",
       "<p>6 rows × 37 columns</p>\n",
       "</div>"
      ],
      "text/plain": [
       "   DiagnosticArtAstrup DiagnosticBlood DiagnosticECG DiagnosticIC  \\\n",
       "6                False            True          True         True   \n",
       "7                False            True          True         True   \n",
       "8                False            True          True         True   \n",
       "9                False            True          True         True   \n",
       "10               False            True          True         True   \n",
       "11               False            True          True         True   \n",
       "\n",
       "   DiagnosticLacticAcid DiagnosticLiquor DiagnosticOther DiagnosticSputum  \\\n",
       "6                  True            False           False            False   \n",
       "7                  True            False           False            False   \n",
       "8                  True            False           False            False   \n",
       "9                  True            False           False            False   \n",
       "10                 True            False           False            False   \n",
       "11                 True            False           False            False   \n",
       "\n",
       "   DiagnosticUrinaryCulture DiagnosticUrinarySediment  ...   CRP LacticAcid  \\\n",
       "6                      True                      True  ...  23.0        1.4   \n",
       "7                      True                      True  ...   0.0        1.4   \n",
       "8                      True                      True  ...   0.0        0.0   \n",
       "9                      True                      True  ...   0.0        0.0   \n",
       "10                     True                      True  ...   0.0        0.0   \n",
       "11                     True                      True  ...   0.0        0.0   \n",
       "\n",
       "   Leucocytes   Complete Timestamp   duration month weekday hour remtime  \\\n",
       "6         8.6  2014-12-03 18:32:00   0.000000    12       2   18     0.0   \n",
       "7         8.6  2014-12-03 18:32:00   0.000000    12       2   18     0.0   \n",
       "8         8.6  2014-12-03 18:32:00  24.416667    12       2   18     0.0   \n",
       "9         0.0  2014-12-03 18:07:35   0.166667    12       2   18  1465.0   \n",
       "10        0.0  2014-12-03 18:07:25   0.683333    12       2   18  1475.0   \n",
       "11        0.0  2014-12-03 18:06:44   0.000000    12       2   18  1516.0   \n",
       "\n",
       "   elapsed  \n",
       "6   1516.0  \n",
       "7   1516.0  \n",
       "8   1516.0  \n",
       "9     51.0  \n",
       "10    41.0  \n",
       "11     0.0  \n",
       "\n",
       "[6 rows x 37 columns]"
      ]
     },
     "execution_count": 75,
     "metadata": {},
     "output_type": "execute_result"
    }
   ],
   "source": [
    "data.loc[data[\"Case ID\"] == \"AA\"]\n",
    "data_aa = data.loc[data[\"Case ID\"] == \"AA\"]\n",
    "# import plotly.express as px\n",
    "\n",
    "# fig = px.scatter(data, x = \"remtime\", y = \"elapsed\", color = \"Case ID\")\n",
    "# fig.show()\n",
    "\n",
    "data_aa"
   ]
  },
  {
   "cell_type": "code",
   "execution_count": null,
   "metadata": {},
   "outputs": [],
   "source": []
  },
  {
   "cell_type": "code",
   "execution_count": 66,
   "metadata": {},
   "outputs": [
    {
     "data": {
      "image/png": "[encoded data removed]",
      "text/plain": [
       "<Figure size 800x600 with 2 Axes>"
      ]
     },
     "metadata": {},
     "output_type": "display_data"
    }
   ],
   "source": [
    "import seaborn as sns\n",
    "plt.figure(figsize=(8, 6))\n",
    "sns.heatmap(data.select_dtypes(exclude='object').corr(), annot=True, cmap='viridis', fmt=\".2f\", linewidths=.5)\n",
    "plt.title('Correlation Heatmap')\n",
    "plt.show()"
   ]
  },
  {
   "cell_type": "markdown",
   "id": "a63b1794",
   "metadata": {},
   "source": [
    "### 1.2 Data cleaning\n",
    "\n",
    "You have now gathered some information about the data during the data exploration task. You also know from the assignment description that you will be using regression trees and kNN regression models to predict the remaining time.\n",
    "\n",
    "Based on the above information, decide on which cleaning steps you will need to perform and implement them accordingly.\n"
   ]
  },
  {
   "cell_type": "code",
   "execution_count": 83,
   "metadata": {},
   "outputs": [
    {
     "ename": "KeyError",
     "evalue": "'False: boolean label can not be used without a boolean index'",
     "output_type": "error",
     "traceback": [
      "\u001b[0;31m---------------------------------------------------------------------------\u001b[0m",
      "\u001b[0;31mKeyError\u001b[0m                                  Traceback (most recent call last)",
      "\u001b[1;32m/home/lorenzo/coding/ApplicationOfMachineLearning/Assignment2/notebooks/Lorenzo.ipynb Cell 15\u001b[0m line \u001b[0;36m1\n\u001b[0;32m----> <a href='vscode-notebook-cell:/home/lorenzo/coding/ApplicationOfMachineLearning/Assignment2/notebooks/Lorenzo.ipynb#X34sZmlsZQ%3D%3D?line=0'>1</a>\u001b[0m data\u001b[39m.\u001b[39;49mloc[data\u001b[39m.\u001b[39;49mnotnull \u001b[39m==\u001b[39;49m \u001b[39mFalse\u001b[39;49;00m]\n",
      "File \u001b[0;32m~/.local/lib/python3.10/site-packages/pandas/core/indexing.py:1153\u001b[0m, in \u001b[0;36m_LocationIndexer.__getitem__\u001b[0;34m(self, key)\u001b[0m\n\u001b[1;32m   1150\u001b[0m axis \u001b[39m=\u001b[39m \u001b[39mself\u001b[39m\u001b[39m.\u001b[39maxis \u001b[39mor\u001b[39;00m \u001b[39m0\u001b[39m\n\u001b[1;32m   1152\u001b[0m maybe_callable \u001b[39m=\u001b[39m com\u001b[39m.\u001b[39mapply_if_callable(key, \u001b[39mself\u001b[39m\u001b[39m.\u001b[39mobj)\n\u001b[0;32m-> 1153\u001b[0m \u001b[39mreturn\u001b[39;00m \u001b[39mself\u001b[39;49m\u001b[39m.\u001b[39;49m_getitem_axis(maybe_callable, axis\u001b[39m=\u001b[39;49maxis)\n",
      "File \u001b[0;32m~/.local/lib/python3.10/site-packages/pandas/core/indexing.py:1392\u001b[0m, in \u001b[0;36m_LocIndexer._getitem_axis\u001b[0;34m(self, key, axis)\u001b[0m\n\u001b[1;32m   1389\u001b[0m         \u001b[39mreturn\u001b[39;00m \u001b[39mself\u001b[39m\u001b[39m.\u001b[39mobj\u001b[39m.\u001b[39miloc[\u001b[39mtuple\u001b[39m(indexer)]\n\u001b[1;32m   1391\u001b[0m \u001b[39m# fall thru to straight lookup\u001b[39;00m\n\u001b[0;32m-> 1392\u001b[0m \u001b[39mself\u001b[39;49m\u001b[39m.\u001b[39;49m_validate_key(key, axis)\n\u001b[1;32m   1393\u001b[0m \u001b[39mreturn\u001b[39;00m \u001b[39mself\u001b[39m\u001b[39m.\u001b[39m_get_label(key, axis\u001b[39m=\u001b[39maxis)\n",
      "File \u001b[0;32m~/.local/lib/python3.10/site-packages/pandas/core/indexing.py:1201\u001b[0m, in \u001b[0;36m_LocIndexer._validate_key\u001b[0;34m(self, key, axis)\u001b[0m\n\u001b[1;32m   1194\u001b[0m ax \u001b[39m=\u001b[39m \u001b[39mself\u001b[39m\u001b[39m.\u001b[39mobj\u001b[39m.\u001b[39m_get_axis(axis)\n\u001b[1;32m   1195\u001b[0m \u001b[39mif\u001b[39;00m \u001b[39misinstance\u001b[39m(key, \u001b[39mbool\u001b[39m) \u001b[39mand\u001b[39;00m \u001b[39mnot\u001b[39;00m (\n\u001b[1;32m   1196\u001b[0m     is_bool_dtype(ax\u001b[39m.\u001b[39mdtype)\n\u001b[1;32m   1197\u001b[0m     \u001b[39mor\u001b[39;00m ax\u001b[39m.\u001b[39mdtype\u001b[39m.\u001b[39mname \u001b[39m==\u001b[39m \u001b[39m\"\u001b[39m\u001b[39mboolean\u001b[39m\u001b[39m\"\u001b[39m\n\u001b[1;32m   1198\u001b[0m     \u001b[39mor\u001b[39;00m \u001b[39misinstance\u001b[39m(ax, MultiIndex)\n\u001b[1;32m   1199\u001b[0m     \u001b[39mand\u001b[39;00m is_bool_dtype(ax\u001b[39m.\u001b[39mget_level_values(\u001b[39m0\u001b[39m)\u001b[39m.\u001b[39mdtype)\n\u001b[1;32m   1200\u001b[0m ):\n\u001b[0;32m-> 1201\u001b[0m     \u001b[39mraise\u001b[39;00m \u001b[39mKeyError\u001b[39;00m(\n\u001b[1;32m   1202\u001b[0m         \u001b[39mf\u001b[39m\u001b[39m\"\u001b[39m\u001b[39m{\u001b[39;00mkey\u001b[39m}\u001b[39;00m\u001b[39m: boolean label can not be used without a boolean index\u001b[39m\u001b[39m\"\u001b[39m\n\u001b[1;32m   1203\u001b[0m     )\n\u001b[1;32m   1205\u001b[0m \u001b[39mif\u001b[39;00m \u001b[39misinstance\u001b[39m(key, \u001b[39mslice\u001b[39m) \u001b[39mand\u001b[39;00m (\n\u001b[1;32m   1206\u001b[0m     \u001b[39misinstance\u001b[39m(key\u001b[39m.\u001b[39mstart, \u001b[39mbool\u001b[39m) \u001b[39mor\u001b[39;00m \u001b[39misinstance\u001b[39m(key\u001b[39m.\u001b[39mstop, \u001b[39mbool\u001b[39m)\n\u001b[1;32m   1207\u001b[0m ):\n\u001b[1;32m   1208\u001b[0m     \u001b[39mraise\u001b[39;00m \u001b[39mTypeError\u001b[39;00m(\u001b[39mf\u001b[39m\u001b[39m\"\u001b[39m\u001b[39m{\u001b[39;00mkey\u001b[39m}\u001b[39;00m\u001b[39m: boolean values can not be used in a slice\u001b[39m\u001b[39m\"\u001b[39m)\n",
      "\u001b[0;31mKeyError\u001b[0m: 'False: boolean label can not be used without a boolean index'"
     ]
    }
   ],
   "source": []
  },
  {
   "cell_type": "code",
   "execution_count": null,
   "id": "5d72470e",
   "metadata": {},
   "outputs": [],
   "source": [
    "# TODO: fill in the empty cells if necessary\n",
    "\n",
    "\n",
    "# TODO: perform data transformation steps if necessary\n",
    "\n",
    "\n",
    "\n"
   ]
  },
  {
   "cell_type": "markdown",
   "id": "suitable-imperial",
   "metadata": {},
   "source": [
    "### 1.3 Process Discovery and Visualization (Optional)\n",
    "\n",
    "This is an optional task to show you how process discovery and visualizaion can be deployed using the pm4py library. \n",
    "\n",
    "(*The following code requires the graphviz library to be installed. If you have issues with installing the graphviz, you may try to follow the instructions on Install GraphViz on the [pm4py](https://pm4py.fit.fraunhofer.de/install-page) install page*)\n",
    "\n",
    "The following code:\n",
    "- fill in the columns for case id, activity, and timestamps\n",
    "- convert the data set into an event log\n",
    "- discover a Directly-follows graph (DFG) and a process model for each event log. \n",
    "- you may use the discovered process model in your report\n",
    "\n"
   ]
  },
  {
   "cell_type": "code",
   "execution_count": 2,
   "id": "reflected-still",
   "metadata": {},
   "outputs": [
    {
     "data": {
      "image/png": "[encoded data removed]",
      "text/plain": [
       "<IPython.core.display.Image object>"
      ]
     },
     "metadata": {},
     "output_type": "display_data"
    },
    {
     "data": {
      "image/png": "[encoded data removed]",
      "text/plain": [
       "<IPython.core.display.Image object>"
      ]
     },
     "metadata": {},
     "output_type": "display_data"
    }
   ],
   "source": [
    "# Install pm4py library and graphviz library using pip install \n",
    "# !pip install -U pm4py\n",
    "# !pip install graphviz\n",
    "import pm4py\n",
    "\n",
    "# Fill in the column names of case id, activity, and time stamps\n",
    "column_Sepsis_CaseID = 'Case ID' \n",
    "column_Sepsis_Activity = 'Activity'\n",
    "column_Sepsis_Timestamps = 'Complete Timestamp'\n",
    "\n",
    "data_Sepsis[column_Sepsis_CaseID] = data_Sepsis[column_Sepsis_CaseID].astype(str)\n",
    "\n",
    "\n",
    "# Convert the data to an event log\n",
    "log_Sepsis = pm4py.format_dataframe(data_Sepsis, case_id=column_Sepsis_CaseID, activity_key=column_Sepsis_Activity, timestamp_key=column_Sepsis_Timestamps)\n",
    "\n",
    "# Set the log to be the one that you are interested\n",
    "log = log_Sepsis\n",
    "\n",
    "# Create a Directly-Follows Graph (DFG) and plot this graph\n",
    "dfg, start_activities, end_activities = pm4py.discover_dfg(log)\n",
    "pm4py.view_dfg(dfg, start_activities, end_activities)\n",
    "\n",
    "# Discover a Process Model using Inductive Miner and plot this BPMN model\n",
    "process_tree = pm4py.discover_tree_inductive(log)\n",
    "bpmn_model = pm4py.convert_to_bpmn(process_tree)\n",
    "pm4py.view_bpmn(bpmn_model)\n"
   ]
  },
  {
   "cell_type": "markdown",
   "id": "sticky-distinction",
   "metadata": {},
   "source": [
    "## Task 2: Preprocessing and Trace Encoding\n",
    "\n",
    "\n",
    "### 2.1 Trace Encoding\n",
    "\n",
    "\n",
    "- Implement the last-2-state encoding for the data set \n",
    "- Implement the aggregated encoding for the data set (for example, see [1], Table 6)\n",
    "\n",
    "\n",
    "<span style=\"color:gray\">[1] Ilya Verenich, Marlon Dumas, Marcello La Rosa, Fabrizio Maria Maggi, Irene Teinemaa:\n",
    "Survey and Cross-benchmark Comparison of Remaining Time Prediction Methods in Business Process Monitoring. ACM Trans. Intell. Syst. Technol. 10(4): 34:1-34:34 (2019) [Section 1, 2, 4.1, 4.3, 4.6, 5.2, 5.3, 5.4, and 6] </span>\n",
    "\n",
    "These two encodings are discussed during lecture 7.\n",
    "In case you find difficult to implement the algorithms, you may also consider use the pandas functions to help you:\n",
    "- for the last-2-state encoding, check the pandas groupby.DataFrameGroupBy.shift and see the [answer on the stake overflow](https://stackoverflow.com/questions/53335567/use-pandas-shift-within-a-group)\n",
    "- for the aggregated encoding check the pandas groupby.DataFrameGroupBy and cumsum function and read the [examples and answers on the stake overflow](https://stackoverflow.com/a/49578219)"
   ]
  },
  {
   "cell_type": "code",
   "execution_count": null,
   "id": "christian-street",
   "metadata": {},
   "outputs": [],
   "source": [
    "\n",
    "# TODO: Implement the function that returns the last-state encoding of a log\n",
    "def last_2_state_encoding(_data, columnCase, columnActivity):\n",
    "    new_log = ...\n",
    "    \n",
    "    return(new_log)\n",
    "\n",
    "\n",
    "# TODO: Implement the function that returns the aggregated state encoding of a log\n",
    "def agg_state_encoding(_data, columnCase, columnActivity):\n",
    "    new_log = ...\n",
    "    \n",
    "    return(new_log)\n",
    "\n",
    "\n",
    "# TODO: for each of the two data sets, create a last_2_state encoding and an aggregated state encoding\n",
    "data_Sepsis_ls = last_2_state_encoding(...)\n",
    "data_Sepsis_ag = agg_state_encoding(...)\n"
   ]
  },
  {
   "cell_type": "markdown",
   "id": "rolled-complaint",
   "metadata": {},
   "source": [
    "### 2.2 Create Training and Held-out test data sets\n",
    "\n",
    "\n",
    "Create a training and a held-out test data set. *Later in Task 3-4, the training data will be used to perform cross-validation. The held-out test data will be used to evaluate the performance of the selected models.*\n",
    "\n",
    "Choose the size of your test data. Furthermore, how did you split the data? Motivate your choice when you discuss the experiment setup in your report. \n",
    "\n",
    "\n",
    "\n",
    "Tips: *You may consider reuse some of your code from Assignment 1 Task 1.2*"
   ]
  },
  {
   "cell_type": "code",
   "execution_count": null,
   "id": "prospective-little",
   "metadata": {},
   "outputs": [],
   "source": [
    "# TODO: create training data and held-out test data for *data_Sepsis_ls*\n",
    "\n",
    "\n",
    "\n",
    "# TODO: create training data and held-out test data for *data_Sepsis_ag*\n",
    "\n"
   ]
  },
  {
   "cell_type": "markdown",
   "id": "chief-quantum",
   "metadata": {},
   "source": [
    "## Task 3: Predicting Case Remaining Time - Regression Trees\n",
    "\n",
    "\n",
    "In this task, you will use the regression tree (or random forest regression if you prefer) to learn a regression model to predict case remaining time. Very similar to how you have trained a classification model in Assignment 1, now perform the following steps to train a regression model. \n",
    "\n",
    "i) use the default values for the parameters to get a [Regression Tree](https://scikit-learn.org/stable/modules/generated/sklearn.tree.DecisionTreeRegressor.html#sklearn.tree.DecisionTreeRegressor) (or a [Random Forest Regressor](https://scikit-learn.org/stable/modules/generated/sklearn.ensemble.RandomForestRegressor.html)) running on the training data. (*Optional: visualize the tree, the feature importance, and compute the error measures to get an impression of the performance of the model*).\n",
    "\n",
    "ii) use 5-fold cross-validation to determine a possibly better choice for the two parameters *min_samples_leaf* and *max_depth*\n",
    "    \n",
    "iii) create 2D or 3D plot that shows how the selected parameters affect the performance. \n",
    "\n",
    "iv) select the best-performing regression tree (or forest), i.e., the one that achieved the lowest cross-validated errors, and report all the error measures (MAE, MSE, RMSE, R^2) of the fitted model on the held-out test data. \n",
    "\n",
    "    \n",
    "#### TIPS:\n",
    "You may consider reuse the some of your code of Assignment 1 or use the [GridSearchCV](https://scikit-learn.org/stable/modules/generated/sklearn.model_selection.GridSearchCV.html) class (see an [example](https://www.dezyre.com/recipes/find-optimal-parameters-using-gridsearchcv-for-regression), but be aware that GridSearchSV does not return MAE or the other error measures (e.g., MSE, RMSE, R^2), you will need to update the scoring function)\n",
    "\n"
   ]
  },
  {
   "cell_type": "code",
   "execution_count": null,
   "id": "raising-saturn",
   "metadata": {},
   "outputs": [],
   "source": [
    "# TODO: import packages\n",
    "from sklearn.tree import DecisionTreeRegressor\n",
    "# from sklearn.ensemble import RandomForestRegressor\n",
    "\n",
    "# TODO: using *data_Sepsis_ls* and test the default regression tree model (or the random forest regressor) \n",
    "\n",
    "# TODO: set the search space of the parameters *min_samples_leaf* and *max_depth*\n",
    "\n",
    "# TODO: create 5-fold cross-validation\n",
    "\n",
    "# TODO: learn an optimal regression tree model (random forest regressor)\n",
    "\n",
    "# TODO: create 2D or 3D plot that shows how the selected parameter values affect the MAE (or RMSE). \n",
    "\n",
    "# TODO: compute the performance of the model on your held-out test data\n"
   ]
  },
  {
   "cell_type": "code",
   "execution_count": null,
   "id": "8f111c3b",
   "metadata": {},
   "outputs": [],
   "source": [
    "# TODO: repeat the above steps for *data_Sepsis_ag*\n",
    "\n"
   ]
  },
  {
   "cell_type": "markdown",
   "id": "87025bb9",
   "metadata": {},
   "source": [
    "## Task 4. Predicting Case Remaining Time - kNN Regression\n",
    "\n",
    "\n",
    "In this task, you will use the kNN Regression to learn a regression model to predict case remaining time. The same as task 3, now perform the following steps to train a regression model. \n",
    "\n",
    "i) use the default values for the parameters to get a [kNN Regression](https://scikit-learn.org/stable/modules/generated/sklearn.neighbors.KNeighborsRegressor.html#sklearn.neighbors.KNeighborsRegressor) running on the training data. (*Optional: compute the error measures to get an impression of the performance of the model).\n",
    "\n",
    "ii) use 5-fold cross-validation to determine a possibly better choice for the two parameters *n_neighbors* and *weights* \n",
    "    \n",
    "iii) create 2D or 3D plot that shows how the selected parameters affect the performance. \n",
    "\n",
    "iv) select the best-performing kNN, i.e., the one that achieved the lowest cross-validated errors, and report all the error measures (MAE, MSE, RMSE, R^2) of the fitted model on the held-out test data. \n",
    "\n",
    "    \n",
    "#### TIPS:\n",
    "The same here, you may consider reuse the some of your code of Assignment 1 or use the [GridSearchCV](https://scikit-learn.org/stable/modules/generated/sklearn.model_selection.GridSearchCV.html) class (see an [example](https://www.dezyre.com/recipes/find-optimal-parameters-using-gridsearchcv-for-regression), but be aware that GridSearchSV does not return MAE or the other error measures (e.g., MSE, RMSE, R^2), you will need to update the scoring function)\n",
    "\n",
    "\n",
    "\n",
    "\n",
    "\n"
   ]
  },
  {
   "cell_type": "code",
   "execution_count": null,
   "id": "f9e67e87",
   "metadata": {},
   "outputs": [],
   "source": [
    "# TODO: import packages\n",
    "from sklearn.neighbors import KNeighborsRegressor\n",
    "\n",
    "\n",
    "# TODO: using *data_Sepsis_ls* and test the default kNN Regressor model \n",
    "\n",
    "# TODO: set the search space of the parameters *n_neighbors* and *weights* \n",
    "\n",
    "# TODO: create 5-fold cross-validation\n",
    "\n",
    "# TODO: learn an optimal kNN regressor\n",
    "\n",
    "# TODO: create 2D or 3D plot that shows how the selected parameter values affect the MAE (or RMSE). \n",
    "\n",
    "# TODO: compute the performance of the model on your held-out test data"
   ]
  },
  {
   "cell_type": "code",
   "execution_count": null,
   "id": "b90d3874",
   "metadata": {},
   "outputs": [],
   "source": [
    "# TODO: repeat the above steps for *data_Sepsis_ag*\n"
   ]
  },
  {
   "cell_type": "markdown",
   "id": "adult-equilibrium",
   "metadata": {},
   "source": [
    "## Task 5.  Report your results and discuss your findings\n",
    "\n",
    "By now, you have applied two algorithms with different parameters on the two encodings of the data set. For each algorithm and each encoding, you have created tables or figures which you can add to your report. Discuss the results and their optimal performance. \n",
    "\n",
    "Create an overview table or figure that shows the optimal performance of each algorithm on the data set, for example, see the table here below. \n",
    "\n",
    "\n",
    "Discuss your findings and reflect on the following questions in your report:\n",
    "- According to the error measures, which one would you suggest as the optimal model? \n",
    "- Are there any discrepancies between the MAE, MSE, RMSE, and R^2 measures in terms of which model performs the best? If yes, how would you explain these discrepancies. \n",
    "- Which one of the MAE, MSE, RMSE, and R^2 would you use for selecting the model? Why?\n",
    "- Which one of the encoding would you suggest for this data set? Why?\n",
    "- Which features have a big influence on predicting the remaining time?\n",
    "\n",
    "\n",
    "\n",
    "\n",
    "\n",
    "\n",
    "\n",
    "| Encoding | Model | CV MAE  | Test MAE |  CV MSE  |  Test MSE  | CV R^2 | Test R^2 |... |\n",
    "|------|------|------|------|------|------|------|------|-----|\n",
    "|  Last-2-state | Regression Tree        |  |  | | | | |\n",
    "|  Agg-state |  Regression Tree  |  |  | || | |\n",
    "|   Last-2-state |kNN       |  |  | || | |\n",
    "|   ... |...       |  |  | || | |\n",
    "\n",
    "\n",
    "\n",
    "\n",
    "\n",
    "\n",
    "\n",
    "\n",
    "\n"
   ]
  },
  {
   "cell_type": "code",
   "execution_count": null,
   "id": "49ba6a68",
   "metadata": {},
   "outputs": [],
   "source": []
  },
  {
   "cell_type": "markdown",
   "id": "82de0533",
   "metadata": {},
   "source": [
    "## Bonus Tasks \n",
    "\n",
    "We would like to challenge you with the following bonus tasks. For each task that is successfully completed, you may obtain max. 1 extra point. \n",
    "\n",
    "1. Implement or use another regression algorithm (for example, [Random Forest Regression](https://scikit-learn.org/stable/modules/generated/sklearn.ensemble.RandomForestRegressor.html), [LinearRegresion](https://scikit-learn.org/stable/modules/generated/sklearn.linear_model.LinearRegression.html), [SVM Regression](https://scikit-learn.org/stable/auto_examples/svm/plot_svm_regression.html#sphx-glr-auto-examples-svm-plot-svm-regression-py)) or design your own algorithm that achieves a better MAE measure. Explain this in your report.\n",
    "2. Implement techniques (e.g., preprocessing, feature engineering, feature selection, sampling) that help improve the MAE scores of existing models. For example, try out a feature selection for kNN or implement inter-case features. Explain this in your report.\n",
    "\n"
   ]
  },
  {
   "cell_type": "code",
   "execution_count": null,
   "id": "02745358",
   "metadata": {},
   "outputs": [],
   "source": []
  }
 ],
 "metadata": {
  "kernelspec": {
   "display_name": "Python 3",
   "language": "python",
   "name": "python3"
  },
  "language_info": {
   "codemirror_mode": {
    "name": "ipython",
    "version": 3
   },
   "file_extension": ".py",
   "mimetype": "text/x-python",
   "name": "python",
   "nbconvert_exporter": "python",
   "pygments_lexer": "ipython3",
   "version": "3.10.12"
  }
 },
 "nbformat": 4,
 "nbformat_minor": 5
}
