{
 "cells": [
  {
   "cell_type": "markdown",
   "metadata": {},
   "source": [
    "# Assignment 3 – Topic Modeling and Clustering for Online Social Media Data\n",
    "\n",
    "*Due: Friday January 12 at 14:00 CET*\n",
    "\n",
    "In the third assignment of the course Applications of Machine Learning (INFOB3APML), you will learn to use topic modeling and clustering to identify topics in online social media data. The objectives of this assignment are:\n",
    "- understand and process the text data\n",
    "- use the clustering algorithm to determine clusters in real-life data\n",
    "- use the Latent Dirichlet Allocation algorithm to identify discussed topics in real-life text data \n",
    "- use the visualization tools to validate the results of unsupervised learning and interpret your findings\n",
    "- reflect on the difference between two type of unsupervised learning algorithms\n",
    "\n",
    "In this assignment, you are going to discover the different ‘topics’ from a real social media text dataset. The project is divided into two parts (4 subtasks):\n",
    "\n",
    "- The first part contains data processing (1.1) and feature extraction (1.2) from the raw text data.\n",
    "- In the second part, you will implement two methods (2.1), a topic modeling method and a clustering method, to identify topics from the processed data. Then, the evaluation will be done by using visualization tools (2.2). \n",
    "\n",
    "Provided files:\n",
    "- The dataset: data/raw_data.txt\n",
    "- A tutorial notebook showcases some packages you could use for this assignment (optional): Ass3_tutorial.ipynb\n",
    "- Some sample visualization codes for interpreting the topic results: viz_example.ipynb"
   ]
  },
  {
   "cell_type": "code",
   "execution_count": 1,
   "metadata": {},
   "outputs": [
    {
     "name": "stdout",
     "output_type": "stream",
     "text": [
      "Apple overweegt om voor 1 miljard een U.K. startup te kopen\n",
      "\n",
      "Apple\n",
      "overweegt\n",
      "om\n",
      "voor\n",
      "1\n",
      "miljard\n",
      "een\n",
      "U.K.\n",
      "startup\n",
      "te\n",
      "kopen\n"
     ]
    }
   ],
   "source": [
    "import spacy\n",
    "from spacy.lang.nl.examples import sentences\n",
    "import io\n",
    "\n",
    "nlp = spacy.load(\"nl_core_news_sm\")\n",
    "doc = nlp(sentences[0])\n",
    "print(doc.text)\n",
    "print()\n",
    "for token in doc:\n",
    "    print(token.text)\n",
    "    # print(token.pos_)\n",
    "    # print(token.dep_)\n",
    "    # print('')"
   ]
  },
  {
   "cell_type": "markdown",
   "metadata": {},
   "source": [
    " ## Dataset:\n",
    " The data used in this assignment is Dutch text data. We collected the COVID-19 crisis related messages from online social media (Twitter) from January to November 2021. Then, a subset of raw tweets was randomly sampled. In total, our dataset includes the text data of about 100K messages. **To protect the data privacy, please only use this dataset within the course.**"
   ]
  },
  {
   "cell_type": "markdown",
   "metadata": {},
   "source": [
    " ## 0. Before you start the Project: \n",
    " The provided messages in the raw dataset were collected based on 10 different themes that relate to the COVID-19 crisis. Here is a list of all themes:\n",
    " -\tLockdown\n",
    " -\tFace mask\n",
    " -\tSocial distancing\n",
    " -\tLoneliness\n",
    " -\tHappiness\n",
    " -\tVaccine\n",
    " -\tTesting\n",
    " -  Curfew\n",
    " -  Covid entry pass\n",
    " -  Work from home\n",
    "\n",
    "Before starting your project, you need to first filter the messages (all messages are in Dutch) and use the messages belonging to only one theme for the topic identification. \n",
    " \n",
    "If you have submitted the theme preference, you can skip the following paragraph.\n",
    "\n",
    "*Please notice that there will be maximum two teams working on a same theme. In this way, we hope that each group will develop their own dataset and come up with interesting results.*"
   ]
  },
  {
   "cell_type": "markdown",
   "metadata": {},
   "source": [
    " ## 1.1 Data Processing\n",
    " In the first part of the assignment, please first filter the messages and use the messages belonging to your allocated theme for the identification of topics. For that you will need to:\n",
    " -\tDesign your query (e.g. a regular expression or a set of keywords) and filter the related messages for your allocated theme. \n",
    " -\tClean your filtered messages and preprocess them into the right representation. Please refer to the text data pre-processing and representation methods discussed in the lecture. You may use some of the recommended packages for text data preprocessing and representation."
   ]
  },
  {
   "cell_type": "code",
   "execution_count": 2,
   "metadata": {},
   "outputs": [],
   "source": [
    "# TODO: filter the related messages\n",
    "RANDOM_SEED = 42\n",
    "topic_words = ['Eenzaamheid', 'Thuis', 'depressie','verdrietig']\n",
    "\n",
    "def phase0_open_txt_stream(filename):\n",
    "    return io.open(filename, \"r\", encoding=\"utf-8\")\n",
    "\n",
    "def get_data(max = -1):\n",
    "    pipe = phase0_open_txt_stream(\"../others/data/raw_data.txt\")\n",
    "    data = []\n",
    "    cont = 0\n",
    "    while (cont != max):\n",
    "        sentence = nlp(next(pipe))\n",
    "        if not sentence:\n",
    "            break\n",
    "        data.append(sentence)\n",
    "        cont += 1\n",
    "    pipe.close()\n",
    "    return data\n"
   ]
  },
  {
   "cell_type": "code",
   "execution_count": 3,
   "metadata": {},
   "outputs": [],
   "source": [
    "\n",
    "data = get_data(1000)"
   ]
  },
  {
   "cell_type": "code",
   "execution_count": 4,
   "metadata": {},
   "outputs": [
    {
     "data": {
      "text/plain": [
       "([@VanMetje Heel. Erg. Ik heb me zelden zo verdrietig en alleen gevoeld. Wilde keihard schreeuwen tijdens de dienst. Maar dat toch maar niet gedaan. Maar het was hemeltergend.,\n",
       "  Eenzaam is misschien niet het goede woord, ben niet heel verdrietig en kijk juist best wel op tegen weer moeten afspreken met mensen. Voel me gewoon even helemaal gedistantieerd van jullie. Naar gevoel.,\n",
       "  We hadden de hoop vandaag naar mijn moeder te kunnen ivm haar verjaardag. Helaas hebben wij nog steeds wat klachten en twijfelt manlief over zijn reuk. Dus toch maar thuisblijven. Hopelijk vals alarm en kunnen we volgend weekend alsnog. #blijfthuis #verdrietig,\n",
       "  Bewijslast ligt al maanden bij wie versoepelingen wil. En nu is elke ontwikkeling wel een reden om het huidige regime te behouden of te verstrengen. De nadelen van een lockdown zijn moeilijker meetbaar, dus die negeren we.\\n\\nVermijd een depressie - kijk naar de rest van de wereld.],\n",
       " 4)"
      ]
     },
     "execution_count": 4,
     "metadata": {},
     "output_type": "execute_result"
    }
   ],
   "source": [
    "def ignore_token(token):\n",
    "    return token.is_stop or token.is_space or token.is_punct or token.is_digit\n",
    "\n",
    "filtered = []\n",
    "for sentence in data:\n",
    "    for token in sentence:\n",
    "        if not ignore_token(token):\n",
    "            if token.text in topic_words:\n",
    "                filtered.append(sentence)\n",
    "                continue\n",
    "filtered, len(filtered)"
   ]
  },
  {
   "cell_type": "code",
   "execution_count": 5,
   "metadata": {},
   "outputs": [],
   "source": [
    "# TODO: clean and preprocess the messages\n"
   ]
  },
  {
   "cell_type": "code",
   "execution_count": 6,
   "metadata": {},
   "outputs": [],
   "source": [
    "\n",
    "# TODO: represent the messages into formats that can be used in clustering or LDA algorithms (you may need different represention for two algorithms)\n",
    "\n"
   ]
  },
  {
   "cell_type": "markdown",
   "metadata": {},
   "source": [
    " ## 1.2 Exploratory Data Analysis\n",
    " After preprocessing the data, create at least 2 figures or tables that help you understand the data.\n",
    "\n",
    " While exploring the data, you may also think about questions such as:\n",
    " - Can you spot any differences between Twitter data and usual text data?\n",
    " - Does your exploration reveal some issues that would make it difficult to interpret the topics?\n",
    " - Can you improve the data by adding additional preprocessing steps?"
   ]
  },
  {
   "cell_type": "code",
   "execution_count": 7,
   "metadata": {},
   "outputs": [],
   "source": [
    "# TODO: plot figure(s)\n"
   ]
  },
  {
   "cell_type": "markdown",
   "metadata": {},
   "source": [
    "## 2.1 Topic modelling and clustering\n",
    " In the second part of the assignment, you will first:\n",
    " -\tImplement a Latent Dirichlet Allocation (LDA) algorithm to identify the discussed topics for your theme\n",
    " -\tImplement a clustering method  to cluster messages into different groups, then represent the topic of each cluster using a bag of words\n",
    "\n",
    "While implementing the algorithms, you may use the codes from the recommended packages. In the final report, please explain reasons to select the used algorithm/package. "
   ]
  },
  {
   "cell_type": "code",
   "execution_count": 35,
   "metadata": {},
   "outputs": [],
   "source": [
    "from sklearn.decomposition import LatentDirichletAllocation\n",
    "import numpy as np\n",
    "\n",
    "def get_term_document_matrix(random=True):\n",
    "    if random:\n",
    "        np.random.seed(RANDOM_SEED)\n",
    "        # 100 documents with 24 words each\n",
    "        random_data = np.random.rand(1000,35)\n",
    "    return random_data"
   ]
  },
  {
   "cell_type": "code",
   "execution_count": 48,
   "metadata": {},
   "outputs": [
    {
     "name": "stdout",
     "output_type": "stream",
     "text": [
      "[0.80839735 0.30461377 0.09767211 0.68423303 0.44015249]\n",
      "[0.80839735 0.30461377 0.09767211 0.68423303 0.44015249]\n",
      "matrix shpae: (1000, 35)\n",
      "transformed shape:  (1000, 5)\n",
      "example document 1: [0.11240754 0.85288605 0.01157149 0.01156845 0.01156646]\n"
     ]
    },
    {
     "data": {
      "text/plain": [
       "0.3046137691733707"
      ]
     },
     "execution_count": 48,
     "metadata": {},
     "output_type": "execute_result"
    }
   ],
   "source": [
    "# TODO: topic modeling using the LDA algorithm\n",
    "\n",
    "td_matrix = get_term_document_matrix()\n",
    "lda = LatentDirichletAllocation(n_components=5, random_state=RANDOM_SEED)\n",
    "\n",
    "print(td_matrix[1,:5])\n",
    "y = lda.fit_transform(td_matrix)\n",
    "print(td_matrix[1,:5])\n",
    "\n",
    "print(\"matrix shpae:\", td_matrix.shape)\n",
    "print(\"transformed shape: \",y.shape)\n",
    "print(\"example document 1:\",y[1])"
   ]
  },
  {
   "cell_type": "code",
   "execution_count": 57,
   "metadata": {},
   "outputs": [
    {
     "name": "stderr",
     "output_type": "stream",
     "text": [
      "/opt/homebrew/lib/python3.11/site-packages/sklearn/cluster/_kmeans.py:1416: FutureWarning: The default value of `n_init` will change from 10 to 'auto' in 1.4. Set the value of `n_init` explicitly to suppress the warning\n",
      "  super()._check_params_vs_input(X, default_n_init=10)\n"
     ]
    },
    {
     "data": {
      "text/plain": [
       "array([4, 0, 2, 5, 3, 5, 5, 4, 1, 1, 1, 0, 1, 0, 0, 2, 1, 5, 5, 0, 5, 0,\n",
       "       1, 2, 5, 5, 0, 6, 5, 1, 2, 0, 5, 2, 0, 2, 4, 0, 1, 0, 6, 0, 2, 1,\n",
       "       7, 4, 5, 4, 0, 4, 1, 4, 0, 0, 0, 0, 0, 4, 4, 0, 1, 2, 0, 2, 1, 2,\n",
       "       2, 5, 4, 1, 5, 4, 4, 0, 2, 0, 2, 1, 0, 1, 2, 2, 2, 5, 1, 5, 2, 2,\n",
       "       1, 1, 0, 7, 0, 4, 4, 2, 4, 4, 5, 6, 2, 0, 5, 2, 4, 1, 4, 0, 1, 3,\n",
       "       0, 0, 4, 2, 2, 2, 4, 5, 0, 5, 1, 0, 1, 5, 2, 5, 4, 1, 2, 0, 1, 0,\n",
       "       1, 5, 0, 4, 2, 4, 5, 2, 0, 4, 0, 0, 1, 1, 6, 2, 1, 4, 4, 4, 2, 0,\n",
       "       4, 2, 5, 5, 2, 1, 1, 5, 1, 5, 5, 0, 5, 7, 0, 0, 0, 4, 5, 2, 5, 1,\n",
       "       1, 0, 2, 5, 1, 0, 5, 1, 7, 2, 4, 3, 4, 4, 1, 5, 1, 5, 4, 1, 4, 1,\n",
       "       4, 5, 4, 1, 5, 2, 2, 5, 2, 7, 1, 1, 0, 1, 2, 4, 4, 4, 2, 1, 2, 2,\n",
       "       3, 1, 4, 0, 1, 5, 7, 2, 0, 1, 7, 5, 6, 0, 1, 1, 5, 1, 0, 7, 2, 1,\n",
       "       1, 1, 2, 2, 2, 4, 0, 5, 1, 0, 1, 2, 4, 0, 0, 2, 4, 2, 5, 1, 3, 2,\n",
       "       7, 7, 4, 1, 0, 0, 1, 0, 5, 1, 4, 5, 2, 6, 4, 0, 1, 2, 1, 5, 1, 0,\n",
       "       1, 1, 0, 2, 0, 2, 2, 1, 0, 0, 4, 4, 4, 5, 0, 1, 4, 4, 2, 5, 4, 4,\n",
       "       2, 4, 2, 0, 5, 1, 4, 0, 4, 4, 4, 3, 6, 7, 0, 1, 0, 0, 1, 4, 1, 4,\n",
       "       4, 0, 5, 0, 5, 2, 4, 5, 4, 0, 7, 5, 2, 0, 4, 2, 6, 1, 0, 5, 2, 2,\n",
       "       2, 4, 0, 1, 4, 1, 1, 1, 0, 7, 0, 4, 1, 0, 5, 5, 5, 0, 5, 2, 4, 0,\n",
       "       0, 5, 5, 4, 0, 4, 0, 1, 1, 4, 2, 4, 6, 4, 2, 3, 2, 4, 1, 5, 0, 1,\n",
       "       0, 5, 3, 5, 0, 5, 2, 0, 2, 4, 1, 0, 0, 5, 5, 5, 0, 0, 3, 5, 1, 4,\n",
       "       1, 1, 1, 0, 1, 4, 2, 0, 5, 1, 0, 0, 2, 4, 4, 0, 1, 7, 4, 1, 2, 4,\n",
       "       4, 0, 5, 0, 0, 1, 7, 4, 6, 1, 2, 1, 7, 4, 5, 4, 1, 4, 5, 5, 1, 4,\n",
       "       2, 0, 1, 2, 1, 0, 4, 7, 2, 4, 6, 5, 3, 5, 7, 2, 2, 2, 0, 0, 1, 2,\n",
       "       4, 1, 3, 1, 1, 5, 6, 3, 4, 1, 1, 6, 0, 3, 4, 1, 0, 2, 5, 5, 1, 1,\n",
       "       4, 2, 4, 2, 5, 0, 2, 4, 1, 4, 2, 4, 0, 2, 3, 1, 2, 3, 2, 1, 0, 3,\n",
       "       2, 5, 2, 5, 0, 1, 5, 0, 6, 2, 2, 4, 2, 5, 2, 5, 1, 1, 0, 2, 2, 5,\n",
       "       2, 1, 1, 5, 2, 0, 4, 4, 2, 5, 0, 5, 2, 4, 0, 5, 4, 0, 4, 0, 5, 0,\n",
       "       2, 1, 7, 4, 5, 4, 4, 5, 7, 1, 0, 4, 2, 4, 0, 2, 7, 0, 1, 0, 5, 4,\n",
       "       0, 0, 5, 3, 4, 2, 5, 7, 5, 4, 2, 7, 2, 3, 0, 4, 5, 1, 2, 0, 6, 5,\n",
       "       0, 2, 5, 1, 6, 5, 2, 5, 1, 2, 4, 4, 2, 0, 0, 2, 4, 4, 5, 1, 1, 0,\n",
       "       1, 0, 0, 4, 4, 4, 1, 1, 5, 1, 1, 5, 6, 0, 0, 6, 2, 0, 5, 4, 0, 1,\n",
       "       0, 4, 2, 4, 2, 0, 5, 0, 4, 4, 5, 0, 5, 0, 5, 4, 0, 0, 0, 4, 1, 0,\n",
       "       2, 2, 5, 4, 4, 5, 1, 6, 2, 2, 2, 2, 2, 4, 4, 1, 2, 4, 5, 5, 7, 0,\n",
       "       0, 1, 0, 4, 3, 5, 1, 0, 2, 2, 5, 5, 1, 2, 5, 6, 5, 5, 1, 0, 5, 4,\n",
       "       4, 4, 0, 4, 0, 7, 1, 3, 2, 3, 1, 0, 4, 4, 0, 1, 0, 2, 6, 7, 4, 0,\n",
       "       2, 2, 2, 2, 0, 1, 2, 4, 0, 1, 4, 1, 4, 1, 0, 2, 0, 2, 4, 4, 5, 1,\n",
       "       5, 1, 5, 2, 5, 4, 0, 2, 5, 3, 5, 0, 5, 1, 2, 1, 6, 4, 2, 2, 4, 1,\n",
       "       4, 0, 1, 5, 5, 0, 2, 6, 2, 4, 4, 1, 4, 1, 1, 5, 5, 5, 4, 4, 4, 1,\n",
       "       5, 1, 2, 2, 2, 3, 5, 5, 0, 0, 2, 5, 2, 1, 2, 4, 4, 1, 2, 0, 5, 4,\n",
       "       5, 1, 5, 0, 4, 1, 0, 7, 5, 0, 5, 1, 0, 2, 2, 0, 5, 0, 1, 0, 1, 5,\n",
       "       0, 1, 1, 6, 4, 5, 0, 4, 2, 5, 4, 2, 4, 3, 5, 5, 2, 2, 2, 5, 2, 1,\n",
       "       0, 4, 5, 4, 0, 7, 4, 0, 1, 0, 4, 4, 0, 5, 4, 2, 1, 1, 1, 7, 1, 4,\n",
       "       5, 2, 2, 4, 2, 2, 2, 3, 1, 0, 0, 2, 1, 1, 5, 1, 5, 4, 6, 0, 4, 3,\n",
       "       4, 0, 0, 4, 2, 2, 1, 2, 4, 1, 2, 5, 5, 2, 1, 4, 4, 6, 1, 5, 2, 0,\n",
       "       2, 5, 7, 2, 1, 3, 7, 3, 7, 4, 4, 5, 1, 1, 4, 4, 0, 0, 0, 0, 0, 2,\n",
       "       1, 1, 2, 0, 5, 2, 5, 5, 5, 4, 4, 4, 1, 4, 4, 0, 2, 4, 0, 5, 4, 5,\n",
       "       0, 0, 0, 4, 4, 1, 4, 0, 2, 2], dtype=int32)"
      ]
     },
     "execution_count": 57,
     "metadata": {},
     "output_type": "execute_result"
    }
   ],
   "source": [
    "# TODO: cluster the messages using a clustering algorithm\n",
    "\n",
    "from sklearn.cluster import KMeans\n",
    "\n",
    "kmeans = KMeans(random_state=RANDOM_SEED, n_clusters=8)\n",
    "clustrer_labels = kmeans.fit_predict(y)\n",
    "clustrer_labels\n",
    "\n"
   ]
  },
  {
   "cell_type": "markdown",
   "metadata": {},
   "source": [
    " ## 2.2 Results, evaluation and Interpretation \n",
    " \n",
    "Finally, you will describe, evaluate and interpret your findings from two methods. \n",
    "\n",
    "- In the report, you need to describe and discuss the similarity and difference of results from two methods.\n",
    "- While evaluating the results, human judgment is very important, so visualization techniques are helpful to evaluate the identified topics in an interpreted manner. \n",
    "    \n",
    "1. For evaluating the topic modelling algorithm, please first use the interactive tool **[pyLDAvis](https://nbviewer.jupyter.org/github/bmabey/pyLDAvis/blob/master/notebooks/pyLDAvis_overview.ipynb#topic=0&lambda=1&term=)** to examine the inter-topic separation of your findings. \n",
    "\n",
    "2. For interpreting the identified topics / clusters of both algorithms, we provide example code for several visualization techiques. You can use multiple ones to evaluate your results or come up with visualisations on your own. The files contain examples for how to use the visualisation functions.\n"
   ]
  },
  {
   "cell_type": "code",
   "execution_count": 11,
   "metadata": {},
   "outputs": [],
   "source": [
    "# TODO: evaluation \n"
   ]
  },
  {
   "cell_type": "markdown",
   "metadata": {},
   "source": [
    "# Bonus Tasks \n",
    "\n",
    "We would like to challenge you with the following bonus task. For each task that is successfully completed, you may obtain max. 1 extra point. \n",
    "\n",
    "1. Implement another clustering algorithm or design your own clustering algorithm. Discuss your findings and explain why this is a better (or worse) clustering algorithm than the above one (the clustering algorithm, not LDA).\n",
    "\n",
    "2. Can you think of other evaluation methods than the provided visualization techniques? If so, implement one and explain why it is a good evaluation for our task."
   ]
  },
  {
   "cell_type": "code",
   "execution_count": null,
   "metadata": {},
   "outputs": [],
   "source": []
  }
 ],
 "metadata": {
  "kernelspec": {
   "display_name": "Python 3 (ipykernel)",
   "language": "python",
   "name": "python3"
  },
  "language_info": {
   "codemirror_mode": {
    "name": "ipython",
    "version": 3
   },
   "file_extension": ".py",
   "mimetype": "text/x-python",
   "name": "python",
   "nbconvert_exporter": "python",
   "pygments_lexer": "ipython3",
   "version": "3.11.6"
  }
 },
 "nbformat": 4,
 "nbformat_minor": 2
}
