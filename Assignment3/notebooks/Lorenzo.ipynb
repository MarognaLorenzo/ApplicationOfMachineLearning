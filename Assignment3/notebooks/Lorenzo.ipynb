{
 "cells": [
  {
   "cell_type": "markdown",
   "metadata": {},
   "source": [
    "# Assignment 3 – Topic Modeling and Clustering for Online Social Media Data\n",
    "\n",
    "*Due: Friday January 12 at 14:00 CET*\n",
    "\n",
    "In the third assignment of the course Applications of Machine Learning (INFOB3APML), you will learn to use topic modeling and clustering to identify topics in online social media data. The objectives of this assignment are:\n",
    "- understand and process the text data\n",
    "- use the clustering algorithm to determine clusters in real-life data\n",
    "- use the Latent Dirichlet Allocation algorithm to identify discussed topics in real-life text data \n",
    "- use the visualization tools to validate the results of unsupervised learning and interpret your findings\n",
    "- reflect on the difference between two type of unsupervised learning algorithms\n",
    "\n",
    "In this assignment, you are going to discover the different ‘topics’ from a real social media text dataset. The project is divided into two parts (4 subtasks):\n",
    "\n",
    "- The first part contains data processing (1.1) and feature extraction (1.2) from the raw text data.\n",
    "- In the second part, you will implement two methods (2.1), a topic modeling method and a clustering method, to identify topics from the processed data. Then, the evaluation will be done by using visualization tools (2.2). \n",
    "\n",
    "Provided files:\n",
    "- The dataset: data/raw_data.txt\n",
    "- A tutorial notebook showcases some packages you could use for this assignment (optional): Ass3_tutorial.ipynb\n",
    "- Some sample visualization codes for interpreting the topic results: viz_example.ipynb"
   ]
  },
  {
   "cell_type": "code",
   "execution_count": 1,
   "metadata": {},
   "outputs": [],
   "source": [
    "import io\n",
    "\n",
    "# TODO: import the packages\n"
   ]
  },
  {
   "cell_type": "markdown",
   "metadata": {},
   "source": [
    " ## Dataset:\n",
    " The data used in this assignment is Dutch text data. We collected the COVID-19 crisis related messages from online social media (Twitter) from January to November 2021. Then, a subset of raw tweets was randomly sampled. In total, our dataset includes the text data of about 100K messages. **To protect the data privacy, please only use this dataset within the course.**"
   ]
  },
  {
   "cell_type": "code",
   "execution_count": 4,
   "metadata": {
    "scrolled": false
   },
   "outputs": [
    {
     "name": "stdout",
     "output_type": "stream",
     "text": [
      "Hahah, het verzet is begonnen. Het knalt hier op z'n best hoor. Voor mijn dieren vind ik het erg, maar f@ck die maffe regering hier. Gelukkig nieuwjaar!\n",
      "\n",
      "\n",
      "RT @D66Vught: Het is 2021! https://t.co/LpPuFPuqR8\n",
      "\n",
      "\n",
      "@MijumewAndCo Happy new year mij!\n",
      "\n",
      "\n",
      "Fantastisch dat ik zoveel vuurwerk hoor..... We worden echt wakker yes. En het boeit mij niet wat een ander er van denkt.\\nOp naar een Great Awakening en happy new year 😃🎉🙏❤️\n",
      "\n",
      "\n",
      "Gelukkig nieuwjaar allemaal!!!! Binnen exact een maand ben ik jarig en ik hoop dat ik dan eindelijk birthdaySEX kan hebben xxx\n",
      "\n",
      "\n"
     ]
    }
   ],
   "source": [
    "# read the data\n",
    "\n",
    "def phase0_open_txt_stream(filename):\n",
    "    return io.open(filename, \"r\", encoding=\"utf-8\")\n",
    "\n",
    "\n",
    "pipe = phase0_open_txt_stream(\"../others/data/raw_data.txt\")\n",
    "\n",
    "for i in range(5):\n",
    "    print(next(pipe))\n",
    "    print(\"\")\n",
    "\n",
    "pipe.close()\n"
   ]
  },
  {
   "cell_type": "markdown",
   "metadata": {},
   "source": [
    " ## 0. Before you start the Project: \n",
    " The provided messages in the raw dataset were collected based on 10 different themes that relate to the COVID-19 crisis. Here is a list of all themes:\n",
    " -\tLockdown\n",
    " -\tFace mask\n",
    " -\tSocial distancing\n",
    " -\tLoneliness\n",
    " -\tHappiness\n",
    " -\tVaccine\n",
    " -\tTesting\n",
    " -  Curfew\n",
    " -  Covid entry pass\n",
    " -  Work from home\n",
    "\n",
    "Before starting your project, you need to first filter the messages (all messages are in Dutch) and use the messages belonging to only one theme for the topic identification. \n",
    " \n",
    "If you have submitted the theme preference, you can skip the following paragraph.\n",
    "\n",
    "*Please notice that there will be maximum two teams working on a same theme. In this way, we hope that each group will develop their own dataset and come up with interesting results.*"
   ]
  },
  {
   "cell_type": "markdown",
   "metadata": {},
   "source": [
    " ## 1.1 Data Processing\n",
    " In the first part of the assignment, please first filter the messages and use the messages belonging to your allocated theme for the identification of topics. For that you will need to:\n",
    " -\tDesign your query (e.g. a regular expression or a set of keywords) and filter the related messages for your allocated theme. \n",
    " -\tClean your filtered messages and preprocess them into the right representation. Please refer to the text data pre-processing and representation methods discussed in the lecture. You may use some of the recommended packages for text data preprocessing and representation."
   ]
  },
  {
   "cell_type": "code",
   "execution_count": 3,
   "metadata": {},
   "outputs": [],
   "source": [
    "# TODO: filter the related messages\n",
    "# TODO: clean and preprocess the messages\n",
    "# TODO: represent the messages into formats that can be used in clustering or LDA algorithms (you may need different represention for two algorithms)\n",
    "\n"
   ]
  },
  {
   "cell_type": "markdown",
   "metadata": {},
   "source": [
    " ## 1.2 Exploratory Data Analysis\n",
    " After preprocessing the data, create at least 2 figures or tables that help you understand the data.\n",
    "\n",
    " While exploring the data, you may also think about questions such as:\n",
    " - Can you spot any differences between Twitter data and usual text data?\n",
    " - Does your exploration reveal some issues that would make it difficult to interpret the topics?\n",
    " - Can you improve the data by adding additional preprocessing steps?"
   ]
  },
  {
   "cell_type": "code",
   "execution_count": 14,
   "metadata": {},
   "outputs": [],
   "source": [
    "# TODO: plot figure(s)\n"
   ]
  },
  {
   "cell_type": "markdown",
   "metadata": {},
   "source": [
    "## 2.1 Topic modelling and clustering\n",
    " In the second part of the assignment, you will first:\n",
    " -\tImplement a Latent Dirichlet Allocation (LDA) algorithm to identify the discussed topics for your theme\n",
    " -\tImplement a clustering method  to cluster messages into different groups, then represent the topic of each cluster using a bag of words\n",
    "\n",
    "While implementing the algorithms, you may use the codes from the recommended packages. In the final report, please explain reasons to select the used algorithm/package. "
   ]
  },
  {
   "cell_type": "code",
   "execution_count": 20,
   "metadata": {},
   "outputs": [],
   "source": [
    "# TODO: topic modeling using the LDA algorithm\n"
   ]
  },
  {
   "cell_type": "code",
   "execution_count": 21,
   "metadata": {},
   "outputs": [],
   "source": [
    "# TODO: cluster the messages using a clustering algorithm\n"
   ]
  },
  {
   "cell_type": "markdown",
   "metadata": {},
   "source": [
    " ## 2.2 Results, evaluation and Interpretation \n",
    " \n",
    "Finally, you will describe, evaluate and interpret your findings from two methods. \n",
    "\n",
    "- In the report, you need to describe and discuss the similarity and difference of results from two methods.\n",
    "- While evaluating the results, human judgment is very important, so visualization techniques are helpful to evaluate the identified topics in an interpreted manner. \n",
    "    \n",
    "1. For evaluating the topic modelling algorithm, please first use the interactive tool **[pyLDAvis](https://nbviewer.jupyter.org/github/bmabey/pyLDAvis/blob/master/notebooks/pyLDAvis_overview.ipynb#topic=0&lambda=1&term=)** to examine the inter-topic separation of your findings. \n",
    "\n",
    "2. For interpreting the identified topics / clusters of both algorithms, we provide example code for several visualization techiques. You can use multiple ones to evaluate your results or come up with visualisations on your own. The files contain examples for how to use the visualisation functions.\n"
   ]
  },
  {
   "cell_type": "code",
   "execution_count": 1,
   "metadata": {},
   "outputs": [],
   "source": [
    "# TODO: evaluation \n"
   ]
  },
  {
   "cell_type": "markdown",
   "metadata": {},
   "source": [
    "# Bonus Tasks \n",
    "\n",
    "We would like to challenge you with the following bonus task. For each task that is successfully completed, you may obtain max. 1 extra point. \n",
    "\n",
    "1. Implement another clustering algorithm or design your own clustering algorithm. Discuss your findings and explain why this is a better (or worse) clustering algorithm than the above one (the clustering algorithm, not LDA).\n",
    "\n",
    "2. Can you think of other evaluation methods than the provided visualization techniques? If so, implement one and explain why it is a good evaluation for our task."
   ]
  },
  {
   "cell_type": "code",
   "execution_count": null,
   "metadata": {},
   "outputs": [],
   "source": []
  }
 ],
 "metadata": {
  "kernelspec": {
   "display_name": "Python 3 (ipykernel)",
   "language": "python",
   "name": "python3"
  },
  "language_info": {
   "codemirror_mode": {
    "name": "ipython",
    "version": 3
   },
   "file_extension": ".py",
   "mimetype": "text/x-python",
   "name": "python",
   "nbconvert_exporter": "python",
   "pygments_lexer": "ipython3",
   "version": "3.11.6"
  }
 },
 "nbformat": 4,
 "nbformat_minor": 2
}
