{
 "cells": [
  {
   "cell_type": "markdown",
   "metadata": {},
   "source": [
    "# Assignment 3 – Topic Modeling and Clustering for Online Social Media Data\n",
    "\n",
    "*Due: Friday January 12 at 14:00 CET*\n",
    "\n",
    "In the third assignment of the course Applications of Machine Learning (INFOB3APML), you will learn to use topic modeling and clustering to identify topics in online social media data. The objectives of this assignment are:\n",
    "- understand and process the text data\n",
    "- use the clustering algorithm to determine clusters in real-life data\n",
    "- use the Latent Dirichlet Allocation algorithm to identify discussed topics in real-life text data \n",
    "- use the visualization tools to validate the results of unsupervised learning and interpret your findings\n",
    "- reflect on the difference between two type of unsupervised learning algorithms\n",
    "\n",
    "In this assignment, you are going to discover the different ‘topics’ from a real social media text dataset. The project is divided into two parts (4 subtasks):\n",
    "\n",
    "- The first part contains data processing (1.1) and feature extraction (1.2) from the raw text data.\n",
    "- In the second part, you will implement two methods (2.1), a topic modeling method and a clustering method, to identify topics from the processed data. Then, the evaluation will be done by using visualization tools (2.2). \n",
    "\n",
    "Provided files:\n",
    "- The dataset: data/raw_data.txt\n",
    "- A tutorial notebook showcases some packages you could use for this assignment (optional): Ass3_tutorial.ipynb\n",
    "- Some sample visualization codes for interpreting the topic results: viz_example.ipynb"
   ]
  },
  {
   "cell_type": "code",
   "execution_count": 250,
   "metadata": {},
   "outputs": [
    {
     "name": "stdout",
     "output_type": "stream",
     "text": [
      "Apple overweegt om voor 1 miljard een U.K. startup te kopen\n",
      "\n",
      "Apple\n",
      "overweegt\n",
      "om\n",
      "voor\n",
      "1\n",
      "miljard\n",
      "een\n",
      "U.K.\n",
      "startup\n",
      "te\n",
      "kopen\n"
     ]
    }
   ],
   "source": [
    "import spacy\n",
    "from spacy.lang.nl.examples import sentences\n",
    "import io\n",
    "\n",
    "nlp = spacy.load(\"nl_core_news_sm\")\n",
    "doc = nlp(sentences[0])\n",
    "print(doc.text)\n",
    "print()\n",
    "for token in doc:\n",
    "    print(token.text)\n",
    "    # print(token.pos_)\n",
    "    # print(token.dep_)\n",
    "    # print('')"
   ]
  },
  {
   "cell_type": "markdown",
   "metadata": {},
   "source": [
    " ## Dataset:\n",
    " The data used in this assignment is Dutch text data. We collected the COVID-19 crisis related messages from online social media (Twitter) from January to November 2021. Then, a subset of raw tweets was randomly sampled. In total, our dataset includes the text data of about 100K messages. **To protect the data privacy, please only use this dataset within the course.**"
   ]
  },
  {
   "cell_type": "markdown",
   "metadata": {},
   "source": [
    " ## 0. Before you start the Project: \n",
    " The provided messages in the raw dataset were collected based on 10 different themes that relate to the COVID-19 crisis. Here is a list of all themes:\n",
    " -\tLockdown\n",
    " -\tFace mask\n",
    " -\tSocial distancing\n",
    " -\tLoneliness\n",
    " -\tHappiness\n",
    " -\tVaccine\n",
    " -\tTesting\n",
    " -  Curfew\n",
    " -  Covid entry pass\n",
    " -  Work from home\n",
    "\n",
    "Before starting your project, you need to first filter the messages (all messages are in Dutch) and use the messages belonging to only one theme for the topic identification. \n",
    " \n",
    "If you have submitted the theme preference, you can skip the following paragraph.\n",
    "\n",
    "*Please notice that there will be maximum two teams working on a same theme. In this way, we hope that each group will develop their own dataset and come up with interesting results.*"
   ]
  },
  {
   "cell_type": "markdown",
   "metadata": {},
   "source": [
    " ## 1.1 Data Processing\n",
    " In the first part of the assignment, please first filter the messages and use the messages belonging to your allocated theme for the identification of topics. For that you will need to:\n",
    " -\tDesign your query (e.g. a regular expression or a set of keywords) and filter the related messages for your allocated theme. \n",
    " -\tClean your filtered messages and preprocess them into the right representation. Please refer to the text data pre-processing and representation methods discussed in the lecture. You may use some of the recommended packages for text data preprocessing and representation."
   ]
  },
  {
   "cell_type": "code",
   "execution_count": 251,
   "metadata": {},
   "outputs": [],
   "source": [
    "# TODO: filter the related messages\n",
    "RANDOM_SEED = 42\n",
    "topic_words = ['Eenzaamheid', 'Thuis', 'depressie','verdrietig']\n",
    "\n",
    "def phase0_open_txt_stream(filename):\n",
    "    return io.open(filename, \"r\", encoding=\"utf-8\")\n",
    "\n",
    "def get_data(max = -1):\n",
    "    pipe = phase0_open_txt_stream(\"../others/data/raw_data.txt\")\n",
    "    data = []\n",
    "    cont = 0\n",
    "    while (cont != max):\n",
    "        sentence = nlp(next(pipe))\n",
    "        if not sentence:\n",
    "            break\n",
    "        data.append(sentence)\n",
    "        cont += 1\n",
    "    pipe.close()\n",
    "    return data\n"
   ]
  },
  {
   "cell_type": "code",
   "execution_count": 252,
   "metadata": {},
   "outputs": [],
   "source": [
    "data = get_data(1000)"
   ]
  },
  {
   "cell_type": "code",
   "execution_count": 253,
   "metadata": {},
   "outputs": [
    {
     "name": "stdout",
     "output_type": "stream",
     "text": [
      "[\"Hahah, het verzet is begonnen. Het knalt hier op z'n best hoor. Voor mijn dieren vind ik het erg, maar f@ck die maffe regering hier. Gelukkig nieuwjaar!\\n\", 'RT @D66Vught: Het is 2021! https://t.co/LpPuFPuqR8\\n', '@MijumewAndCo Happy new year mij!\\n', 'Fantastisch dat ik zoveel vuurwerk hoor..... We worden echt wakker yes. En het boeit mij niet wat een ander er van denkt.\\\\nOp naar een Great Awakening en happy new year 😃🎉🙏❤️\\n', 'Gelukkig nieuwjaar allemaal!!!! Binnen exact een maand ben ik jarig en ik hoop dat ik dan eindelijk birthdaySEX kan hebben xxx\\n', 'Iedereen in de wereld krijgt aftel momenten bij bruggen, hoge torens of een drone show.\\\\nSchitterende beelden.\\\\nin Nederland krijgen we dat afschuwelijke stadion in duivedrecht\\\\ntezien, en dan vinden we het gek dat iedereen de straat op gaat..\\\\nAlsof die lockdown niet voldoende is 🙉\\n', 'Gelukkig 2021 iedereen! Maar please hou het veilig, want een nieuw jaar betekend niet dat die’n Corona ineens foetsie is eh...\\n', 'Ik wens iedereen een gelukkig Nieuwjaar #vtm2021\\n', 'Gelukkig en gezond 2021 toegewenst, met perspectief op betere tijden, hier samen lockdown thuis,  een virtuele knuffel voor mijn volgers https://t.co/FzsHKXqTR3\\n', '@_JuuT_ Het is bij ons in de straat nu rustig. De vuurpijl voor Martijn onze overleden buurjongen van drie huizen verder is afgestoken. De overburen die vuurwerk afstaken zijn naar binnen nadat onze zoon ze een coronavirus jaar heeft toegewenst. #flapuit\\n', '#vtm2021 gelukkig nieuwjaar iedereen ! jelle V , ik hou nog steeds van jou ! &lt;3\\n', 'Echt hè? Ik gedraag me wel hoor. Uiteraard. 😊Gelukkig nieuwjaar allemaal. 🥂🍾 https://t.co/yygsc07uc7\\n', '@martwit57 @LodewijkA Vaccinatie wil niet zeggen dat je geen corona kan krijgen\\n', 'RT @Gerritsen_Dan: #Nieuwjaar 2021#Vuurwerk #Vrijheid🛑#lockdown🛑#GERRITSEN🗽 #TK2021🇳🇱 https://t.co/LdUYz1qXRq\\n', 'En maar geen #avondklok willen invoeren.... De gespannen sfeer in vele steden is te danken aan het zwalkende beleid van dit #kabinet #Rutte #vuurwerkverbod #oudejaarsavond #oudennieuw\\n', 'RT @AliceDepoortere: Het kutste jaar is bijna voorbij en toch ben ik er een beetje dankbaar voor want ik was op een moment écht gelukkig\\n', '@WilmadeJong1 @mariannezw @HellieS8 Precies. Mondkapje, binnen blijven,  en angst verzwakken je immuunsysteem. Langdurig gebruik van een mondkapje kan zelfs schimmels veroorzaken die diep in de longen gaan zitten. Gevolg longontsteking. Bij ouderen zeer gevaarlijk!\\n', '‼️‼️BREAKING 1 JANUARI 2021 - 0:00 UUR - EINDE LOCKDOWN ‼️‼️ #stopdelockdown \\\\n👉Is het in Den Haag al begonnen?\\\\n❤️Als je meedoet!! https://t.co/XRCuvpjPg9\\n', '🥳Een Goed Nieuw Jaar 😇begint met bezinning &amp; een betere Jaarswisseling kan ik me niet bedenken.👌🥰 Kijk &amp; luister mee naar dit uiterst actuele en boeiende gesprek met artsen, juristen en bewuste  burgers in het “Verboden Jaaroverzicht 2020” on #Vimeo https://t.co/mMh01gzYDI ❤️\\n', '@55Spotgaai Ja he...ik voel me ook zo gelukkig...kan niet hard genoeg gaan\\n', '“In een rechtstaat moet de overheid bewijzen dat lockdowns het gewenst effect hebben, aangezien zij 100 jaar volksgezondheidswijsheid en -wetenschap negeren en deze hebben vervangen door een onbewezen, top-down be-/inperking van vrijheid en mensenrechten” https://t.co/EoGVAQHb48\\n', '@test1443583446 Er was nu toch al een #vuurwerkverbod Heeft niks geholpen huilstruik! 🖕🤣\\n', '#vtm2021 Gelukkig nieuwjaar aan mijn broers Ruben Seppe Aaron Bram en Nils!!\\n', '@mm31741 @AsbaiBadr @ajaxfriend Als er een virus, dat zeker dodelijk en gevaarlijk is, met een ruim hogere ifr, zou rondwaren, waren deze discussies er überhaupt niet geweest.\\n', 'Weer een IC bed minder https://t.co/rF5m8ZEWVd\\n', '@thesarge671 @LodewijkA Ik heb mij, binnen de normen, ontfermd over negen alleenstaande cq eenzame bejaarden die nog op zichzelf wonen. Boodschappengedaan en voor hen gekookt. Allemaal lapwerk wat in een land, als Nederland, niet hoort. We hebben dus beide niets  gedaan aan een structurele oplossing.\\n', 'Maar goed..wil #2021 toch positief beginnen. Al mijn tweeps wens ik een heel mooi, gelukkig en gezond nieuwjaar. Dat het mag worden wat jullie ervan verwachten! https://t.co/p3iGvuxpAi\\n', 'RT @HansJMelissen: Dat #vuurwerkverbod komt zeker tegelijk met het vaccin? #utrecht\\n', 'RT @ArendvanDelft: Wanneer zullen de politici zich hiervoor moeten verantwoorden? https://t.co/cqRkPPijld\\n', 'Ondanks de ellende door het coronavis viert Den Haag het jaar 2020 luidruchtig en massaal uit. \\\\nIs burgemeester Jan van Zanen uit het zelfde hout gesneden als oud burgemeester Krikke? \\\\nhttps://t.co/rRPLgmbOox\\n', 'Ik wens iedereen alvast een gezond en gelukkig 2021 toe. Dat volgend jaar voor veel mensen en bedrijven een beter en gezonder jaar mag worden! \\\\n\\\\n#PVV #Wilders #oudjaarsdag #Gezond2021 #Nieuwjaar https://t.co/2ZyHNg8kqd\\n', 'RT @AndySimba1: Ik “happy new year ❤️” mezelf straks terug in haar leven\\n', 'Ik las eind november iets heel naars op Facebook, ben er nog steeds ondersteboven van.😔\\\\nEen kennis van vroeger, die voelde zich niet lekker haar HA dacht een longontsteking, dus ze werd op genomen in het ziekenhuis, ze kreeg een onderzoek, op maandag was er een uitslag.\\n', '@Esther_Voet Dank! Ook jou wens ik een voorspoedig en gelukkig 2021 toe, Esther. Ga zo door op Twitter.\\n', 'deze guy is locked up hierzo hij kan niet terug gaan door avondklok BAHAHAHAHAHHAAHAHHAHAHAHAHAHHAHAHAAH\\n', 'Voormalig dorpshuis in Garderen verwoest door grote brand https://t.co/JUQRU3joEo https://t.co/ucLGgOShgz\\n', 'Greenkeeper - Werken in de buitenlucht? Werken op de mooiste golfbanen van de regio? Lees dan snel verder! #Voorhout #vacature https://t.co/a3pVJPARXN #Groenvoorziening #medewerker\\n', '#Amersfoort [1037] #Wonen, #Huren, #Verhuur #Makelaars,Te #Huur, #Huis, #Huizen, #Woning. Alles bij elkaar op een website. https://t.co/mVvaX6j9Al\\n', '@ContainmentNu Gelukkig een sponsje! Heb me voor de tweede keer laten testen; de eerste keer op een stoel met iemand die zorgvuldig was, niets van gevoeld. Nu bij een autostraat  ,met iemand schuin voor de open ruit: veel ruwer,heel pijnlijk en nu twee blauwe plekken onder mijn ogen\\n', 'Kheb zoveel mooie outfits die ik ni heb kunne dragen door corona 🥺\\n', 'Ik ben een persoon die nog steeds kan genieten van Habbo, maar de manier hoe ze nu omgaan met de community is pijnlijk. Gekke dingen toevoegen (zonder een goede reden) om meer te cashen. Sinds de lockdown kwam ik weer terug en they fucked up. #SaveHabbo voor mijn childhood.\\n', 'Hartverscheurend en indringend bericht van ziekenhuisbestuurder Mirjam van ‘t Veld. Schreeuwt om een reactie uit Den Haag, toch? https://t.co/MIsuFloYIE\\n', 'Nederland eindigt 2020 met woningnood, record aantallen daklozen, een ondermijnde rechtsstaat, 1 miljoen mensen in armoede en meer doden dan in enig jaar sinds WWII.\\\\n\\\\nEn 0,0 corona vaccinaties.\\\\n\\\\nDe verantwoordelijke premier koerst af op een verkiezingsoverwinning. \\\\n\\\\nMooi land.\\n', '@veldman_ina Goedemorgen in 2021 lieve Ina.\\\\nDank je wel,en ik wens jou ook een mooi,gelukkig, en heel gezond nieuwjaar toe❤️ https://t.co/trsKUZf8v2\\n', '@ajhmfhendriks @Voetbalisgeloo1 Ik heb al Corona gehad, net als veel familieleden. Weet van 4 ziekenhuisopnames, alle in de risicogroep. Weet van 2 overlijdens, beide 90-plus. Weet van kleine ondernemers die de wanhoop nabij zijn. Zie mijn kids zich doodvervelen zonder soc. leven, zie ouderen eenzaam+bang zijn.\\n', '@geertwilderspvv Dank u wel en ook voor u en uw vrouw een goed 2021! En dat u het kabinet maar scherp mag blijven houden!#Coronabeleid\\n', 'En de Tweede Kamer is helemaal leeg want er was geen meerderheid voor mijn verzoek deze week te debatteren over #Corona. \\\\n\\\\nPas volgende week komt de Kamer hiervoor terug van reces, want ze vinden reces belangrijker dan werken.\\\\n\\\\n#schandalig\\\\n\\\\nhttps://t.co/3uSseFGsv4 via @telegraaf\\n', '@peterteriele Het was, begreep ik, eigenlijk een try-out voor 30 personen. Vlak hierna begon de lockdowns waardoor er helemaal geen publiek aanwezig is. Ik vond dit wel een begrijpelijke keuze.\\n', 'Blij dat 2020 over is, het jaar dat ik mijn schoonvader en kat in een week heb moeten afgeven, dat ik 12 weken niet kon werken en het jaar dat ik mensen schijt aan elkaar heb zien hebben. \\\\nHopelijk weer snel net oude normaal in 2021\\n', '@Zlajan Gelukkig nieuwjaar Jan. Onze regering is inmiddels zo ongeloofwaardig dat niemand denk ik vertrouwen heeft in een degelijk aanpak. Ik vind dat ze maandenlang verkeerd handelen en de burger steeds de schuld geven. Ook in jouw vraag zullen ze hetzelfde doen.\\n', 'Dat jullie in 2021 allemaal een spuitje mogen krijgen. https://t.co/oHWVkgho78\\n', '2021, een jaar vol mogelijkheden is van start gegaan. \\\\nVoor nu wens ik iedereen een positief en gelukkig nieuwjaar 🥂\\n', '@HansdeBoer18 @dartagnanneke \"Er is ook het risico van vals-positieve resultaten. Hoe meer mensen uit niet-risicogebieden worden getest, hoe hoger het percentage zou zijn.”\\\\n#coronafascisme #vaccindwang #HugodeJonge #Spoedwet #TotalControl\\\\nhttps://t.co/hwwTEm0CIP\\n', 'RT @flowindey: gelukkig nieuwjaar ✨ ik hoop dat 2021 het jaar wordt waar we elkaar weer kunnen vastpakken en we weer samen kunnen dansen ✨\\n', '@LaurentFranckx Zou het niet durven (gezagsgetrouw tot en met) maar heb stiekem bewondering voor die bad asses die even op straat komen en wat pijlen afvuren. Als dit hun manier is om die totaal onwettelijke en wellicht nutteloze avondklok aan de kaak te stellen: you got my (silent) support :-)\\n', \"20-tal auto's en hoop stadsmeubilair in brand\\\\ngestoken in Brussel, 3 lockdownfeestjes stilgelegd in Antwerpen https://t.co/N3ECk2ZWPA\\n\", '@LadyDJane_ Wat je zegt inderdaad. Ik voel me het minst alleen als ik het alleen vier. Je mist de rest en dat is beter van \"mijn\" gemoed. Gelukkig Nieuwjaar. https://t.co/HjwdZTza5L\\n', '@peterwesthof @CrouchingHidden Jij hebt blijkbaar geen enkel idee wat er zich op dit moment in de wetenschappelijke en behandelwereld afspeelt. Als je dat wel had, zou je je haren uit je hoofd trekken dat je je niet eerder ingelezen hebt. 83% sterfte-reductie en halvering ziekenhuisduur\\\\nhttps://t.co/1P20FE0Vkr\\n', 'Brekend: PCR test mag niet afgedwongen worden aan Nederlanders in het buitenland. Lees het vonnis op https://t.co/jGxKGQSX6J #pcrtest https://t.co/Vsr2KpW3US\\n', 'RT @Rijkswaterstaat: We wensen iedereen veel #geluk voor 2021! 🍀 #GelukkigNieuwjaar https://t.co/OXYzYXBd1g\\n', 'Dromen.: Dromen. &amp;nbsp; Waren dromen maar waar of is dat raar om te zeggen ? Want niet alle dromen Zijn zo leuk of geest verrijkend. Ze blijven je achter volgen niet a https://t.co/suZ5MLx1cj #citataen #citaat #levensverhalen https://t.co/3GprY1sJiQ\\n', '@JeroenGKuper @chrisklomp Ben zo blij dat ik mijn mening heb uitgesteld hierover haha.\\n', '@hommel_b @MarcelFVerweij @trouw Het Koninkrijk der Nederlanden in de Tweede Wereldoorlog in PdF’s\\\\nDe jodenvervolging Deel 6 1eband, blader eens door de PdF en lees hoe sluipenderwijs de joodse bevolking werd geïsoleerd. De geschiedenis herhaalt zich. #Corona\\\\n\\\\nhttps://t.co/d3nzmBwheB\\\\n\\\\nhttps://t.co/8sqL3uu2Xd\\n', \"Gaaf om zo'n #stappenplan eens uitgelegd te krijgen, zeker als je er, net als ik, helemaal geen verstand van hebt. #Covid_19 #vaccination\\n\", 'Goed gereedschap is het halve werk. Dat hoef ik jou als #Storingsmonteur niet uit te leggen. Gelukkig is dat bij Ardagh goed geregeld, dat is lekker werken. Er is een #vacature vrij bij de TD.\\\\n\\\\nInteresse? Neem een kijkje achter de schermen! \\\\nhttps://t.co/Nzv4W08OS2 https://t.co/VTaQTLr0aa\\n', 'Gelukkig nieuwjaar! Ik wens iedereen het allerbeste toe: groente, fruit, kruiden en bloemen allemaal biologisch geteeld, rechtstreeks van de boer of uit eigen SMULTUIN. Heb je hulp nodig, dan weet je mij te vinden https://t.co/Iq3AG4pjLX https://t.co/tZkTGFlMHD\\n', 'Druk op kabinet neemt toe: ’Eerder vaccineren zorgpersoneel mogelijk’ https://t.co/6nMgqp6nr4 via @telegraaf  #snaptuhetnog ?\\n', 'RT @Jokevdervloedt: Stop met te Wenen over Corona als je constant naar lockdown feestjes gaat cuz you are part of the problem hun x\\n', '@Sandoka04120321 @BiancaLesman @telegraaf Dit moet stoppen!\\\\n\\\\n#GERRITSEN🗽 #PvdKB #TK2021🇳🇱 SAMEN STERK 👊\\\\n\\\\n#jeugdzorg #jeugdbescherming #school #onderwijs #rechtstaat\\\\n#ouders #kinderen #onrecht \\\\n#kindermishandeling #kindermisbruik #revolutie \\\\n#corona #covid #lockdown #mondkapjes #verkiezingen @PvdKB_ #neurenberg #rechten https://t.co/VfjAOP7tb9\\n', '@MarionKoopmans Ander belangrijk feit is dat het PCR protocol waarmee wij in Nederland 90% van de PCR-tests uitvoeren 10 grote fouten bevat.  Beginnersfouten die iedere specialist direct opmerkt.\\\\n\\\\nHet protocol is niet geschikt voor betrouwbare SARSCoV2 detectie.\\\\n\\\\nZie https://t.co/NwUksRct1v\\n', '@patriesje1973 @_dreumes Mijn kater was er ook blij mee!\\n', '@MCollignon Hij is nu 25 en gaat nog steeds goed. Gelukkig kan ik elke week op hem rijden, want hij wordt wel minder in gezet.\\n', '@RolandPierik @hugodejonge En daar is dus al die discussie over. Mondkapjes wel/niet, wie wel, wie niet, medisch/niet-medisch. Afstand houden, aerosolen, ventileren. Kerk en Ikea vs het sportveld. Scholen open, scholen dicht, etc, etc. Die regels zijn juist niet allemaal even voorstelbaar cq logisch.\\n', 'Ik blijf het gewoon vragen tot ik antwoord krijg. Wat doen we met de examenklassen vanaf maandag. Nemen jullie het risico en moeten die alsnog naar school, wat in mijn ogen echt niet kan.\\\\n#scholendicht \\\\n@SDicht \\\\n#coronavirus \\\\n#coronamaatregelen \\\\n@arieslob \\\\n@MinPres \\\\n@hugodejonge\\n', '2020 was een zwaar jaar, maar de veerkracht van Nederlanders is enorm. Met het vaccin wordt 2021 een jaar van hoop en van licht aan het einde van de tunnel. Maak er ondanks de beperkingen een mooie en veilige jaarwisseling van. Ik wens jullie allemaal een goed en gezond 2021. https://t.co/GAHGgdQxCH\\n', 'Gezond verstand, avondklok en samen, weet je wel...? ☑️ https://t.co/KWlpJTJH2J\\n', '@waneijs 2het is een raar virus maar de mensen die er mee jn contact komen zijn niet besmet en dat is heel raar. En daarom weegt het niet op tegen het maatschappelijke en economische  leed wat er aangericht wordt. Mondkapjes en lock down werkt ook niet opengooien die boel\\n', '@BartSomers Ga eens op stap met de politie om het resultaat van inburgering?Gezinshereniging, migratie aan den lijven te ondervinden dan ga jehet gewone volk begrijpen waarom we er genoeg van hebben!\\n', 'We gaan een wat koudere periode tegemoet en dan zou je dus ivm #Covid19 de luchtvochtigheid extra in de gaten moeten houden, met name in verzorgingstehuizen. Gebeurt dat ook, of zijn we alleen nog maar bezig met de nogal arbitraire gedragsregeltjes van Hugo, Ferd en Mark?\\n', 'Lees \"Ethiopische troepen doodden 76 mensen bij rellen na moord op protestzanger\" op Nieuwsblik - https://t.co/0nuXrMY3Lf - Ethiopische ordetroepen hebben in vier dagen zeker 76 mensen gedood bij het etnische geweld dat in de zomer uitbrak na de dood van een...\\n', 'Haha. Totdat het thuiswerken wordt opgeheven en je weer wordt opgehokt. En zie dan nog maar weer eens terug de Randstad in te komen. Het OV is in de randgebieden immers overal afgeknepen. En de huizenmarkt zit op slot. Dat wordt nog leuk straks.\\n', 'ethischer, beter voor die zielige aorta van je, etc. Ja, je kan B12 tekort krijgen en daar zijn dan pilletjes voor, maar over het algemeen ben ik me alleen maar gezonder gaan voelen. Het is ook chill om geen schuldgevoel meer te hebben tijdens het avondeten etc. want uiteindelijk\\n', 'Brekend: PCR test mag niet afgedwongen worden aan Nederlanders in het buitenland. Lees het vonnis op https://t.co/jGxKGQSX6J #pcrtest https://t.co/Vsr2KpW3US\\n', '@WyriHaximus @jflamman Er is een reden dat die lockdown nu nog drie weken duurt...\\n', 'Bv: het afdwingen van invorderen van mondkapjes bij minister Bruins vlak voordat hij omviel. Leidde tot minder handel en tegenzin om aan Nederland te leveren. Invorderen moet je alleen doen als een product al hier is en de ander het weigert te leveren. Nog beter is: zelf maken.\\n', 'Dit is toch wel het moment om Noord-Korea eens de credits te geven die het verdient. Nul coronabesmettingen nog steeds. Wat een land!  https://t.co/ge00rdqBPs\\n', 'Mn mama, 82, was n briljante coupeuse. Fam.wist haar te vinden. Ontelbaar veel trouw/doopjurken etc heeft ze gemaakt! Ze had 11 broers+zussen, 42 zwagers+schoonzussen en 78 neven+nichten. Opeens kan niemand haar vinden? #ikvinddaarwatvan\\\\n😥 #dementie #eenzaam https://t.co/9Ae1nI3osy\\n', 'Heb je het bont gemaakt tijdens de feestdagen? Om het af te leren vind je op ons Raamwerk de zeven hoofdzonden verbeeld door videokunstenaar Han Hoogerbrugge. Het werk ‘Masks of Folly’ (2020) is ook tijdens lockdown te zien bij het Nicolaaskerkhof. We wensen je een goed 2021!\\u2060 https://t.co/bSuhYhA7xN\\n', '@AmberMeijlink Wat ben jij een onwijs ondankbaar rotmens. Dit is allemaal lief en goed bedoeld, en je reactie is echt super zuur. Ik hoop dat je in je privéleven niet zo bent, want dan moet je wel heel erg eenzaam zijn. Jammer van deze klote reactie van je.\\n', 'Waartoe het eigen immuunsysteem in staat is en wat vaccinaties beogen.\\\\n\\\\nJan legt het even simpel voor ons uit.\\n', 'Ik als niet-vuurwerk liefhebber ben nog nooit zo blij geweest met het #vuurwerk. Dat betekent dat Nederlanders nog toch wat verzet in zich hebben. Ik wens iedereen een vrij 2021 toe. Hou je rug recht en vier het leven. ✨\\n', 'Goed begin van het nieuwe jaar. Migraine, hormonen en heftige paniekaanval. Gelukkig heeft dochterlief mij er door heen geholpen. Ik haat paniek aanvallen!!! 😤😤😤\\n', '@rvdwalle We zijn een jaar verder.\\\\nWaarom denk je dat we nu WEL gaan testen?\\\\n#naief\\n', 'RT @somsrijstmelk: Hoezo zie ik mensen trots hun lockdown feestjes op hun story plaatsen? Nul schaamte gewoon\\n', '@MrJannenman Ohhh gelukkig ! Ik vind die laatste 20 nummers ook altijd ruk\\n', 'Ik wens al mijn volgers een gelukkig en gezond 2021. Laten we hopen dat 2021 een beter jaar gaat zijn, dan 2020. Veel liefde, wijsheid en gelukkig toegewenst. 🙏\\n', '@rvdwalle Zijn er dan nog altijd geen scholen geselecteerd waar er regelmatig getest wordt, om eindelijk eens inzicht te krijgen in de evolutie van het virus binnen de schoolpoort? We benutten nu toch amper 1/3 van de beloofde testcapaciteit?\\n', '@hanegem10van Lieve Alies ik wens je zoveel, maar uiteindelijk hoop ik het meest dat je weer geluk gaat voelen. ❤️😘\\n', 'Okt 2018: Huisarts vd Linde liet zich vroeger inenten, maar tegenwoordig niet meer. \"Vroeger liep ik achter het verkeerde vaandel aan\", vertel hij. Er ligt veel marketing aan t 💉 ten grondslag en is de werking niet bewezen. \\\\n\\\\nHugo is t er niet mee eens\\\\n\\\\nhttps://t.co/AqfXbPXZbe\\n', 'Beste @Het_OM en @Politie kunnen jullie deze individuen een nieuw huis in 2021 geven? Lijkt mij een kleine geste kijkend naar de genoemde bedreigingen naar onze MP. Dank!! https://t.co/Jgrr4O3qRz\\n', \"1 van onze jongens z'n meisje ligt langere tijd in het ziekenhuis. Zij hebben het nodige meegemaakt.\\\\nOp deze manier steunden we hun gisteren avond.\\\\nNogmaals: heel veel sterkte, ook aan familie en naasten!\\\\n\\\\nFullvid:\\\\n\\\\nhttps://t.co/d767GCrgW8\\\\n\\\\n#fcutrechtismeerdanvoetbal #fcutrecht https://t.co/42nh07Dq6V\\n\", '@Denniskuhh Wat heb ik toch een geluk dat ik hem niet heb geliked\\n', 'COVID-19 geeft veel (ongekozen) bestuurders met macht de ruimte om een al langer gewenste agenda er door te duwen door te proberen uitzonderingen permanent te maken. Je ziet het steeds meer. Onverstandig, het ondermijnt de legitimiteit van het crisisbeleid.\\n', 'Terugkijken: het inleidend statement van de wekelijkse persconferentie van premier Rutte na de #ministerraad. Over de laatste stand van zaken rond de aanpak van de coronacrisis. https://t.co/3o3xd5Qf04\\n', '\"In Frankrijk stijgt de kritiek op trage vaccin-verdeling\". Ik zou zeggen: ipv dat licht gescandaliseerd te brengen, meneer, mevrouw journalist, vraag u liever af waarom die kritiek in onze media amper te horen is. Het betekent, dat er iets niet goed werkt.\\n', 'Het wordt moeilijk om op korte termijn een nog grotere hoeveelheid nieuwe vaccins van Pfizer/BioNTech te produceren. Dat zegt BioNTech-topman Ugur Sahin in een interview met het Duitse weekblad Der Spiegel.\\\\nhttps://t.co/5vp8hifTzw\\n', 'ethischer, beter voor die zielige aorta van je, etc. Ja, je kan B12 tekort krijgen en daar zijn dan pilletjes voor, maar over het algemeen ben ik me alleen maar gezonder gaan voelen. Het is ook chill om geen schuldgevoel meer te hebben tijdens het avondeten etc. want uiteindelijk\\n', '@Calvincritical @WiZZiEJP @ADnl Wereldwijd 1,3 miljoen verkeersdoden volgens WHO. De auto is een grotere geluid, stank, en luchtvervuiler dan vuurwerk.\\n', '@MenrBen @keddilien Gelukkig hebben we de 1,5 mtr regel nog wel even 😶\\n', 'RT @3Groter: 2021: Nederland terugpakken (2) 🇳🇱\\\\n\\\\n“Dit land is van #ONS en #WIJ pakken het terug.” 👇\\\\n\\\\nhttps://t.co/ECfc3z2z9n\\\\n.\\n', '@telegraaf Knap dat ze voor die varkenskop een mondkapje hebben\\n', 'En daar is-ie dan, de allerlaatste tekening van de Top 2000... ik vond het erg leuk om te doen, en bedankt voor alle leuke reacties! Een gelukkig 2021 gewenst, en ik hoop jullie allemaal weer te zien tijdens de volgende Top! https://t.co/DN2ElHjTOJ\\n', 'RT @tuku45: euhm mijn crush heeft mij ni gestuurd haha🙂 https://t.co/yC1GUWSXTp\\n', 'RT @KyIian_7: Ook al gaat er niks veranderen ik ben gewoon blij dat het geen 2020 meer gaat zijn\\n', '\"#Vuurwerkverbod\" en wel de hele nacht je kat kwijt zijn. Gelukkig hebben ze volgens mij weinig geheugen.\\n', 'WAT EEN ECHT GEWELDIG PROGRAMMA IS #MATTHIJSDRAAITDOOR !! Ik heb het niet droog gehouden... :-) Blij dat Matthijs terug is met zo een fantastisch uniek format.\\n', 'RT @kalahiri: Onderzoek: De Britse variant van het virus is 1,74 keer besmettelijker dan wat we gewend zijn. https://t.co/SEFiyryldc\\n', 'Vandaag was ik op EenVandaag waar ik mijn ervaring deelde over eenzaamheid onder jongeren tijdens corona. Enorm belangrijk dat ook hier aandacht voor is! https://t.co/aNgCasQ4Cd\\n', '@drschwamy @rivm Waarom vraag je het hem niet zelf?\\n', 'Wakker worden Nederland! #Gommers #kuipers #vaccinatiestrategie #vaccination #Corona #denkgroot @nrc\\n', 'RT @Gerritsen_Dan: #Nieuwjaar 2021#Vuurwerk #Vrijheid🛑#lockdown🛑#GERRITSEN🗽 #TK2021🇳🇱 https://t.co/LdUYz1qXRq\\n', 'Nieuwjaar in mineur...\\\\nOnze schoonzoon testte zonet positief op Covid.\\\\nWerkt in de WZC  waarin vorige week een uitbraak begon...\\\\nMijn zoon start maandag op een Covidafdeling...\\\\nWelke mensen laten de maatschappij nu alweer draaien?\\\\nWelke mensen lappen de regels aan hun aars?\\n', 'Dat gevoel heb ik ook, en niet alleen op het gebied van #vuurwerk Trots is verdwenen voor schaamte. #afvoerputjevaneuropa\\n', 'Van Dissel lijkt heel veel moeite te hebben met het begrip voortschrijdend inzicht. Daar zit de kern van de problematiek van de #Covid19 aanpak in Nederland. Rutte vaart blind op zijn adviezen en de media volgen bijna kritiekloos. Maar er komt een omslag.\\\\nhttps://t.co/O0IgPHvNCr https://t.co/zlNzOm8n6O\\n', 'KoWiWeerHut Schiedam\\\\n17h | Actueel weer\\\\n\\\\nWind: 0.8 m/s ZW\\\\nWindvlaag: 1.0 m/s\\\\nTemperatuur: 5.3 °C\\\\nRel. vochtigheid: 91 %\\\\nLuchtdruk: 1008.8 mbar\\\\nRegen: 1.5 mm\\\\nZon-instraling: 0 W/m²\\\\nUV index: 0 \\\\n\\\\nhttps://t.co/0m9uwayZA4\\\\n#Weathercloud\\n', \"@tvdh_3 @cafeweltschmerz Ik maakte een keer een 'serieuze' grap met een collega haar te vragen: wat was er eerder, het virus of het vaccin? Inmiddels ben ik min of meer gaan geloven dat het laatste er het eerste was 😷🤒🤧💉\\n\", 'Oud en nieuw in Wuhan...\\\\nHet punt van lockdowns is dat het overal op de wereld moet worden toegepast... anders werkt het niet!\\\\n(Het werkt zoizo niet tegen virussen, het werkt wel als je het MKB wil slopen) https://t.co/2xpN7O0MaG\\n', '\"Mijn processtukken zijn zorgvuldig onderbouwd en gedocumenteerd. Daar staat geen onzin in.\"\\\\n\\\\nEr stond bijvoorbeeld in dat er maar een handvol \"echte\" COVID-doden waren omdat de anderen allerlei voorheen bestaande condities hebben zoals overgewicht, diabetes, enz., ...\\n', '...iemand net een paar uur of dag oid ervoor gevaccineerd is. Het zou pas vreemd zijn als dat niet zo is.\\\\n\\\\nNatuurlijk moet worden gekeken wat de oorzaak is. Maar de kans is extreem groot dat het niet aan het al op veiligheid getestte vaccin ligt.\\n', 'VVS Van de voorzitter \"Nieuwjaarstoespraak 2021\": Het bestuur van v.v. Sliedrecht wenst iedereen een gelukkig, gezond, coronaloos en sportief 2021 toe! In de onderstaande video de Nieuwjaarstoespraak van voorzitter Kees Verhoef. https://t.co/vXtqIh2Fgx https://t.co/33oJx5IGMp\\n', '@JolantaSandor Wat enorm lief dat je dat zegt! Dat maakt mij blij. Thnx mop 😘\\n', '#Levensgevaarlijk zei de angsthaas, vluchtte zijn hol in en stierf veel jonger dan de geluksvogel door gebrek aan zonlicht en frisse lucht, maar vooral uit eenzaamheid.\\\\n\\\\nOké, ik ben geen poëet...\\n', 'Vandaag is  #CovidMemorialDay\\\\nIn NL tot op de dag van vandaag geen officiële herdenking voor de duizenden onnodige Covid-doden.\\\\nDaarom laat  @ContainmentNu op dit moment 15.000 kaarsjes branden in Amsterdam! https://t.co/UTPPKFNtMQ\\n', '@MinPres Het licht hebben we zelf! In ons!\\\\nWeet je hoe een ‘A-symptomatisch’ persoon ook genoemd wordt Mark?\\\\nEen gezond persoon met een sterk immuunsysteem!\\n', '@Kletskous @edwinrbrugman @PieterOmtzigt @RenskeLeijten Idem voor ongecontracteerde zorg en vrije artsenkeuze. Nederland wordt steeds meer een dictatuur waarin allerlei diensten samenwerken om iedereen eronder te krijgen.\\n', \"Bijgekomen van 15 uur dienst met de ME. Collega's gewond, politievoertuigen vernield, auto's in brand, straatmeubilair vernield, grote groepen die zich keerde tegen de politie met goien van stenen, vuurwerk en flessen. Het was GÉÉN rustige nacht! Happy new year\\n\", '@Gerritsen_Dan @Breakingnieuws1 Niet https://t.co/fSRaL3UJqr en in triest.🤬\\n', 'Een citaat van de Duitse dichter Rainer Maria Rilke als afscheid van het gruweljaar 2020. \\\\n“Dit vind ik de meest hoogstaande taak van een verbintenis tussen twee mensen: dat elk op wacht staat bij de eenzaamheid van de ander.”\\\\n\\\\nLees meer: https://t.co/BbJ0Sl9pn5 © Apache\\n', \"@DeRaeStefaan @elisabethelodi Hoi Stefaan. Ik begrijp je, maar je moet ook denken aan je eigen geluk en dit openstellen voor iedereen. Maar zo'n 'tocht' neemt tijd. Ik wens je in ieder het allerbeste toe. 😊\\n\", 'Okay ik heb een buddy nodig om te bellen, ik voel mij pokke eenzaam heelder dagen alleen studeren..\\n', 'İk ben echt blij dat nusr et en czn burak ons representen\\n', 'Een goede draad over Gerben van de Corput, advocaat van Viruswaanzin frontmannen Willem Engel en Jeroen Pols. Ook advocaat voor papa (fort Oranje) Engel. Mijn conclusie: een onwaardig lid van het nobile officium. https://t.co/AnDJqDbVz3\\n', 'Telkens als ik mensen om mij heen hoor zeggen dat ze blij zijn dat het vaccin er binnenkort is en dat we daarna weer naar normaal kunnen, wordt mijn angst groter. Steeds groter\\\\nDatzelfde geldt voor al die mensen met mondkapjes.\\\\nZe denken beschermd te zijn of anderen te beschermen\\n', 'Inmiddels mogen wij gewoon weer ons eigen land in zonder PCR test en staat de test ook onder druk. Maar wat doet een nationaal coördinator terrorisme bestrijding in de rechtszaal? Voor burgers die een legitieme rechtszaak voeren en winnen? #nctb @vrijensociaal\\n', 'Waarom juist nú een #januarivlindermaand?! 🦋 🦋 🦋 \\\\n\\\\nOmdat het slecht met veel soorten (dag)vlinders gaat. \\\\nEn ook JIJ daar iets aan kunt doen, in eigen tuin/balkon! \\\\nDoor de JUISTE waard- en nectarplanten neer te zetten. \\\\nDenk daar nú over na.\\\\nMeer info: https://t.co/r582GJxfKJ\\n', 'RT @AtlasLO: RIVM: dit jaar twee derde minder fijnstof door vuurwerk - https://t.co/1fCpNFYasV\\n', '@GroenLiesbeth @charlottekoster Sorry, onder wel steen heeft u gelegen? Een vaccin niet getest, onzeker over de resultaten en geen inzicht wat de consequenties zijn op de langere termijn. https://t.co/XXxSJsf4DO\\n', 'Voor wie denkt dat overlijden het enige gevolg van #Corona is.\\\\nDe UK telt ruim 40.000 doden, maar naar schatting 200.00 - 500.000 #longhauler . Mensen die na Corona niet meer herstellen en arbeidsongeschikt blijven. #COVID19 \\\\nhttps://t.co/B6O5op2xTO\\n', 'Ik vind Johan echt een positief mens. Beste gezin. Altijd blij.  #eenhuisvol\\n', 'ja ik neem aan dat die eerste in quarantaine ook moet want dat zijn zusjes???? d’r is iemand positief getest dus ze zoeken mensen https://t.co/ppr7SA8W3U\\n', 'RT @JansensAdriaan: Vrouw gearresteerd wegens filmen in leeg ziekenhuis https://t.co/Yffz3XTrVq\\n', '@blondvosje @PostcodeLoterij @TonyChocolonely Ik denk weinig kans... maar met t geld dat ik nu overhoudt koop ik er zelf wel 1 iedere maand. 🌹🏵🌸🌷\\n', '@filter_miss Jaaa morgen lekker niks doen, zondag thuis werken, maandag vrij en dan drie dagen werken en dan weer 4 dagen vrij 🤩\\n', 'Ik spring eerst even vooruit naar deze zin:\\\\n\"Van de Corput heeft niets met de complottheorieën waarmee Viruswaarheid vaak wordt vereenzelvigd.\"\\\\n\\\\nWe zullen op het eind van het draadje de balans opmaken of Van de Corput zelf ook een complotwappie is of niet.\\n', 'Ik ben natuurlijk geen fan van de Virologie, maar ik kan me moeilijk voorstellen dat er virologen zijn die op één of andere manier de huidige vaccinatiestrategie de juiste vinden. Een draadje.\\n', '@mohamedouaamari Liefst verlengt men de kerstvakantie inderdaad. Want nu is het winter, dus meer kans op besmetting. Desnoods kan men 1 maand sluiten en dan de zomervakantie halveren. Maar is schoolsluiting nodig? Is het niet eerder belangrijk die verplichte quarantaine te handhaven? En thuiswerk\\n', 'RT @IvanVandeCloot: Oversterfte 2020: https://t.co/0Z8PuB6p2E\\n', 'Raar vinden dat mensen , mensen dingen doen is hetzelfde als raar opkijken wanneer honden blaffen of met hun staart kwispelen. Of het gek vinden dat muggen zoomen en prikken .  Thats kind of wat they do aint it?\\n', '(draadje) Begin dit voorjaar leek het kabinet, hoewel aan de late kant, nog aardig adequaat aan de slag te gaan met de corona-crisis. Mark en Hugo legden het in hun persconferentie, met gebarentolk, goed en duidelijk uit voor een groot deel van de Nederlanders. Er was begrip.\\n', 'Op de schaal van waardevolle burgers staan zorgmedewerkers aan het ene eind en de krijsers van dansvereniging viruswappie aan het andere uiteinde\\n', 'Die jumbo reclame met dansende Frank Lammers maakt me echt blij\\n', 'Nou mijn kans bij Max Verstappen is ook verkeken.. gewoon weer eenzaam en alleen 2021 in 🥂👋🏼\\n', '@arieslob Beste Arie...je bent er toch ook voor ons als docenten? ONZE man? Hoe kun je dit nou over je kant laten gaan?...examenleerlingen, Maandag? Lockdown wordt tenietgedaan, ongelooflijk dom dit.\\n', '@CouckeMarc @StopDarmkanker @SOPHiAGENETICS 🤞🤞🤞in 2020 van nabij meegemaakt. Detectie bij mijn zus via het darmonderzoek vanaf 50. Gelukkig enkel een operatie en geen nabehandeling. Dit onderzoek REDT LEVENS!!\\n', 'Winst voor Jeroen Pols. De Staat mag geen verplichte PCR-test afdwingen en/of als voorwaarde stellen om terug te reizen naar Nederland. Ook wordt erkend dat een PCR-test geen diagnose middel is (!). Geweldig nieuws. Hier een stukje uit het vonnis:\\n', 'Als de capaciteit in de zorg het probleem blijkt te zijn. \\\\n\\\\nEn er wordt een kant en klaar Covid-19 schip aangeboden met 450 bedden inclusief zorgpersoneel. \\\\n\\\\nWaarom grijpt @MinVWS deze optie dan niet met beide handen aan? #FVD @BrautigamRoland\\\\nhttps://t.co/RYgH6zLk2p\\n', '@sjonniedeluxe @thierrybaudet Je kunt ook gewoon je verstand gebruiken. Als er een clausaal verband is moeten we daar niet voor weg kijken. Wat als de eerste lading (prik) je juist verzwakt waardoor je de kans juist vergroot het op te lopen? Het is tenslotte één groot experiment.\\n', '@stokkink @HDDuurvoort @andrewinkes @GemeenteDenHaag @POL_DenHaag Gewoon handhaven op de regels. Zodra er gaan afstand wordt gehouden: leegvegen. Punt. We zitten midden in een crisis. Wat is hier ingewikkeld aan?\\n', 'Er zijn gelukkig ook zeker Turkse (en anderen) Nederlanders die wel zelf kunnen en durven (!!!) na te denken.\\n', '@JDSchoolmeester Hangt af hoever mensen down the rabbit hole zijn. Er is een punt waarop informatie aanreiken meer kwaad doet dan goed. Het gaat dan wel over een kleine groep.\\\\n\\\\nVoor zover ik weet is de beste manier in groot detail uitleggen wat de gevolgen zijn van niet-vaccinatie voor dierbaren.\\n', 'GVD!!\\\\nDuss...ionisatie blijkt te helpen. Hebben ze in China in ziekenhuizen gebruikt. Onze regering en de RIVM hebben hier niets mee gedaan en RIVM ontkent dit zelfs. Maar er staan wel 55 ionisatie apparaten in de Tweede Kamer! \\\\nWat een ontiegelijke schoften!\\\\nDELEN MENSEN!\\n', '@VanMetje Heel. Erg. Ik heb me zelden zo verdrietig en alleen gevoeld. Wilde keihard schreeuwen tijdens de dienst. Maar dat toch maar niet gedaan. Maar het was hemeltergend.\\n', '1/ Ik krijg best wat vragen over twee nieuwe varianten van het #coronavirus die rondgaan. Daarom een draadje vol met vragen en antwoorden erover, in begrijpelijke taal.\\\\n\\\\n⬇️⬇️\\n', 'RT @realmikiminach: Eindstand ben ik 2021 wel genuinely happy ingegaan thank God\\n', '@ronweer Haha oh gelukkig! Dan heb ik je verkeerd begrepen\\n', '@dehoogh @Wijkagt_Django Gewoon schaamteloos gedrag,en wat voor punt denken ze hier nu mee te zetten?\\\\nDat ze graag nog langer in lockdown willen?\\n', '@Drklwrs @reageren1 @torfsrik Massaal testen is een oplossing. Als er genoeg werkende sneltests zouden zijn.\\n', '....en weer een dag verloren...we hadden zoveel mensen kunnen vaccineren vandaag!! Gemiste kans....Waarom?????\\n', '@Corry13811762 Dank je wel Corry, ik wens jou een goede gezondheid en heel veel geluk in dit nieuwe jaar, voor nu een fijne nachtrust en slaap lekker😘🌹💕😴💤\\n', 'Haven van Barletta met schepen, 1778 https://t.co/AOKDcMCzFl #rijksmuseum #europeana https://t.co/SeUt2wQrwP\\n', '@Hent20512634 @flowersoul Wat een onzin. Onze aanpak van corona toont net dat we helemaal niet briliant zijn, we denken het alleen maar.\\\\nEn uit het verlies van vrijheden is nog nooit wat goeds gekomen.\\n', '@DanielTuijnman @CIDI_nieuws @_NIW_ @bpschut Hier begon het al: In februari zag v/d Corput zijn kinderen nog gewoon meelopen in de carnavalsoptocht. Breda werd in de dagen en weken daarna een van de brandhaarden. ‘Eerst nam ik de lockdown serieus. We hadden de beelden uit Italië gezien. Ik hield me netjes aan de regeltjes.\\n', \"Dit is de CBS sterftedata. 2020 toont t.o.v. de trend lichte oversterfte in de 80+ groep. Dezelfde 'ondersterfte' als die groep in 2019 had. Netto geen oversterfte maar oude mensen in reservetijd. Sterfte in &lt;65 groep is nooit zo laag geweest.\\\\n\\\\nIs dit een pandemie of vergrijzing? https://t.co/blurD93TXX\\n\", '@groen @kristofcalvo @een @svendeleijer @vanranstmarc Thuiswerk was geen optie?\\n', 'Het is te zot dat veel huisartsen/ziekenhuizen meewerken aan de vaccinatie drift van kabinet Rutte. Er zijn werkende medicijnen en dan is een vaccin aanprijzen gewoon verboden. Medici/zorgpersoneel schenden nu massaal hun eed plus onze mensen en grondrechten! \\\\n#vaccinatieplicht\\n', 'Sinds 9 maart mag je geen hand meer geven. Kort erna was er sprake van scholen sluiten, thuis werken. 10 mnd krijgen kinderen de boodschap mee raak niemand aan. Elke dag, elk uur nieuwsberichten. Elke dag het gesprek in de klas. Een ongelooflijk grote druk op jonge kinderen.\\n', '@JoostNiemoller Is er überhaupt bewijs wie het virus het meest verspreid en hoe het wordt verspreid? Komt dat wel door de minderheid die zich niet aan de regels houdt? Zoals het er nu naar uitziet werken mondkapjes en de 2 weken Lockdown niet.\\n', 'Tweede golf in verpleeghuizen qua officiële sterfte nu dus hoger dan eerste golf. Verzorgen van patiënten met vastgestelde (!) covid-19 besmetting hoeft nog steeds niet met FFP2. En vaccinaties meest kwetsbaren laten ook nog wel even op zich wachten. \\\\n\\\\nGaat super dit. https://t.co/hLuYrvjs1z\\n', 'Dat is niet bekend / niet gemeten in de trial? Het is aannemelijk dat er wel iets van effect is maar er zijn geen data? Er wordt dus een 💉goedgekeurd en in miljoenen mensen gespoten terwijl niet bekend is of het werkt en waarvan geen trialdata zijn. Zeer geruststellend. 🥴 https://t.co/rsGnfR7Uks\\n', \"@keinuki Nee zeggen is zo fijn als het echt mag van jezelf. Lukt me alleen als ik ook écht durf te voelen wat ik wil en duurt soms een paar dagen voor ik het durf. Niet meteen ja zeggen, of ja onder voorbehoud dat ik altijd mag afzeggen helpt enorm daarbij. Wens je veel 'nee' en energie!\\n\", 'Eenzaam is misschien niet het goede woord, ben niet heel verdrietig en kijk juist best wel op tegen weer moeten afspreken met mensen. Voel me gewoon even helemaal gedistantieerd van jullie. Naar gevoel.\\n', '@ginnymooy @AObtweets @CNVOnderwijs @Lerareninactie België deed een complete lockdown, met scholen dicht, terwijl NL slechts een gedeeltelijke deed. Verschil, zie hier... https://t.co/SWvpYuJJmU\\n', \"Corona-Impfzentren: Für Ärzte eine Goldgrube. https://t.co/I7FKiYSZHG via @Politikstube \\\\n\\\\nGeld blijkt een prima smeermiddel om artsen zo ver te krijgen om de 'informend consent' met patiënten te geven... \\\\n\\\\nHet zijn de medische prostituees van de Duitse staat. \\\\n\\\\n#coronavaccin\\n\", '@Rob_hero Als uitzendkracht ziek word v bijwerkingen bedrijf niet aansprakelijk en geen werk meer dus v hun kant wel begrijpelijk. En fabrikanten niet aansprakelijk voor schade EN dwang dmv vaccinatie paspoort laat mij ook twijfelen en nooit anti vax geweest tegendeel\\n', 'Ivermectine blijkt toch zeer effectief tegen #COVID19.\\\\n\\\\n\"WHO-commissioned review of ivermectin trials finds 83% reduction in covid mortality.\"\\\\n\\\\nIk ga er vanuit dat @MinVWS hier nu alsnog serieus naar gaat kijken! #FVD https://t.co/mPMoHdC5ii\\n', 'Los van deze “tastbare” mijlpalen staat er nog één als een paal boven water. 2020 was een bewogen jaar door corona, als gevolg hiervan is de kantoorbaan verhuisd naar Berkenwoude. En je zou na een jaar thuiswerken met z’n allen kunnen beamen dat dat in harmonie is gegaan. 2/3\\n', 'De FDA USA - RIVM Nederland haalt dieren voeding terug uit winkels. Ik voel me nu opgelucht in ieder geval zorgen voor dieren. Dat er mensen sterven aan vaccinatie’, en ernstige bijwerkingen hebben is totaal wat anders.natuurlijk. Evil.\\n', \"@juroem @WybrenvanHaga @MinVWS Dat is de rede dat ze d'r niet naar willen kijken..\\\\nDat vaccin moet en zal, is het niet linksom dan rechtsom, door de strot geduwd worden..\\n\", 'Thierry Baudet en Freek Jansen: ‘Geen oversterfte door corona. Angstberichten regering en media zijn ongegrond’ – De Dagelijkse Standaard https://t.co/J3nbJHwtaV\\n', 'RT @J_van_Roosmalen: Begin maandag met vaccineren ziekenhuispersoneel - https://t.co/Kdv1u2hI2m https://t.co/4PbaBXcPGn\\n', 'Mij nog nooit zo eenzaam gevoeld\\n', 'Deze 2 minuutjes absoluut even kijken.\\\\nHier een belangrijke boodschap.\\\\nDeze doctor neemt zelf niet en geeft het ook niet aan zijn patiënten. https://t.co/Lm2EAZaSp8\\n', \"Zeer ernstig. Uit dit onderzoek blijkt dat de nieuwe 'Britse' mutatie  B.1.1.7 zich niet alleen sneller verspreidt, ook bij sociaal afstand houden, maar dat het zich bovendien meer verspreid bij personen onder de 20. https://t.co/bRkyfhNM93\\n\", '@rocklover59 U kan alleen maar schelden maar argumenteren lukt niet goed blijkbaar.  Ja, 6 miljoen ja.  Bijna 50 % positieve serologische tests.  U mag de werkelijkheid ontkennen zoveel u wel.  En dan schelden maar.  Beschamend is dat.\\n', 'RT @neenofja: WAHAHAHAHAH IK BEN ZO KAOLO EENZAAM. Waarom lach ik hier mee tf\\n', '01-01-‘18, wat een dag https://t.co/JZJXlhcQrP\\n', \"Sommige verzorgenden vd thuiszorg en wijkverpleegkundigen hebben al een pasje gekregen om 's avonds mee over straat te kunnen. Ik waarschuw alvast. #avondklok gaat werkelijkheid worden, vandaar die opgejaagde cijfers. Alles gaat volgen planning. #viezespelletjes\\n\", \"Gewapende #Overval op #Domino's pizza vrijdagavond om 22.00 uur. Waterlandplein #Amsterdam @noord020. 1 Dader donker getint gezet ong 30jr oud. Blauw trainingspak zw mondkapje en #mes. Zo'n #200 euro als buit. #Trainingspak en #geldbedrag in afvalbak aangetroffen. @Politie_Adam. https://t.co/4U40dh4tjX\\n\", '@rammetje_b @Peter198701 @Nexitnexitnexit @CrystalBallCo1 @NOS Ik zou zeggen bekijk het nieuws van 8 a 9 maanden geleden maar terug. En kijk hoe erg het word gemaakt in het nieuws en aan alle tafels in praat programmas. En als het geen killer virus is waarom dan zoveel paniek.\\n', 'Effectief thuiswerken en online vergaderen. Leer slim en effectief werken met Teams, Zoom, Meet en nog veel meer: https://t.co/S5hTA4m0df #boek https://t.co/SwWHRcYxmW\\n', 'Bij Walmart hebbben ze software die mondkapjes in de gaten houdt. Bizar ! #BoycottWalmart\\n', \"RT @silvestertt: Hoezo worden mensen boos op de term 'China virus' maar wordt de term 'Britse variant' wel gebruikt?\\n\", 'RT @NickyMonreau: Het bewijs dat de niet-werkzame #mondkapjes inderdaad niet werken\\\\n🤔🤨\\n', '@Zeemeermin6 @sjaanie123 @Charlot2409 @the_stinging De #WHO kijkt inmiddels mee met breed onderzoek: 83% minder #Covid19 sterfte in randomized control studies met #ivermectin: “WHO-commissioned review of ivermectin trials finds 83% reduction in covid mortality.” https://t.co/KbviZr1Nbb\\n', 'Terwijl het volk in #lockdown thuis zit, vliegt de #elite naar warme, zonnige oorden... zoals Madonna naar Afrika. Mondkapjes niet nodig, met 20 man uiteten. Dansen, muziek maken!\\\\n\\\\nDe elite ziet zich als verheven boven de rest, en laat dat nu openlijk zien!\\n', 'Tekenen ✍️ en RT 🙏🏻🙏🏻!!\\\\n\\\\nhttps://t.co/bA55gXQ6ia\\\\n\\\\n@BestuurNVSHA @NVIC77 \\\\n@AcuteMedicineNL @urgentiegnk @nhgnieuws @DijklanderZh @nvshv @venvnvs @venvn_ambulance @TheBaden @nvzziekenhuizen @noudbuenen @AnneMariedeVri2 @BartenEM \\\\n@Britt_NL @shossontwits @DoenjaHertog @vollebergh\\n', 'INTERESSANT; Terwijl de de RIVM de effectiviteit van ionisatie bagatelliseerde werden 55 ionisatoren in de Tweedekamer geplaatst.\\n', 'Wetenschap 2021 👇\\\\n1.Maskers stoppen geen virussen\\\\n2.Asymptomatic transmission bestaat niet\\\\n3.Gezonde mensen zijn gewoon gezond\\\\n4.Een virus is geen ziekte\\\\n5.Een ziekte is te wijten aan verzwakte immuniteit\\\\n6.Vroegtijdige behandeling voorkomt sterfte\\\\n7.Ivermectine voorkomt Covid19\\n', 'RT @AnthonySc6: #informeer jezelf en anderen over deze #NEPcoronacrisis! https://t.co/c6iJG3bPNV\\n', 'Kinderen lijken besmettelijker te zijn met de Engelse variant.....\\\\n\\\\n“Maar grootouders kunnen hun kleinkinderen wel zien en zelfs KNUFFELEN.”\\\\n\\\\n“Gebruik wel je gezonde verstand”\\\\n\\\\nHier mijn gezonde verstand -&gt; niet doen, houdt afstand en ga al helemaal niet knuffelen(!)\\\\n\\\\n1/2 https://t.co/RiIYYSEBZD\\n', 'RT @Powerboxie: Ophef om anti-vaccinatiepreek Drutense pastoor: ‘Gezonde mensen hebben geen vaccinatie nodig’ https://t.co/TPveh1rkz8\\n', 'Ook den elektriek wordt dit jaar gevaccineerd. 🤔 #injectietarief https://t.co/Hyu378Y8Le\\n', 'Er ligt een covidschip met 500 bedden inclusief personeel klaar. Kabinet wil t niet. Er is een geneesmiddel. Twee zelfs. Kabinet wil t niet. Denk daar in 2021 maar eens goed over na. https://t.co/gGfqoG89oU\\n', 'Ja, ik werk soms in een wit plastic pak, mondkap bril en handschoenen ivm corona. Corona is echt en sucks. Ben alleen niet van plan me te laten volblaffen met een vaccin wat in 8 mnd in elkaar is geflanst. \\\\nMag dat zelf nadenken nog?\\n', '@CarlFoulon @SiQridschollen Je bedoelt een samenzwering van wetenschappers en politici met een desinformatiecampagne om scholen open te houden?\\n', '@Arinkaaaah Ja, en een lot kost 30 euro dan vind ik 10 euro geen prijs. Ik ben van mening dat de prijs op een winnend lot altijd hoger moet zijn dan de aanschafprijs anders heb ik toch het gevoel dat ik blij word gemaakt met een dode mus.\\n', 'Roel Coutinho, voormalig directeur van het RIVM, vindt het “verbijsterend en beschamend” dat Nederland als laatste in de EU begint met vaccineren. “Elke week telt, het gaat om het voorkomen van sterfte en ziekte.” #Nieuwsuur https://t.co/nWg9tMvrfv\\n', 'RT @ionicasmeets: Ha, wij hebben dit jaar 100% van de geplande inentingen gehaald en de Duitsers maar 10%!  #positiefdenken https://t.co/zz…\\n', 'Zeer interessant, hoe een organisatie van longartsen een middel heeft gevonden dat corona helpt voorkomen en behandelen. Van 800 verpleegkundigen die preventief dit middel kregen is niemand ziek geworden. De organisatie wordt weggezet als politiek. Bestaand middel geen commercie.\\n', '#Alkmaar [1312] (TEST)\\\\nComing Up At https://t.co/uwF9iIglAf :\\\\n\\\\n#[NL] TREKVOGELS - KLEINE SCHOOIER\\\\n\\\\n#music by https://t.co/uwF9iIglAf\\n', '@Wegaandiep @huigen2 De val van het kabinet dekt bij lange na de lading niet. Die gasten hebben  praktisch alle coviddoden en meer op hun geweten. Het gevang wacht.\\\\nTerug naar normaal:\\\\n4 behandelmethoden Covid maar liefst! \\\\nhttps://t.co/gR4cut9HAn\\n', '@WilliePeijnenbu Jij had gepubliceerd over pcr... ik kan jou willekeurig wel honderd onderzoeken met een pcr test erin toesturen. Van moordonderzoek tot aids. En zeggen dat ik ze gepubliceerd heb. Laat maar zien waar Willie Peijnenburg over pcr heeft geschreven.\\n', 'Begin maandag met vaccineren ziekenhuispersoneel https://t.co/fowCJkSurn. Onderteken ook!\\\\nIntussen 12.000 mensen die ondertekend hebben #vaccineren @hugodejonge @MinVWS\\n', '@MarleenOpSokken Goeie vraag. Het gaat nog verder dan dat. Hoe zit het met al die uitgestelde behandelingen, bijvoorbeeld voor kankerpatiënten. Omdat corona nu voor gaat. Of mensen die niet naar de huisarts gaan, of niet doorgestuurd worden. Op de lange termijn extra zorg en meer overlijdens.\\n', 'Weten jullie nog dat ik een jaar geleden een paar keer twitterde over mijn achterneefje. Veel te vroeg geboren en het was lange tijd spannend.\\\\n\\\\nVandaag wordt de kleine grote man 1 jaar en het gaat hartstikke goed met hem. Hoera!\\n', 'RT @PeterK43579783: Denk goed na over vaccineren en neem kennis van het oordeel van deskundigen!\\\\n\\\\nhttps://t.co/saN6fEL1JX\\n', 'Even wat achterstallige lectuur wegwerken. @Boerderij_nl . Of je het nu met hem eens bent of niet, Rinus Vermue weet het weer prikkelend te brengen. Mooie term \"zelfredzaamheid van de bodem\" . https://t.co/mzX4C2Xg6r\\n', '@Chriss50472784 @Pyrodaantje @john_assem @hugodejonge En jij bent een idiote angsthaas! Sluit jezelf lekker op, maar ik wil leven en vrij kunnen zijn en  “who the fuck” ben jij om iemand die deze bullshit niet geloofd een viruswappie te noemen. Stop die naald lekker in je hol 🤡\\n', '@JoostNiemoller Dat zijn nu eenmaal de eigenschappen van een virus Joost. \\\\nJe kunt daar niet voor wegrennen. \\\\nMet héél veel discipline en nog meer geluk, kun je het proces hooguit enigszins vertragen. Tis nie anders jong..\\\\nGelukkig gaan we er, doorgaans, niet van dood. \\\\nDeal with it.\\n', '@Prikkerr Klopt! En zo zijn er nog wel een paar...\\n', 'De urgentie om te vaccineren is groot, dus moet iedere druppel vaccin meteen een arm in. Als het moet ook in \"gewone\" armen.\\\\n\\\\nMeld je in DM als je de komende dagen wilt helpen met acties om aandacht te vragen voor de criminele traagheid van Nederland\\\\n#vaccineer #WeGaanZeBrengen\\n', '@LiesbethRasker Ik ben zó blij dat ik niet gekeken heb!\\n', 'Laatste aflevering Een huis vol maakt tongen los.Wat jammer,dat het alweer de laatste aflevering was van een Huis Vol,ik vind het een ontzettend leuk programma.Hoop,dat er weet een vervolg komt.Wel een opgave hoor zoveel kinderen.Ik wens alle gezinnen een gelukkig 2021.\\n', 'Telkens als ik mensen om mij heen hoor zeggen dat ze blij zijn dat het vaccin er binnenkort is en dat we daarna weer naar normaal kunnen, wordt mijn angst groter. Steeds groter\\\\nDatzelfde geldt voor al die mensen met mondkapjes.\\\\nZe denken beschermd te zijn of anderen te beschermen\\n', '@VandoninckWim @torfsrik Ja idd en dit moet ik geloven van een product dat zelf geen vaccin is maar gen therapie.... Dat nog nooit eerder is gebruikt geweest?? Als je proefkonijntje wilt spelen ga je gang!\\n', \"Ik schrik echt van alle #vaccin-twijfelaars in mijn omgeving. 'Die troep hoef ik niet', maar niet weten wat 'die troep' is. Daarom heb het mRNA-vaccin even versimpeld en samengevat in een handige infographic. Kun je een betere keuze maken.  RT = lief! #PfizerBioNTech #blijfthuis https://t.co/66I8Cip9O3\\n\", 'We hadden de hoop vandaag naar mijn moeder te kunnen ivm haar verjaardag. Helaas hebben wij nog steeds wat klachten en twijfelt manlief over zijn reuk. Dus toch maar thuisblijven. Hopelijk vals alarm en kunnen we volgend weekend alsnog. #blijfthuis #verdrietig\\n', 'RT @RichardAbbenhu3: Personeel Schiphol bezorgd over ultrafijnstof en coronarisico - NRC https://t.co/wFYsKWdNtx\\n', 'Crin zegt het lief!\\\\nIk niet, krijg je vanzelf na 9 maanden lockdown, ik zeg NEEM VERDOMME JE VERANTWOORDELIJKHEID, BESCHERM JE KIND EN DE LEERKRACHTEN EN JEZELF EN HOU ZE VERDOMME THUIS ANDERS BEN JE EEN FUCKING USELESS LAFFE KLAPHARK!\\\\nZo. Dat is eruit.\\n', '@DameInKleur @MichaelVerstrae @vanranstmarc @Maggie_DeBlock Maar mens toch, ge weet niet waar ge over spreekt. Commie Van Ranst &amp; Ebola-Vlieghe zijn al 9 maanden een tandem en verantwoordelijk voor de lockdowns &amp; de bullshit van meerdere golven. Van Ranst weet dat er niks aan de hand is en Vlieghe moeten ze interneren, die is koekoe.\\n', 'Lees even dit sublieme verhaal van #pieterschook over een bromvlieg op het sterfbed van een 104-jarige #artsenauto niet lezen is geen optie https://t.co/W6utNp1Ms8\\n', '@DouwPien Ook na de vaccinaties blijven de maatregelen zoals mondkapjes dragen en afstand houden nog van kracht. Dat feest kun je dus vergeten. https://t.co/sVclqh955W\\n', 'De politieke monsters Rutte, Wiebes, Hoekstra en Asscher proberen door #Coronabeleid,  #coronavaccin en #lockdown de aandacht van #toeslagaffaire af te wenden. Hou het in uw geheugen op 17 maart 2021. De spelers van dit politieke gedrocht #Rutte3 moet definitief de politiek uit.\\n', 'Begin maandag met vaccineren ziekenhuispersoneel! Teken de petitie👇 \\\\n\\\\nRetweeten wordt enorm gewaardeerd! 🙏\\\\n\\\\nhttps://t.co/0ArOhRXfPl\\\\n\\\\nPS begin ook eerder het het vaccineren van verpleeghuisbewoners en alle anderen die in de zorg werken.\\\\n\\\\n#vaccineerzorgpersoneelEERST #zorg\\n', 'Hahahaha @vpro en @D66 vallen beide zo door de mand. Kaag moet gepusht worden door de strotten van tv-kijkertjes anders stelt ze niets voor. Blij dat ik niet in NL vertoef....\\n', 'RT @ronfresen: Nieuws: ziekenhuispersoneel kan van kabinet zsm beginnen met vaccineren. Liggen 30.000 vaccinaties klaar. Start mogelijk  ma…\\n', '@trouw Oprechte vragen bij een \"crisissituatie\": a) waarom worden mensen in opleiding, militair ziekenhuispersoneel of huisartsen niet opgeroepen? \\\\nb) Pfizer en Moderna zijn vast hard bezig maar zijn er geen Nederlandse labs die kunnen helpen?\\n', 'Dr Wakefield werking mRNA vaccins, risico’s experimentele techniek, Aandacht HPV vaccin. Staatsomroep/MSMedia reportages gemaakt. Waarom gebeurt dat niet voor Covid-vaccin?\\\\n\\\\nDr. Wakefield warns=”This is not a Vax,  it is irreversible genetic modification” https://t.co/4tZFP31VMY\\n', '@BennieMindfull Koopmans is bij af zeker met die pcr gate\\n', '@alfagrl Anderhalve meter seks.. het heeft wel iets..\\n', 'Maar dat het ziekenhuis personeel maandag kan beginnen met vaccineren is toch alleen maar voor de bühne?\\\\n#coronavaccin #hugodejonge\\n', \"Treffend voorbeeld hoe desastreus #jurisme (de letter van de wet is kennelijk belangrijker dan de bedoeling ervan) voor de samenleving kan uitpakken: Verplichte test bij thuiskomst 'van de baan' | Gedeeld artikel van de #Volkskrant #corona  https://t.co/fr3ngKhPKw\\n\", 'Feiten:\\\\nCorona is géén killervirus\\\\nPCR test is geen diagnosemiddel\\\\nMondkapjes werken niet, gedragsbeïnvloeding blijkbaar wel\\\\nEr zijn werkende medicijnen voor corona\\\\nVaccin is slechts een éxtra maatregel\\\\nEn tóch wil Hugo de J advies over vaccinatiepaspoort\\\\n#coronahoax\\\\nbronnen👇\\n', 'Wanneer ik tweette over het gebrek aan vaccins in BE, kwam er steeds linkse kritiek dat dit geregeld werd door de EU en de regering onmogelijk initiatief kon nemen. Nu blijkt dat Duitsland gewoon naast de EU voor vaccins zorgt. Daar neemt de regering wel haar verantwoordelijkheid\\n', 'Ik ben zo trots op mijn dochter 🦚\\\\nNu de zaak, waar zij werkt, gesloten is #lockdown\\\\nmaakt ze zich nuttig door als vrijwilligster in een zorgtehuis een handje te helpen.\\\\nZe kwam zelf op dat idee👍🏻\\\\n\"Mam ik moet iets gaan doen om een ander te helpen\"\\\\n❤🤗\\n', '@ChageNijn Collega deed moeilijk gisteravond in mijn auto:\\\\nWaarom moet ik een masker op als jij er al een draagt?\\\\n\\\\nIk zeg \"goed punt\" en doe de koplampen uit.\\\\nHij in paniek: wat doe je nou? Het is hartstikke donker !\\\\n\\\\nIk: rustig maar, alle anderen hebben hun koplampen al aan!!\\n', 'In plaats van krokusverlof te verlengen met 1 week, zou het logischer zijn het huidige verlof met 1 week te verlengen. Zo niet riskeren we meer besmettingen en minder thuiswerk. Als cijfers eind januari stijgen heeft @BenWeyts een kolossale fout gemaakt. https://t.co/80wp1pVTzz\\n', \"Ook weer iemand die heel neutraal en nieuwsgierig een vraag stelt. Die wil vast reacties buiten zijn bubbel. Wellicht even wat stemmen 'injecteren'?\\n\", '@JDrentje @Kimvanstrien @maasje70 @AObtweets Vrijwel leeg? \\\\n\\\\nIn ons gebouw van 1100 lopen aanstaande maandag tijdens de lockdown VIJHONDERD (500!) leerlingen van boven de 15 rond. \\\\n\\\\nElke dag.\\n', 'Terwijl het volk in #lockdown thuis zit, vliegt de #elite naar warme, zonnige oorden... zoals Madonna naar Afrika. Mondkapjes niet nodig, met 20 man uiteten. Dansen, muziek maken!\\\\n\\\\nDe elite ziet zich als verheven boven de rest, en laat dat nu openlijk zien!\\n', '@NUnl Altijd als er een daling is ,is er storing en minder getest . Man man hoelang gaan ze deze poppenkast nog opvoeren\\n', 'Ik was blij met het vuurwerkverbod. Helaas waren er toch een aantal die dit niet accepteerden. Maar ben dan niet zo aso om de troep te laten liggen, tot dat de #gemeentebeesel dit komt opruimen. 😡\\n', 'Minister De Jonge is om: ziekenhuipersoneel wordt vanaf maandag toch gevaccineerd. Zou hij vanochtend de Telegraaf hebben gelezen? https://t.co/ZXGrSiwYV7\\n', 'N.E.C. ontkent transfer Van Ottele naar sc Heerenveen https://t.co/HGSc2f4rtz https://t.co/aa332PA1gk\\n', '@OlifaNT @hugodejonge Het kon toch niet volgens @MinVWS  vanwege \"te weinig\" vaccins?\\\\nhttps://t.co/naVpxQp9dE\\n', 'Zou wel goed zijn om nu niet alleen het ziekenhuis maar ook al het andere zorgpersoneel waaronder ouderen - verpleeghuis en pgb-zorgverleners direct in lijn door te vaccineren. Ik wil niet direct in de sceptische mood schieten maar nu echt doorpakken aub!\\n', 'Het kan me geen hol schelen hoeveel geld het heeft gekost, met hoeveel man ze eraan gewerkt hebben, hoeveel overuren ze gemaakt hebben, hoeveel ze ervoor hebben laten vallen, hoeveel mensen het wél willen.. In mij spuit je geen vaccin dat binnen een jaar gemaakt is.\\n', 'Als iemand sterft met onderliggend lijden en test positief op Corona, dan is het door Corona. Als je sterft na vaccinatie met onderliggend lijden dan is het door onderliggend lijden. Snapt u het nog?\\n', 'Dit is het HCQ/Ivermectine medicatieplan tegen Covid19. Er is geen reden om gezonde mensen te vaccineren. Hiermee kunnen zieke mensen worden genezen.\\\\n\\\\nDIT ZOU ELKE ARTS MOET KENNEN!\\\\n\\\\nTwitter gaat dit censuren, deel dit zo breed mogelijk! \\\\n\\\\nhttps://t.co/VDOLFyxo4F\\\\n\\\\n#TheGreatResist https://t.co/UinnvMzOug\\n', '@EdsardRavelli @rivm Luchtvochtigheid wordt ook in grote mate bepaald door airconditionings en verwarming. Blij met uw post! Dit bevestigd mijn vermoeden van de afgelopen maanden!\\n', 'Rechter verwijst verplichte PCR test voor Nederlanders naar de prullenbak en erkent dat PCR test niet geschikt is . Laat dit vonnis de eerste zijn in terug naar onze rechtstaat en vrijheid. @vrijensociaal\\n', '@vollebergh Hi Jos, ik ga de tweet verwijderen want het is nooit mijn bedoeling van een tweet om iemand persoonlijk aan te spreken. Ik snap alleen echt even niet waarom je dat zo voelt. Ik hoop dat je me dat nog in DM wil toelichten.\\n', 'Ik ben eigenlijk razend benieuwd via Twitter Nederland \\\\nover de vraag gaat Nederland massaal aan het vaccin ?\\\\nDus laat u zich ook  of  juist niet injecteren.\\\\nIk vraag u medewerking om dit zoveel als mogelijk te retweeten zodat vele mensen kunnen stemmen.\\\\nDus neemt u de injectie ?\\n', '@drsmichakat Je zult maar zorgpersoneel zijn en ze komen je met die gifspuit aan.\\n', '@DieTukkerfries Ieder voor zich God voor ons allen. Geen killervaccin in mijn lijf. Ik ben allergies voor vaccins met levensbedreigende rotzooi in het.\\n', 'Baudet retweet eea van deze volslagen idioot. U weet wel, de viruswappie die onder meer @Eerdmans en @ananninga zo geweldig vonden al die tijd....... https://t.co/XoyfhYoUMy\\n', '#vaccinatiedebat als de horeca in 2020  8 weken zonder restricties open mocht, laat ons dan in ieder geval voor de grote massa deze groep mensen vaccineren. Dan creëren we een nog veiligere uitgaansomgeving.\\n', '@TS30916832 dan zou ik niet door het kattenluikje naar binnen gaan😉 Ik denk dat best veel mensen zijn aangekomen door o.a. de lockdown.\\n', 'Corona virus komt waarschijnlijk elk jaar terug, net zoals griep virus. Gaan we dan tot einde der tijden met maskers rondlopen ? Horeca gesloten en vervangen dr take-away ? Stop de corona hysterie onzin\\n', 'Het ergste dat je kan overkomen is dat men je boodschap doodzwijgt #vaccineren\\n', 'Hamfamily\\\\n13h | Actueel weer\\\\n\\\\nWind: 4.7 km/h ZZW\\\\nWindvlaag: 7.9 km/h\\\\nTemperatuur: 3.3 °C\\\\nRel. vochtigheid: 98 %\\\\nLuchtdruk: 1011.5 mbar\\\\nRegen: 0.4 mm\\\\nZon-instraling: 69 W/m²\\\\nUV index: 0 \\\\n\\\\nhttps://t.co/d18Jn8Mi2y\\\\n#Weathercloud\\n', '@peterverhaar Ja, daarop spreek ik je aan...die opmerking over dikke mensen op de ic....hoe zie jij je eigen verantwoordelijkheid om zo’n opmerking met je volgers te delen...wat suggereer je dan, of waar worstel je zelf mee?\\n', 'Ben buiten met een spuitbus verf aan de gang en Leslie moet de hele tijd niezen van de geur dus nu loopt ze steeds met een enorm overdreven grote boog eromheen hahahaha gelukkig nu geen kans op een groene hond\\n', 'Want dat waren haar tranen van geluk niet van verdriet, deel je echte verhaal niet het verhaal dat jij zelf hebt mooi gemaakt zeg de waarheid dan zal men zijn ware aard ook tonen\\n', 'Vindt het @AObtweets-bestuur mondkapjes maar schijnveiligheid bieden? Of zitten er antivaxxers in het bestuur? Want dit klopt gewoon niet. Waarom hebben jullie nooit onomwonden voor veilige scholen gepleit?\\n', 'MACHT...deze #stasi loopt nu nog met een stijve rond. \\\\n\\\\n#covid911 #pcrgate #lockstep #greatreset \\\\n#CrimesAgainstHumanity https://t.co/2JJKbdAp64 https://t.co/QJ7bSTzICc\\n', 'RT @Maartenkok2: @Bartissimus @NOS Zijn de #eerstelijn zorgverleners wel in beeld? #vaccineren @rivm Erg grote groep die veel mensen zien!…\\n', 'Zo goed geschreven. Gelezen met een glimlach\\\\nHet sprookje van de dokter en de koning. Een vertelling van een bezorgde huisarts.\\\\nhttps://t.co/E6v0T8yebB\\n', 'Goed tweeps. Hoe zit het nou precies met die gekke claim die je soms hoort: ‘Het #coronavirus is nog nooit geïsoleerd!’? Een #tweetorial (1/14) https://t.co/FoS8v57FgA\\n', '@OrdeVanRode https://t.co/oZCMsROuGr\\\\n\\\\nhet is strafbaar om mensen te dwingen een vaccin te nemen!!!\\\\nionisatie doodt alle virussen\\\\ndus schaf dat apparaat aan en alles is veilig\\\\n\\\\nhttps://t.co/OsOTCzfgAZ\\n', 'RT @Maartenkok2: @Bartissimus @NOS Zijn de #eerstelijn zorgverleners wel in beeld? #vaccineren @rivm Erg grote groep die veel mensen zien!…\\n', '@KrijnQ @RikKleinEntink @RJongmans @telegraaf Mee eens. \\\\nEn daarbij komt dat het verder gaan in Europa inkomsten genereerd maar door het spelen in een leeg stadion komen er extra verliezen bij.\\n', 'Corona geen \"killer\" virus. Recent cijfer vr kans op sterven bij infectie is amper 0,05% vr minder dan 70 jr en 0,23% vr ganse populatie (WHO)Vergelijkbaar met zware griep. Enkel gevaarlijk vr 75+ met bestaande ziektes. Bescherm zwakke groep, rest normaal.\\\\nhttps://t.co/FErHkYI01V\\n', 'En morgen allemaal weer een muilkorf op? Ik dacht ‘t effe niet. Einde lockdown Fuck’t nieuwe normaal! Genoeg is genoeg! #WWG1WGAWORLDWIDE  #HAPPYNEWYEAR\\n', 'Voor al deze #coronacriminelen een vermelding op strafblad want in complete onzichtbaarheid een Mega event kunnen organiseren is verontrustend. Hopelijk niet te veel kinderen van politici o.d. tussen want dan een maat voor niets. #raveparty #lockdown #hln https://t.co/OiNmJZrM54\\n', 'Bij mij ontbreken alleen de babyreigers. Twitter, maak me blij met puppyfoto’s #dtv\\n', '@Wijkagt_Django Sterkte man ! Was te verwachten. Had avondklok moeten zijn.\\n', '#lockdowns werken niet. 24 peer reviewed onderzoeken maar o wee als @klokpieter en @volkskrant er over gaan schrijven met inhoud in plaats van met het politieke Rutte-brilletje op. @klokpieterxit is a onewaystreet ingegaan en kan ook niet meer terug. https://t.co/W3cM2db050\\n', '@Rene__2010 @MrP_1968 Die vertaling bovenaan het plaatje wekt de suggestie dat niemand kwam om zich te laten vaccineren. Het gaat er echter omdat dat er te weinig artsen en verpleegkundige zijn die willen vaccineren.\\n', 'RT @BaleineCindy: Zo blij dat ik je achter heb gelaten in 2020\\n', '@Rdysplace Ik huil echt iedere dag, eenzaamheid is te erg. Hopelijk komt dit jaar een oplossing\\n', 'Goed tweeps. Hoe zit het nou precies met die gekke claim die je soms hoort: ‘Het #coronavirus is nog nooit geïsoleerd!’? Een #tweetorial (1/14) https://t.co/FoS8v57FgA\\n', 'Coronageld en géén heetste jaar: dit wordt het klimaatnieuws in 2021 | https://t.co/KGSNGhXaRD\\n', 'RT @xdrizzyxx: Ik eet veel omdat eten het enige is wat mij gelukkig maakt\\n', 'Het verpleeghuispersoneel moet nog even geduld hebben nu. https://t.co/0BrNp8Sbgb\\n', '@FTI_momentum @LoquiturRick @thierrybaudet CBS,  het is even puzzelen,  maar dan rollen deze gegevens er uit.\\\\n\\\\nWat bijzonder blijft, dat er weinig of geen grieppatiënten zijn. \\\\n\\\\nMen wil dat verklaren doordat er weinig contact is van mensen onderling, maar Covid19 heeft daar schijnbaar geen moeite mee.\\n', '@superjan Jan, quercetine met zink is net zo goed. Makkelijk verkrijgbaar, niet duur. Ligt bij ons in de la. Net vriendinnetje mee geholpen. Behoorlijk ziek van Covid en na 2 dagen weer ok!\\n', 'Terugblik 2020. Vooruitblik 2021. https://t.co/jeB1wth1Gp via @YouTube Wat staat ons te wachten in #2021NewYear duidelijk uitgelegd en neem vooral ook een kijkje op de website !#Vaccin #coronapaspoort #mondkapjes\\n', 'Deze 2 minuutjes absoluut even kijken.\\\\nHier een belangrijke boodschap.\\\\nDeze doctor neemt zelf niet en geeft het ook niet aan zijn patiënten. https://t.co/Lm2EAZaSp8\\n', '@WybrenvanHaga @MinVWS Dus we hebben hcq in de eerste fase  Ivermectine 1e en 2e fase, en anti stolling 2e fase. Dan is het vaccin niet meer nodig ;)\\n', '@_padvinder “Als ik me aan de regels had gehouden zat ik nu in een instelling” LETTERLIJK IEDEREEN IS DEPRESSED DOOR DE PANDEMIE???? Maar wij gaan ons ook niet egoïstisch gedragen om die reden??? Ik snap deze mentaliteit echt niet. Dit is waarom we nog steeds in lockdown zitte.\\n', '#IkPrikHetNiet\\\\n\\\\nLaten we het landelijk trending maken. Niet met overheidsgeld, maar gewoon omdat wij sterker zijn. @robertjensen help! Maak het groot: #IkPrikHetNiet\\n', 'Het kabinet overweegt om de snelste methode van vaccinaties in de wet te verankeren om de schade in te lopen van te laat vaccineren.\\\\nDe methode spreekt boekdelen.\\n', 'Topdrukte voor notarissen door nieuwe belastingregels vertelde @lucys_law vanochtend in radio1-journaal. Door de late aankondiging van de nieuwe percentages voor de overdrachtsbelasting en de lockdown was het een uitdaging iedereen te helpen https://t.co/AzCZU5SyYq via @nporadio1\\n', 'Wacht met bezuinigen tot economie hersteld is van #coronaklap, zegt DNB-president Knot https://t.co/0d5iWPJwSL\\n', '@KellyBleu21 Wat betreft proportionaliteit kun je de vraag stellen, zouden deze maatregelen proportioneel zijn in geval van influenza? Het antwoord is natuurlijk: nee. We hebben dat ook nooit zo gedaan. Welnu, Covid-19 heeft karakteristieken die zeer vergelijkbaar zijn. Dus waarom nu wel?\\n', '#COVID19NL statistieken t.o.v. gisteren:\\\\nLet op: dagelijkse meldingen kunnen sterk schommelen door de feestdagen.\\\\n\\\\nPositief getest: 8630\\\\nTotaal: 813765 (+8601 ivm -29 corr.)\\\\n\\\\nOpgenomen: 248\\\\nHuidig: 2005 (+48)\\\\n\\\\nOpgenomen op IC: 37\\\\nHuidig: 698 (-5)\\\\n\\\\nOverleden: 38\\\\nTotaal: 11565 https://t.co/hIV1xV6vDU\\n', 'Gommers/Kuipers hard roepen op TV, maar geen idee hoe het werkt. Jammer deze mensen wekken iedere keer te grote verwachtingen!!! @ronfresen @Nieuwsuur @jesseklaver \\\\nKuipers: vaccinatie van zorgpersoneel niet eerder dan 8 januari https://t.co/1tmJPvI89s via @telegraaf\\n', \"Bijgekomen van 15 uur dienst met de ME. Collega's gewond, politievoertuigen vernield, auto's in brand, straatmeubilair vernield, grote groepen die zich keerde tegen de politie met goien van stenen, vuurwerk en flessen. Het was GÉÉN rustige nacht! Happy new year\\n\", '@ooitwasikJohn @Solleveldj @Sandoka04120321 Ben blij dat ik je aan het lachen kan maken en lees vooral niets wat met jou mening botst. Succes met de vaccinatie!\\n', '#IkPrikHetNiet \\\\n\\\\nZelfs besloten dat we binnen ons gezin niks meer medicinaal laten inspuiten.\\\\n\\\\n#WijPrikkenNiksMeer\\\\n\\\\n👋\\n', 'Dat het kabinet zal vallen over de toeslagenaffaire, lijkt onvermijdelijk. Een symbolische daad. Dezelfden gaan weer met elkaar een nieuw kabinet vormen na de verkiezingen. Dat dit kabinet de vaccinatie niet goed georganiseerd krijgt, is veel ernstiger. https://t.co/SHKfaPIvSn\\n', 'Net even 10 km gewandeld. Schijnt ontspannend te zijn maar toen ik thuis kwam had ik echt zin om iemand helemaal kapot te maken. Ja Gerda, je kan best wel even achter elkaar fietsen als je mij passeert. En Henk, je krijgt de groeten van An, Anderhalve meter lul! Met je gore zweet https://t.co/laOYKMuTxp\\n', 'Een vergeet-me-nietje🌺 in de kleuren van de trein🚅, maak ik misschien een TAGmachinist blij?😉\\\\n#Waddinxveen #bloemenvrouwtje #vergeetmenietje #vergeetmenietjemeteenboodschap #stationwaddinxveen https://t.co/XpewOlGYrZ https://t.co/dFYsSzJyya\\n', \"In 1933 waren het de intelligentsia en de artsen, die vooruit liepen op Hitler en het Nationaal Socialisme, zij voorzag de NSDAP van ideeën en inspiratie om de maatschappij te ontdoen van 'ongewenste elementen'. \\\\n\\\\n#coronamaatregelen #vaccinatieplicht https://t.co/44Fh7CMXq9\\n\", 'Fietsen jullie ook wel eens met mondkapje op? Krijg het benauwd als ik het zie\\n', 'Deze Nederlanders zijn al ingeënt: ’Vaccin wordt hier met busjes naar je toe gebracht’ https://t.co/TY1VxsPyQk via @telegraaf \\\\n\\\\nBen je dan ziekelijk of niet? https://t.co/ZZEhxwPfWW\\n', '@geertwilderspvv @telegraaf Wat wel duidelijk is geworden is dat het alleen IgG activeert en geen IgA. Dus het doorbreekt de transmissie keten niet. De gevaccineerde is dus niet beschermd tegen het virus, echter zal niet zo snel ernstig ziek worden. \\\\n2/3\\n', '@Sywert \"„De verdeling van het vaccin, kost gewoon een aantal dagen tijd”, aldus Kuipers. „Het kost tijd om draaiboeken te maken en vaccins uit te rollen.”\\\\n\\\\nHoezo \"het kost tijd om draaiboeken te maken\" ?\\\\nDaar heb je gvd maanden de tijd voor gehad om dat voor te bereiden\\n', '@jonagold__ @plestik Ik heb eerste dag lockdown deco m9 gekocht. Beste investering van 2020.\\n', '@adegraat @devrijepsych @JoostNiemoller Afstand houden werkt niet de middelen werken wel!\\n', '#eenzamejongeren #maatjegezocht\\\\n\\\\nIk ben opzoek naar vriendinnen, leeftijd tussen de 20 - 30 jaar. Ik heb afstand gedaan van vriendinnen die niks om mij gaven, en misbruik van mij maakten. Het lijkt me daarom leuk om nieuwe contacten te krijgen.\\n', '@HJWesteneng Er is een groot lek in onze lockdown. Vanaf maandag gaan alle examenkandidaten weer naar school. Met 20-30 in een lokaal, onbeschermd, docent erbij eveneens onbeschermd. En dat 8-12 klassen per school/gebouw. Afstand houden hoeft niet en kan ook niet.@arieslob en @VO_raad :-(((\\n', 'Waarom gebruik je zowel deze mensen als de WOII slachtoffers (joods én niet joods) dan om wat jij vindt van vaccinaties te promoten?\\\\n\\\\nHeeft er helemaal NIETS mee te maken. https://t.co/CVut6IJLZj\\n', '@Mars_2807 @ChageNijn @zegmaarsusan Wat heeft dat te maken met het verschil tussen antibiotica en een vaccin?\\n', 'RT @SlipjesLadies: Welk sletje gaan we deze uit laten testen...\\\\nhttps://t.co/N9TzgqLjxR https://t.co/30GvrIKeaz\\n', '@ELIZE_NL Wie eist dat dan? Je zoekt het maar lekker uit. Blijf je wel thuis als je Covid-19 hebt?\\n', '@UbedaMichel Er zijn al proefkonijnen geweest, die het vaccin hebben getest, waar ben je bang voor?\\n', '@iriedaily94 Ik zie het niet zitten om mij te laten vaccineren omdat niet duidelijk is wat de bijwerkingen zijn. Eerst maar eens afwachten. Gaat mij wat te snel. En van plicht of indirecte plicht kan natuurlijk helemaal geen sprake zijn.\\n', 'hoezo respect voor die Gestapo die zich #Politie noemt   ..   Politie geeft boete aan de deur: U droeg geen mondkapje in de supermarkt... https://t.co/yMUGe8Olqg via @YouTube\\n', '@Versoepelingsb1 @jeroenbossaert @jdceulaer Je wordt behandeld op symptomen. Net zoals in een normaal griepjaar (de specifieke influenza PCR test wordt niet altijd gedaan, vandaar het surveillance netwerk).\\n', 'Corona virus komt waarschijnlijk elk jaar terug, net zoals griep virus. Gaan we dan tot einde der tijden met maskers rondlopen ? Horeca gesloten en vervangen dr take-away ? Stop de corona hysterie onzin\\n', \"Mensen die roepen #ikwildieprik respecteer ik. Maar respecteer dan ook de mensen die roepen #ikwildieprikniet. Iets wat op zo'n kortetermijn is geproduceerd vertrouw ik niet, dus ik wacht wel af. #IkBenGeenProefkonijn \\\\n\\\\n#coronamaatregelen\\\\n#vaccin\\\\n#vaccinatie\\n\", 'https://t.co/W5MNT98qYz\\\\n\\\\nTussen de oliebollen en appelflappen door...\\\\n\\\\nOver de toelatingsprocedure van de diverse vaccins tegen het SARS-CoV-2 virus in relatie tot de Verklaring van Helsinki, de Code van Neurenberg en de directe of indirecte vaccinatiedwang.\\\\n\\\\n#coronovaccin\\n', 'Hugo de Jonge #CDA , Mark Rutte #VVD en de #EU hebben al 700 miljoen van Uw geld betaald aan de bedrijven van Bill Gates. Wilt U dat ongeteste goedje in Uw lijf waarvan de inhoud staatsgeheim is? Stemt U nog #VVD of #CDA? https://t.co/VNKRCEXHUb\\n', '@bslagter @TheodorHolman Absoluut! Zodra het nieuwe virus in het UK werd ontdekt, had er direct een hek omheen gemoeten. Grenzen dicht en pas na negatieve testuitslag en quarantaine en weer negatief, ons land in! Mensen we zijn in oorlog tegen dit virus! En wat doet het kabinet? Te laat!\\n', '@jetskefoto Wist je dat:\\\\nCorona is géén killervirus\\\\nPCR test deugt niet\\\\nMondkapjes werken niet\\\\nEr zijn werkende medicijnen voor corona\\\\nHet vaccin is slechts een éxtra maatregel ipv dat je weer teruggaat naar normaal ;) \\\\nHugo de J wil advies over vaccinatiepaspoort https://t.co/7r3JVJsFq3\\n', '@goosebay7 @woestegrond @JanKraayenburg @RTLnieuws In mijn optiek gaat er veel mis in de organisatie van de crisis. Het OMT kent een disfunctionele dynamiek, dat lees je in elk interview. Gisteren werd in het AD-interview gedaan alsof we nog blij met het OMT mochten zijn, omdat het in België nog slechter gaat met hun adviesraad.\\n', '@joachimw @AlexvanNetten Snel en duur maar zeker niet betrouwbaar.... daar gaan veel mensen de mist mee in. Eerst negatief, later krijgen ze klachten en dan is de 2e test wel positief. Ondertussen veel andere mensen besmet. Zo heeft mijn dochter het ook opgelopen.\\n', 'RT @ajaxfriend: STOP DE LOCKDOWN \\\\nGenoeg Geweest 😠\\\\n👇  1/4       DRAADJE https://t.co/cVAYHUZmLT\\n', '@de_Kapitein_ @nee_coro @arjentikt @arnoldus_ted @viruswaarheid @Zxlfbeschikking @Gerritsen_Dan @JACKenWODAN2 @JDTVproducties @hetverzetnl Maar mondkapjes zijn toch verplicht bij de supermarkt?\\n', 'RT @margabult: In deze Coronacrisis, groot tekort aan bedden en vanaf nu is dit ziekenhuis in Den Haag echt gesloten!  He?? 😨https://t.co/t…\\n', '@Talpaweer @onwukaa @jordiweerman @denniswilt En wat doe je dan tijdens de lockdown? Je spit je weerarchief door op mooie herinneringen voor https://t.co/vWAYPHerps. Waterhozen, sneeuwdek van 1 cm, Shelfclouds, hittegolven, extreme kou, hoge waterstanden💪 etc. 😋😉\\n', 'Ik leerde pas over het bestaan van vaccinaties toen ik ongeveer 17 was. Rond ‘90. Mijn ouders waren fel tegen en spraken er niet over. Ziek worden was Gods keuze. Ik las erover en in ‘98 ging mijn dochter dírect het vaccinatieprogramma in. \\\\n\\\\nDankbaar dat het bestaat! #ikvaccineer\\n', '@JoostNiemoller Dus jonge mensen, die bijna een jaar zaken hebben moeten laten zodat we ANDEREN niet konden besmetten, mogen nu als laatste weer deelnemen aan de maatschappij, omdat al die anderen eerder de kans krijgen zich de vaccineren? \\\\n\\\\nTerwijl ze zelf nauwelijks risico lopen...\\n', '@GPMvanHaren @PO_Raad @GGDAmsterdam @schoolleider Moeten verkouden leerlingen ook worden getest? Zijn ze welkom op school? Zijn het dezelfde afspraken als het vo? Er staan tegenstrijdige berichten op de website van de rijksoverheid. https://t.co/nQDMQKyQzM\\\\nhttps://t.co/c75UIgMuWg https://t.co/FjfbgEU19P\\n', '+ being mentally ill = hyperfixaties hebben, bepaalde dingen maken mij zo oprecht gelukkig dat die voor een periode deel worden van mij en deel van mijn persoonlijkheid\\n', 'RT @macflagstaff: Politie geeft boete aan de deur: U droeg geen mondkapje in de supermarkt... https://t.co/NpZhD6LWC7\\n', '@Samira_Tarrass Dus voelt hij zich comfortabel in het bijdragen aan een tweedeling van de maatschappij en het mee helpen creëren van 1e en 2e rangs burgers? Uiterst bijzonder ook dat ik niemand meer hoor over het beschermen van de kwetsbaren, maar alleen nog over voordeeltjes 🤔🤔🤔\\n', 'RT @macflagstaff: Politie geeft boete aan de deur: U droeg geen mondkapje in de supermarkt... https://t.co/NpZhD6LWC7\\n', '@QuestionBitcoin Ik ben tegen het overhaast injecteren van spul dat mogelijk gevaarlijker is dan Corona zelf.\\\\n\\\\nAls je de achtergrond van Pfizer een beetje kent zou ik zeker geen gat in de lucht springen om vooraan in de rij te staan.\\\\n\\\\nOns immuunsysteem op peil houden is een betere remedie\\n', 'Wanneer je langer dan 48u in een rode zone op vakantie bent geweest, ga dan (samen met de kinderen) in quarantaine, met een test op dag 1 en dag 7.\\\\nWees niet de reden van een opflakkering in ons land! We zijn nu, in vergelijking met alle buurlanden, goed bezig! Volhouden! https://t.co/ao8r50smwc\\n', '@JoostNiemoller Hoop niet dat tijdens het uit eten de soep zo je bek uitloopt. Zoals met ieder vaccin of medicijn kunnen er altijd bijwerkingen zijn . Weet u al zeker welke dat kunnen zijn? Ik nog niet tot die tijd mag van mij iedereen eerst en eet ik lekker  thuis . https://t.co/19x91QGjnV\\n', 'ik stel volgende hashtag als tegen # voor in het geweld van astroturf overheids-hashtags als #blijfthuis #blijfgezond #ikwildeprik #ikvaccineer\\\\n\\\\nPrikken? #IkPrikHetNiet\\\\nVaccinatie? #IkPrikHetNiet\\\\nRNAVaccinatie? #IkPrikHetNiet\\\\nLockDown? #IkPrikHetNiet\\\\n\\\\n#Ikwildepik = afgevallen\\n', \"Sintspanning, kerstcadeaus, oliebollen: zo bouw je af naar 'normaal' (https://t.co/pahOSDMBkJ) https://t.co/uarRW4AfLe  #thuiswerken #adviseren #kerstvakantie\\n\", \"@dexte09554562 @robertpijkeren Ja joh!\\\\n\\\\n16.000 verkeersdoden\\\\n1.600.000 wereldwijd!\\\\n\\\\nDie #Corona is n hoax!\\\\n\\\\nAl die IC's staan leeg!\\\\n\\\\nAl die kankerpatiënten die niet geopereerd worden: \\\\nNepnieuws!\\\\n\\\\nAl die uitstervende\\\\nverpleeghuizen:\\\\nEuthanasie!\\\\n\\\\nAllemaal\\\\nPedo-Bilderberg-lluminati\\\\ngesponsord\\\\ndoor Gates&amp;Soros!\\n\", '@Nienkekapinga @bslagter @huisdoktertim Je mag nog steeds met 2 personen afspreken en dat hoeven niet steeds dezelfde personen te zijn. In een week kun je dus behoorlijk wat “wisselende contacten” hebben en als dat bij anderen ook zo is, dan kan het virus zich nog best goed verspreiden.\\n', '@LNevesGoncalves 4) Met kleine naald en iets andere plek gaat het mis maar krijgen ze wel bloed en hoeven ze nauwelijks te peuren. Nee, geef mij maar vaccinaties die gaan als een trein! Maar ik snap de angst voor naalden zeer zeker. Mn kind heeft zelfde aders dus zelfde probleem. En vette angst\\n', \"Dit is helaas geen goede reclame voor de #politie. Want de #mondkapjesplicht is juridisch zo lek als een mandje. Onzinmaatregel. 'Politie geeft boete aan de deur: U droeg geen mondkapje in de supermarkt - 02/01/21' https://t.co/IbtheGKyN3 #covid19nl #coronamaatregelen\\n\", 'Als het @Opiniepanel van @EenVandaag doet wat het zegt na de #corona-crisis te doen...\\\\n✅ 23% minder vliegen: #Luchtvaartnota kan de prullenbak in, #Schiphol wordt kleine, #LelystadAirport blijft dicht.\\\\n✅25% meer thuiswerken: fileprobleem opgelost, geen extra #asfalt nodig. https://t.co/bkoqdphyyC\\n', \"@JDrentje @Charlotte9999 @WesElles @wskamphuis @Kimvanstrien @maasje70 @AObtweets Het kan, maar dan haal je nog altijd mensen naar school die wat ze daar doen ook thuis hadden kunnen doen. Daarmee doe je het adagium 'werk thuis, tenzij het niet anders kan' geweld aan.\\\\n\\\\nPlus dus dat in die lokalen zonder docent veelal geen goede werksfeer zal heersen.\\n\", 'RT @Hent20512634: Weetje nog dat Trump zei dat UV licht virussen dood. Zoals ook “HcQ;? Beide is bewezen. https://t.co/u7d7BCaPKs\\n', 'Zij die kiezen voor #ikwildieprikniet gaan een extra zware claim op de maatschappij leggen door de stormloop op de ziekenhuizen te verlengen. Ze eisen van degenen die zeggen #ikprikhetwel voor hen die last op te brengen. Maar gunnen hen niet de kans op een productief leven.\\n', \"Alcoholvrije gin getest: 'Met een scheut tonic erbij verandert het in een godendrank' - De Gelderlander https://t.co/TnWH4qxQpA\\n\", \"@Peer_Elshout Ben niet chronisch ziek en gelukkig is dit niet iets wat nu nog gaat stoppen. De regie komt terug bij mij en mijn lijf reageert als van nature nu. Waar ik eerder ook wel overeind kwam na n virale golf gaat 't lijf nu echt 'aan'. Dank je wel! \\\\nIk geloof erg in doen wat goed voelt!\\n\", 'Blijft goed, sterker, wordt met de tijd beter: De Raggende Manne. https://t.co/QRt40JppeP\\n', 'Er zijn enkele elementen aan de huidige COVID-19 situatie die me grote zorgen baren.  \\\\nEn dat heeft alles te maken met de hogere besmettelijkheid van de nieuwe varianten, in het bijzonder de UK-variant (B117). (1/n)\\n', '@kevgraphy NQDVKGQRKGHW te amo\\n', 'Iedereen heeft nood aan contact? Je mag nu nog compleet oké en gelukkig zijn, dit is voor niemand ideaal? Ik ben sowieso iemand die heel veel nood heeft aan contact en toch ben ik heel vaak eenzaam geweest en nog steeds,en dat heeft heel veel nadelen gehad. (4)\\n', 'RT @ArendjeD: Huisarrest als je je niet houdt aan je CO2 quotum? Klimaatlockdown, het komt eraan. https://t.co/FbOYGGPdso\\n', '@_Bakhtali @yolandaelizabet Voor een \"prikkie\" koop je alles op voor een appel en een ei. Dat is ook de bedoeling. Sprak vandaag een ondernemer, die had nog nooit van Klaus Schwab gehoord. Toen ik vertelde dat ie niks meer zou bezitten, ging hij op onderzoek uit.\\n', 'Het amateurisme van het coronabeleid is onbegrensd. De IC-capaciteit is niet vergroot, kankerpatiënten worden niet meer behandeld en ook het vaccinatieproject is ongeorganiseerd paniekvoetbal.\\\\nKabinet maakt draai: eerst ziekenhuispersoneel vaccineren! #FVD https://t.co/GB3IvZ6njj\\n', '@EenNederland @DustinWindt @Hansla @BertThonissen @LiesbethMallee @Voetbalisgeloo1 PCR test kan geen Coronabesmetting aantonen. De “foute positieven” PCR test toont een viraal deeltje in het neusslijmvlies aan, zoals o.a. een onschuldig verkoudheidsvirus.\\n', 'Waar komt die domme schaapskudde #IkPrikHetNiet nu opeens weer vandaan? 🤬\\\\n\\\\nTuurlijk, ze mogen het zeggen, maar mag ik daar dan tegenover zeggen dat ik met volle overtuiging zeg \\\\n\\\\n#IkPrikHetWel 💉✅\\\\n#ikwildieprik 💉✅\\\\n#iklaatmevaccineren 💉✅\\\\nVaccineren 💉✅\\\\n\\\\nVOOR SOLIDARITEIT! https://t.co/RT8T3YBxIc\\n', 'Alles is in Nederland qua corona maatregelen is gebaseerd om de druk van de zorg te ontlasten; ziekenhuizen en ic en deze verpleegkundigen en artsen zitten niet in je primaire keuze om te enten!\\\\n@hugodejonge \\\\n@geertwilderspvv \\\\n@MinPres \\\\n\\\\nEen zijpad op de hoofdroute!\\\\nWat een lul! https://t.co/zfGi8U7Tl9\\n', '#mooiedingen 20/35: een ver sterrenstelsel in zijaanzicht; de centrale stofschijf is gewelfd als de rand van een hoed, wsch tgv de botsing/versmelting met een ander, kleiner stelsel. #lockdown #tegenwicht https://t.co/sGITRaXmWP\\n', 'Vervolg op de vorige tweet.\\\\nTweet 4:\\\\nEen neurologe licht toe welke schade kan optreden bij het dragen van een mondkapje. https://t.co/6NWkXqObS0\\n', '@JoostNiemoller Wel kort door de bocht Joost. Ook na het vaccin is nu nog niet bekend of je de besmetting toch over kunt brengen. Daarom blijft mondkap en 1,5 mtr verplicht. Men weet zelfs niet hoelang het vaccin werkt. Men denkt 2a3mnd. Fase4 is nooit gedaan, dus veel moet nog duidelijk worden.\\n', '@nieuws_gier Amen, daarnaast: mensen die zich laten inenten omdat ze anders niet op café kunnen gaan....\\\\n\\\\nZijn dat niet juist de types die van alles kunnen verspreiden? Ze zijn niet ingeënt tegen open TBC of ebola, immers... &lt;3 &lt;3 &lt;3\\n', 'Bij opruimen huis vinden we een achteraf bijzonder artikel d.d. 13-10-2018 uit @nrc waarin Gommers over ic-tekort klaagt... Toen moesten er al keuzes gemaakt worden. Spannend welke politici en politieke partijen hiervoor verantwoordelijk zijn en of het volk dat 17-3 beseft... https://t.co/kZKMpkDdNr\\n', 'RT @springspiritual: Heel even hoor; Wij moeten allemaal zo nodig vaccin dat levens gaat redden. Toch? Hoe leg je dit uit dan?! https://t.c…\\n', \"#IkPrikHetNiet never nooit niet. Het maakt je niet immuun, je blijft besmettelijk, het is nauwelijks getest. Ze weten nauwelijks wat 't op korte termijn doet, laat staan op lange termijn. Niemand neemt verantwoordelijkheid mocht 't fout gaan. Dit middel is erger dan de kwaal!!\\n\", '@antazoa Waar ik moeite mee heb, is dat de maatregelen disproportioneel zijn, er niet bekend is welke werken en welke niet en dat er onvoldoende aandacht is voor het leed dat er is agv de maatregelen. Het is alleen maar corona, verder niks. Dat klopt niet.\\n', '@NicoHey159 Heb ik geluk dat ik single ben maar ja zei niet en denk dat het niet zal boteren met haar vader\\n', 'saf wollah enige waarmee ik dit jaar beef mee maak is corona, is genoeg voor me wollah\\n', '@DanielWolgen @Moorkopje2 Is idd uit de Willibrord vertaling https://t.co/nAK2gWa9EC\\n', 'Snelle update: smaakt naar allesreiniger. Bij het beter bekijken van het etiket blijkt het gefermenteerde groene thee te zijn?😥\\\\n\\\\nIk was al voornemens om het #CovidVaccin te nemen, na het drinken van dit blikje kan die prik niet meer risico opleveren🤣👇 https://t.co/ZIMXNV1Cvp\\n', 'Tja .. verantwoordelijkheid nemen he #Rutte3 @MinPres @hugodejonge #hugodejongekanniks #wnlopzondag #buitenhof #coronavaccin #Corona #Vaccinatie\\n', 'Meld je in mijn DM als je wilt spelen 😈\\\\n\\\\nfindomnl femdom paypig domme dominatrix christmas geldslaaf moneydrain https://t.co/oiT1gmklIw\\n', '@susket46627052 Mijn broek zakt hier van af. Gewoon besmettelijk en mss wel gewoon nog nog ziek kunnen worden ook, experimenteel vaccin, voor iets wat 99,77% gewoon overleefd. #vaccinatiestrategie\\n', '@WybrenvanHaga En dan ben je na vaccinatie niet immuun en kun je het nog steeds overdragen. Mijn zorg is je voelt je dan misschien niet ziek maar besmet je tegelijkertijd iedereen toch om je heen. In de huidige situatie had je je laten testen en bleef je thuis Dus is dit wel de juiste oplossing\\n', '@BartsComics @dezalnietemin Fantastisch je geeft dus toe dat je de kudde volgt. Ik denk juist dat wij geen kudde volgen, vandaar al het commentaar op ons. Onafhankelijk zelf tot een mening komen, dat is waar het omdraait. Liever een wappie dan een flappie. #IkPrikHetNiet\\n', 'Ik kan niet geloven dat verstandige mensen bij liberalen, socialisten, groenen, christendemocraten en vlaams-nationalisten die avondklok gewettigd, doelmatig en proportioneel vinden. Laat ons daar dan begin 2021 komaf mee maken en mensen deeltje van hun vrijheid terug te geven.\\n', 'RT @depeiling: Voor welke optie kies jij? \\\\n1. #ikwildieprik \\\\n2. #ikwildieprikniet \\\\n\\\\nGraag een RT voor een groter bereik.\\n', 'ik voel me alleen wilt iemand me helpen\\n', '@hethoudnietop14 @PeterVanDelft4 @JoostNiemoller Het rekensommetje is niet zo moeilijk.\\\\nStel dat er nu 3000 mensen in het ziekenhuis liggen door covid, dan is dat 100% x 3000 / 17.134.873 = 0,018%\\\\n\\\\nStel we vaccineren 10.000.000 mensen.\\\\nAantal health impact events wordt dan\\\\n10.000.000 x 3.150 / 112.807 = 279.237 mensen. https://t.co/kYFVUxD4KR\\n', 'Prikposten in cafés zou wat zijn , eerst een vaccin daarna Corona biertje om het te vieren. #lockdown #vaccination #ikwildieprik #TheMaskedSinger #beau #Covid #BREAKING https://t.co/ZT8kIZmtf5\\n', 'https://t.co/BZUBBX7X4J \"Om toch te zorgen dat genoeg mensen het coronavaccin krijgen, pleit 44 procent van de Nederlanders voor het ontnemen van rechten van ongevaccineerden\".\\\\n\\\\nIn welke foute film zijn we beland? Zij zijn toch ingeënt, dan hebben ze van ons toch niets te vrezen?\\n', 'Waarom vertelt de overheid en media je niet het werkelijke verhaal? het verhaal dat iedereen laat zien dat er al voldoende weerstand is bij 99,5% van de mensen om het virus te managen. Er is geen enkele noodzaak om gezonde mensen te vaccineren. Het klopt niet #IkPrikHetNiet\\n', '@xolonelystar__ als iemand ziet een meid is 1.65 maar 55 kilo en zij is zelf 1.65 en 65 kilo dan gaat ze onzeker zijn omdat ze zich dikvoelt gaat ze eetstoornis krijgen enzo 😮😮😮😮😮\\n', 'Vervolg op de vorige tweet.\\\\nTweet 1:\\\\nDeze meneer heeft conclusies uit studies voorgelezen over mondkapjes. Daarna komt een neurologe en zij licht toe welke schade kan optreden bij het dragen van een mondkapje. https://t.co/EwD9IGds1J\\n', 'Het amateurisme van het coronabeleid is onbegrensd. De IC-capaciteit is niet vergroot, kankerpatiënten worden niet meer behandeld en ook het vaccinatieproject is ongeorganiseerd paniekvoetbal.\\\\nKabinet maakt draai: eerst ziekenhuispersoneel vaccineren! #FVD https://t.co/GB3IvZ6njj\\n', 'Positief getest 8 dagen na de vaccinatie!\\n', '@mus_nico @thierrybaudet Zorgoverbelasting komt door politieke keuzes. Zal dus blijven.\\\\n\\\\nPsychische problemen door lockdowns, verlies baan, bedrijf en inkomen, geen sociale contacten, vrijheidsbeperkeningen nog veel groter. Nu al 70% jongeren die last heeft van burn-out klachten.\\n', '@alextencate Dat is een onzinnig voorbeeld, idd. Maar er zijn wel betere. Ik bestrijd het punt niet dat ook het christendom enge varianten heeft en dat mensen er rare dingen mee kunnen legitimeren.\\n', 'Oud-huisarts Dick Bijl over de griepprik: “waarom zou je iets nemen wat niet werkt?” https://t.co/jfeR5jbM9U \\\\n\\\\nEn vergis je niet: de trials die leidden tot de toelating van het griepvaccin waren niet anders dan de studies naar het vaccin tegen het SARS-COV-2 virus.\\\\n\\\\n#coronavaccin\\n', 'Het is 2 januari en opeens volgen er allemaal eenzame mannen met een midlifecrisis die denken een lekker jong ding te kunnen neuken via Twitter mij \\\\nAllemaal prima en bedankt dat je zo over mij denkt maar bespaar je zelf die moeite ben zo preuts als iets en neuken is vies \\\\nDoei!!\\n', '\"We mogen in het ziekenhuis niet weten wie er wel of niet gevaccineerd is, vanwege privacy. Dat is lastig bij bijvoorbeeld een uitbraak. Daarom heb ik aan de Inspectie gevraagd hoe we daarmee om moeten gaan\", zegt @HansSchoo van het Rijnstate Ziekenhuis. #nieuwsuur https://t.co/ZSnXDadsjU\\n', 'Ik voel me enorm moedeloos en machteloos. Corona blijft om zich heen slaan en ik heb niet de indruk dat de juiste mensen aan de knoppen draaien om dit te stoppen.  Moeten we dan maar toezien dat het volkomen uit de klauw loopt? Wat kunnen we nog doen? 😨😡😪 iemand een idee?\\n', 'Zelfs ‘n wetenschappelijk onderzoek van de @WHO naar het nut/bescherming van mondkapjes, waarvan de uitkomst al bekend was in sept j.l. werd door Europa en ook in NL niet opgepakt. Sterker nog, mondkap per 1/12 verplicht! @rivm @hugodejonge Zie bron.  https://t.co/ypj3CHFinb\\n', 'Advocaten klagen het WHO aan\\\\n\\\\nVoor misleiden van de pandemie, die geen pandemie is. \\\\nEn het beleid wat daar op volgde\\\\n\\\\n https://t.co/QoGj8FLaJy via @YouTube\\n', 'RT @SimoneSays123: Hahaha je bent ook een rund wanneer je met vaccins stunt 😂\\n', '\"Je hebt dan nog steeds de verantwoordelijkheid besmettingsrisico’s te voorkomen, maar dat kun je nu óók doen door je te laten vaccineren. \\\\n\\\\nDaarom valt goed te rechtvaardigen dat mensen die zijn gevaccineerd weer meer bewegingsvrijheid krijgen.\" \\\\n\\\\n#coronamaatregelen\\n', '@Jaycee__1973 Ik lees met mond open deze discussie. Ik val regelmatig (onbedoeld, per ongeluk) zonder mondkapje jumbo of AH binnen. Niemand spreekt mee aan of kijkt zelfs vervelend naar me. Denk dat per wijk, stad, verschillend is.\\n', '@volkskrant Mooi, als het werkt en we gaan eindelijk vaccineren kan #horecaopen en de winkels, wel tegelijk!! De economie moet weer draaien!! @MinPres @jesseklaver @hugodejonge @LodewijkA\\n', '#Vermist Suisunaila Leyba (20) vanuit #Zaandam sinds 1-1-2021.\\\\nSuisunaila is 1.65m, draagt een zw. trainingsbr., een lichtgr. vest en roze slippers. Verder heeft Suisunaila paars/bl. dreads met eigen haarkleur er doorheen.\\\\n\\\\nInfo: https://t.co/jIV7qRpIi8\\\\n\\\\nTips? ☎️ 0900-8844\\\\n\\\\nRT=👍 https://t.co/HgWz9VZJvu\\n', '#IkPrikHetNiet en nog een voorbeeldje van een vaccinatietrol. Je hebt ze er ook bij die beginnen je gelijk uit te schelden, beginnen over je uiterlijk, dat je niet taalvaardig bent, een wappie bent en slecht voorgelicht!! Je lacht je dood, wat een prutsers\\n', 'Toch het meest uit mijn verjaardag gehaald ondanks de gekke situatie momenteel. #lockdown #dankbaar\\n', '@that_standius @kluizelaar @Jetje33 @robertpijkeren Met je mondkapje.. .mafklapper. och jee.. wappie. Heb je je afgetrokken op het filmpje  van youp?\\n', '@Subvenioconsult Wat opvalt is dat de mensen hier, die tegen het vaccin en de maatregelen zijn, dit vaak goed onderbouwen en over het algemeen heel netjes en rustig blijven, maar dat diegenen die het daar niet mee eens zijn hun fatsoen volledig verliezen. Jammer is dat!\\n', '@2deKamerFVD Mijn zoon woont en studeert in China. In Shanghai leidt hij een volkomen normaal leven. Geen 1,5 meter afstand,  geen mondkapjes, horeca en alles gewoon open. Hij kan zich niet voorstellen wat hier in Europa gaande is.\\n', '@ruudvz @vliegertouwtje @thierrybaudet Niet waar. Je hoeft niet 4 jaar opleiding voor IC, dat is onzin. Hoe dan ook, IC is niet eens op 50%, nooit geweest dit jaar. lockdown heeft daar geen effect op, gezien ook in andere landen. Dus wil je zeggen dat Rutte schuld heeft aan personeel te kort? Ik laat het hierbij.\\n', '@WJMGroningen Klinkt voor sommigen wellicht alsnog als een nachtmerrie, maar dat moment van het licht, als in slowmo. Als ik er alleen al aan denk. En geen idee wie zij is of was, maar dat gevoel. Een krachtig en intens moment. En toen... WHOOSH... einde van de wereld (lees: wakker).\\n', 'RT @LFCNxsir: “Nobody knew who Van Dijk was before Liverpool.”\\\\n\\\\n“Van Dijk only had 1 good season.” \\\\n\\\\nVan Dijk: https://t.co/j01IguteAO\\n', 'De echtgenote van Jeroen Pols (Viruswaanzin) gaat op vakantie (Zanzibar) en JP spant een procedure aan dat zijn familie geen PCR test wil doen. Op 3-1 weer in NL. Verplichte quarantaine @bloemendaaltwit want dat is de Wet. Of een test of thuis quarantaine! Gem Bloemendaal actie! https://t.co/Lbsbuh2Kvh\\n', '@BeReddy6 @KartuzB In april 2020 was de voorspelling we zijn vertrokken voor minstens drie jaar en 5 golven. Nu na 9 maand klagen dat er een 3de golf gaat komen...\\\\n\\\\nBeetje laat en dat noemt zich BeReddy\\\\n😅😂🤣\\n', 'Wat is er aan de hand?? Mensen die ik zie als vrijdenkers zijn plots vóór vaccinatie tegen het Covid-virus! En zelfs dat je beperkt moet worden in je vrijheden als je die vaccinatie weigert! Wat is er gebeurt met ons zelfbeschikkingsrecht!? Jongens, kom nou!\\n', 'RT @depeiling: Voor welke optie kies jij? \\\\n1. #ikwildieprik \\\\n2. #ikwildieprikniet \\\\n\\\\nGraag een RT voor een groter bereik.\\n', 'RT @meer_irma: Mensen zijn goed geïnformeerd 🙏🏻 #ikvaccineer niet. https://t.co/lQQsLqsM8b https://t.co/64QtxqBeYZ\\n', 'RT @depeiling: Voor welke optie kies jij? \\\\n1. #ikwildieprik \\\\n2. #ikwildieprikniet \\\\n\\\\nGraag een RT voor een groter bereik.\\n', \"@BerryAarts @Subvenioconsult Je lichaam moet dus af van die externe vervuiling daar word je ziek van, prachtig hoe ons lichaam werkt. Elkaar besmetten is de grootste farce, dat heeft Pasteur ook toegegeven vlak voor z'n dood en z'n kleinzoon heeft de boekhouding daarover vrijgegeven.\\n\", '5/ Ja maar, er is toch een lockdown.\\\\n\\\\nZeker, en als de lockdown goed nageleeft en gehandhaaft wordt zou dat ook best kunnen helpen, maar in UK groeide B.1.1.7 door ondanks lockdown (zie Volz et al.) en https://t.co/t6OuFUA32J\\n', 'RT @RudolfH13535316: RIVM: In 2020 stierven 404 mensen aan griep. Normaal zijn dat er 6400. Wat klopt hier niet? https://t.co/Mfcs8TltFw\\n', 'Een story maken over hoe perfect mijn samenvatting uitkwam: hoofdstuk 3 klaar op de laatste regel van de pagina, hoofdstuk 4 op nieuwe pagina ‘zonder te schuiven met regels’ levert censuur op ivm coronavaccinatie. Woordje ‘regels’ bedekt met ongevraagde link naar vaccininfo\\n', 'Waar zijn die mensen die #ikprikhetniet tweeten zo bang voor? Dat er een chip van Microsoft in zit en ze dan elke 15 minuten vastlopen? :))\\n', '#ikwildieprik is gewoon trending. 😫Besef hoeveel mensen er zijn die werkelijk denken dat je goede gezondheid en je vrijheid afhankelijk is van een prikje. Soort van vaccinatie macht frei.... Bizar.....\\n', 'dit lied schreef ik 20 jaar geleden \\\\nvoor mijn dochter \\\\n(inmiddels gelukkig getrouwd)\\\\nmet liefdesverdriet\\\\nhet werd een nieuwjaarsklassieker\\\\neen wens een raad een verzuchting\\\\n\\\\n                                                                         foto Suhaila Sahmarani https://t.co/6rVCurH2sx\\n', \"Niet dat jullie dit willen weten, maar; glory holes werken niet met mondkapjes. Dus homo's op zoek naar een snelle kinky fix worden echt zwaarder getroffen. Iets waar ik het @COCNederland nog niet over heb gehoord.\\n\", '@joostzaat Sterker, men vergeet de patiënt zelfs helemaal.\\n', 'Is er een politieke partij die staat op aktieve opvolging van gevaccineerden, om eventuele bijwerkingen goed in kaart te krijgen? Die dat willen publiceren voor vertrouwen, nu we de testfasen grotendeels hebben overgeslagen?\\\\n\\\\n@fvd @sp @PVV2021 @D66 @cdavandaag @VVD @groenlinks\\n', '@vrtnws Het eerste dat écht bekend was over het coronavirus was dat kinderen (\"godzijdank,\" zo zij de viroloog dus al een jaar geleden) er geen last van hebben én ook dat zij niet \"de motor\" zijn. Daarom bleven de basisscholen ook open. Zullen wij onze kinderen dus gewoon met rust laten?\\n', '@WybrenvanHaga Ooit voet op corona afdeling gezet? Of ic, verpleeghuis afdeling? Nee? ..graag mondNeusmasker op! Klagen is makkelijk, doe zelf iets nuttigs en geen stemmingmakerij. Kook soep voor buren, beter neem kooklessen allen van uw partij. Maak evt partner blij..\\n', 'dat je blij 🙋🏼\\u200d♂️☺️ kan worden van ontvolgers... doe me best🖕🏼\\n', 'RT @stopumts: AH medewerkers worden fysiek tegen man zonder mondkapje - 02/01/21 https://t.co/a291Qks92T via @YouTube\\n', 'Ook dit jaar staan we weer voor je klaar! Ook als onze winkel dicht is. Online kun je gewoon bestellen, dan komen we het brengen. Kom je het liever ophalen? Dan kan dat ook.\\\\n\\\\nJe vindt onze webwinkel op https://t.co/QrvdOvJVii. https://t.co/pUkRq94Eiz\\n', 'Zal alle burgers vaccineren dit jaar sneller gaan...\\n', '@JoostNiemoller Mondkapje of geen mondkapje. Prik of geen prik. Iedereen mag daar een mening over hebben en ik laat iedereen in zijn waarde. De stelling dat gevaccineerde meer zouden mogen (moeten kunnen) riekt naar chantage. Ik neem voorlopig geen prik en heb daar mijn reden voor. Doei Joost.\\n', \"2. 'Tijdens WO2 werd miljoenen 'beschaafde' Duitsers 'n strikte vorm van 'overheidsgehoorzaamheid' opgelegd. Uit naam van die gehoorzaamheid werden ze medeplichtig aan de grootste genocide uit de geschiedenis. Ik waarschuw alleen maar.' \\\\n#mRNA #Pfizer #vaccin #vaccineren\\n\", 'Half Rotterdam gaat door corona failliet en wat doet @college010?\\\\n\\\\nNou, dat zet extra vaart achter €223.000.000 kostende groene gekte! \\\\nhttps://t.co/ZKa421jt77\\n', 'Een van mijn voornemens voor 2021: deze fantastische fotograaf en chroniqueur blijven promoten en ondersteunen. Gelukkig Nieuwjaar, @schlijper en @schlijperisrael !\\n', '@doomduijker @annstrikje @mustapha_muh Een vaccin werkt op de virusgroep, door de schil aan te vallen waar het virus in huist. Isolatie is daarvoor geen vereiste:\\\\nhttps://t.co/ZEBVKFgaF5\\n', '@de_Kapitein_ @Burgerfront1 @nee_coro @arjentikt @arnoldus_ted @viruswaarheid @Zxlfbeschikking @Gerritsen_Dan @JACKenWODAN2 @JDTVproducties @hetverzetnl https://t.co/TNm1igPePf\\\\n\\\\nMocht het tot een boete komen. Je kan het zelf aanvechten of inbrengen in 1 grote zaak, deze advocaat verzet zich principieel tegen de plicht en is op zoek naar mensen die in verweer willen gaan tegen een boete en wil er een grote zaak van maken.\\n', '@GrandeGerben Hahahaa, gelukkig geen katten in huis.. ik doe het zelf wel 💪🏼😃\\n', 'Column: Nieuwjaar - #rtvnoord https://t.co/QRIjHurwyO\\n', '@joostzaat @mariabauwens De eerste lijn wordt volgens plan gevaccineerd. Wanneer ze in die paar dagen omvallen zou dat ook zijn gebeurd wanneer de vaccinatie in de ziekenhuizen was uitgebleven.\\n', 'Volgens onderzoek is de effectiviteit van t vaccin 95%!ieder mens die zich wil laten vaccineren kan dat doen, dan zijn ze voor 95% beschermd.Degene die dit niet willen, doen dit niet, de meesten zijn zonder vaccin ook al 99%beschermd dh immuunsysteem, dan zijn we er toch!?\\n', '@drPaulElbers @mbsnl Dit is allemaal zo broodje aap. Ik werk nu al 3 wk met dit vaccin. Komt in 1000 doses op -70. Je ontdooit dan 200 flesjes (per fl 5 (eigenlijk 6) doses); die kun je keurig in koelboxen verspreiden naar adressen (zh, huisarts etc. ) en moeten dan in 4 dg worden toegediend. Easy.\\n', 'RT @zwervanch: Niet zo goed voor het onderzoek bijwerkingen. 🤔\\\\n\\\\n#PfizerVaccine https://t.co/K2G1elAweR\\n', 'Opstartproblemen grotere testcapaciteit op Brussels Airport achter de rug https://t.co/BZODv3ySES #Brussel #Zaventem\\n', 'P 1 BZB-01 Ass. Ambu Dahliastraat Kloosterzande 196750 https://t.co/sDz9oHUnZK\\n', '@GEOosterom @ChrisAalberts Jazeker wel. Maar als je dat beoogt, zou je als eerste veel strenger moeten zijn op bijvoorbeeld het thuiswerken bij bedrijven. Tot nu toe wordt vooral daar het virus verspreid en zeker niet op basisscholen. Maandag mag de helft van NL gewoon weer naar zijn werk.\\n', 'RT @nuijten_rob: Als vaccins besmettelijkheid niet tegengaan verliest uitsluiting van niet-gevaccineerden zijn argument.\\n', 'De bevindelijke kerk en het geprevel van psalmen zal niet ons uit de corona helpen... 👍👍👍\\n', \"Lees vooral het blauwe stuk even en zie hoe zo'n grote groep in Nederland niet eens de keus kan of mag maken om te vaccineren .\\\\n\\\\nEn die groep mag dan niet meer deelnemen aan de maatschappij? Mag niet meer vliegen, uit eten of naar de schouwburg? Want geen vaccinatie bewijs . https://t.co/cZUfgcYExx\\n\", 'Ik ook #ikwildieprik\\n', '@Bryan65165100 @Haii20202020 En de rest wat gewoon moet werken om dat thuiswerk in bepaalde beroepen gewoon niet mogelijk is zie het al voor mij ben grondwerker woon 4 hoog waar moet ik de sleuf graven en kabels of riool gas plaatsen\\n', 'Teken deze petitie om aandacht te vragen voor Ivermectine voor behandeling en preventie van Covid-19.\\\\nOnbegrijpelijk dat verschillende studies positieve resultaten laten zien maar dat het door @MinVWS wordt genegeerd! #FVD #COVID19 https://t.co/5i2yeSPOwk\\n', '@TAART3N @PGemengd @torfsrik Heeft u echt de indruk dat slechts 2% de regels niet naleeft? Als u naar de winkel gaat, ziet u dat bijna iedereen zijn handen reinigt? Bijna iedereen in zijn eentje gaat? U geen moment dichter dan anderhalve meter komt? Bijna iedereen bij het verlaten wederom zijn handen reinigt\\n', 'GVD!!\\\\nDuss...ionisatie blijkt te helpen. Hebben ze in China in ziekenhuizen gebruikt. Onze regering en de RIVM hebben hier niets mee gedaan en RIVM ontkent dit zelfs. Maar er staan wel 55 ionisatie apparaten in de Tweede Kamer! \\\\nWat een ontiegelijke schoften!\\\\nDELEN MENSEN!\\n', 'Kan iemand Bonte vragen wat hij doet met een patiënt die epilepsie heeft? Schrijft hij medicijnen voor of vertrouwt hij die ook niet omdat het onderzoek bekostigd en uitgevoerd is door de fabrikant zelf?\\\\n#koekoek\\n', 'RT @IkNet: In Duitsland is niet veel animo voor het #vaccin. Prikstraten blijven leeg.\\\\nhttps://t.co/LidlyoIEHD\\n', 'NIJMEGEN: Nijmegen Centrum. Politie zoekt: man, getint, 170 cm, blw jas en blw spijkerbroek, mondkapje, 35 jr,  kleine zwarte rugzak. \\\\nTips? 112 https://t.co/hUBsfn4Nel\\n', 'Bij opruimen huis vinden we een achteraf bijzonder artikel d.d. 13-10-2018 uit @nrc waarin Gommers over ic-tekort klaagt... Toen moesten er al keuzes gemaakt worden. Spannend welke politici en politieke partijen hiervoor verantwoordelijk zijn en of het volk dat 17-3 beseft... https://t.co/kZKMpkDdNr\\n', '@Gaia_Universe Het is ook onlogisch. Als het vaccin doet wat zij beweren dan maakt het toch helemaal niet uit als je ongevaccineerden toegang geeft?  Zij kunnen alleen ongevaccineerden besmetten? en alleen ongevaccineerden worden dan toch ziek? wat is het probleem? #vaccinatiebewijs #vaccineren\\n', 'Heldere uitleg van Diederik Gommers over het nieuwe COVID-19 vaccin; hoe het werkt en waarom hij het neemt. \\\\n\\\\nKnap hoe hij onvermoeibaar en met verstand van zaken blijft communiceren over wat nodig is om corona onder controle te krijgen. \\\\n\\\\n#ikwildieprik 💉 https://t.co/ETSlPK69LB\\n', 'RT @pas_lois: ???? Coronacijfers zijn gunstig OMDAT de scholen dicht zijn wjw dom https://t.co/6c2gfR5H7a\\n', '@Truth___2020 @Willeke86Willem @Sandoka04120321 De kans dat ik er iets langdurigs aan overhoudt is juist weer veel kleiner als ik het vaccin wel neem. Plus is de kans dat de mensen om wie ik geef daarmee ook kleiner wordt dat ze iets langdurigs overhouden aan het hele COVID gebeuren.\\n', 'Mijn rondje werd vanmiddag ruw verstoord door één of andere gribushond die opeens zijn tanden in mijn achillespees wilde zetten. Mijn Meindls zijn gelukkig hondproof. Het baasje maakte zich haastig met hond en al uit de voeten. Er kon nog geen \"doet ie anders nooit hoor\" van af.\\n', 'Willen diegene die het vaccin weigeren mij eens uitleggen hoe zij 2021 zien? Gaan we door zoals in 2020? Van de ene lockdown naar de andere? De horeca etc. nooit meer open? Een leven met mondkapjes? Bedrijven kapot gaan? Voor altijd 1,5 meter? Willen jullie dat? #eensmetJoost\\n', \"@mleisink @ChrisAalberts Zie https://t.co/y9SMapFz4O \\\\n\\\\nScholen zijn bij uitstek 'crowded places', meer nog dan veel werkplekken. Met vaak slechte ventilatie! En vanwege lager test% is onduidelijk hoeveel lln besmet zijn. Veenbrand dus. Bloedlink.\\n\", '@Marleen_72 Ze lijken ook steeds te verschuiven, dat helpt niet 🙄. Je zou bijna alleen nog maar in bed / op de bank gaan liggen, en verder niets doen. Behalve dan dat ik me daar ook slechter door ga voelen. Een klein beetje bewegen of dingen doen werkt positief.\\n', '@andersyvonne @Solana1983 @JamesRodgerP Je kunt nog steeds mensen besmetten als je gevaccineerd bent. Of iig daar is nog geen zekerheid over. Ze weten niet wat het doet met de verspreiding. Dat is nog niet onderzocht.\\n', '@titiadijk @WybrenvanHaga @MinVWS U weet niets van mij en ook niet naar wie ik luister. Barst van de aannames. Ik wens u sterkte met uw vaccin.\\n', 'Het aantal personen in het ziekenhuis nam af met 7%, het aantal personen op intensieve zorgen met 3%. Er zijn typisch wel iets minder ontslagen op feestdagen, dus dit kan hier een impact hebben. Het aantal overlijdens daalt sterk van gemiddeld 88 naar 68 per dag. 5/6 https://t.co/wg3b7Y8YIL\\n', 'Zeg @Politie wees gehoorzaam en draag een mondkapje. Als je ziek wordt, mij een zorg.\\\\n\\\\nMAAR:\\\\nAls je aan het stuur zit en je krijgt zuurstof gebrek, reageer je niet meer goed en veroorzaak je een ongeluk waar ANDEREN het slachtoffer zijn.\\\\n\\\\nWil je svp even NADENKEN\\\\n\\\\n@teamverkeernh\\n', '@meneerdebraak @marcelbar8 Omdat ik het zat ben, ik wil gwn uit die tyfus lockdown en het lijkt wel alsof jullie wanhopig beginnen te worden alles te doen dat tegen te houden, natuurlijk maak ik mij daar boos om. Bovendien klopt die artikel helemaal niet: https://t.co/ZhUiLrJqBI\\n', 'Zoek de verschillen met Vlaanderen. #Israël zet onder meer performant leger in. Grotere resilience ook. \\\\n\\\\n#vrtnws #israel #coronavirus\\\\n\\\\nCoronavirus: Israel leads vaccine race with 12% given jab https://t.co/sOzeH9u4WE\\n', '@jakke009 Ja maar tenzij jij in een rusthuis werkt of zit kan jij daar toch nog niet aan ?Of mis ik nu iets?\\n', '@torfsrik Wat als we nu eens stoppen met naar het aantal besmettingen te kijken. Testen geven 97% valse pos!!! Wat een giller. Hoeveel mensen zijn er bvb in NL gestorven in 2020? # doden over tot bevolking staat op HISTORISCH DIEPTEPUNT! Waarom dan lockdowns en vieze ongezonde mondvodden??\\n', '@LuizdulaPelz @frankwijn1 We beschermen u met een vaccin maar wat er na 2 maanden gebeurt weten we niet en bij het testen hebben we aĺeen gezonde mensrn zonder ondrliggend lijden in het cohort gehad\\n', '7/7) Hoe in paniek moet je zijn dat je dit haastig ontwikkelde goedje waarvoor zelfs het verbod op genetisch manipulerende technieken bij mensen moest worden geschrapt, dat je dit vaccin jubelend tot je neemt. Scheld dus niet op deze mensen, maar doe het licht voor ze aan.\\n', 'Bij opruimen huis vinden we een achteraf bijzonder artikel d.d. 13-10-2018 uit @nrc waarin Gommers over ic-tekort klaagt... Toen moesten er al keuzes gemaakt worden. Spannend welke politici en politieke partijen hiervoor verantwoordelijk zijn en of het volk dat 17-3 beseft... https://t.co/kZKMpkDdNr\\n', '@mariabauwens De beeldvorming is nog steeds dat de zorg om ziekenhuizen en ic’s draait. Natuurlijk zijn die belangrijk, maar als de eerste lijn omvalt,  heeft een ziekenhuis echt een probleem\\n', 'Vaccinaties tegen COVID-19 in de wereld aan het begin van het nieuwe jaar! Raad eens wie weer de pineut zal zijn? #VIVALDI 😳 https://t.co/N3BIY11BeK\\n', '@MargueritePerle @JoostNiemoller @wadk Goed verhaal. Succes met het testen in ieder geval👍\\n', \"@HumbertoTan @BenWoldring Met inbreng van know how @MartiniPlaza Groningen is hier al XL-teststraat en binnenkort ook 'priklocatie' gerealiseerd. Waarvan acte! 👊\\n\", 'Als ge dit weekend iéts leest in een gazet, laat het Paleis der Natie zijn, van @cauwelaert \\\\nOverheid heeft maar één taak:\\\\nHet vertrouwen herstellen.\\\\n\\\\nIn plaats van de mensen uit te lachen omdat ze naar de kapper willen of in plaats van wat te prutsen aan de vaccindoses. https://t.co/a0x8Pwq6IK\\n', '@DirkVerhofstadt @BartSomers @Jongvld @lvsvleuven @TessMinnens @egbertlachaert akkoord, maar telt dat ook voor https://t.co/RsZsO6q9iE?\\n', '@e_tulp @WybrenvanHaga @MinVWS En jij bent wel arts Arie? Om dit te concluderen?\\n', 'Heldere uitleg van Diederik Gommers over het nieuwe COVID-19 vaccin; hoe het werkt en waarom hij het neemt. \\\\n\\\\nKnap hoe hij onvermoeibaar en met verstand van zaken blijft communiceren over wat nodig is om corona onder controle te krijgen. \\\\n\\\\n#ikwildieprik 💉 https://t.co/ETSlPK69LB\\n', '#eenzamejongeren #maatjegezocht\\\\n\\\\nIk ben opzoek naar vriendinnen, leeftijd tussen de 20 - 30 jaar. Ik heb afstand gedaan van vriendinnen die niks om mij gaven, en misbruik van mij maakten. Het lijkt me daarom leuk om nieuwe contacten te krijgen.\\n', '@mikaeljmartin Heel interessant. Bedankt. 👍\\\\nToch kan ik het idee gewoon niet uitsluiten, vanwege een verwaarloosbaar tijdsbestek waarin satellieten oppervlaktes van de Aarde meten.\\\\n\\\\nDie continentaldrift past ook in het plaatje. Kort gezegd blijft het gewoon boeiend, met vraagtekens. 😉\\n', 'Morgen geen semi-awkward nieuwjaarswens momenten maar gewoon \"beste wensen\" en even zwaaien via Teams #thuiswerken\\n', 'Dr mengele zal trots zijn op de vaccines die in ons gespoten worden want hij experimenteerde met vaccines op de joden.\\n', '@tweetmenno Ik zie door de bossen gelukkig nog de bomen heel divers en \\\\nin elk bos dwalen de zogenaamde schapen opzoek naar hun herders.\\n', '@vanranstmarc Ik ben naar het “rad van fortuin”geweest, bordjes gaan draaien. Moet ik in quarantaine? Of was dit essentieel?\\n', 'De kans om corona te overleven  was dus 99.94%. Gemiddeld. Voor gezonde mensen onder de 65 jaar, lag de overlevingskans dus nog een stuk hoger! Waarom dan nog zo nodig een vaccin? Volslagen waanzinnig!\\n', '@moeva18 Je neemt een vaccin ALLEEN voor jezelf. Als het werkt voorkomt het symptomen zodat niemand weet dat je een wolf in schaapskleren bent, en anderen besmet. Oh,dat is de bedoeling? Ook heeft 3% na vaccin medische zorg nodig. Aso om hen te belasten. En op oud en ziek is niet getest. https://t.co/ONwon8wkV7\\n', '@JoostNiemoller Je suis Wappie! Stop de Covid waanzin! Wordt wakker en 🐸 kom uit je pan. Geen 💉 genterapie maar een goed 💊 bijvoorbeeld Ivermectin en we kunnen gelijk terug naar \"normaal\" Angst sluit uit! https://t.co/tF6dpalolp\\n', '@mohamedouaamari *thermische slaapzak*\\\\n* vraagt uitzondering op avondklok aan*\\n', '@mboudry @jdceulaer @BenWeyts Ben Weyts is een moordenaar net als Maggie de blok en Beke ... en van Ranst enz. Ik heb een compilatie van tweets en video’s die totale onkunde en regelrechte genocide kunnen bewijzen. En ik ga dit indienen bij het Strafhof in Den Haag. Met hulp van enkele artsen en bedrijven !!\\n', 'Ik krijg heel erg veel schrijnende berichten van ondernemers in de beautysector die op het punt staan failliet te gaan. Geen TOZO vanwege partnertoets, terugbetalen NOW1 door de piek in mei en geen omzet door de zinloze lockdown. #StemNederlandTerug #FVD \\\\nhttps://t.co/kZYvBsquwh\\n', '@LHVhuisartsen Het zal je verbazen, of niet natuurlijk, dat juist de hoger opgeleide zorgprofessionals vaker NEE zeggen tegen het vaccin. Dit geldt zeker ook voor huisartsen.  Of ik spreek juist hen die het niet willen, maar dat lijkt me onwaarschijnlijk.\\n', '@3Groter Rutte U ziet er slecht uit\\n', '\\'Thuis\\'-fans gaan over de schreef, makers grijpen in: “Doe hier niet aan mee\" https://t.co/2GkwmV6rqI https://t.co/cxfySUt2We\\n', 'Vanaf morgen moeten we er weer aan geloven: de kinderen lesgeven (en bezig houden als ze klaar zijn) en thuiswerken. Maak nu gratis een familie-account aan op Chessity.  Terwijl de kids zich vermaken met leren schaken, kan jij ongestoord werken. https://t.co/PWLIWiRXFQ\\n', '@McMiek66 @Baffie17 En los van deze extremen: de ene ouder kan wel thuiswerken, de ander niet. Sommigen zijn alleenstaand. Zelfstandigen zien hun inkomen en levenswerk verdampen. Verder dan ‘het zelfde schuitje’ kan deze situatie niet van de waarheid af staan.\\n', '@SendItTo Wat een ophitsers, die zit binnenkort zelf in lockdown net als eerder... waarom zat ie 3 jaar vast, deelname criminele organisatie, drugs of vrouwenhandel\\n', '@Ingridodl @HilcoJansma Ik werd heel blij van deze film. Wat een grappige beestjes zijn het....\\n', 'Gommers wil de vaccinaties uitdelen.Het ziekteverzuim is hoog bij het personeel. 1. het was altijd hoog 7%. 2. De werkelijke reden is ze willen geen prik dus ze worden ziek. 3. Per prik krijgen ze in Duitsland de artsen E 120 per prik. 4. In Duitsland krijgen ze per test E 50. 🤔\\n', '@NvBakel1975 Ha Nathalie ! (En nog gelukkig nieuwjaar). Ik heb het ook nog nooit gezien en heb die ambitie ook niet. Dus we zijn alvast niet alleen 🙃\\n', 'RT @xxmiekewxx: Stop de lockdown,\\\\nNederland weer vrij.\\\\n\\\\nhttps://t.co/s4g69yI91x https://t.co/Sdoap99UK1\\n', 'Heldere uitleg van Diederik Gommers over het nieuwe COVID-19 vaccin; hoe het werkt en waarom hij het neemt. \\\\n\\\\nKnap hoe hij onvermoeibaar en met verstand van zaken blijft communiceren over wat nodig is om corona onder controle te krijgen. \\\\n\\\\n#ikwildieprik 💉 https://t.co/ETSlPK69LB\\n', 'RT @christmbg: Er was een tijd waar we geen mondkapjes droegen ptn das precies 100 jaar geleden\\n', '@satyavacas @Diederik Gommers vergeet even te vertellen dat er wereldwijd reeds 4000 mensen zijn overleden, honderden mensen dus wél HIV hebben gekregen, mensen met verlammingsverschijnselen zijn na de vaccinatie. In Engeland 20 jongens binnen een week overleden nadat zij £ 100.000 haddrn\\n', 'Eventbranche zit vrijwel zonder werk en NL lijkt moeite te hebben met organisatie vaccinatie. Terwijl de wereldtop qua events in NL zit en deze sector alle ervaring heeft met uitnodigen, ticket registratie, crowd management, IT, deadlines. Zullen we verbinding maken? #TakeAction\\n', 'RT @buffyzzz: We delen hem nog een x! Zeitgeist\\\\n#lockdown #coronamaatregelen\\\\n#COVID19\\\\nhttps://t.co/FgMsnLYTFf\\n', '@hugodejonge Het virus houd ons niet in de greep, maar jouw duivelse agenda! Karma awaits Hugo. Big Time. Moge 2021 je alles brengen wat je toekomt. Tribunaal.\\n', 'RT @PVanDoorn4: Zo....en dit is mijn mening https://t.co/HkhQrLRYqy\\n', '@l_lembeck @GGDTwente Je kon er op de fiets naar toe. Maar voor degene die ook dat niet kan is er misschien wel een probleem. Ik weet niet wat daar voor geregeld is. Dat neemt echter niet weg dat ik respect heb voor de hardwerkende mensen van @GGDTwente\\n', 'RT @chamwamba: Er is uiteraard geen enkele twijfel. Ik bescherm graag mezelf en anderen. #ikwildieprik #IkPrikHetWel #ikvaccineer\\n', 'Vorige week zijn 72 inwoners van  @GemWbDuurstede positief getest op #COVID19. Dat is gelukkig een stuk minder dan de 117 van de week ervoor, maar nog steeds veel te hoog. Houd je ook in het nieuwe jaar aan de maatregelen, dan krijgen we sneller onze vrijheden terug. #alleensamen\\n', 'Dit is echt een nummer voor jou… Kan Niet Denken van Bartofso\\\\nhttps://t.co/VIcZfqy1g4\\n', '@fmeeus1 Zelfs de lacunes van de PCR test in acht nemend, en dat gemeten besmettingen op zich geen issue zijn, vraag ik me af of er een \"ceiling\" effect bestaat in pos. tests? En dat bijv. België dat reeds voor Duitsland of Nederland heeft bereikt? https://t.co/ox5OyIHbzN\\n', 'RT @MichelleAnousjk: @Fleur_Ru11 @fvdr Eerste twee vaccinatie straten van de drie in duitsland gesloten, opkomst slechts 200 personen\\\\nhttps…\\n', '@AnneUitZutphen Ik bedoel alleen (in m’n uppie) niet eenzaam hè😉\\n', '@MarliesKdG De zorgsector vaccineren is niet voor het beschermende muurtje maar puur dat we genoeg handen aan bed en artsen hebben. Wat logisch is. Crisissen kun je alleen bestrijden met de mensen die de crisis bestrijden. Als die wegvallen is de ramp niet te overzien.\\n', 'Gelukkig nieuwjaar. En nu begint pas het grote uitleggen aan de generatie die in 2003 is geboren. Succes met monteren, maar ik ga het haar niet uitleggen. In 1995 ging moeders er namelijk met mijn leven vandoor, en dat is niet goed te praten. Nu niet, toen niet, in toekomst niet.\\n', '@psych_wijchen @zorgenzo @MarcGr8 @Blue_coach @PaulBlokhuis Ik heb dat in de zomer gedaan. Maar: heel lastig om afstand te houden (je loopt al snel te dicht op elkaar), lastig goed te timen en lastig om geen bekenden tegen te komen.\\n', \"Vanaf morgen gaan we na een korte vakantie weer heerlijk met de honden wandelen. Wilt u dat uw hond ook zo'n wandeling verdient? Neem vrijblijvend contact met ons op. Voorlopig nog via https://t.co/i8laQRXcGo. 2/2\\n\", '@MrsMartine Ik deed het ook in quarantaine gewoon zelf, en dan maar met mondkapje op. Blijft iedereen vanzelf bij je uit de buurt!\\n', '@amber_kooijmans Ik ben sinds 4 jaar aan huis gekluisterd wegens ziekte en voel me rijk dat ik goed alleen kan zijn☺️\\n', '@JennekeEnsink @RianVisser @IngridBilardie Zeker. Nogmaals testen en binnen blijven tot de klachten over zijn.\\n', '@GielenEllis Echt dapper. Binnen de anderhalve meter overleeft geen virusdeeltje, joh! https://t.co/OEBGwBElKb\\n', '@MatthijsMarell @palpeet @BastiaanRagas Dus ook gebieden waar gevaccineerde niet mogen komen?\\n', '@JoostNiemoller Overigens heb ik in het verleden nog nooit een vaccinatie geweigerd. Het is voor mij juist de vrijblijvendheid die vertrouwen wekt.\\n', '@123Max6 Hoe moet ik dat zien? Is dat indirecte vaccinatieplicht of sociale segregatie wat ook neer komt op een indirecte vaccinatieplicht?\\n', '3/ Ivor Cummins slot (3 min):\\\\n\\\\n- Zkh capaciteit opschalen is makkelijk (itt. IC cap.)\\\\n- Mortality (IFR) ligt binnenkort al op flu-level\\\\n- Kosten vaccin per levensjaar is veelvoud v normaal\\\\n  \\\\nZijn lockdowns/vaccins wel \"rendabel\"?\\\\nDoet niemand de \"math\"?\\\\n\\\\nhttps://t.co/oArGe4mnbQ\\n', '@JoostNiemoller Prima als je die prik wilt. Respecteer diegene die de prik niet willen! Er komt veel bij kijken. Het is niet waar, dat je door vaccinatie een virus bestrijdt. Een virus is niet te bestrijden. De griep heerst ook nog steeds! En er zijn er genoeg die de griepprik ook niet nemen.\\n', '@Kanteldenker @liacoach Ik vrees dat je gelijk hebt. Hetzelfde geldt voor  psychiatrische patiënten. Lijkt ook een vergeten groep bij het inenten. #onrendabelen #ikwildieprik\\n', 'RT @LindaNeutraal: Kijk even naar de stand van deze poll.\\\\n\\\\nWie geloofd dat een meerderheid van NL voor die experimentele prik is? https://t…\\n', 'Goedemiddag, beetje reclame tussendoor, er moet tenslotte ook nog geld verdiend worden. \\\\n\\\\n#Thuiswerken #coronavirus #ikwildieprik #Catshuis #lockdown \\\\n\\\\nSlechts € 749,00 \\\\n\\\\nHP Probook 450 G7 i7-10510U 15.6\" FHD 8GB 256GB W10P https://t.co/LYgoMNuWSR\\n', 'Stelling: Vaccinatie tegen het coronavirus mag nooit verplicht worden #stem\\\\n\\\\nGraag een RT voor een groter bereik. Ben je nog geen volger?  Volg ook @depeiling op Twitter.\\n', 'Ha, mijn interview met Jeroen Elfferich, slagwerker op de piano, nu ook te lezen via @kunsthartblog! Dank, en een gelukkig en gexond 2021 @eclecticboogie\\\\nhttps://t.co/E3S0lsI8ZX via @kunsthartblog\\n', 'Pfizer roept wereldwijd vaccins terug: ‘RIVM vindt ze onhandig’ https://t.co/oiwiatUUWQ \\\\nwat is  dit nu    terug   naar de  farma  zal  het dan toch niet  zo goed zijn   voor de mens\\n', \"@AnneBruijne @Lichtbolletje Ik ben er na de aardbeving in '77 nooit meer geweest. Heb nog wel enige tijd gecorrespondeerd met de skileraar. Zijn gezin was hard getroffen door de enorme verwoestingen in Boekarest. Alles kwijt. Gelukkig konden ze terecht bij familie. Ceausescu is vanaf die tijd erg veranderd.\\n\", '@FD_Nieuws Deze “pandemie” komt tot een eind, wanneer de media zeggen dat het geen pandemie is.\\n', 'Duitsland verlengd de lockdown, dus Nederland volgt er na natuurlijk. Ze laten ons nooit meer gaan wat ik al roep sinds maart ofzo.. maar bljkbaar is het merendeel van NL nog zo dom als wat en slapen lekker door\\n', '@Entrepreneurix Ze zien niet dat het een palet aan maatregelen is wv een kapje er slechts eentje is. Naast de anderhalve meter, ventilatie, lange/korte tijd in een ruimte met iemand zitten enz. \\\\nEn dat kapje. Hier al lang verplicht. Als ik m in een week in totaal een half uur op heb is t veel.\\n', '@Bonny16939529 @viruswaarheid Hou eens op over Dit kabinet. Ieder kabinet zou hetzelfde gedaan hebben.  Net als de rest van de wereld min of meer dezelfde maatregelen nemen. Denk eens na waarom. Iedere regering zit er toch niet om een burger te pesten. Denk eens na over de andere kant\\n', '@mkeulemans @SoniaBoender Waarom moet vaccineren altijd gepaard gaan met een naald die in een arm verdwijnt, waar menigeen niet goed tegen kan?\\n', '@Wim04789402 @sil_ver_sur_fer @sas61 @Nederlanse @MarjoVrij @Yola9999 @3Groter Wat moet ik hier nu mee? \\\\n\\\\nIk neem aan dat je dit kunt onderbouwen. \\\\n\\\\nDus de hele wereld is bezig met een lockdown die niets met Covid19 te maken heeft. \\\\n\\\\nTja, ...zeg het maar.\\n', '@harryhol Ik niet. Ik ben erg pro-vaccinatie, maar wat jij beschrijft gaat veel te ver. Zeker ook omdat er niet alleen maar weigeraars zijn maar ook mensen die geen vaccin mogen.\\n', '@drPaulElbers @mbsnl Dit is allemaal zo broodje aap. Ik werk nu al 3 wk met dit vaccin. Komt in 1000 doses op -70. Je ontdooit dan 200 flesjes (per fl 5 (eigenlijk 6) doses); die kun je keurig in koelboxen verspreiden naar adressen (zh, huisarts etc. ) en moeten dan in 4 dg worden toegediend. Easy.\\n', 'Ik hoor nogal wat tegenstrijdige berichten via #smartschool en er rond over verplicht dragen van #mondmaskers voor 5de en 6de leerjaar. Hoorde ik @benweyts gisteren niet op #vtmnieuws dat dit enkel zou worden overwogen indien cijfers verkeerde richting uitgaan? \\\\n#iemand?\\n', 'RT @Wim04789402: @EenNederland @sil_ver_sur_fer @sas61 @Nederlanse @MarjoVrij @Yola9999 @3Groter Ik dacht dat je er heel blij mee zou zijn.…\\n', '@slechteslaper Het is wel geinig hoor. Alleen in de eerste lockdown ging ie maar tot een bepaald aantal punten. Dat was een beetje jammer.... Toen er weer af gegooid en nu 1,5 maand geleden maar weer opnieuw begonnen🤣\\n', '@RealShowstopper en jij wanneer je bijwerkingen krijgt?\\n', 'RT @DanielTuijnman: Lange-termijneffect van vaccinatie: https://t.co/9GcUPNUEvV\\n', \"RT @BNR: 'Falende aanpak obesitas onderdeel van heftigheid coronapandemie' https://t.co/5xfDUkoLvk\\n\", '@Nic90998199 @jan_molenberg @TweetBastiaan @haarlem @POL_Haarlem @Rijksoverheid @NOS @RTLnieuws @rivm @ggdkennemerland Mensen we hebben het hier over de griep! Stop ermee\\n', 'De #vaccinatie cijfers in België: vanaf volgende week gaan we van 2 naar 700 vaccinaties. \\\\n\\\\nDeze fikse stijging brengt ons % alvast bij de absolute koplopers in Europa en in de wereld! \\\\n\\\\n👏👏👏 #Vivaldi &amp; #Jos\\n', 'RT @_padvinder: Lockdownparty’s zijn geen kwesties van meningen, je doet dat gwn niet, simpel toch?\\n', '@BastiaanRagas En als er bijverschijnselen zijn vanwege het vaccin, dan ook maar doodgaan? Wat ben jij een vuiler nsber zeg! Flutacteur!\\n', 'RT @LangeDikkeTrien: Bij een gezamenlijke vijand (een gevaarlijk virus) vindt men elkaar. 😊 https://t.co/40AampslBm\\n', 'We hebben uiteraard de overheid hiervan moeten inlichten. Er zijn zaterdag testen afgenomen en het is nog wachten op de resultaten daarvan. We tellen 140 bewoners en 160 personeelsleden.Begrijpelijkerwijs kan men niet vaccineren zoals een uitbraak niet helemaal onder controle is.\\n', 'Rina (box: 645) is aanwezig sinds 17:33! https://t.co/802GKdisrA\\n', '@blancoarchitect Neen thuiswerk veroorzaakt mails uitlezen tot 22u, in het w.e whatsappen krijgen, het werk stopt precies niet. En op reis is er niet bij ...normaal is dat ontstressen want dan neem ik geen pc mee en blijft de mailbox dicht. Ik lees geen mails uit op iPhone.\\n', '¯\\\\_(ツ)_/¯ Corona-uitbraak na opnames online kerkdienst in Biddinghuizen, twee leden overleden  https://t.co/eaKcg7WIcs\\n', '@JoostNiemoller Onderteken je deze dan ook even. Dit is wat ons als wappies ook werd voorgehouden, geen recht op IC plek nl. https://t.co/24zLVHm2KW\\n', '@JvanderAa3 @erikvmuiswinkel Zeg dat even tegen die demonstranten die na afloop zonder mondkapje bij mij in de bus stapten. Idioot gedrag!\\n', '@BastiaanRagas Dus als je je laat vaccineren met de kans op erge complicaties, krijg je voorrang ? Dan heb ik idd dat jij er in ligt ipv mijzelf.\\n', '@Waanzinema @KarenFrancoiss Voor mij voelde het allemaal een beetje inauthentiek aan. Ervaringen verschillen, gelukkig maar.\\n', 'Kan Marianne niet een ander soort spuitje krijgen? https://t.co/0GWrviedVV\\n', 'Ik probeer het nog 1 keer om meer volgers te krijgen of een reactie op een tweet en anders stop ik toch maar met Twitter. \\\\nWant zelfs hier kan je je ontzettend eenzaam voelen. \\\\n1 januari een tweet geplaatst om de weinig volgers die ik heb een gelukkig nieuwjaar te wensen (1)\\n', 'ondertussen worden kinderen v@rkr@cht, maar who cares ??? mondkapjesplicht, heel belangrijk, solidariteit, we doen het voor de zorg, zodat ze kunnen dansen https://t.co/sVwbqRbZT0\\n', 'Einde vakantie. Ik zie niet op tegen werken. Ik zie op tegen opnieuw maandenlang hele dagen alleen in een kamertje zitten. Veel courage aan alle eenzame thuiswerkers. Denk aan treinvertragingen, ijzige perrons en slappe kantoorkoffie.\\n', 'Ah, na de acute zorg krijgen nu ook de huisartsen voorrang. Wie nog meer? Er kan nog meer bij. Leraren? Supermarktmedewerkers? Mondhygiënisten? Mensen onder de 25? Iedereen behalve de jongere kwetsbaren een vaccin! \\\\n#Sarcasme #IkWilDiePrik\\n', 'Bewust heb ik het gedoe rond Oud en Nieuw proberen te negeren. \\\\nMaar het zal zeker niet genegeerd worden door het corona virus.\\n', 'Het wordt met de dag gekker!\\\\n\\\\n#corona #natuurgebied #winterswijk \\\\n\\\\nhttps://t.co/P4qa2qoJPf\\n', '@Houdafstand @1philosophizer @PuurAva @bosmana @ecdc En wat is uw verdict over faceshields?\\n', '@nelAFCA @RTLnieuws Tuurlijk jongetje, de lockdown is een screenplay wat wordt uitgerold!! Alleen jij moet nog ontwaken uit je slaapje. Maar komende weken gaat er wat gebeuren, dus zet je helm op en pak de popcorn en enjoy the ride!! Het zal een openbaring zijn. En dan denk je kut, ik ben bespeeld.\\n', 'Gelukkig blijkt de tv arts toch aan de goede kant te staan. Ik hoop dat hij een voorbeeld kan zijn voor andere huisartsen!\\n', \"Het is één ding dat je bang bent voor een prikkie. Een ander ding om niet te geloven in het nut van vaccinatie.\\\\n\\\\nMaar om actief mensenmassa's op te zoeken, puur om dat virus nóg langer rond te laten waaien door de wereld.. Waarom genieten deze mensen zo van de lockdown?\\\\n\\\\n#Haarlem\\n\", \"Verwacht wordt dat 100 bussen, 30.000 auto's en 1,5 miljoen mensen op 6 januari naar Washington gaan, mogelijk meer ... 🥳😊❣️\\\\nhttps://t.co/8MwFiLjSwH\\n\", 'Zeg @wbhoekstra @minpres\\\\n\\\\nWaarom moeten wij van Eppink horen dat ieder Nederlands huishouden voor €32.000 borg staat voor het zgn. #Coronafonds, wat in #Zuid-Europa wordt verbrast aan NIET-CORONA-GERELATEERDE zaken.\\n', '@parlementor Wij zijn het zorgvuldigst, want we beginnen als laatste met vaccineren.\\n', '2 straten verderop 3 huizen met corona 😷\\n', 'Thuiswerken na corona is belangrijk actiepunt voor OR https://t.co/Dnhr3hPLGX\\n', '@JoostNiemoller Dus dan ik kan kiezen, of vaccineren met eventuele bijwerkingen;  of mijn baan kwijt. \\\\nChantage? Welnee joh.\\n', 'Noorwegen in Gedeeltelijke lockdown tot 18 januari. Thuiswerken indien mogelijk. Geen alcohol. Hoger onderwijs digitaal. Geen bezoek in huis, alleen kids uit zelfde cohort zijn welkom. Basisonderwijs wordt godzijdank zo lang mogelijk gespaard —&gt; #zokanhetook @MinPres\\n', 'Een draadje over de dominantie van nieuwe coronavarianten, reproductiegetal, de sterfte door een variant die besmettelijker is, en de NLse situatie.\\\\n\\\\nSpoiler: 18 januari wordt de ergste Blue Monday ooit👇\\n', '„Als al die bedrijven de beoogde 2 procent energiebesparing op hun eigen proces hadden gehaald, dan zou dat jaarlijks 3,8 megaton CO2-uitstoot hebben gescheeld.”\\\\n https://t.co/qQRJ6IjyfL\\n', '90% van de FvD-stemmers wil zich niet tegen corona laten vaccineren. \\\\nTegelijkertijd neemt 65% van de FvD-stemmers het de regering kwalijk dat er zo laat gestart wordt met vaccineren. \\\\n\\\\nZe zijn dus kwaad dat er laat met iets gestart wordt waar ze zelf niet aan mee willen doen. 🤣\\n', '@Bullshit_vs_Lie @YorickB Mondkapjes kun je niet isoleren uit die cijfers: er zijn zoveel maatregelen tegelijkertijd dat dit lastig wordt. Effect lockdown kristalliseert over een week denk ik (zie uitleg in bovenstaand draadje).\\n', 'Joepie. Weer een groep voorrangers erbij. Straks de tandartsen, dan de fysiotherapeuten en niet te vergeten, de docenten. Jammer voor het dorre hout. Echt retesneu. Die groep wordt namelijk ondertussen niet snotterig, maar gaat gewoon dood #CoronaVaccine https://t.co/KbzhjMdSTp\\n', '@Janjans89689254 @NUnl Waar zie jij dat dan? Want ik zie op geen ene foto mondkapjes of 1,5 meter afstand?\\n', 'De #prinses ruimde vandaag haar bureau op. Ze is helemaal klaar voor het thuis werken. https://t.co/ssV0O0BzA9\\n', 'Het blijft vooral opvallend hoe slecht geïnformeerd veel tegenstanders tegen het coronavaccin zijn. Iets met hole vaten klinken het hardste? #ikwildieprik\\n', 'Daar zijn ze weer. \"We zijn zeer goed bezig in België.\"\\\\n1.691 doden per miljoen inwoners. Enkel San Marino doet \"beter\".\\\\nNa België komen Slovenië (1.348), Bosnië (1.249) en Italië (1.247).\\\\nHou toch op met die misplaatste goednieuwsshow. #coronavirus #vrtjournaal\\n', '@Frank161185 Geloof je gelijk, idd goed afgelopen, zag je vid al op Insta en voelde de adrenaline zelf. Snap het alleen niet want je weet dat je onbewaakte overweg nadert dan kijk je je toch twee keer. Zelf bewaakte kijk ik extra. 🙈\\n', '@frankmeeuwsen @evernote Ik vind de nwe layout heerlijk en heb net Evernote premium verlengt. Maar voel me wel eenzaam in dit draadje hahaha\\n', '@PascalWolf Ik ben hartstikke blij met mijn werk, wil niet zeggen dat ik naar een paar dagen vrij met frisse tegenzin weer aan het werk ga!\\n', 'Want kennelijk zijn berichten van msm (lees: geen obscure extreemrechtse fora) leidend voor Duits kabinetsbeleid. #lockdown\\n', '@_j3lena_ @edwinveldhuizen @Houdafstand @1philosophizer @NiewFreek Is het overigens niet zo dat net als de discussie bij de leraren/scholen hier ook de arbowet van toepassing is dat een werkgever er alles aan moet doen om de werkplek (zo) veilig (mogelijk) te maken? Waarmee feitelijk het niet aanbieden van betere bescherming tegen de wet is?\\n', 'Liefde, positiviteit en eenzaam doodgaan op je buik op een IC met een stofzuigerslang in je strot omdat je zo graag de egocentrische sausclown wil uithangen.\\\\n\\\\nBij de harige ballen van Odin de Allevader, bevrijd me van dit smerige tinnef.\\n', 'RT @PVanDoorn4: Zo....en dit is mijn mening https://t.co/HkhQrLRYqy\\n', 'RT @JaapFriso: @FionaZwart ook bedankt namens alle IC-medewerkers. Waar is je hart, waar zit je verstand?\\n', '@Nexitnexitnexit @FrankVisser63 @Mammaskindje @NOS Mijn oprechte vraag is vooral: stel dat er straks voldoende is gevaccineerd en alles weer normaal is en je eigenlijk ongelijke blijkt te hebben gehad? Geef je dat dan toe?\\n', 'https://t.co/XzATFpqYP4 In @haarlem is geen Corona, hieperdepiephoera   ! #Wappies #Anderhalvemetersamenleving #WAarDan? #MondkapjeWaarDan #ZiekWorden? #EigenVerantwoording\\n', '@j_devlieghere @StevenRogge Wanneer gaan die geleverd worden? Waarom nog meer vaccins? Er zijn er nu al 4 per hoofd besteld terwijl er maar 1 tot 2 dosissen nodig zijn.\\n', '@michelbestaat @030Caro Dan heb je een test nodig.  Simpel. \\\\nEr zijn inmiddels 3 varianten van het virus ontdekt,  een in Denemarken,  een in Engeland en een in Zuid Afrika. \\\\nMaar lang niet overal wordt gezocht naar mutaties.  Als he hierheen komt, liever geen virus meenemen en zeker geen mutatie\\n', 'Liefde, positiviteit en eenzaam doodgaan op je buik op een IC met een stofzuigerslang in je strot omdat je zo graag de egocentrische sausclown wil uithangen.\\\\n\\\\nBij de harige ballen van Odin de Allevader, bevrijd me van dit smerige tinnef.\\n', 'Waarom zou je het *SNEL IN ELKAAR GEZET, NIET GOED GETEST, NIET TRADITIONEEL, NIEUW VACCIN*  eigenlijk nemen als gezond mens als je dit hoort? https://t.co/X2hBTwck6o\\n', 'Bizar dat men heeft over ‘Britse variant’ terwijl Chinavirus verboden werd als naam. A fortiori omdat t zelfs goed kan dat variant niet in UK ontstaan is. Ze doen er meer onderzoek waardoor kans veel groter is dat t daar gevonden werd. Spaanse griep ontstond ook niet in Spanje.\\n', 'Na afloop demonstratief huggen en handenschudden. Politie babbelt mee. Toen wij van de zomer, zonder lockdown, op Museumplein demonstreerden voor t opvangen van vluchtelingen dreigde de politie om de haverklap in te grijpen als mensen al naar elkaar wézen. Un fucking believable!\\n', 'De onbetrouwbaarheid vd PCR-test maakt dit hele idee überhaupt al onzinnig. Nog los van de principiële bezwaren. What’s next? Niemand met griep meer het land in? Medisch onderzoek op Schiphol? Terwijl de massale immigratie v kansarme moslims zogenaamd niet te stoppen zou zijn... https://t.co/e39txP6z7j\\n', 'Vroeger gewoon zo tikkie ...en nu dit...\\\\nEn nog vertellen de dwazen van mondkapjes in Nederland het komt goed vertrouw op Mark Rutte. https://t.co/IHcJUPUqrH\\n', 'zin om mijn hoofd tegen de spiegel te rammen tot ik me niet langer eenzaam voel\\n', '@cor_badstof @gijgro @MvanRoosmalen @emmawortelboerr @BNNVARA In alle opzichten, wat een talent! (positief getest)\\n', 'Heeft u ooit iemand vh kartel horen zeggen dat wie corona heeft gehad of ‘n “vaccin” heeft laten inspuiten weer vrij mag? Nee. Want we gaan naar ‘n “nieuw normaal”. Voor altijd. Het “vaccin” is hoepeltje waar ze ons doorheen laten springen. Ook daarna blijft 1.5m, mondkapjes, etc\\n', 'Heeft u ooit iemand vh kartel horen zeggen dat wie corona heeft gehad of ‘n “vaccin” heeft laten inspuiten weer vrij mag? Nee. Want we gaan naar ‘n “nieuw normaal”. Voor altijd. Het “vaccin” is hoepeltje waar ze ons doorheen laten springen. Ook daarna blijft 1.5m, mondkapjes, etc\\n', '@thierrybaudet Sterker nog,\\\\nAerosolen kijken niet naar 1.5 meter afstand houden en mondkapjes!\\\\n\\\\nBovendien bij het dragen van die mondkapjes voelt men zich veiliger en gaan daardoor zelfs minder afstand nemen!🤦\\u200d♂️\\\\n\\\\nHet enige wat wel werkt is de juiste manier van ventileren!\\\\nZie @mauricedehond https://t.co/3R91lV2x9Z\\n', 'Heeft u ooit iemand vh kartel horen zeggen dat wie corona heeft gehad of ‘n “vaccin” heeft laten inspuiten weer vrij mag? Nee. Want we gaan naar ‘n “nieuw normaal”. Voor altijd. Het “vaccin” is hoepeltje waar ze ons doorheen laten springen. Ook daarna blijft 1.5m, mondkapjes, etc\\n', 'ze hebben Trump in Amerika vanwege Coronabeleid weggestuurt . dat moet hier ook met regering Rutte kan echt niet dit April zou haalbaar moeten zijn .met vaccinatieprogramma .\\n', 'Heeft u ooit iemand vh kartel horen zeggen dat wie corona heeft gehad of ‘n “vaccin” heeft laten inspuiten weer vrij mag? Nee. Want we gaan naar ‘n “nieuw normaal”. Voor altijd. Het “vaccin” is hoepeltje waar ze ons doorheen laten springen. Ook daarna blijft 1.5m, mondkapjes, etc\\n', 'Nog geen enkele (!) demonstratie in de buitenlucht is een superspread event gebleken. Maar in het land van de #coronahysterie doen feiten er niet meer toe, regels zijn regels en anders het waterkanon erop en de lange lat erover. Zorgelijk. Zie de reacties 👇 https://t.co/dm2m7PLMKr\\n', '@marketim_vdb Ben ik ook zeker blij mee.\\n', '@Toedeledokie_58 Er is onderzoek gedaan en er is volop getest op veiligheid. Het vaccin is als veilig genoeg beoordeeld anders zouden ze ook niet op markt mogen komen.\\n', 'Heeft u ooit iemand vh kartel horen zeggen dat wie corona heeft gehad of ‘n “vaccin” heeft laten inspuiten weer vrij mag? Nee. Want we gaan naar ‘n “nieuw normaal”. Voor altijd. Het “vaccin” is hoepeltje waar ze ons doorheen laten springen. Ook daarna blijft 1.5m, mondkapjes, etc\\n', 'Lokale ziekenhuis kampt met #millenniumbug, 20 jaar na dato.\\\\nAlle post vanaf Nieuwjaar die wij ontvangen is gedateerd op jaartal 1921\\\\n#fixit\\\\n#asap\\\\n@VieCuri\\n', \"De kunstredactie van 'n krant heeft mijn interview over m'n roman #delirium?! gecancelled omdat ik me te kritisch zou uitlaten over corona en de overheid. Ik zeg: 'jullie doen maar. Waar rook is, is vuur. En er is me iets teveel rook hier.'\\\\n\\\\n#media #msm #Covid19 #coronabeleid\\n\", 'Alléz vooruit. Ik hoop het echt, een gelukkig jaar voor jullie allemaal. https://t.co/DYZkHVwWyz\\n', '@Elisa59 https://t.co/wFgJ4mOuA0\\\\n\\\\nRutte is evil \\\\nBizar deze acties\\\\n\\\\n@PieterOmtzigt hoe haal je het in je hoofd?\\\\nPCR is fraude de basis van alle leugens\\\\n\\\\nKabinet wil ons dus kapot maken?\\\\n@WybrenvanHaga\\\\n@pieterkleinrtl\\\\n\\\\nDit is een oorlogsverklaring aan ons!\\\\n\\\\nhttps://t.co/OoFgQLUPgf\\n', 'Vreugde vuur weg, vuurwerk weg, zwarte piet weg, kerstbomenjacht weg. Ik ben zo blij dat ik het allemaal zo gewoon vond ooit. Wat een saaie (veilige) toekomst hebben we voor ons.*gaaaap*\\n', 'Mensen die zeggen open te staan voor eerlijke genuanceerde discussie over #COVID19, #lockdown en #vaccinatie, maar die wel bij de eerste de beste kritiek de opponent wegzetten als ‘wappie’, ‘complotgekkie’ of ‘anti-vaxxer’. Deze mensen hebben een raar idee over een open debat. 🤔\\n', '@BartSomers Het tegenovergestelde gezien (nogmaals) op eindejaar in Brussel. Stop met die propaganda. Werkt niet.\\n', 'Heeft u ooit iemand vh kartel horen zeggen dat wie corona heeft gehad of ‘n “vaccin” heeft laten inspuiten weer vrij mag? Nee. Want we gaan naar ‘n “nieuw normaal”. Voor altijd. Het “vaccin” is hoepeltje waar ze ons doorheen laten springen. Ook daarna blijft 1.5m, mondkapjes, etc\\n', '@mereldev 😘 ik ga wel weer lekker, hoor :). Mijn tante vulde mijn happy cabinet weer haha. https://t.co/wcmGSC7h8x\\n', '@SaskiadeRegt1 @marijnfietst @hasbakker @sheilasitalsing @ADnl @MinPres @arieslob @hugodejonge @MSaiah94 @Dave_Ensberg @AnnemiekHarder @marcdullaert @MinGehandicapt @talithamuusse @DaanOnderWise @LoesKeijsers @KatinkaSlump @henkwillemlaan Of gewoon alle kinderen en jongeren naar school omdat onderwijs zo belangrijk is en er meer in het leven is dan corona.\\n', '@MAXmeldpunt Heb jullie nu al iets aan je foute covidpreventie bij heel holland bakt gedaan. Een plastic pingpong badje voor je gezicht houden is dus niet covidproof, integendeel, het is zeer onveilig maar vooral foute voorlichting. #hhb \\\\nAnderhalve meter afstand is de regel en mondkapje\\n', 'RT @ItsMe_awake: @zegmaar_LydeLa Inderdaad. Hij is toch zo begaan met ons lot! 💉😷⚠️🆘\\n', '@hidderoorda Toch niet bij de kandidaten die aan het bakken zijn? Daar zie ik geen schermen. En dan gaat André echt zó close staat.. snap niet zo waarom? (Los van Corona, hou sws beetje afstand mensen)\\n', \"De burgermeester had z'n eigen beter drukker kunnen maken om locaties te vinden om zo snel mogelijk te vaccineren \\\\nDuindorp-demonstratie: Burgemeester vooraf nauw betrokken en bijdrage van 10.000 euro https://t.co/u9BpLqYbtC\\n\", '@JimPedd @thierrybaudet Hoe weet je dat zo zeker?\\\\nJe zou heel andere conclusies kunnen trekken.\\\\nDe eerste golf was al aan het dalen voordat de maatregelen in gingen. \\\\nEn de 2e golf steeg opnieuw nadat de lockdown inging. https://t.co/AGhZgAE9pz\\n', \"Bizarre video: viruswappie krijgt politie aan deur wegens niet dragen mondkapje in Lidl\\\\n'Ze horen Rutte en de bankiers op te pakken!'  https://t.co/9B7idsAm8w\\n\", '3\\\\nAls u het elimineren vh gebruik van #bosbiomassaverbranding in de EU steunt bekijk dan de raadpleging. Hierin worden criteria voorgesteld waaraan #biomassaprojecten moeten voldoen om in aanmerking te komen voor financiële #subsidies en andere prikkels. https://t.co/slYXj6IYks\\n', 'Ik probeer het nog 1 keer om meer volgers te krijgen of een reactie op een tweet en anders stop ik toch maar met Twitter. \\\\nWant zelfs hier kan je je ontzettend eenzaam voelen. \\\\n1 januari een tweet geplaatst om de weinig volgers die ik heb een gelukkig nieuwjaar te wensen (1)\\n', 'Heeft u ooit iemand vh kartel horen zeggen dat wie corona heeft gehad of ‘n “vaccin” heeft laten inspuiten weer vrij mag? Nee. Want we gaan naar ‘n “nieuw normaal”. Voor altijd. Het “vaccin” is hoepeltje waar ze ons doorheen laten springen. Ook daarna blijft 1.5m, mondkapjes, etc\\n', '@Poebie2404 2/2 heeft dit vaccin invloed op mijn prognose? De oncoloog weet het niet en kan het ook niet vertellen? Dus ik zeg: zolang ze dit niet weten wacht ik het even af.\\n', 'Duitsland verlengd de lockdown, dus Nederland volgt er na natuurlijk. Ze laten ons nooit meer gaan wat ik al roep sinds maart ofzo.. maar bljkbaar is het merendeel van NL nog zo dom als wat en slapen lekker door\\n', '@TPOnl @jokierotterdam Grappig nu is Thierry in een keer een antivaxer, dit heeft hij niet geschreven! #fakenews Tevens wat hij aangeeft is door de WHO zelf gepresenteerd.\\n', 'Ja! Want wij kunnen niet thuiswerken, mavo 4 mag wel naar school want examen dus groep 8er zit thuis alleen 😢\\\\n\\\\nEr is voor geen enkele medeleerling ut zijn klas opvang aangevraagd op school dus ook daar zou hij alleen zitten. \\\\n\\\\nDoet wel een beetje zeer in mijn moederhart....\\n', \"IN WINTER VAN 2017-2018 STIERVEN 9.500 MENSEN AAN DE GEWONE GRIEP NET ALS JAREN ERVOOR!! ER WAREN GEEN LOCKDOWNS/MONDKAPJES/SCHOLEN DICHT ENZ! NU IS GRIEP ''VERDWENEN'' +ZITTEN WE MET 0,3% OF STERFTE DOOR CORONA,NET ALS MET GRIEP!! WORD WAKKER SVP! @WybrenvanHaga @thierrybaudet\\n\", '@erikvmuiswinkel @BastiaanRagas die toen burgemeester Wienen bedreigd werd, collectief opstonden tegen intimidatie van een burgemeester, die bekend staat als crime fighter. Demonstreren is prima &amp; een grondrecht, maar zijn talloze voorbeelden waar dat met 1.5 m (cirkels), mondkapjes, respectvol ging. Dit niet.\\n', 'Aankomst #zaventem #coronacontrole 19:04 massa op elkaar gepakt. Geen onderscheid naargelang de zone waaruit je komt. Totale chaos. \\u2066@vrtnws\\u2069 https://t.co/ls9KN3kySB\\n', 'Heeft u ooit iemand vh kartel horen zeggen dat wie corona heeft gehad of ‘n “vaccin” heeft laten inspuiten weer vrij mag? Nee. Want we gaan naar ‘n “nieuw normaal”. Voor altijd. Het “vaccin” is hoepeltje waar ze ons doorheen laten springen. Ook daarna blijft 1.5m, mondkapjes, etc\\n', '@Opinieleader Rutte gaat alles kapot maken en was daar al jaren mee bezig\\\\nCojona is wapen tegen democratie en burgers\\\\ner is geen killervirus\\\\nlockdown is strafbaar! @gjknoops \\\\nalle rechten zijn ons afgenomen\\\\n\\\\ndit mag helemaal niet!\\\\n\\\\nga naar buiten en knuffel elkaar\\\\niedereen is gezond! https://t.co/2vzqKi5I1m\\n', 'Gelukkig heb ik niets gemeld over goede voornemens die betrekking hebben op school..\\\\n\\\\nVanaf morgen weer online les, en moest geloof ik heel wat doen in m’n vakantie,maar (uiteraard) heb ik niets gedaan. En ga ik dit nu ook niet meer doen.\\\\n\\\\nBest gemotiveerde leerling van de klas..\\n', \"Gevederde coronadoden... https://t.co/ht8vOXBppC via @erwinkompanje \\\\n\\\\nAch... Zo'n gedragsexperimentje van @MinPres en @hugodejonge, het mag wat kosten...\\\\n\\\\n#coronamaatregelen #mondkapjesplicht\\n\", 'Heeft u ooit iemand vh kartel horen zeggen dat wie corona heeft gehad of ‘n “vaccin” heeft laten inspuiten weer vrij mag? Nee. Want we gaan naar ‘n “nieuw normaal”. Voor altijd. Het “vaccin” is hoepeltje waar ze ons doorheen laten springen. Ook daarna blijft 1.5m, mondkapjes, etc\\n', 'Heeft u ooit iemand vh kartel horen zeggen dat wie corona heeft gehad of ‘n “vaccin” heeft laten inspuiten weer vrij mag? Nee. Want we gaan naar ‘n “nieuw normaal”. Voor altijd. Het “vaccin” is hoepeltje waar ze ons doorheen laten springen. Ook daarna blijft 1.5m, mondkapjes, etc\\n', 'Heeft u ooit iemand vh kartel horen zeggen dat wie corona heeft gehad of ‘n “vaccin” heeft laten inspuiten weer vrij mag? Nee. Want we gaan naar ‘n “nieuw normaal”. Voor altijd. Het “vaccin” is hoepeltje waar ze ons doorheen laten springen. Ook daarna blijft 1.5m, mondkapjes, etc\\n', 'Liefde, positiviteit en eenzaam doodgaan op je buik op een IC met een stofzuigerslang in je strot omdat je zo graag de egocentrische sausclown wil uithangen.\\\\n\\\\nBij de harige ballen van Odin de Allevader, bevrijd me van dit smerige tinnef. https://t.co/6Y6SKo29iW\\n', '@Ernystein @heuswaar Bedreigt? Gaat hij hem slaan? Lijkt me onnodig. Als er een audit komt gaat hij de gevangenis in. Hier de hearing over alle fraude alleen al in GA\\\\n\\\\nhttps://t.co/x2GYK2evqO\\n', 'Heeft u ooit iemand vh kartel horen zeggen dat wie corona heeft gehad of ‘n “vaccin” heeft laten inspuiten weer vrij mag? Nee. Want we gaan naar ‘n “nieuw normaal”. Voor altijd. Het “vaccin” is hoepeltje waar ze ons doorheen laten springen. Ook daarna blijft 1.5m, mondkapjes, etc\\n', \"Verwacht wordt dat 100 bussen, 30.000 auto's en 1,5 miljoen mensen op 6 januari naar Washington gaan, mogelijk meer ... 🥳😊❣️\\\\nhttps://t.co/8MwFiLjSwH\\n\", '@JustFunny12 @doomduijker @EenNederland @sas61 @Wim04789402 @remkob131 @MarjoVrij @Yola9999 @3Groter @hommel_b @Ikazia @Fredrik71Amf Ja klopt, het komt overal voor. Daarom worden de meeste klokkenluiders pas actief na hun pensioen. De echte dapperen zitten intussen in een camper kou te kleumen.....\\n', 'Heeft u ooit iemand vh kartel horen zeggen dat wie corona heeft gehad of ‘n “vaccin” heeft laten inspuiten weer vrij mag? Nee. Want we gaan naar ‘n “nieuw normaal”. Voor altijd. Het “vaccin” is hoepeltje waar ze ons doorheen laten springen. Ook daarna blijft 1.5m, mondkapjes, etc\\n', '@PietaSpoelstra Ik heb morgen gelukkig een extra vrije dag! https://t.co/cM0nm1GQJB\\n', 'Heeft u ooit iemand vh kartel horen zeggen dat wie corona heeft gehad of ‘n “vaccin” heeft laten inspuiten weer vrij mag? Nee. Want we gaan naar ‘n “nieuw normaal”. Voor altijd. Het “vaccin” is hoepeltje waar ze ons doorheen laten springen. Ook daarna blijft 1.5m, mondkapjes, etc\\n', \"@evelieneet Ik vind een stijging in % positief van 0,7% naar 19% enorm. Ze worden amper getest. En dat ze minder ziek worden, geloof ik ook wel. Ze kunnen dus onder de radar blijven. En voordat er bekend werd dat het door de Britse variant kwam, hoorde we weinig over de R'damse basisschool.\\n\", '@Seb1990FZ @thierrybaudet BINGO! Alarm! Wappie detected! Houdt de spuiten gereed! Deuren dicht! https://t.co/VHhK5yp1ke\\n', '@ccccurly @FadiEsak Er kan een wonder gebeuren... maar ik reken er niet op. Ook in Duitsland zijn de mensen covid moe.\\n', 'DIT MILJONAIRS ECHTPAAR WERD VERMOORD! WAAROM? OMDAT ZIJ HYDROXYCHLOROQUINE PRODUCEERDEN DAT CORONA GENEEST SAMEN MET ANTIBIOTICUM+ZINK! https://t.co/nwAXg2CkOg\\n', '@NaomiTekst Twee dagen juf van mijn eigen kroost, een dag thuiswerk en twee dagen op school ivm opnemen van instructies. En overleg met mijn duo. Ik vind het op school prettiger en heb alles bij de hand qua materiaal enz.\\n', 'Dit dus 👇🏻 hoog tijd dat deze gevaarlijke megalomane man verdwijnt. (Maar ik ben bang dat we deze gek niet snel kwijt zijn)\\\\nDeskundigen bestrijden uitspraak Trump dat aantal Amerikaanse coronadoden ‘is overdreven’ https://t.co/q48ZKA94t9\\n', '@rientje1 @shirleyvdmast @AnitaEngbers @Bartissimus @MartineMGlaser @LHVhuisartsen @JBAGerritsen Zijn er in NL kwaliteitseisen rondom persoonlijke zorg in een huisartsenpraktijk, of is alles alleen op halen van kostenbesparingen gericht.\\n', 'Morgen eerste werkdag én eerste schooldag van 2021. Ben ik de enige werkende ouder die het slapengaan uitstelt om het vakantiegevoel zo lang mogelijk vast te houden? 🙈😬 #thuisonderwijs #thuiswerken #succespapasenmamas\\n', '@v4nd3rw3g Waarvoor drank! 🤣🤣🤣\\n', 'Heeft u ooit iemand vh kartel horen zeggen dat wie corona heeft gehad of ‘n “vaccin” heeft laten inspuiten weer vrij mag? Nee. Want we gaan naar ‘n “nieuw normaal”. Voor altijd. Het “vaccin” is hoepeltje waar ze ons doorheen laten springen. Ook daarna blijft 1.5m, mondkapjes, etc\\n', \"Krantenoverzicht 3-1-2021 #Oogopmorgen: gevaarlijke vaccin-diplomatie door China en Rusland, 'carbiedje-akkefietje-inzamelingsactie' in Joure, Tesla is 700 miljard dollar waard en Elon Musk is nu schathemelrijk en fietshelm dragen scheelt jaarlijks 85 doden en 2500 gewonden.. https://t.co/8fojEUm4JF\\n\", \"Verwacht wordt dat 100 bussen, 30.000 auto's en 1,5 miljoen mensen op 6 januari naar Washington gaan, mogelijk meer ... 🥳😊❣️\\\\nhttps://t.co/8MwFiLjSwH\\n\", '6. Voordat er corona was, waren gezichtsbedekkende kleding in openbare ruimtes verboden. Je kiest zelf wat je aantrekt in publieke ruimtes.\\n', '@jjvpeperstraten En gaat ze dan ook vrijwilligerswerk doen in die ziekenhuizen waar jij in januari weer zoveel mensen op hun laatste pad zult begeleiden? Of is consequent zijn iets van vroeger?\\n', '@AnnaBijnen Dat ook! Maar die 10-20% is nog los van de verspilling door verkeerde naalden, ze verwachten dat mensen niet komen opdagen, en het plan is dan om de overgebleven vaccins gewoon weg te gooien blijkbaar (?!?!)\\n', '@JoostNiemoller Vanwaar die lobby tot vaccinatie, heb u tot op heden geen enkele kritische vraag horen stellen over deze situatie, kortom wat schuift dat?\\n', 'RT @NickyMonreau: Ik kan niet wennen aan mensen met #mondkapjes...\\\\n\\\\nHet heeft iets crimineels, struikroversachtig! https://t.co/dwNberAUKK\\n', 'Wie wil dit gezin helpen, door een kleine donatie te doen.\\\\n\\\\nOok is een gift van de ministers vast en zeker welkom \\\\n#toeslagaffaire\\\\n#toeslagenschandaal\\\\n#toeslagenaffaire\\\\n\\\\nhttps://t.co/N1GSREmWRK\\n', '@ZwiersHarm @SadetKarabulut De Nederlandse Pers staat onder invloed van twee Belgische miljardairs en weten niet eens meer wat onderzoeksjournalistiek is.\\\\nGeen spoor van effectieve steun aan #JulianAssange de afgelopen jaren. #journalistiek\\\\n\\\\nhttps://t.co/XOfSCqr1wx\\n', '@chgroenhuijsen @mauricedehond Ongelooflijk deze suggestie! Ik ben iemand die zich WEL laat vaccineren en GEEN FvD stemt, maar wat hier wordt voorgesteld vind ik ronduit walgelijk en onmenselijk! Ga je schamen, Groenhuijsen.\\n', 'RT @Cdetroch: Morgen begint het werk weer, het is niet het werk waar ik tegen op zie maar het laptopscherm, de stilte en de eenzaamheid.\\n', 'RT @LoesjeNL: **Dit jaar hoop ik wat\\\\nminder tijd voor\\\\nmezelf te hebben**\\\\n#gelukkignieuwjaar #lockdown #loesje https://t.co/aSrEpqOgD0\\n', '@AnonPanic @RealAdviceDuck @artriple @NOS Terwijl Biden in zijn kelder zat, met mondkapje. Zijn hond 🐕 te melken.\\n', 'Naast Amerika en Duitsland, ook in Italië weerstand tegen het #coronavaccin. Ik voorzie een lange strenge lockdown waarbij velen zullen zwichten voor dit experimentele vaccin om hun vrijheid terug te krijgen... https://t.co/x6TCeSPZpi\\n', 'We hadden het over mondkapjes maar jij begint over bewijs voor de 1,5 m afstand.\\n', 'K ga effe probere om 5 min alleen te zijn met me Gevoelens ik spreek jullie zo\\n', \"@RFC2321 @PieterPolman Ik informeer mensen. Ik veroordeel niemand als hij zich wil laten vaccineren. De voorstanders van vaccinatie zijn een stuk minder respectvol. Egoïst, 'mevrouw de wetenschapper', etc Totaal geen inhoudelijke discussie. Zeg dan wat er niet klopt. Zeg dan wat de leugens zijn.\\n\", '@DerianFan ...een beetje uit door die k**corona.\\\\nJij wel heel erg liefhebber zie ik 😉.\\\\nHeb je mensen om je heen waarmee je goed kunt praten?\\n', 'A1 13110 Rit 820 Amsterdam Honselersdijkstraat https://t.co/1gH6K5PDAN #p2000\\n', '@inja5248 @shossontwits bijsluiter pfizer zegt:  ongetest dus nee\\n', '@VleugelsLies 😊 dat lijkt mij geen goed plan als zaakvoerder zijnde. En ik ben eigenlijk vooral blij dat ik nog mag gaan werken. Er zijn duizenden anderen die roepen om terug te mogen starten.\\n', 'Aan de haters: ik blijf mijn mening uiten, over de inhoud. Iemand beledigen is echt laag,doe ik niet. Blijf me maar beledigen als dat je blij maakt.🥱Vergeet niet na al je gal te hebben gespuwd,nog te genieten van je gezin. Dank aan iedereen die wel constructief in gesprek gaat👊🏽 https://t.co/wXpMdqfS4k\\n', \"RT @Mercy44: Omdat de harde lockdown zo goed werkte, heeft Israël inmiddels z'n derde 'lockdown'.🤭 https://t.co/9pKUO4zdEq\\n\", '@Chasalin @erikvmuiswinkel Ha een mondkapjes profiel\\n', 'RT @OmroepGLD: LIVEBLOG CORONA | Huisartsen worden ook met voorrang gevaccineerd https://t.co/6Lccl2xQuM https://t.co/qbyNaZfope\\n', \"in Mexico ligt een arts na het Pfizer-BioNTech prikje met ontstoken hersenen op de IC. \\\\n\\\\nDe Minister daar zegt: 'uit klinische tests bleek niet dat dit een bijwerking kan zijn'. \\\\n\\\\nJa zo kan ik het ook. Ze hebben die tests grotendeels overgeslagen! https://t.co/pnwSdE1LK6\\n\", 'De kans op ernstige vormen v Covid wordt wellicht iets kleiner (maar die kans is nu ook al extreem klein aangezien Corona niet of nauwelijks erger is gebleken dan de griep). De bijwerkingen kennen we niet. Maar je kunt ‘t nog steeds krijgen, je kunt anderen gewoon besmetten, etc.\\n', 'Dijkhuizen\\\\n7h | Actueel weer\\\\n\\\\nWind: 2.2 km/h WNW\\\\nWindvlaag: 3.6 km/h\\\\nTemperatuur: 3.2 °C\\\\nRel. vochtigheid: 96 %\\\\nLuchtdruk: 1031.7 hPa\\\\nRegen: 1.5 mm\\\\nZon-instraling: 0 W/m²\\\\nUV index: 0 \\\\n\\\\nhttps://t.co/GHWkiQqmZ8\\\\n#Weathercloud\\n', '@ElsJF @W0mmetje @RTLnieuws Alsof afstand houden het verschil maakt. Als je dat nu nog gelooft , dan heb je niet opgelet\\n', 'Ons land telt 200.000 eindexamenkandidaten vmbo-havo-vwo; 16-19 jaar. Men verwacht hen vanaf morgen op onze scholen, ondanks lockdown.\\\\n\\\\n@MinOCW stelt geen voorwaarden t.a.v *1,5m afstand*, *mondmaskers in de klas*, *volle klassen*, *ventilatie*.\\\\n\\\\nGaat dit vanzelf goed, @ArieSlob?\\n', 'Van Dissel in 2018 over het belang van ventilatie bij het bestrijden van griep op scholen.\\\\nMaar bij #Covid19??\\\\nhttps://t.co/3odVI88gPm https://t.co/ZgAZKlYpCG\\n', 'Heeft u ooit iemand vh kartel horen zeggen dat wie corona heeft gehad of ‘n “vaccin” heeft laten inspuiten weer vrij mag? Nee. Want we gaan naar ‘n “nieuw normaal”. Voor altijd. Het “vaccin” is hoepeltje waar ze ons doorheen laten springen. Ook daarna blijft 1.5m, mondkapjes, etc\\n', '@bottomedgal Goedemorgen. Hier ook thuiswerken. Fijne dag 😘☕\\n', \"We hebben ons best gedaan om onze tante van 94 'n geweldige kerst/verjaardag te bezorgen. Maar ze bleef grenzeloos pessimistisch. 'De mens leert niet,' zei ze, 'ik zie dezelfde politieke blindheid als voor WO2. Ook toen hielden de media de onrust en de leugens in stand.' #corona\\n\", '@tvanknopers 11 jaar... ik woonde hier nog niet eens... Gelukkig heb ik mijn Twitter meeverhuisd!\\n', 'Sondag Nuus\\\\nCovid-19 Derde, vierde vlaag kom\\\\nPasiente is dié keer sieker, jonger\\\\nGesinne lê saam in hospitale\\\\n\\\\nWare nuus of bang maak nuus?\\\\nHoelank sal dit aangaan\\n', 'Dit is het elitarisme dat in 2019 keihard werd afgestraft door de kiezer. #Kaag is een internationale bureaucraat zonder enige binding met haar land en haar mensen. Het zijn dit soort mensen die klimaatakkoorden tekenen, immigratie aanzwengelen en ons nu in lockdown houden. #FVD\\n', 'RT @BartDeconinck: Het virus mag je niet “Chinees”noemen, maar een variant mag wel “Brits” heten.\\n', '🇩🇪 Feeststemming bij de anti-lockdown demonstratie in Nürnberg. Deze demonstratie is verboden door de autoriteiten maar de bevolking laat zich daardoor niet weerhouden.👍\\\\n\\\\n#nbg0301 \\\\nhttps://t.co/07Likppgyv\\n', '@G__Orwell1984 @Waterreusje @thierrybaudet Gommers wil zelf geen extra bedden en verpleging. Want lege bedden is het ergste wat er is. Dan ga je je vervelen en dat moet je niet willen\\n', 'Ik probeer het nog 1 keer om meer volgers te krijgen of een reactie op een tweet en anders stop ik toch maar met Twitter. \\\\nWant zelfs hier kan je je ontzettend eenzaam voelen. \\\\n1 januari een tweet geplaatst om de weinig volgers die ik heb een gelukkig nieuwjaar te wensen (1)\\n', '@EenNederland @sil_ver_sur_fer @sas61 @Wim04789402 @remkob131 @MarjoVrij @Yola9999 @3Groter @hommel_b Jij hebt geen medici gehoord met eennkritische visie omtrent de maatregelen? Dan zit je vast in een fuik...\\n', 'RT @bufy68: Huisarts onthult: “We worden voortdurend bedonderd door de farmaceutische industrie” https://t.co/qCayU0bUtW\\n', '#bossen, dat we vooral #inheems. willen voor de #biodiversiteit. snap ik, maar waarom een eenzame Larix kappen? Dat bied toch geen extra, maar maakt het juist armer. Waarom @Natuurmonument? Foto vanochtend in het #Deelerwoud. genomen. https://t.co/10gqIBopYK\\n', 'RT @Shar0nNK: @pietsweer Blij dat ik de deur niet uit hoef vandaag 😅🥶 #koukleum https://t.co/rLaWIg2m5s\\n', '@robviveen Gaat vast goed komen. Mijn jongste was in December jarig, precies nadat de lockdown werd ingesteld. Hij heeft een top verjaardag gehad ondanks alles, gewoon creatief mee omgaan 👍✌️\\n', '@rubenivangaalen \"Veel levensjaren\" is beetje vaag ... valt uberhaupt te berekenen wat de gemiddelde levensverwachting is van bijv. 80-jaren die met corona overlijden maar daarnaast een of meerdere (2,3,4) ernstige aandoeningen hebben? Alleen dan is \"veel\" te kwantificeren toch?\\n', \"@ZegMaarChan Hahaha ik zou niet geschikt zijn als juf denk ik🤣\\\\nMaar zo fijn dat ik 'm nu eindelijk ook even kan helpen, kan natuurlijk niet thuis werken dus nu eindelijk mijn kans 😊\\n\", '@giedi1 @GFrieling @Zonnebloem1971 Niet helemaal mee eens. Sprak afgelopen weekend familielid die werkt als ambulanceverpleegkundige. Zulke gesprekken herinneren mij er sterk aan wat voor mij de reden is om afstand te houden, grote groepen te mijden en niet te vaak/veel mensen over de vloer te hebben.\\n', '@DDoremalen @KatinkaSlump @SieffersN @ouderszhz @BVIKZ2 @Paul_van_Meenen @Balansdigitaal @jeugdartsen Ik weet dus niet of steeds meer mensen er tussen zetten zin heeft. Tenzij die mensen vierkant achter het kind gaan staan en kennis van onderwijs hebben, en de macht om school te dwingen tot aanpassingen. Daar is een arts niet voor opgeleid.\\n', 'Goedemorgen thuiswerkende en lesgevende ouders. Houd ff vol. Wsl langer dan deze twee weken. Doe alsof je er zin in hebt. Groetjes van je kinderen. #spreektzichzelfmoedin\\n', 'Veiligheidsadviseur van Orbán: pandemie, migratie en Soros-plan bedreigen de veiligheid van Hongarije en Europa https://t.co/eoR7gdb3nv via @EJBron2\\n', '**Probeer maar eens thuis te spelen\\\\nals je ouders er de hele tijd doorheen werken**\\\\n#thuisonderwijs #thuiswerken #loesje https://t.co/fQ81DvaLGy\\n', '**Probeer maar eens thuis te spelen\\\\nals je ouders er de hele tijd doorheen werken**\\\\n#thuisonderwijs #thuiswerken #loesje https://t.co/fQ81DvaLGy\\n', '@ElsJF Had huisartsen en verpleegkundigen het laten regelen en het was ook tip top in orde geweest. Maar gezien de drukte voor ons misschien beter om organisatietalent van de evenementenbranche in te zetten inderdaad.\\n', '@HendrikVuye @tomvangrieken Hoe geraken we uit deze slavernij en  nazi-dictatuur?\\\\nIedereen moet stoppen met opvolgen Coronamaatregelen en zijn zaak terug opendoen.\\\\nhttps://t.co/eGL7BXWs4N\\n', 'Wanneer mogen we eindelijk gaan vaccineren!? https://t.co/k5RLCthq8a\\n', 'Voordeel van de coronamaatregelen: niet meer tig mensen zoenen en handen schudden om gelukkig nieuwjaar te wensen. Eerste dag na de kerstvakantie was dit vaste prik. Heerlijk om dat nu niet te hoeven doen 😄 #thuiswerken #coronamaatregelen\\n', 'Vele ondernemingen zijn #thuiswerk gestart om voor contact met de overheid de #berichtenbox voor bedrijven te gebruiken. Hoe? https://t.co/jpWqX9gSy4\\n', 'Goedemorgen lieverds, dadelijk even naar de huisarts, dat ga ik overleven. Doe rustig aan allemaal op deze eerste werkdag in het nieuwe jaar, oké? Start met lekker kopje koffie of zoiets☕ https://t.co/rTVxmVYtKz\\n', '@hnkdvrs Helemaal mee eens. Zelfs onze aanpak van Corona kunnen we niet meer zelf bepalen omdat een verdrag hebben met de @WHO.\\\\nOp den duur gaat dat gigantisch fout.\\n', '@MarcelTang @NOS Vraag ik me al tijden af... Hoe is het mogelijk dat we aan de ene kant steun verlenen en aan de andere kant (soms enorme) winstverhogingen agv Corona toelaten. Daar klopt toch geen anderhalve meter van.\\n', '#moo overbelast. Je verwacht het niet #thuiswerken #scholendicht\\n', '@chicavanderheu @SanneVroom Misschien ben ik te optimistisch, maar ik verwacht dat uiteindelijk meer mensen zich gaan laten vaccineren dan de opiniepeilingen nu lijken te suggereren.\\n', 'Voorspelling 2021 viroloog Niesters: volgende kerst normaal vieren https://t.co/mmzp29D8f5\\n', '**Probeer maar eens thuis te spelen\\\\nals je ouders er de hele tijd doorheen werken**\\\\n#thuisonderwijs #thuiswerken #loesje https://t.co/fQ81DvaLGy\\n', 'Storing bij Microsoft Teams plaagt eerste thuiswerkdag 2021 https://t.co/GQsMJ80dtk\\n', '8.30u: groep 6-er begint direct, puber is net wakker\\\\n9.19u: puber heeft pyjamabroek nog aan #teamsoutfit en is oortjes kwijt 🤷🏻\\u200d♀️\\\\n9.20u: puber heeft geleerd van Belgische burgemeester en zet spiegel weg. Groep 6-er ploft op bank, want is alweer klaar #thuisonderwijs #thuiswerken\\n', '@DoorFrankema van @VaccinVrij heeft het nieuwe jaar ingeluid met een nieuwe blogpost tegen het Pfizer COVID-vaccin. Een schets van Frankema en VV volgt pas op het eind, op suggestie van @roelgrif .  Eerst een kritische beschouwing van dit stuk.\\\\n\\\\nEen draadje.\\n', '**Probeer maar eens thuis te spelen\\\\nals je ouders er de hele tijd doorheen werken**\\\\n#thuisonderwijs #thuiswerken #loesje https://t.co/fQ81DvaLGy\\n', '👍 on @YouTube: Dutch Digger belt RIVM over mondkapjes https://t.co/uITsldCHGd\\n', 'Ik probeer het nog 1 keer om meer volgers te krijgen of een reactie op een tweet en anders stop ik toch maar met Twitter. \\\\nWant zelfs hier kan je je ontzettend eenzaam voelen. \\\\n1 januari een tweet geplaatst om de weinig volgers die ik heb een gelukkig nieuwjaar te wensen (1)\\n', 'Vandaag om 12.00 uur worden de #sirenes weer getest. Dit gebeurt in heel Nederland op iedere eerste maandag van de maand. De sirenes geven dan een luid signaal van 1 minuut en 26 seconden. https://t.co/w4n2EDg9Aj\\n', '**Probeer maar eens thuis te spelen\\\\nals je ouders er de hele tijd doorheen werken**\\\\n#thuisonderwijs #thuiswerken #loesje https://t.co/fQ81DvaLGy\\n', '**Probeer maar eens thuis te spelen\\\\nals je ouders er de hele tijd doorheen werken**\\\\n#thuisonderwijs #thuiswerken #loesje https://t.co/fQ81DvaLGy\\n', 'Daar zijn we dan: eerste werkdag \"bij\" Tweakers. Bij tussen aanhalingstekens want thuiswerken. Kennis maken via videobellen, voorstellen via Slack, het is toch anders.\\n', '@MissWartaal Thuiswerken, mijn zoon ook thuis en de vrouw is constant herrie aan het maken. 😱😱😱😱\\n', 'Het is weer tijd voor #thuisonderwijs. #thuiswerken https://t.co/brsonXj9hj via @werkaandemuur\\n', '@TonnVan @JoostNiemoller Niet medisch mondkapje houdt aerosolen tegen en niet in heel droge lucht vallen aerosolen naar beneden binnen 1,5 meter. Je moet dus geen mondkapje op een tafel leggen e.d..\\n', 'Vandaag is het de eerste dag van de solden. Zak jij af naar de winkelstraten om koopjes te doen? Doe het veilig. Hou voldoende afstand &amp; draag een mondmasker. Winkel alleen. https://t.co/U2B7dQIJ8q\\n', '@Midnightmarau20 @MarvinMoyaert @BartSomers Ik denk dat u toch nog wat sessies nodig heeft. Wellicht kan Bart Somers helpen.\\n', '@KristyFoppele Ik ben alweer terug... geen gaatjes... gelukkig\\n', 'nu op TPO: Zo angstaanjagend snel stijgt het aantal nieuwe coronabesmettingen in het Verenigd Koninkrijk https://t.co/nW3p2X2fJo (autotweet)\\n', \"@GoosR Soms heeft teveel in de publiciteit staan negatieve gevolgen\\\\nNL wordt gehersenspoeld door documentaires, praat(brabbel) programma's en media.\\\\nTelt ook voor het verspreiden Covid-19 angsten.\\\\nWellicht de volgende documentaire in april:\\\\n'Terug naar Beiroet'\\n\", 'Weer na de vakantie starten met school! #thuiswerken\\n', 'Ziekenhuis Amstelland is zeker een VVD tent. Warme chocolademelk, 100ml voor €3,10.\\n', '@DaalSanne Bij ons ook geen kommer en kwel over hoe het geregeld is. Het is wel maar 2x een half uur op een dag in meet en dat met thuiswerken gaat gewoon niet, maar alles is er, staat klaar en beschikbaar.\\n', 'De verklaring Clarkson en wat @Nieuwsblad_be en andere kranten er van maken.  \\\\n\\\\nHij las een boek op bed tot het #coronavirus wegging. \\\\n\\\\nSchrikken dan dat hun geloofwaardigheid afneemt. #nieuwsbald @vrt #vtm #hln https://t.co/9n7Z5WdDv0 https://t.co/KnsjgLl0p1\\n', '**Probeer maar eens thuis te spelen\\\\nals je ouders er de hele tijd doorheen werken**\\\\n#thuisonderwijs #thuiswerken #loesje https://t.co/fQ81DvaLGy\\n', '**Probeer maar eens thuis te spelen\\\\nals je ouders er de hele tijd doorheen werken**\\\\n#thuisonderwijs #thuiswerken #loesje https://t.co/fQ81DvaLGy\\n', 'Wij doen niet aan #thuisonderwijs. Mijn dochters doen gewoon klusjes in huis, zoals ze alvast kunnen leren hoe ze later een goede huismoeder kunnen worden. Willen ze later toch nog studeren, dan is daar alle tijd voor.\\\\n#thuiswerken #coronamaatregelen #homeschooling\\n', 'Einde vakantie. Ik zie niet op tegen werken. Ik zie op tegen opnieuw maandenlang hele dagen alleen in een kamertje zitten. Veel courage aan alle eenzame thuiswerkers. Denk aan treinvertragingen, ijzige perrons en slappe kantoorkoffie.\\n', 'UPDATE 15-12❗️\\\\nWij zijn alleen op afspraak OPEN, en we hanteren STRIKTE REGELS (voor uw en onze gezondheid), als u belt worden die u uitgelegd.\\\\n\\\\nDenkt u eraan,het mondkapje is VERPLICHT !\\\\n\\\\n‼️U KUNT OOK WEER ONLINE  AFSPRAKEN MAKEN‼️\\\\n\\\\nhttps://t.co/kpaH0RrQyX #Baarn #Soest #Eemdijk\\n', 'Het vertrouwen in de #Koning is in een half jaar tijd enorm gedaald: https://t.co/gKVMuWsdLZ\\\\n\\\\nHeeft u vertrouwen in hem?\\\\n\\\\nRetweets geven altijd #vertrouwen. Volg @TwitPollNL voor meer #peilingen #peiling #poll #koningshuis #maxima #WA #COVIDー19 #Corona #lockdown #blijfthuis\\n', 'Anna (9) heeft haar eerste online les van deze lockdown gehad. \\\\n\\\\n\"Papa, als huiswerk moet ik van de juf drie FIFA-wedstrijden spelen: tegen AZ, FC Emmen en FC Utrecht. En omdat ik pluswerk heb ook nog eentje tegen PSV... \"  \\\\n\\\\n#thuisonderwijs #thuiswerken\\n', 'Ik zit te kijken naar WNL Ziekenhuis EDE juridische strijd met overheid en verzekeringen over de bekostiging van het opschalen van de twee IC bedden? Is dit serieus? Deze overheid is echt het spoor bijster..... Is er nog iemand die het roer in handen heeft?\\n', 'Ik deel ‘m nog maar een keer....\\\\n\\\\n10 maanden, lockdowns, 1,5 meter, mondkapjes, ouderen eenzaam opgesloten, angst campagnes, propaganda enz\\\\n\\\\nWanneer doorzie je de conditionering, gaslighting en manipulatie?\\n', 'Mensen kunnen elkaar helpen laten we dat dan ook doen. \\\\n\\\\n😉\\\\n\\\\n#maandag #thuiswerken #deochtend\\n', '@thierrybaudet Bij het WHO en RIVM is er twijfel of de anderhalve meter met mondkap samenleving na vaccinatie wel of niet voortgezet moet worden...Dus wij gaan in het najaar zien, gezien het vaccin drie maanden nodig heeft eer deze effectief is...\\n', 'Kijkt iedereen die vandaag positief start met thuiswerken en thuisscholen ook even naar Klassen vanavond? Voor veel kinderen is de gelukkige omstandigheid van een eigen kamer en/of behulpzame ouder er niet.\\n', 'Week geleden kregen we 10.000 vaccins en werden er 700-tal gebruikt. Deze week komen er 87.500 bij en gebruiken we er 6.600. Wat is er aan de hand?  \\\\nDe eerstelijn staat klaar om te vaccineren  met de nodige deskundigheid én registratie. Waarom wachten ?👇 https://t.co/4is3AqfmnM\\n', 'Het kabinet versterkt met de Tijdelijke Ondersteuning Noodzakelijke Kosten (TONK) het vangnet voor bedrijven en banen. Het kabinet reserveert hier 130 miljoen euro voor en verwacht 1 februari 2021 klaar te zijn met de uitwerking met gemeenten:  https://t.co/qrxeVy1aI9\\n', 'TW\\\\nHarassment \\\\nDeze jongen blijft me chatten met andere accounts sinds 2016 ofzo en ik block hem steeds want hij stopt gewoon niet. Anyways laatste keer dat ik in su was (2019?)was ik naar next en ik ging eerder naar huis, ik was zelf gereden dus ik liep alleen naar beneden etc https://t.co/wXpdJQrkRL\\n', 'Dat heeft de fijne meester van jongste puberkanjer vanochtend leuk en goed gedaan in de Classroom!! Pluim voor alle leerkrachten, voor hun warme en grote hart voor de kinderen en jongeren en voor hun inzet!!\\\\nDank jullie wel!\\\\n#thuiswerken #Onderwijs https://t.co/A846928r0K\\n', '@bloemen_meis Je hebt helemaal gelijk...wat doe je ertegen als je ouders en zus en de rest van de familie allemaal bang zijn? Soms krampachtig knuffelen. Is verdomde eenzaam moet ik je zeggen.Gelukkig kan ik wel nog naar de voetreflexologe, dus mn portie huidcontact heb ik. Situatie doet pijn\\n', '@Jannemannetje7 Jij thuiswerken? Je hebt niet eens een baan met je zielige domme fake account.\\n', 'Britten voeren vaccinatietempo op: tweede prik beschikbaar https://t.co/Qrgu7eVulO via @telegraaf \\\\n\\\\nDeze Boris is volgens mij ook niet wat de Britten er van verwacht hadden over een landverrader gesproken.\\\\nBinnenkort eerste berichten uit het VK\\\\nEerste doden door het KILLERVACCIN.\\n', 'Welkom in 2021 met deze prachtige plaat van @huis_singraven! Veel geluk, gezondheid, hoop en mooie herbestemmingen gewenst. \\\\n\\\\nPs. Mocht je het #thuiswerken al snel zat zijn: het is een heerlijke omgeving om te wandelen. https://t.co/YzZeByXDMO\\n', '\\u2066@PostNL\\u2069 #post Tijdens de lockdown een ruime time window om thuis op je pakket te wachten.... https://t.co/QyeL0JlirN\\n', 'Corona heeft! Mijn zus en vader belden mij later op die dag, dat Het niet waar is, maar ik geloofde  toch de persoon die mij de testen liet zien...! Na haar de volgende dag te hebben opgebeld, bleek het verhaal te kloppen van mijn vader en zus en ging het om een grap!\\n', 'RT @3Groter: Video weg bij het walgelijke YT. Wél is de #waarheid door Pierre Capel verteld hier te zien 👇\\\\n\\\\nhttps://t.co/rI7siCniEo\\n', 'Laat het virus uit Engeland hier dan ook maar zn gang gaan daarom dus dat feest in #duindorp zonder #coronamaatregelen\\n', '@jesseklaver @1_OP_1 “Dezelfde fouten worden gemaakt rondom vaccinatiestrategie als eerder rondom testbeleid. \\\\n\\\\nWe moeten Nederland zo goed mogelijk door deze crisis leiden en op dit moment boeken we onvoldoende resultaat. \\\\n\\\\nIk wil horen van Mark Rutte hoe dit beter wordt.”\\\\n\\\\n@jesseklaver bij @1_OP_1\\n', '**Probeer maar eens thuis te spelen\\\\nals je ouders er de hele tijd doorheen werken**\\\\n#thuisonderwijs #thuiswerken #loesje https://t.co/fQ81DvaLGy\\n', 'RT @cricbuzz: 4th Test fifty for Rassie van der Dussen \\\\n#SAvSL https://t.co/0fUK0lEsTn\\n', '@alexanderdecroo Waarom wordt er geen rekening gehouden met baby-gezinsfotografen? Zij mogen sinds december terug werken. Maar kunnen gn afstand houden en de mondmaskers van de klanten moeten uit voor de foto. Niet verantwoord. Wij hebben meer contact met onze klanten dan kappers\\n', 'Bewijslast ligt al maanden bij wie versoepelingen wil. En nu is elke ontwikkeling wel een reden om het huidige regime te behouden of te verstrengen. De nadelen van een lockdown zijn moeilijker meetbaar, dus die negeren we.\\\\n\\\\nVermijd een depressie - kijk naar de rest van de wereld.\\n', '@marcvdhoogen De lockdown gaat zeker verlengd worden als de animo om gevaccineerd te worden net zo laag is als in Duitsland.\\n', '@JoostNiemoller Die vaccinatie begint wel een obsessie voor je te worden..(zucht).\\n', 'RT @_MikeMuller: Bild: ’Lockdown Duitsland verlengd tot eind januari’ https://t.co/mCICV9EhpE via @telegraaf\\n', 'Hoi ik ben sinds gisteren student ondernemer in!!! Joepie!!! En nu verkoop ik sjaals!!!! Het zou mij enorm helpen moesten jullie dit retweeten!!! Alvast merci 🤍🧡💙💜❤️\\\\n\\\\nmeer info: https://t.co/pNUuDKey4v https://t.co/gaoxSGrqrN\\n', '@AnilvanderZee @vanGilsAnne denk dat, net als bij vermoeidheid, alle soorten op 1 hoop worden gegooid, dus de huis- tuin- en keukenpijntjes die iedereen wel es heeft met bv. nog niet goed te vinden met een test neuropatische pijn door B12-tekort ofzow, paadjes aanleggen met te weinig steentjes lukt niet ☺\\n', '@LexVerzijl Het onderwijs is vandaag online begonnen.. thuiswerkers. Overbelasting van het net?\\n', 'Verschillende internationale publicaties waagden zich de afgelopen weken aan hun eigen (tech)voorspellingen voor 2021. https://t.co/OvUvDOOaHL #Coronacrisis #Covid19 #kansen #innovatie #Tech #FinTech #Cybercrime #Fashion #SocialMedia #Ecommerce #thuiswerken\\n', '4 Januari 12:23 : Live v/h Strandje (Sjimmie): zwaar bewolkt, geen strandweer, geen bezoekers, watertemp. 2,2 gr. , Coronavirus: Vermijd drukte, houd 1,5 meter afstand.\\n', '#thuisonderwijs #thuisschool #thuiswerken zijn trending op Twitter. Behalve voor examenkandidaten en hun leraren. Die mogen met 30 in een lokaal, no sweat. \\\\n@arieslob\\\\n \\\\n@MinOCW\\\\n \\\\n@AObtweets\\\\n \\\\n@CNVOnderwijs\\\\n \\\\n@VO_raad\\n', 'Eigenlijk kun je 2020 samenvatten met deze Wuhanliner...\\\\n\\\\n#januari #Nieuwjaar #coronavirus #thuiswerken #gelukkignieuwjaar\\n', 'Ik ben nu thuiswerken(administratie) want trimsalons mogen ook niet open🤷\\u200d♀️\\\\nMaar die buren van mij. Kinderen hebben toch thuisonderwijs?\\\\nHet lijkt de hele ochtend wel gymnastiek les of zo.\\\\nRadio maar wat harder.🙉\\n', \"Alle taxi en buschauffeurs even opgelet. De politie hoeft niet alleen geen mondkapje op ze mogen zelfs zingen in de auto met bijrijder. Politieagenten kunnen natuurlijk niet besmet raken en besmettelijk zijn. Of weten zij wat de werkelijke risico's zijn.\\\\n\\\\nhttps://t.co/WnIt7wqs6L\\n\", '#thuisonderwijs #thuisschool #thuiswerken zijn trending op Twitter. Behalve voor examenkandidaten en hun leraren. Die mogen met 30 in een lokaal, no sweat. \\\\n@arieslob\\\\n \\\\n@MinOCW\\\\n \\\\n@AObtweets\\\\n \\\\n@CNVOnderwijs\\\\n \\\\n@VO_raad\\n', '@Su_SundayMonday Single mom 🙋🏽\\u200d♀️ Doen mijn tieners allemaal zelf, gelukkig. En erg blij dat het perfect geregeld is bij hun scholen, ze vinden het heel erg leuk en loopt op rolletjes. Ontzettend veel waardering voor de inzet, flexibiliteit en creativiteit van de leerkrachten.\\n', \"Alle taxi en buschauffeurs even opgelet. De politie hoeft niet alleen geen mondkapje op ze mogen zelfs zingen in de auto met bijrijder. Politieagenten kunnen natuurlijk niet besmet raken en besmettelijk zijn. Of weten zij wat de werkelijke risico's zijn.\\\\n\\\\nhttps://t.co/WnIt7wqs6L\\n\", '@hattrickphilip1 @vanranstmarc Neen? Waarom niet? Een paar opzoekingen op Google levert de volgende resultaten op, ik heb voor mijn analyse 4 verschillende regio’s genomen: Florida, New York, US als geheel en België. \\\\nGeen lockdown: Florida\\\\nLockdown: Belgique &amp; New York.\\\\n\\\\nZier hieronder 👇🏻\\n', 'Alle kleuterjuffen die verzonnen hebben dat er sneeuwpoppen geknutseld moeten gaan worden thuis met thuiswerkende ouders...u zijt niet geliefd. \\\\nJust saying 😑\\\\n#thuisonderwijs\\n', '@elydewaal @martwinducati @NOS Er is al aangegeven door hugo dat dat niet gaat gebeuren. 1,5m en mondkapjes etc blijft gewoon doorgaan.\\n', 'RT @Momootjem: Mondkapjes is een oefening in gehoorzaamheid. #ikwildieprik https://t.co/qGLxt9yKQI\\n', '@Leenzaam Ja dat weet ik toch ook wel 🤣🤷\\u200d♂️\\n', 'De hbo’er in huis hoor ik al de hele ochtend lachen met klasgenoten. Heeft zichzelf een topheadset kado gedaan. De jongste zag ik met haar allergrootste mok thee en een schaaltje kaakjes. Thuiswerken begint met een goede setting, groot of klein. Maak t zo leuk en zo knus als kan\\n', 'TW\\\\nHarassment \\\\nDeze jongen blijft me chatten met andere accounts sinds 2016 ofzo en ik block hem steeds want hij stopt gewoon niet. Anyways laatste keer dat ik in su was (2019?)was ik naar next en ik ging eerder naar huis, ik was zelf gereden dus ik liep alleen naar beneden etc https://t.co/wXpdJQrkRL\\n', '@BastiaanRagas Schande. Overigens beschermt de gevaccineerde alleen zichzelf en niet de ander. Mondkap en afstand houden blijft dus nodig. @WHO En waarom moeten mensen zich vaccineren die al covid gehad hebben? Vaccinatie na 2 injecties, hooguit 2/3 mnd bescherming. En dan? Weer ‘n vaccin?\\n', '@Vlindertuin2 @thierrybaudet Ja zeker.\\\\nMen vermoedde dat covid19 vanwege de nauwe verwantschap aan SARS dodelijker zou zijn, is idd meegevallen. SARS is vele malen dodelijker.\\n', '@Martintencaat Zo. Een hotel. Want ik kan niet meer thuiswerken nu mijn kind thuis is. Deed ik meer toen school open was. https://t.co/jBBfXNgJLW\\n', 'Q: Zijn basisscholen veilig?\\\\nA: NO NOOOOOOO NOOOOOOOOOOOOOO\\\\n#scholen #scholendicht #scholenveilig #scholenopen #COVID19NL #thuisonderwijs #longcovidkids #nationallockdown #thuiswerken #B117 #MISC_NL https://t.co/3xvtpZaKuk\\n', 'Meerderheid Duitse landen is voor verlenging lockdown tot eind januari. Zal Nederland volgen? Om daarna tot aan de verkiezingen steeds meer cadeautjes te geven aan de mensen. Eerst de basisscholen open, dan de detailhandel en ten slotte de horeca. \"We mogen weer\". #trapernietin\\n', '**Probeer maar eens thuis te spelen\\\\nals je ouders er de hele tijd doorheen werken**\\\\n#thuisonderwijs #thuiswerken #loesje https://t.co/fQ81DvaLGy\\n', '@FFeys @Statbel_nl @TDelclite @coulmont zou ge al niet ver geraken door deze cijfers te gebruiken en daar de gekende corona-doden vanaf  te trekken.\\\\nGeeft dan toch al een inzicht of de niet-coronagerelateerde sterftes lager of hoger lagen dan de voorbije 20 jaar\\n', 'Op 12 oktober verbood Burgemeester Van Zanen een lopende demonstratie van 30 personen (op 1,5 meter, met mondkapjes) tegen Shell. Op ons bezwaar is niet eens gereageerd. En dit mag wel? Hoe zit dat @GemeenteDenHaag ? #Demonstratierecht \\\\n\\\\nhttps://t.co/qhCgN3wCAe\\n', 'Bijzonder dat de politie zo ingrijpt, terwijl Viruswaarheid en Duindorpers nauwelijks een strobreed in de weg wordt gelegd.\\n', '**Probeer maar eens thuis te spelen\\\\nals je ouders er de hele tijd doorheen werken**\\\\n#thuisonderwijs #thuiswerken #loesje https://t.co/fQ81DvaLGy\\n', 'Lieve collega’s die vinden dat ze vandaag fysiek voor de klas moeten staan; doe het niet. Ga online. Als je jezelf ertoe gedwongen voelt, werk zo veilig mogelijk. Maak kleinere groepen, draag maskers, blijf ventileren ondanks de kou, mijd engelachtige collegae &amp; hou afstand.1/\\n', '@RogowskiBubba @sil_ver_sur_fer @wateenlegend Ja, ik schreef dat al eerder:\\\\n\\\\nOverleden door \"onderliggend lijden\": \\\\nMelding: corona dode.\\\\n\\\\nOverleden door vaccinatie: Melding: \"onderliggende lijden\".\\\\n\\\\nZo werkt de corrupte big-pharma.\\\\n\\\\n@LHVhuisartsen\\n', 'Hoofd voorlichting Tweede Kamerfractie VVD, een van de partijen die de Participatiewet bedacht waardoor iemand met een Bijstandsuitkering gekort wordt als ze boodschappen van hun moeder krijgen. Gelukkig kunnen ze er zelf om lachen... https://t.co/nsN3lpRJFj\\n', \"Straks heeft heel werkend, fit Nederland een vaccin en staan kwetsbare groepen achteraan.... Ook leraren, agenten en boa's willen voorrang • Bild: lockdown Duitsland verlengd  - https://t.co/aqoAYBXG76\\n\", 'RT @_Bakhtali: PCRtest faalt hopeloos \\\\n#corona\\\\n#Vaccinatie \\\\n#vaccins\\\\n#pfizer https://t.co/fLImL6yTtb\\n', 'Q: Zijn basisscholen veilig?\\\\nA: NO NOOOOOOO NOOOOOOOOOOOOOO\\\\n#scholen #scholendicht #scholenveilig #scholenopen #COVID19NL #thuisonderwijs #longcovidkids #nationallockdown #thuiswerken #B117 #MISC_NL https://t.co/3xvtpZaKuk\\n', '@ewmagazinenl Gaat de redactie van @ewmagazinenl zich laten vaccineren?\\n', '@PoempieIoempie Er staat dus letterlijk dat allergische reacties niet bewezen zijn. Letterlijk! Er is dus geen causaal verband tussen het vaccin en de allergische reactie.\\n', 'RT @torfsrik: Kritiek op Franse regering omdat de vaccinatiecampagne te traag verloopt. Dat heeft ongetwijfeld effect op Franstalig België.\\n', 'Ik krijg heel erg veel schrijnende berichten van ondernemers in de beautysector die op het punt staan failliet te gaan. Geen TOZO vanwege partnertoets, terugbetalen NOW1 door de piek in mei en geen omzet door de zinloze lockdown. #StemNederlandTerug #FVD \\\\nhttps://t.co/kZYvBsquwh\\n', '@laurazwaneveld De coronaregels maken t pijnlijk duidelijk dat t nooit goed is. Eerst werd er gepleit voor maatwerk en toen dat er was zei iedereen ‘hier wel en daar niet, belachelijk!’\\n', 'Ik mis het contact met de kinderen. De hele dag schermpje staren is niks voor mij... #thuiswerken #juffendingen\\n', 'RT @ikvaccineer: Zo nu en dan ben ik blij dat er mensen uit de zorg stappen. https://t.co/huHaDC1XOn\\n', '@wijnenthousiast Zeg Mondkapje waar ga je heeheeen??\\n', '@mallepolly @bassjobsen @Nathan_Visser @TjibboB @rivm @MinPres U stelt zich een beetje aan denk,,wij ryden de taxi ook met elke zitplaats bezet(richtlijn Rivm) moeten wij ook maar thuisblijven?\\n', 'Wat denken jullie? Wordt onze lockdown ook verlengd?\\\\n\\\\nBild: Lockdown Duitsland verlengd tot eind van de maand - https://t.co/t91ObhHw4p\\n', '@RoryJonkergouw Ik zie wel dat Run2Day nu vanwege de lockdown ook online een loopanalyse doet. Dat is nog wel een goede optie: https://t.co/0JHrvnA8Kr\\n', '@JaqieVersteeg @de_yko @sil_ver_sur_fer @sas61 @remkob131 @Yola9999 @3Groter @oers_sandra @Wim04789402 @MarjoVrij Die kale kip is niet akkoord  gegaan?\\n', 'Voor de ouders die nog wat educatief verantwoord vermaak zoeken. Ga in blockdown en huur een Hubelino knikkerbaan pakket #zwolle https://t.co/bOvSzJyeyV\\n', \"RT @quovadisweblog: Kijk eens aan, Bruno Bruins is er nog, en hoe.\\\\n\\\\n'Bruno Bruins benoemd tot commissaris vaccininstituut Intravacc'\\\\nhttps:…\\n\", 'Meer dan de helft van de werknemers in de gezondheidszorg in ziekenhuizen in Californië weigert vaccinaties https://t.co/hpMsoZgpDZ via @Frontnieuws\\n', \"RT @mainfield2017: Gister 1 uur bij test straat Leeuwarden gestaan 3 auto's gezien.. Heb afgelopen maanden meerdere zelf bezocht altijd zel…\\n\", 'Nu leraren, politie etc ook vinden dat zij als eerste geprikt moeten worden, verdwijnt de bescherming van kwetsbare ouderen, nog maar paar wkn geleden in groep A en B, wel heel ver achter de horizon \\\\nWat zegt de Gezondheidsraad hiervan?\\n', '@PoempieIoempie Ik heb nog nooit zo graag iets afgestaan aan anderen. Hopelijk kan ik mijn baan houden als niet prikker...De volgende hindernis.\\n', 'Niets aan de hand mensen! Ik @LodewijkA blijf zitten!! #PvdA #thuiswerken \\\\n#luchtalarm \\\\n#StemZeWeg https://t.co/4YmuJoEy2T\\n', 'RT @back_fis: De vaccin gekte loopt volledig uit de hand👇\\\\n\\\\nhttps://t.co/75fldjIHgU\\n', '@Kimvanstrien Onderwijs lijkt mij voor leerlingen gevaarlijker dan voor leraren:\\\\nLln zitten vlak op elkaar in slecht geventileerde klaslokalen, soms naast asymptomatisch besmette klasgenoten. De docent kan wel afstand houden, lln niet.\\\\n\\\\nMijn idee: geef lln een hogere prioriteit bij vaccineren.\\n', '@DieTukkerfries Niet het meest vitale, maar ook niet overbodig daar we afgelopen jaar oa kuchschermen, hygienedisplays, van die kekke afstandhoustickers voor op de vloer,  niet medische mondkapjes en aankleding van teststraten hebben gemaakt.  Dat ipv festivaldecoratie.\\n', 'Verrassing!!! \\\\nMijn jongste #VSO tl3 #stadenEsch blijkt morgen fysiek onderwijs te hebben.🤷\\\\nEr is iemand he-le-maal niet blij🤭😳 \\\\nOok niet als ik zeg dat veel kinderen wel zouden willen ruilen\\\\n #thuisonderwijs\\n', 'Moi. wie bint eem uut de lochte west; paor daogen bie oes nichie Grietje, die het ien nei prugeltie, Margje, döt niks as schreien, 1,5m helpt ja niks. Ok drok met kerst èn moesiesaovend, old jaar gongen wij an t karbidschieten en neijaorlopen. Bint er wurrig van. Gelukkig neijaor\\n', 'RT @Toon75419985: IC helemaal vol met ?  :  etalagepoppen https://t.co/2BXrNCvq1T\\n', 'ze proberen slapers wakker te maken, sinds wanneer prik je door de kleding heen ??? slapers,  please, hoe lang kunnen jullie dit nog serieus nemen ?????🤷\\u200d♀️ https://t.co/cMPg2RYpAO\\n', \"Deze hebben 'het spuitje' al gehad.......\\\\n#waanzin\\n\", '\"Vriendschap is elkaars verjaardag weten zonder Facebook.\" - Anoniem, Vriendschap op School, Week 17 https://t.co/qRd3TPUVnR https://t.co/owpQuh4Q0A\\n', '‘Ik heb 7 jaar sigaretten gerookt en ben daarmee gestopt dankzij de e-sigaret. En ik ben sinds kort ook gestopt met de e-sigaret. Iets wat mij nooit eerder was gelukt.’ Een van de vele reacties op de internetconsultatie. Ook reageren? Dat kan hier!\\\\n \\\\nhttps://t.co/Bz9QR4dYMK\\n', 'Rotterdammer belt RIVM 30-12-2020 \\\\n\\\\nhttps://t.co/H0wH2CK5cA via @YouTube\\\\n\\\\nIk ben me KAPOT geschrokken!\\\\n\\\\nOok deJonge laat z’n kinderen NIET inenten met deze 2 horrorvaccins.\\\\n\\\\nDe 1e ‘prik’ is voor de vreselijke bijwerkingen van de 2e prik, het ‘vaccin’.\\\\n\\\\nTWEEPS, KIJK &amp; RT DIT AUB!!\\n', '@HartvNL Nederlandse statistieken zeggen niet veel, zal me niet verbazen dat daling komt door minder getesten. Mocht het dus nu beter gaan, gewoon stoppen met al die waanzin en zsm terug naar normale LEVEN!\\n', '24ste coronadode en 29ste ziekenhuisopname in gemeente Schagen. In Noordkop 69 nieuwe coronabesmettingen gemeld https://t.co/GSJMmdXwWP https://t.co/af5F3d2nRk\\n', '@w8eens @smeerlingantiek Hee een mondkapje.\\n', 'RT @HLN_BE: Minister Frank Vandenbroucke drukt de hoop voor versoepelingen: “Viruscirculatie blijft erg hoog”\\\\nhttps://t.co/QwzvyO3BVN\\n', 'Ze zijn met niets klaar de vaccins worden massaal verkocht money, money.!! Corona zolang mogelijk laten aanhouden om aan de macht te blijven.!!!\\n', '@BastiaanRagas Ik vind dat een verwerpelijk idee. Mensen hebben recht op zorg, ongeacht of ze dat door eigen schuld nodig hebben. Je schaart een verslaving onder de noemer \"onvrijwillig\"? Die verslaving is ooit begonnen met een eigen keuze. Dus iedereen heeft recht op een IC bed. Geen discussie\\n', 'De media willen ons doen geloven dat iedereen staat te springen om hét vaccin. Nonsens! Toch zien veel mensen hét vaccin als uitweg uit de corona-elende. Maar dat is ijdele hoop. Herinner u dat de gevestigde orde niet voor niets spreekt over \"het nieuwe normaal\".\\n', 'We gunnen het iedereen om snel gevaccineerd te worden, maar het lobbyen voor voorrang moet stoppen. Het klinkt tegenstrijdig, maar zelfs IC-personeel eerst inenten om meer mensen te kunnen behandelen, kost extra levens omdat risicogroepen dan later aan de beurt zijn. 👇\\n', '@Mercy44 @jannyzeeland Helaas de chantage zal wel lukken.\\\\nHet is geprikt worden of ontslag.\\\\nMaarrrrr het is niet verplicht hoor!!!\\\\nGoebbels zou trots zijn op deze coalitie.\\n', 'Nevada (US) heeft een streng mondkapjesbeleid (vanaf juni, recent zelfs overal en altijd verplicht).\\\\n\\\\nDesondanks één vd allerhoogste Zkh Opnames (per M inw) van alle US states.  \\\\n\\\\nhttps://t.co/TcOZSrugYV https://t.co/kmH1KcB50G\\n', 'RT @LeefVrijEnVolop: 👉Geweldig! De vaccinatiecentra in Duitsland zijn leeg! 💪https://t.co/C6638mwcOe\\n', 'Als ik winkelier was zou ik nergens geen garantie meer op geven .. Mensen laten zich ook inspuiten met gif zonder garantie ..\\n', '@Jaycee__1973 Mogen huisartsen dit ook voorschrijven aan COVID patiënten?\\n', '@Gijs333 @fokkebrouwer @zonderhokje @EDB771 Het vaccin is eerlijk gezegd een no-brainer: de bezwaren die geuit worden zijn werkelijk zwaar overdreven tot regelrechte leugens aan toe. De hoeveelheid desinformatie hier op Twitter is misselijkmakend. En nee, ik word niet betaald door Bill Gates 😄\\n', 'Voor de werkenden onder ons\\\\nWerken jullie meer/minder thuis dan in de eerste golf? \\\\nOf heb je een vitaal beroep (oa zorg/supermarkt) en kan je dus niet thuiswerken?\\\\nRT voor meer bereik is top\\n', \"@NOS Weinig geparkeerde auto's hier. Dus weinig mensen die thuis werken. Verder zag ik ook dat er een kapper open was. Is de lockdown al voorbij? 🤔\\n\", '@SuzanKemperman Sowieso mee eens! Ik hoop ook zo goed te zijn voor mijn patiënten\\n', 'Zoals een huisarts vandaag zei: mijn dochter van 5 kan ik leren injecteren!\\\\nZoals iedereen weet kun je uit een doos van 1000 flesjes 500 pakken en een 2e doosje vullen\\\\nZoals iedereen weet moet het vaccin ontdooien dus in een Fiat Panda kun je ze naar Lutjebroek brengen. https://t.co/UF5ERWHwRF\\n', 'Willem Engel van Viruswaarheid die graag mag opruien tegen verzorgingstehuizen, staat op nr 3 op kieslijst Vrij en Sociaal Nederland (VSN). Mordechai Krispijn jodenvervolging en lockdowns met elkaar vergeleek, op nr 4. https://t.co/bPnRIyYCoN\\n', 'Hoe denkt t personeel daar zelf over, om als proefkonijn te fungeren, of slikken (prikken) die alles voor zoete koek? 🤔\\\\n\\\\nhttps://t.co/ltWbLKLRmU\\n', 'kijk, als mensen hun gewicht en lengte hier willen vermelden en daar blij van worden, mag dat toch gwn? als dit mij triggert wil dit enkel zeggen dat ik iets moet doen aan mijn problemen. is niet nodig om mensen dat te verbieden? lost niemands problemen op.\\n', \"Parkeerplaats aan Laan v/d Helende Meesters. Wat zouden bomen en meer groen hier veel goed doen... Troosteloze plek. (Foto gemaakt op zondag). Onderste foto kwam ik tegen op internet: hoe het ook kan.\\\\nDoor de week vol met auto's, personeel @ZkhsAmstelland \\\\n@Gem_Amstelveen https://t.co/y66Z1Uiest\\n\", '@ekmi_im Ik had gelukkig nog wel wat in huis maar er zullen ook ongetwijfeld ouders zijn die nog minder voorbereid waren en dan knel komen. Dat levert onnodig stress op bij ouders die vaak toch al drukker zijn vanwege thuisschool en thuiswerken.\\n', 'Lockdown in Duitsland verlengt tot 31 januari. Mensen maak je borst maar nat Nederland doet wat Duirsland doet maar week langer dus hier zal het wel tot 7 februari zijn. Kijken of dit kabinet een keer hiervan afwijkt. Maar denkt het niet #thuiswerken #thuisonderwijs\\n', 'https://t.co/RjyPpvgqro\\\\nViktor Orbán blijft onvermoeibaar strijden tegen de linkse koers van de EU ... het is niet eenvoudig, maar het is mogelijk om door het oog van de naald te kruipen 👏😋❣️\\n', 'Beste volgers. Voor een artikel over vitamine B12 ben ik op zoek naar iemand die ervaringen met me wil delen over een opgelopen B12-tekort als gevolg van een vegetarisch of veganistisch dieet (ik zoek niet patiënten met opnamestoornissen). Retweet SVP. Ik wacht op je DM. ^Stephan\\n', '@chgroenhuijsen Ik ben geen FvD fan, maar je kan niemand een ziekenhuisbed weigeren, ook niet als die persoon zich niet laat inenten. Je kan niemand dwingen. We laten toch ook obese mensen toe als ze een kwaal hebben die daaruit voortkomt? Of rokende mensen die longkanker krijgen? Etc....\\n', 'Wanneer laten Hugo de Jonge, Sigrid Kaag, Mark Rutte en Gertjan Segers zich inspuiten met het corona vaccin? Daar zit ik op te wachten https://t.co/nmN16cEQD7\\n', '@barrypirovano Dankjewel, mn oudste was er erg blij mee :)\\n', 'RT @DeSpeld: Martin wil dat zijn werkgever een schoonmaker bij zijn thuiswerkplek laat langskomen - ‘Ik kan hier zo niet werken’\\\\nhttps://t.…\\n', \"Dochter (3) komt naar mijn werkkamer (waar ook de klei staat): 'Ik wil kleien.'\\\\nIk: 'nee, dat kan nu niet.  Mama is aan het werk.'\\\\nDochter: 'Maar dan maak ik een cakeje voor je.'\\\\n#thuiswerken\\n\", 'Eerste werkdag in het nieuwe jaar op de thuiswerkplek zit er op. Er zullen vast nog vele volgen. https://t.co/JVntfvUONF\\n', 'Als dank voor jullie steun en interesse hebben we besloten om de webinar \"Palliatieve Zorg bij Corona\" gratis met jullie te delen https://t.co/1LwR34bVtX\\\\nWe willen meer aandacht vragen voor #palliatievezorg. Help ons en deel dit bericht.\\\\nWe wensen jullie al het goede voor 2021! https://t.co/fdRyvHTcye\\n', 'Eerste excuus was dat we eerst moesten proefdraaien (alsof we nog nooit hebben gevaccineerd 😂), en nu is het excuus dat we moeten kwaliteit bieden (echt tof voor verplegend personeel die geweldig hun werk doen).\\\\n\\\\nMan, zeg toch gewoon dat we geleid worden door knoeiers in Vivaldi https://t.co/U1e1Mhr1CN\\n', 'De eerste dag #thuiswerken van het jaar zit er weer op! 💃 Om thuiswerken een stukje makkelijker te maken hebben we het Work From Home Mativation theepakket samengesteld. Bekijk hier 👉 https://t.co/J0EvfSUwy2\\\\n#thuisonderwijs #lossethee #WorkFromHome #thuiswerken https://t.co/O0HYUhdAHO\\n', 'Een mooi bedrag bij elkaar gespaard met #rondjevoordejeclub https://t.co/IYRAqRwbpI\\n', 'RT @SVoorbraak: Kword met den dag lelijker tijdens deze lockdown pls make it stop\\n', 'Op 17 maart maken Pfizer en Biontech hun samenwerking bekend voor het ontwikkelen van het vaccin.\\\\n36 dagen later(!!!!), op 22 april wordt goedkeuring  gevraagd voor onderzoek met 200 personen. Wil je echt een vaccin dat in 36 dagen ontwikkeld is???\\n', '@Lin_da_07_01_ @NeemB12Serieus Waar bemoeit ie zich mee, hij is niet de behandelende arts 🤨\\n', 'Er is nog geen wetgeving om landelijk te kunnen registreren welk vaccin je hebt gehad. Landen om ons heen hebben dat al wel geregeld. \\\\n\\\\n \"Dat is door het ministerie over het hoofd gezien\", zegt hoogleraar Jan Brouwer.\\\\n\\\\nhttps://t.co/QwktOmK6Lv\\n', 'RT @deadmonkey19: Wat een helder licht ben je dan 😂\\\\n\\\\n#Corona #pfizer #lockdown #vaccinations https://t.co/psxaD9q3ZY\\n', '@Marieke_Luiten Wel redelijk productief...maar fucking saai dat thuiswerken...😑😑\\n', 'Zo sloopt de VVD onze zorg. VVD-minister Van Ark privatiseert op het hoogtepunt van de pandemie een publiek instituut voor vaccinontwikkeling. Twee weken later treedt oud VVD-minister Bruins toe in de Raad van Commissarissen. Instituut weg, baantjes verdeeld.\\n', 'Er zijn inmiddels ZES verschillende vaccins tegen Corona! !??\\\\nHuh!? En alles lijkt goedgekeurd? Hoe kan dat, en klopt het allemaal wel=wat ik mij hierbij afvraag!#nosjournaal\\n', '@kimzs09dv Geen democratie maar Farmacie. Wie niet wil luisteren moet maar voelen blijkt weer. Maar Kim geloof je me als ik zeg dat FVD en of PVV er alleen zijn om jou en vele hoop te geven? Want de agenda gaat al sinds jaar en dag gewoon door. En niet in ons voordeel\\n', '@Dozzle101 @NOS Nee, positieve test duidt slechts op een positieve test en niet of je besmet, besmettelijk of ziek bent\\n', 'Met geavanceerde cameratechnologieën als realtime eye-autofocus en burstopnamen van wel 20 fps leg je het ware karakter van je favoriete huisdieren haarscherp vast. Kijk maar naar deze foto’s van Liz Gregg met de #Xperia1ii in haar prachtige fotoserie ‘(Im)Perfect Pawtraits’.🐾📸 https://t.co/911g3E9dmY\\n', 'Mi Dios lleno de amor 😭#Biblia #Jesus #RicardoClaurePeñaloza #SinfoniasCelestiales #Profecias #33añosDeMinisterio #SalvarElAlmaHastaDelUltimoHombre iran #vacature #thuiswerken den haag #onderwijs #ajax duitsland britse #toeslagenaffaire telstar #nporadio2 @RicardoClaureP\\n', '@haarlem Gelukkig liggen ze wel op 1,5 m van elkaar.....\\n', 'Bericht van 2 weken geleden. Deel verpleegkundigen wil geen vaccin \\\\nhttps://t.co/13zKDic4N5\\n', '@nietlysanne Keb bijna zelf de schaar erin gezet  maar toen was lockdown 1 voorbij .\\n', 'Onrust over ‘nieuwe’ virusvariant in Kempen: wat is er aan de hand?  https://t.co/tTmOWldP6n https://t.co/YBOG9XNBMJ\\n', '@SuzanKemperman De pijlers zijn hier sterfte voorkomen (ouderen en kwetsbaren), besmetting voorkomen (jongeren)en sociale sleutelfuncties beschermen (zorgpersoneel)\\n', '@WNLVandaag @tonvanhaperen Ik zou zeggen nodig ook iemand uit van de Stichting Thuisonderwijs (wezenlijk ander onderwijs dan schoolonderwijs op afstand). En vergeet ook niet dat er ook kinderen zijn die echt opbloeien van meer thuiswerken. Geen drukke klassen, meer zelfstandig in rust kunnen werken etc.\\n', 'Vaag het gevoel dat 2021 heel aangenaam zou kunnen zijn en dat ik daarvoor alleen maar Twitter, televisie en kranten een beetje moet zien te ontlopen\\n', '@hugodejonge Ik wil graag zeggen dat jullie het bij de lockdown goed doen om een scheiding maken tot medische en niet medische contactberoepen. 👍\\\\nMaar dan heb ik toch een vraag. Waarom behoren #haptotherapeuten niet tot de groep van medische contactberoepen??\\n', 'Op 12 oktober verbood Burgemeester Van Zanen een lopende demonstratie van 30 personen (op 1,5 meter, met mondkapjes) tegen Shell. Op ons bezwaar is niet eens gereageerd. En dit mag wel? Hoe zit dat @GemeenteDenHaag ? #Demonstratierecht \\\\n\\\\nhttps://t.co/qhCgN3wCAe\\n', '@biefstuk77 @thierrybaudet Oh wat zal jij van een koude kermis thuis komen als de 1.5 meter lockdown en de mondkapjes plicht van kracht zullen blijven wanneer iedereen gevaccineerd is. \\\\nJe gaat je hoop zien vervliegen en in en gat vallen. #wakeup\\n', '@ThomasSchuurman Klopt. We zitten ook zo te hannesen met zijn allen. Ik ben voor radicaal anders online. Bijvoorbeeld dat de leraar een uur voorleest, ipv een taallesje. Laat kinderen kaartjes maken en schrijven, naar iemand die ziek is of eenzaam.\\n', 'Nu op TPO (Autotweet) Video: viruswappies zingen ‘You can stick your poison vaccine up your ass’ tijdens superspreadevent https://t.co/MHo3A1ODJ6\\n', \"RT @colourbird00: WHO-hoofdwetenschapper waarschuwt: 'Geen bewijs dat coronavaccin virusoverdracht voorkomt' https://t.co/PGmqW64QQS\\n\", 'Beste @stefwauters_vtm , bedankt om eens echt kritische vragen te stellen aan Vandenbroucke ivm de traagheid van vaccinatie. Een verademing dat een journalist het eindelijk aandurft EN nog eens doordramt op vragen. Proficiat!\\n', 'RT @Pietjan21272753: @Hoofdzuster1 @THoutkooper @RoelfTurksema Kijk effe op de doos mondkapjes werken niet voor covid  19.\\n', 'Zo blij met deze reactie. Kon me al niet voorstellen waarom je een vaccin dat na ontdooien zeker 3-4 dagen goed blijft niet gewoon kan verdelen in een klein land als het onze. Wat een waanzin om al die zorgmdw en ouderen te laten reizen, gaat lijnrecht in tegen lockdown-argument.\\n', '@akbaspinar Doe ik ook nog. Vals gevoel van controle. Alleen maar meer werk hehe.\\n', 'De vaccins liggen massaal in de koelkast wegens opstartfase, taskforce en voorbereiding. En vaccinaties zijn een bevoegdheid van de deelstaten. #kloefkappers\\n', 'Tweede golf in verpleeghuizen qua officiële sterfte nu dus hoger dan eerste golf. Verzorgen van patiënten met vastgestelde (!) covid-19 besmetting hoeft nog steeds niet met FFP2. En vaccinaties meest kwetsbaren laten ook nog wel even op zich wachten. \\\\n\\\\nGaat super dit. https://t.co/Cf5rMkFYPM https://t.co/hLuYrvjs1z\\n', '@ladulcinella @Bouchh1 @SaidBataray Dat is inderdaad dik kut. Aankomen en quarantaine/testing is niet mogelijk?\\n', '@BrazziBroglio @Jodelieho @OlofJanzen1270 @airmaxx141 Dus als ze morgen een geweldig vaccin oid hebben tegen kanker... 10 tot 15 jaar wachten? Of zijn de menselijke en financiële belangen wereldwijd zo groot dat we het versnellen? Of het veilig is zo kun jij en ik niet beoordelen iig\\n', '@Geert_D8  vandaag op @tvoost_vl over controles op thuiswerk: \\\\n\\\\n\"De overheid zet best eerst in op de eigen dringende taken zoals testing, tracing en vaccinatie ipv bedrijven te viseren die in uitzonderlijke omstandigheden enorm hun best doen.\"\\\\n\\\\nhttps://t.co/wKmzuqvMYA\\\\n\\\\n#voka2021 https://t.co/Isnm7f4y08\\n', 'https://t.co/kZKhY7fP4S Alle vragen goed. Met hulp van @AlexCorneBurger\\n', '@thescarecrowk Ah dankjewel🥺🥺 echt doordat ik geen fysieke lessen heb voelt het soms zo eenzaam en ik volg ook totaal niet waar ik mee bezig zou zijn en aaaaaa het is allemaal zo stressvol\\n', '@F1Kaco @telegraaf Een eenmanspartij? Onder welke steen lig jij te pitten? \\\\nDe PVV is een partij met 20 parlementariërs en 1,5 miljoen kiezers. De 2e partij in dit land.\\n', '@PoempieIoempie @visuele Nee dood = Corona dat weetbiedere kleuter\\n', '@myousse66436072 @xrpcase @JoostNiemoller Ik ben blij dat hij denkt en uit zoals hij doet. Samen met @OlifaNT vind ik het goede informatiebronnen. Een hoop durven het niet, dus iemand moet het doen. Ben het vaak niet eens, maar dat ze weten waar ze achter staan is wel respect waard.\\n', '@Jopkiedora Maar wat nog belangrijker is, als je toch gevaccineerd wordt, is het nog steeds niet duidelijk hoe lang je tegen corona beschermd wordt #vaccineren #vaccinatiestrategie #nederlad #COVID19NL #COVID19\\n', 'Vorige week werden 10.000 Corona vaccins geleverd en werden 700 mensen gevaccineerd. Deze week komen er 87.500 en vaccineren we 6.600 mensen. Dit kan je toch echt niet meer uitleggen? Als een WZC besmet is, vaccineer dan n ander en keer later terug he zeg. https://t.co/5MzgCixOyp\\n', '@JohnvanKrieken Ik heb dus echt veel en veel minder gereden vorig jaar. #thuiswerken\\n', '@ZiggoWebcare Nee, nief meer aan begonnen...... en de WiFi nog steeds bagger. Thuiswerken en huiswerk is een drama\\n', '@mgarschagen Geheel toevallig op de dag waarop Sturgeon een nieuwe lockdown aankondigt!\\n', 'Kan toch ook bij de fascisten en viruswappies van thierry erbij....\\n', 'Wij vragen ons vaak af waarom slimme mensen zich laten testen? De PCR-test toont namelijk GÉÉN besmetting aan. En je wilde nou juist graag weten of je anderen kon besmetten. Wat je doet is enkel jezelf en anderen in \\\\nproblemen brengen en zorgen dat de cijfers kunnen oplopen. Dom!\\n', '🏛️ #FVD komt naar u toe! Op zondag 10 januari zijn we in #Volendam en organiseren we een #manifestatie voor een politieke koerswijziging. Minder immigratie, uit de EU &amp; een streep door het klimaatbeleid en de lockdowns!\\\\n \\\\n👉 Meld u aan via https://t.co/yr7VQF2GRQ. Tot zondag! https://t.co/sjRRTrrWEO\\n', \"Nederland (de regering dan!) zou heel goed moment kijken nr wt nu in VK gebeurd+wat nodig is als je té lang wacht op indammen/vertragen van een 50-70% meer besmettelijk #COVID19 variant en SNEL ingrijpen.Ik adviseer alle NL'ers te kijken naar Britse nieuws om voor te bereiden.\\n\", 'Kan ik hier iemand blij maken met dit naaimeubel? Singer naaimachine werkt nog, moet alleen nodig een keer nagekeken. \\\\n\\\\nHij was van mijn oma en kan niet mee naar m’n nieuwe huis. Fijn als iemand anders er nog plezier van heeft. https://t.co/puMBjwHPVX\\n', 'The wild chimpanzee who cared for her child with disability. https://t.co/4ZYj8Ld3e8 via @BBCEarth \\\\n\\\\nNiets apelijks is ons mensen vreemd. Van Sam Son. \\\\n\\\\nWederom een straaltje helder zonlicht.\\n', 'Van 1,5 meter afstand hebben ze daar ook niet gehoord...Omg 😠 #massaiskassa #coronamaatregelen\\n', '@FilipRogiers @Du__Bois Ze hebben net een harde lockdown afgekondigd.\\n', '@ikvaccineer Praten zonder denken is zó bevrijdend! Dit is hét mediteren van 2021.\\n', 'Wordt het niet eens tijd om TOT BEZINNING te komen? Aantal coronadoden 2020 volgens officiële bronnen : 12K Op een inwoners aantal van 17.8 miljoen=0,06%. Daarvan 90% ouder dan 65 jaar=10.8K doden. 1.2K coronadoden jonger dan 65 jaar=0,006%. https://t.co/k0qjmdVk59\\n', 'Lieve mensen, ik wil even aandacht vragen voor de steeds groter wordende groep mensen, die zich eenzaam voelen of alleen, kampen met depressie.\\\\nLaten we lief zijn voor elkaar en wat vaker vragen hoe het echt gaat.\\\\nKleine moeite, maar een heel groot gebaar\\\\n🙏🏼❤️ https://t.co/b8BDmkIRBA\\n', '@Repelsteeltje21 Dat is de essentie van transitie. Creatie en destructie. Wij voelen vooral de destructie en ik vrees dat ik de creaties van de kosmopolieten niet hoog inschat. Kali Yuga, Untergang des Abendlandes enzo. Het is niet politiek. Politiek is alleen maar een gevolg, geen oorzaak.\\n', '@LustEllie Willem de Egel kunnen ze beter een spuit in zn kloten geven....\\n', 'Wat mij bezighoud.. ik mis het gewoon om naar de dierentuin te gaan of naar de bioscoop. Gewoon normaal sociaal contact met mensen zonder gezicht bedekking. Een lach! \\\\n\\\\nWil gewoon graag (eenzame) mensen bij elkaar brengen. Ik houd hoop echt waar, maar doet veel verdriet 🍀\\n', 'Ik zoek me suf naar een definitie/afbakening van de groep &lt; 60 met medische indicatie voor het coronavaccin.  Is die groep gelijk aan de griepprikdoelgroep? #dtv\\n', '@JltJ @An_Bkn Payday voelt voor mij na vijf jaar nog steeds alsof ik al mijn geld in één keer mag uitgeven. Alleen dan niet echt, maar door het in potjes te stoppen. Bevredigend wel.\\n', '@LoonenNelly @Jodelieho Nee hoor... het is een vaccin van een universiteit en de uitslagen waren positief op sommige hiv testen. Omdat dit tijdrovend was om te verhelpen zijn ze ermee gestopt. Ik zie het probleem daarvan niet zo.\\n', '@insekteleider Tja.. als je weet wat ik allemaal doe om eenzaamheid onder jongeren te bestrijden..\\n', 'AEX sluit op hoogste niveau in 20 jaar, olie en goud stijgen ondanks langere lockdowns. Ik zeg: En sommige pensioenen omlaag? Wat een terreur! Slecht voor economie ook!  https://t.co/Gtkpuvvohn via @volkskrant\\n', 'Afgelopen jaar is door artsen en ethici een protocol ontwikkeld voor extreme schaarste op de IC. Inmiddels is dit de veldnorm, met breed draagvlak, in alle ziekenhuizen en de Inspectie. Nogal laat om nu met een spoedwet te komen om protocol te wijzigen. https://t.co/iapTptXeNP\\n', 'Ik wil niet mijn kind met die troep laten spuiten!!!!!! Mijn kind is gezond en heeft geen spuit nodig!! Mensen word wakker. Ze gaan niet alleen aan jullie lichaam zitten maar ze maken jullie kinderen ziek!!!! Opkom voor je eigen kinderen!!!\\n', '🏛️ #FVD komt naar u toe! Op zondag 10 januari zijn we in #Volendam en organiseren we een #manifestatie voor een politieke koerswijziging. Minder immigratie, uit de EU &amp; een streep door het klimaatbeleid en de lockdowns!\\\\n \\\\n👉 Meld u aan via https://t.co/yr7VQF2GRQ. Tot zondag! https://t.co/sjRRTrrWEO\\n', 'RT @hoterminus: De ergste corona-idioten zijn ook nog eens antisemiet, maar ophef daarover ontbreekt vreemd genoeg. https://t.co/2xZvNCX1KI\\n', 'Ik doe alsof ik blij ben, zodat mensen denken dat het goed met mij gaat....🥺\\n']\n"
     ]
    }
   ],
   "source": [
    "raw_data = list(map(lambda token: token.text, data))\n",
    "print(raw_data)\n"
   ]
  },
  {
   "cell_type": "code",
   "execution_count": 254,
   "metadata": {},
   "outputs": [],
   "source": [
    "# TODO: clean and preprocess the messages\n"
   ]
  },
  {
   "cell_type": "code",
   "execution_count": 255,
   "metadata": {},
   "outputs": [],
   "source": [
    "\n",
    "# TODO: represent the messages into formats that can be used in clustering or LDA algorithms (you may need different represention for two algorithms)\n",
    "\n"
   ]
  },
  {
   "cell_type": "markdown",
   "metadata": {},
   "source": [
    " ## 1.2 Exploratory Data Analysis\n",
    " After preprocessing the data, create at least 2 figures or tables that help you understand the data.\n",
    "\n",
    " While exploring the data, you may also think about questions such as:\n",
    " - Can you spot any differences between Twitter data and usual text data?\n",
    " - Does your exploration reveal some issues that would make it difficult to interpret the topics?\n",
    " - Can you improve the data by adding additional preprocessing steps?"
   ]
  },
  {
   "cell_type": "code",
   "execution_count": 256,
   "metadata": {},
   "outputs": [],
   "source": [
    "# TODO: plot figure(s)\n"
   ]
  },
  {
   "cell_type": "markdown",
   "metadata": {},
   "source": [
    "## 2.1 Topic modelling and clustering\n",
    " In the second part of the assignment, you will first:\n",
    " -\tImplement a Latent Dirichlet Allocation (LDA) algorithm to identify the discussed topics for your theme\n",
    " -\tImplement a clustering method  to cluster messages into different groups, then represent the topic of each cluster using a bag of words\n",
    "\n",
    "While implementing the algorithms, you may use the codes from the recommended packages. In the final report, please explain reasons to select the used algorithm/package. "
   ]
  },
  {
   "cell_type": "code",
   "execution_count": 257,
   "metadata": {},
   "outputs": [],
   "source": [
    "from sklearn.decomposition import LatentDirichletAllocation\n",
    "import numpy as np\n",
    "\n",
    "dutch_stopwords = [\n",
    "    'aan', 'als', 'bij', 'dan', 'dat', 'die', 'dit', 'een', 'en', 'er', 'het',\n",
    "    'hij', 'hoe', 'hun', 'ik', 'in', 'is', 'je', 'kan', 'maar', 'met', 'mij', 'niet', 'nog',\n",
    "    'nu', 'of', 'ons', 'ook', 'te', 'tot', 'uit', 'van', 'voor', 'was', 'wat',\n",
    "    'we', 'wel', 'wij', 'zal', 'ze', 'zei', 'zelf', 'zich', 'zo', 'zij'\n",
    "]\n",
    "\n",
    "def get_term_document_matrix(random=None):\n",
    "    if not random:\n",
    "        np.random.seed(RANDOM_SEED)\n",
    "        # 100 documents with 35 words each\n",
    "        return np.random.rand(1000,35)\n",
    "    if random == 'tmp':\n",
    "        from sklearn.feature_extraction.text import CountVectorizer\n",
    "        tf_vectorizer = CountVectorizer(strip_accents = 'unicode',\n",
    "                                        lowercase = True,\n",
    "                                        stop_words = dutch_stopwords,\n",
    "                                        token_pattern = r'\\b[a-zA-Z]{3,}\\b',\n",
    "                                        max_df = 0.5, \n",
    "                                        min_df = 10)\n",
    "        document_term_matrix = tf_vectorizer.fit_transform(raw_data)\n",
    "        print(document_term_matrix.shape, len(tf_vectorizer.vocabulary_))\n",
    "        return document_term_matrix, tf_vectorizer\n",
    "    \n",
    "    \n",
    "def get_word_vector_matrix(random = None):\n",
    "    if not random:\n",
    "        np.random.seed(RANDOM_SEED)\n",
    "        return np.random.rand(3466,4)\n",
    "        \n",
    "\n",
    "def get_document_vector_matrix(random = None):\n",
    "    if not random:\n",
    "        np.random.seed(RANDOM_SEED)\n",
    "        return np.random.rand(1000,4)"
   ]
  },
  {
   "cell_type": "code",
   "execution_count": 258,
   "metadata": {},
   "outputs": [
    {
     "name": "stdout",
     "output_type": "stream",
     "text": [
      "(1000, 302) 302\n",
      "\n",
      "\n",
      "matrix shape: (1000, 302)\n",
      "transformed shape:  (1000, 5)\n",
      "example document 1: [0.10206998 0.59529447 0.10000018 0.10209207 0.10054329]\n"
     ]
    }
   ],
   "source": [
    "# TODO: topic modeling using the LDA algorithm\n",
    "\n",
    "dtm_tf, tf_vectorizer = get_term_document_matrix(random='tmp')\n",
    "lda_tf = LatentDirichletAllocation(n_components=5, random_state=RANDOM_SEED)\n",
    "\n",
    "print(dtm_tf[1,:5])\n",
    "doc_topic = lda_tf.fit_transform(dtm_tf)\n",
    "print(dtm_tf[1,:5])\n",
    "\n",
    "print(\"matrix shape:\", dtm_tf.shape)\n",
    "print(\"transformed shape: \",doc_topic.shape)\n",
    "print(\"example document 1:\",doc_topic[1])"
   ]
  },
  {
   "cell_type": "markdown",
   "metadata": {},
   "source": [
    "#### 2.2 Genism Method\n"
   ]
  },
  {
   "cell_type": "code",
   "execution_count": 259,
   "metadata": {},
   "outputs": [
    {
     "name": "stdout",
     "output_type": "stream",
     "text": [
      "Dictionary<152 unique tokens: ['Gelukkig', 'Het', 'Voor', 'die', 'het']...>\n"
     ]
    }
   ],
   "source": [
    "# Remove rare and common tokens.\n",
    "from gensim.corpora import Dictionary\n",
    "# Create a dictionary representation of the documents.\n",
    "matrix_sentences = [el.split(\" \") for el in raw_data]\n",
    "dictionary = Dictionary(documents=matrix_sentences)\n",
    "\n",
    "# Filter out words that occur less than 20 documents, or more than 50% of the documents.\n",
    "dictionary.filter_extremes(no_below=20, no_above=0.5)\n",
    "print(dictionary)"
   ]
  },
  {
   "cell_type": "code",
   "execution_count": 260,
   "metadata": {},
   "outputs": [],
   "source": [
    "# Bag-of-words representation of the documents.\n",
    "corpus = [dictionary.doc2bow(doc) for doc in matrix_sentences]"
   ]
  },
  {
   "cell_type": "code",
   "execution_count": 261,
   "metadata": {},
   "outputs": [
    {
     "data": {
      "text/plain": [
       "{}"
      ]
     },
     "execution_count": 261,
     "metadata": {},
     "output_type": "execute_result"
    }
   ],
   "source": [
    "dictionary.id2token"
   ]
  },
  {
   "cell_type": "code",
   "execution_count": 262,
   "metadata": {},
   "outputs": [],
   "source": [
    "# Train LDA model.\n",
    "from gensim.models import LdaModel\n",
    "\n",
    "# Set training parameters.\n",
    "num_topics = 5\n",
    "chunksize = 2000\n",
    "passes = 20\n",
    "iterations = 400\n",
    "eval_every = None  # Don't evaluate model perplexity, takes too much time.\n",
    "\n",
    "# Make an index to word dictionary.\n",
    "temp = dictionary[0]  # This is only to \"load\" the dictionary.\n",
    "id2word = dictionary.id2token\n",
    "\n",
    "model = LdaModel(\n",
    "    corpus=corpus,\n",
    "    id2word=id2word,\n",
    "    chunksize=chunksize,\n",
    "    alpha='auto',\n",
    "    eta='auto',\n",
    "    iterations=iterations,\n",
    "    num_topics=num_topics,\n",
    "    passes=passes,\n",
    "    eval_every=eval_every,\n",
    "    random_state=RANDOM_SEED\n",
    ")"
   ]
  },
  {
   "cell_type": "code",
   "execution_count": 263,
   "metadata": {},
   "outputs": [
    {
     "ename": "AttributeError",
     "evalue": "'LdaModel' object has no attribute 'get'",
     "output_type": "error",
     "traceback": [
      "\u001b[0;31m---------------------------------------------------------------------------\u001b[0m",
      "\u001b[0;31mAttributeError\u001b[0m                            Traceback (most recent call last)",
      "Cell \u001b[0;32mIn[263], line 12\u001b[0m\n\u001b[1;32m      5\u001b[0m     data \u001b[38;5;241m=\u001b[39m {\u001b[38;5;124m'\u001b[39m\u001b[38;5;124mtopic_term_dists\u001b[39m\u001b[38;5;124m'\u001b[39m: model\u001b[38;5;241m.\u001b[39mget, \n\u001b[1;32m      6\u001b[0m             \u001b[38;5;124m'\u001b[39m\u001b[38;5;124mdoc_topic_dists\u001b[39m\u001b[38;5;124m'\u001b[39m: model\u001b[38;5;241m.\u001b[39mtheta,\n\u001b[1;32m      7\u001b[0m             \u001b[38;5;124m'\u001b[39m\u001b[38;5;124mdoc_lengths\u001b[39m\u001b[38;5;124m'\u001b[39m: data_input[\u001b[38;5;124m'\u001b[39m\u001b[38;5;124mdoc.length\u001b[39m\u001b[38;5;124m'\u001b[39m],\n\u001b[1;32m      8\u001b[0m             \u001b[38;5;124m'\u001b[39m\u001b[38;5;124mvocab\u001b[39m\u001b[38;5;124m'\u001b[39m: data_input[\u001b[38;5;124m'\u001b[39m\u001b[38;5;124mvocab\u001b[39m\u001b[38;5;124m'\u001b[39m],\n\u001b[1;32m      9\u001b[0m             \u001b[38;5;124m'\u001b[39m\u001b[38;5;124mterm_frequency\u001b[39m\u001b[38;5;124m'\u001b[39m: data_input[\u001b[38;5;124m'\u001b[39m\u001b[38;5;124mterm.frequency\u001b[39m\u001b[38;5;124m'\u001b[39m]}\n\u001b[1;32m     10\u001b[0m     \u001b[38;5;28;01mreturn\u001b[39;00m data\n\u001b[0;32m---> 12\u001b[0m movies_model_data \u001b[38;5;241m=\u001b[39m \u001b[43mload_R_model\u001b[49m\u001b[43m(\u001b[49m\u001b[38;5;124;43m'\u001b[39;49m\u001b[38;5;124;43mdata/movie_reviews_input.json\u001b[39;49m\u001b[38;5;124;43m'\u001b[39;49m\u001b[43m)\u001b[49m\n\u001b[1;32m     14\u001b[0m \u001b[38;5;28mprint\u001b[39m(\u001b[38;5;124m'\u001b[39m\u001b[38;5;124mTopic-Term shape: \u001b[39m\u001b[38;5;132;01m%s\u001b[39;00m\u001b[38;5;124m'\u001b[39m \u001b[38;5;241m%\u001b[39m \u001b[38;5;28mstr\u001b[39m(np\u001b[38;5;241m.\u001b[39marray(movies_model_data[\u001b[38;5;124m'\u001b[39m\u001b[38;5;124mtopic_term_dists\u001b[39m\u001b[38;5;124m'\u001b[39m])\u001b[38;5;241m.\u001b[39mshape))\n\u001b[1;32m     15\u001b[0m \u001b[38;5;28mprint\u001b[39m(\u001b[38;5;124m'\u001b[39m\u001b[38;5;124mDoc-Topic shape: \u001b[39m\u001b[38;5;132;01m%s\u001b[39;00m\u001b[38;5;124m'\u001b[39m \u001b[38;5;241m%\u001b[39m \u001b[38;5;28mstr\u001b[39m(np\u001b[38;5;241m.\u001b[39marray(movies_model_data[\u001b[38;5;124m'\u001b[39m\u001b[38;5;124mdoc_topic_dists\u001b[39m\u001b[38;5;124m'\u001b[39m])\u001b[38;5;241m.\u001b[39mshape))\n",
      "Cell \u001b[0;32mIn[263], line 5\u001b[0m, in \u001b[0;36mload_R_model\u001b[0;34m(filename)\u001b[0m\n\u001b[1;32m      4\u001b[0m \u001b[38;5;28;01mdef\u001b[39;00m \u001b[38;5;21mload_R_model\u001b[39m(filename):\n\u001b[0;32m----> 5\u001b[0m     data \u001b[38;5;241m=\u001b[39m {\u001b[38;5;124m'\u001b[39m\u001b[38;5;124mtopic_term_dists\u001b[39m\u001b[38;5;124m'\u001b[39m: \u001b[43mmodel\u001b[49m\u001b[38;5;241;43m.\u001b[39;49m\u001b[43mget\u001b[49m, \n\u001b[1;32m      6\u001b[0m             \u001b[38;5;124m'\u001b[39m\u001b[38;5;124mdoc_topic_dists\u001b[39m\u001b[38;5;124m'\u001b[39m: model\u001b[38;5;241m.\u001b[39mtheta,\n\u001b[1;32m      7\u001b[0m             \u001b[38;5;124m'\u001b[39m\u001b[38;5;124mdoc_lengths\u001b[39m\u001b[38;5;124m'\u001b[39m: data_input[\u001b[38;5;124m'\u001b[39m\u001b[38;5;124mdoc.length\u001b[39m\u001b[38;5;124m'\u001b[39m],\n\u001b[1;32m      8\u001b[0m             \u001b[38;5;124m'\u001b[39m\u001b[38;5;124mvocab\u001b[39m\u001b[38;5;124m'\u001b[39m: data_input[\u001b[38;5;124m'\u001b[39m\u001b[38;5;124mvocab\u001b[39m\u001b[38;5;124m'\u001b[39m],\n\u001b[1;32m      9\u001b[0m             \u001b[38;5;124m'\u001b[39m\u001b[38;5;124mterm_frequency\u001b[39m\u001b[38;5;124m'\u001b[39m: data_input[\u001b[38;5;124m'\u001b[39m\u001b[38;5;124mterm.frequency\u001b[39m\u001b[38;5;124m'\u001b[39m]}\n\u001b[1;32m     10\u001b[0m     \u001b[38;5;28;01mreturn\u001b[39;00m data\n",
      "\u001b[0;31mAttributeError\u001b[0m: 'LdaModel' object has no attribute 'get'"
     ]
    }
   ],
   "source": [
    "import json\n",
    "import numpy as np\n",
    "\n",
    "def load_R_model(filename):\n",
    "    data = {'topic_term_dists': model.get, \n",
    "            'doc_topic_dists': model.theta,\n",
    "            'doc_lengths': data_input['doc.length'],\n",
    "            'vocab': data_input['vocab'],\n",
    "            'term_frequency': data_input['term.frequency']}\n",
    "    return data\n",
    "\n",
    "movies_model_data = load_R_model('data/movie_reviews_input.json')\n",
    "\n",
    "print('Topic-Term shape: %s' % str(np.array(movies_model_data['topic_term_dists']).shape))\n",
    "print('Doc-Topic shape: %s' % str(np.array(movies_model_data['doc_topic_dists']).shape))"
   ]
  },
  {
   "cell_type": "markdown",
   "metadata": {},
   "source": [
    "### Clustering"
   ]
  },
  {
   "cell_type": "code",
   "execution_count": null,
   "metadata": {},
   "outputs": [
    {
     "data": {
      "text/plain": [
       "(3466, 4)"
      ]
     },
     "execution_count": 218,
     "metadata": {},
     "output_type": "execute_result"
    }
   ],
   "source": [
    "word_vector_matrx = get_word_vector_matrix()\n",
    "word_vector_matrx.shape"
   ]
  },
  {
   "cell_type": "code",
   "execution_count": null,
   "metadata": {},
   "outputs": [
    {
     "data": {
      "text/plain": [
       "(1000, 4)"
      ]
     },
     "execution_count": 219,
     "metadata": {},
     "output_type": "execute_result"
    }
   ],
   "source": [
    "document_vector_matrx = get_document_vector_matrix()\n",
    "document_vector_matrx.shape"
   ]
  },
  {
   "cell_type": "code",
   "execution_count": null,
   "metadata": {},
   "outputs": [
    {
     "name": "stderr",
     "output_type": "stream",
     "text": [
      "/opt/homebrew/lib/python3.11/site-packages/sklearn/cluster/_kmeans.py:1416: FutureWarning: The default value of `n_init` will change from 10 to 'auto' in 1.4. Set the value of `n_init` explicitly to suppress the warning\n",
      "  super()._check_params_vs_input(X, default_n_init=10)\n"
     ]
    },
    {
     "data": {
      "text/plain": [
       "(4,)"
      ]
     },
     "execution_count": 220,
     "metadata": {},
     "output_type": "execute_result"
    }
   ],
   "source": [
    "# TODO: cluster the messages using a clustering algorithm\n",
    "\n",
    "from sklearn.cluster import KMeans\n",
    "\n",
    "kmeans = KMeans()\n",
    "\n",
    "clustrer_labels = kmeans.fit_predict(document_vector_matrx)\n",
    "clustrer_labels.shape, max(clustrer_labels)\n",
    "kmeans.cluster_centers_[0].shape"
   ]
  },
  {
   "cell_type": "code",
   "execution_count": null,
   "metadata": {},
   "outputs": [
    {
     "name": "stdout",
     "output_type": "stream",
     "text": [
      "Cluster centers shape: (8, 4)\n",
      "Words2vec shape:  (3466, 4)\n"
     ]
    },
    {
     "data": {
      "text/plain": [
       "array([[2775, 3026, 1143, 3071, 2875],\n",
       "       [ 359,  735, 1239, 1937,  993],\n",
       "       [2221, 1570,   69, 1087, 2702],\n",
       "       [1975,  905, 2054, 1240,  232],\n",
       "       [ 517,   21, 1641, 3192, 1249],\n",
       "       [3161, 3163,  487, 1305, 3313],\n",
       "       [1508, 1003,  221,  840, 2350],\n",
       "       [3447, 2128, 3201, 1555,  761]])"
      ]
     },
     "execution_count": 239,
     "metadata": {},
     "output_type": "execute_result"
    }
   ],
   "source": [
    "def get_k_neares_words(cluster_centers, any_other_word, k=5):\n",
    "    from sklearn.neighbors import NearestNeighbors\n",
    "    assert( cluster_centers.shape[1] == any_other_word.shape[1])\n",
    "    print(\"Cluster centers shape:\", cluster_centers.shape)\n",
    "    print(\"Words2vec shape: \",any_other_word.shape)\n",
    "    \n",
    "    # Create and fit the nearest neighbors model\n",
    "    nbrs = NearestNeighbors(n_neighbors=k, algorithm='auto').fit(any_other_word)\n",
    "\n",
    "    # Find the k nearest neighbors for each point in A\n",
    "    _, indices = nbrs.kneighbors(cluster_centers)\n",
    "    return indices\n",
    "\n",
    "get_k_neares_words(kmeans.cluster_centers_, word_vector_matrx)\n"
   ]
  },
  {
   "cell_type": "code",
   "execution_count": 344,
   "metadata": {},
   "outputs": [
    {
     "data": {
      "text/plain": [
       "2.416"
      ]
     },
     "execution_count": 344,
     "metadata": {},
     "output_type": "execute_result"
    }
   ],
   "source": [
    "dtm_tf.toarray().nbytes / 1e6"
   ]
  },
  {
   "cell_type": "code",
   "execution_count": 347,
   "metadata": {},
   "outputs": [
    {
     "data": {
      "text/plain": [
       "array([[0, 0, 0, ..., 0, 0, 0],\n",
       "       [0, 0, 0, ..., 0, 0, 0],\n",
       "       [0, 0, 0, ..., 0, 0, 0],\n",
       "       ...,\n",
       "       [0, 0, 0, ..., 0, 0, 0],\n",
       "       [0, 0, 0, ..., 0, 0, 0],\n",
       "       [0, 0, 0, ..., 0, 0, 0]])"
      ]
     },
     "execution_count": 347,
     "metadata": {},
     "output_type": "execute_result"
    }
   ],
   "source": [
    "sparse = dtm_tf.toarray()\n",
    "sparse"
   ]
  },
  {
   "cell_type": "code",
   "execution_count": 342,
   "metadata": {},
   "outputs": [
    {
     "name": "stdout",
     "output_type": "stream",
     "text": [
      "Memory usage: 99212 bytes, 96.89 KB, 0.09 MB\n"
     ]
    }
   ],
   "source": [
    "\n",
    "# Assuming 'csr_matrix' is your sparse matrix in CSR format\n",
    "# Replace this with the actual CSR matrix you have\n",
    "\n",
    "# Get the memory usage of 'data', 'indices', and 'indptr' arrays\n",
    "memory_usage_data = dtm_tf.data.nbytes\n",
    "memory_usage_indices = dtm_tf.indices.nbytes\n",
    "memory_usage_indptr = dtm_tf.indptr.nbytes\n",
    "\n",
    "# Calculate the total memory usage in bytes\n",
    "total_memory_usage_bytes = memory_usage_data + memory_usage_indices + memory_usage_indptr\n",
    "\n",
    "# Convert to kilobytes (optional)\n",
    "total_memory_usage_kb = total_memory_usage_bytes / 1024\n",
    "\n",
    "# Convert to megabytes (optional)\n",
    "total_memory_usage_mb = total_memory_usage_kb / 1024\n",
    "\n",
    "# Display the result\n",
    "print(f\"Memory usage: {total_memory_usage_bytes} bytes, {total_memory_usage_kb:.2f} KB, {total_memory_usage_mb:.2f} MB\")\n"
   ]
  },
  {
   "cell_type": "code",
   "execution_count": 299,
   "metadata": {},
   "outputs": [
    {
     "data": {
      "text/html": [
       "<div>\n",
       "<style scoped>\n",
       "    .dataframe tbody tr th:only-of-type {\n",
       "        vertical-align: middle;\n",
       "    }\n",
       "\n",
       "    .dataframe tbody tr th {\n",
       "        vertical-align: top;\n",
       "    }\n",
       "\n",
       "    .dataframe thead th {\n",
       "        text-align: right;\n",
       "    }\n",
       "</style>\n",
       "<table border=\"1\" class=\"dataframe\">\n",
       "  <thead>\n",
       "    <tr style=\"text-align: right;\">\n",
       "      <th></th>\n",
       "      <th>0</th>\n",
       "      <th>1</th>\n",
       "      <th>2</th>\n",
       "      <th>3</th>\n",
       "      <th>4</th>\n",
       "      <th>5</th>\n",
       "      <th>6</th>\n",
       "      <th>7</th>\n",
       "      <th>8</th>\n",
       "      <th>9</th>\n",
       "      <th>...</th>\n",
       "      <th>293</th>\n",
       "      <th>294</th>\n",
       "      <th>295</th>\n",
       "      <th>296</th>\n",
       "      <th>297</th>\n",
       "      <th>298</th>\n",
       "      <th>299</th>\n",
       "      <th>300</th>\n",
       "      <th>301</th>\n",
       "      <th>cluster</th>\n",
       "    </tr>\n",
       "  </thead>\n",
       "  <tbody>\n",
       "    <tr>\n",
       "      <th>0</th>\n",
       "      <td>0</td>\n",
       "      <td>0</td>\n",
       "      <td>0</td>\n",
       "      <td>0</td>\n",
       "      <td>0</td>\n",
       "      <td>0</td>\n",
       "      <td>0</td>\n",
       "      <td>0</td>\n",
       "      <td>0</td>\n",
       "      <td>0</td>\n",
       "      <td>...</td>\n",
       "      <td>0</td>\n",
       "      <td>0</td>\n",
       "      <td>0</td>\n",
       "      <td>0</td>\n",
       "      <td>0</td>\n",
       "      <td>0</td>\n",
       "      <td>0</td>\n",
       "      <td>0</td>\n",
       "      <td>0</td>\n",
       "      <td>0</td>\n",
       "    </tr>\n",
       "    <tr>\n",
       "      <th>1</th>\n",
       "      <td>0</td>\n",
       "      <td>0</td>\n",
       "      <td>0</td>\n",
       "      <td>0</td>\n",
       "      <td>0</td>\n",
       "      <td>0</td>\n",
       "      <td>0</td>\n",
       "      <td>0</td>\n",
       "      <td>0</td>\n",
       "      <td>0</td>\n",
       "      <td>...</td>\n",
       "      <td>0</td>\n",
       "      <td>0</td>\n",
       "      <td>0</td>\n",
       "      <td>0</td>\n",
       "      <td>0</td>\n",
       "      <td>0</td>\n",
       "      <td>0</td>\n",
       "      <td>0</td>\n",
       "      <td>0</td>\n",
       "      <td>3</td>\n",
       "    </tr>\n",
       "    <tr>\n",
       "      <th>2</th>\n",
       "      <td>0</td>\n",
       "      <td>0</td>\n",
       "      <td>0</td>\n",
       "      <td>0</td>\n",
       "      <td>0</td>\n",
       "      <td>0</td>\n",
       "      <td>0</td>\n",
       "      <td>0</td>\n",
       "      <td>0</td>\n",
       "      <td>0</td>\n",
       "      <td>...</td>\n",
       "      <td>0</td>\n",
       "      <td>0</td>\n",
       "      <td>0</td>\n",
       "      <td>0</td>\n",
       "      <td>0</td>\n",
       "      <td>0</td>\n",
       "      <td>0</td>\n",
       "      <td>0</td>\n",
       "      <td>0</td>\n",
       "      <td>1</td>\n",
       "    </tr>\n",
       "    <tr>\n",
       "      <th>3</th>\n",
       "      <td>0</td>\n",
       "      <td>0</td>\n",
       "      <td>0</td>\n",
       "      <td>0</td>\n",
       "      <td>0</td>\n",
       "      <td>0</td>\n",
       "      <td>0</td>\n",
       "      <td>0</td>\n",
       "      <td>1</td>\n",
       "      <td>0</td>\n",
       "      <td>...</td>\n",
       "      <td>0</td>\n",
       "      <td>0</td>\n",
       "      <td>0</td>\n",
       "      <td>0</td>\n",
       "      <td>0</td>\n",
       "      <td>0</td>\n",
       "      <td>0</td>\n",
       "      <td>0</td>\n",
       "      <td>1</td>\n",
       "      <td>6</td>\n",
       "    </tr>\n",
       "    <tr>\n",
       "      <th>4</th>\n",
       "      <td>0</td>\n",
       "      <td>0</td>\n",
       "      <td>0</td>\n",
       "      <td>0</td>\n",
       "      <td>1</td>\n",
       "      <td>0</td>\n",
       "      <td>0</td>\n",
       "      <td>0</td>\n",
       "      <td>0</td>\n",
       "      <td>0</td>\n",
       "      <td>...</td>\n",
       "      <td>0</td>\n",
       "      <td>0</td>\n",
       "      <td>0</td>\n",
       "      <td>0</td>\n",
       "      <td>0</td>\n",
       "      <td>0</td>\n",
       "      <td>0</td>\n",
       "      <td>0</td>\n",
       "      <td>0</td>\n",
       "      <td>5</td>\n",
       "    </tr>\n",
       "    <tr>\n",
       "      <th>...</th>\n",
       "      <td>...</td>\n",
       "      <td>...</td>\n",
       "      <td>...</td>\n",
       "      <td>...</td>\n",
       "      <td>...</td>\n",
       "      <td>...</td>\n",
       "      <td>...</td>\n",
       "      <td>...</td>\n",
       "      <td>...</td>\n",
       "      <td>...</td>\n",
       "      <td>...</td>\n",
       "      <td>...</td>\n",
       "      <td>...</td>\n",
       "      <td>...</td>\n",
       "      <td>...</td>\n",
       "      <td>...</td>\n",
       "      <td>...</td>\n",
       "      <td>...</td>\n",
       "      <td>...</td>\n",
       "      <td>...</td>\n",
       "      <td>...</td>\n",
       "    </tr>\n",
       "    <tr>\n",
       "      <th>995</th>\n",
       "      <td>0</td>\n",
       "      <td>0</td>\n",
       "      <td>1</td>\n",
       "      <td>0</td>\n",
       "      <td>0</td>\n",
       "      <td>0</td>\n",
       "      <td>0</td>\n",
       "      <td>0</td>\n",
       "      <td>0</td>\n",
       "      <td>0</td>\n",
       "      <td>...</td>\n",
       "      <td>0</td>\n",
       "      <td>0</td>\n",
       "      <td>0</td>\n",
       "      <td>0</td>\n",
       "      <td>0</td>\n",
       "      <td>0</td>\n",
       "      <td>0</td>\n",
       "      <td>0</td>\n",
       "      <td>0</td>\n",
       "      <td>7</td>\n",
       "    </tr>\n",
       "    <tr>\n",
       "      <th>996</th>\n",
       "      <td>0</td>\n",
       "      <td>0</td>\n",
       "      <td>0</td>\n",
       "      <td>1</td>\n",
       "      <td>0</td>\n",
       "      <td>0</td>\n",
       "      <td>0</td>\n",
       "      <td>0</td>\n",
       "      <td>0</td>\n",
       "      <td>0</td>\n",
       "      <td>...</td>\n",
       "      <td>0</td>\n",
       "      <td>0</td>\n",
       "      <td>0</td>\n",
       "      <td>1</td>\n",
       "      <td>0</td>\n",
       "      <td>0</td>\n",
       "      <td>0</td>\n",
       "      <td>0</td>\n",
       "      <td>0</td>\n",
       "      <td>7</td>\n",
       "    </tr>\n",
       "    <tr>\n",
       "      <th>997</th>\n",
       "      <td>0</td>\n",
       "      <td>0</td>\n",
       "      <td>0</td>\n",
       "      <td>0</td>\n",
       "      <td>0</td>\n",
       "      <td>0</td>\n",
       "      <td>0</td>\n",
       "      <td>1</td>\n",
       "      <td>0</td>\n",
       "      <td>0</td>\n",
       "      <td>...</td>\n",
       "      <td>0</td>\n",
       "      <td>1</td>\n",
       "      <td>0</td>\n",
       "      <td>0</td>\n",
       "      <td>0</td>\n",
       "      <td>0</td>\n",
       "      <td>0</td>\n",
       "      <td>0</td>\n",
       "      <td>0</td>\n",
       "      <td>5</td>\n",
       "    </tr>\n",
       "    <tr>\n",
       "      <th>998</th>\n",
       "      <td>0</td>\n",
       "      <td>0</td>\n",
       "      <td>0</td>\n",
       "      <td>0</td>\n",
       "      <td>0</td>\n",
       "      <td>0</td>\n",
       "      <td>0</td>\n",
       "      <td>0</td>\n",
       "      <td>0</td>\n",
       "      <td>0</td>\n",
       "      <td>...</td>\n",
       "      <td>0</td>\n",
       "      <td>1</td>\n",
       "      <td>0</td>\n",
       "      <td>0</td>\n",
       "      <td>0</td>\n",
       "      <td>0</td>\n",
       "      <td>0</td>\n",
       "      <td>0</td>\n",
       "      <td>0</td>\n",
       "      <td>6</td>\n",
       "    </tr>\n",
       "    <tr>\n",
       "      <th>999</th>\n",
       "      <td>0</td>\n",
       "      <td>0</td>\n",
       "      <td>0</td>\n",
       "      <td>0</td>\n",
       "      <td>0</td>\n",
       "      <td>0</td>\n",
       "      <td>0</td>\n",
       "      <td>0</td>\n",
       "      <td>0</td>\n",
       "      <td>0</td>\n",
       "      <td>...</td>\n",
       "      <td>0</td>\n",
       "      <td>0</td>\n",
       "      <td>0</td>\n",
       "      <td>0</td>\n",
       "      <td>0</td>\n",
       "      <td>0</td>\n",
       "      <td>0</td>\n",
       "      <td>0</td>\n",
       "      <td>0</td>\n",
       "      <td>5</td>\n",
       "    </tr>\n",
       "  </tbody>\n",
       "</table>\n",
       "<p>1000 rows × 303 columns</p>\n",
       "</div>"
      ],
      "text/plain": [
       "     0  1  2  3  4  5  6  7  8  9  ...  293  294  295  296  297  298  299  \\\n",
       "0    0  0  0  0  0  0  0  0  0  0  ...    0    0    0    0    0    0    0   \n",
       "1    0  0  0  0  0  0  0  0  0  0  ...    0    0    0    0    0    0    0   \n",
       "2    0  0  0  0  0  0  0  0  0  0  ...    0    0    0    0    0    0    0   \n",
       "3    0  0  0  0  0  0  0  0  1  0  ...    0    0    0    0    0    0    0   \n",
       "4    0  0  0  0  1  0  0  0  0  0  ...    0    0    0    0    0    0    0   \n",
       "..  .. .. .. .. .. .. .. .. .. ..  ...  ...  ...  ...  ...  ...  ...  ...   \n",
       "995  0  0  1  0  0  0  0  0  0  0  ...    0    0    0    0    0    0    0   \n",
       "996  0  0  0  1  0  0  0  0  0  0  ...    0    0    0    1    0    0    0   \n",
       "997  0  0  0  0  0  0  0  1  0  0  ...    0    1    0    0    0    0    0   \n",
       "998  0  0  0  0  0  0  0  0  0  0  ...    0    1    0    0    0    0    0   \n",
       "999  0  0  0  0  0  0  0  0  0  0  ...    0    0    0    0    0    0    0   \n",
       "\n",
       "     300  301  cluster  \n",
       "0      0    0        0  \n",
       "1      0    0        3  \n",
       "2      0    0        1  \n",
       "3      0    1        6  \n",
       "4      0    0        5  \n",
       "..   ...  ...      ...  \n",
       "995    0    0        7  \n",
       "996    0    0        7  \n",
       "997    0    0        5  \n",
       "998    0    0        6  \n",
       "999    0    0        5  \n",
       "\n",
       "[1000 rows x 303 columns]"
      ]
     },
     "execution_count": 299,
     "metadata": {},
     "output_type": "execute_result"
    }
   ],
   "source": [
    "import pandas as pd\n",
    "\n",
    "#Embedded as the average of words that is composed of\n",
    "document_vector_matrx\n",
    "\n",
    "\n",
    "\n",
    "df = pd.DataFrame(dtm_tf.toarray())\n",
    "df['cluster'] = clustrer_labels\n",
    "df"
   ]
  },
  {
   "cell_type": "code",
   "execution_count": 334,
   "metadata": {},
   "outputs": [
    {
     "data": {
      "text/html": [
       "<div>\n",
       "<style scoped>\n",
       "    .dataframe tbody tr th:only-of-type {\n",
       "        vertical-align: middle;\n",
       "    }\n",
       "\n",
       "    .dataframe tbody tr th {\n",
       "        vertical-align: top;\n",
       "    }\n",
       "\n",
       "    .dataframe thead th {\n",
       "        text-align: right;\n",
       "    }\n",
       "</style>\n",
       "<table border=\"1\" class=\"dataframe\">\n",
       "  <thead>\n",
       "    <tr style=\"text-align: right;\">\n",
       "      <th></th>\n",
       "      <th>0</th>\n",
       "      <th>1</th>\n",
       "      <th>2</th>\n",
       "      <th>3</th>\n",
       "      <th>4</th>\n",
       "      <th>5</th>\n",
       "      <th>6</th>\n",
       "      <th>7</th>\n",
       "      <th>8</th>\n",
       "      <th>9</th>\n",
       "      <th>...</th>\n",
       "      <th>292</th>\n",
       "      <th>293</th>\n",
       "      <th>294</th>\n",
       "      <th>295</th>\n",
       "      <th>296</th>\n",
       "      <th>297</th>\n",
       "      <th>298</th>\n",
       "      <th>299</th>\n",
       "      <th>300</th>\n",
       "      <th>301</th>\n",
       "    </tr>\n",
       "    <tr>\n",
       "      <th>cluster</th>\n",
       "      <th></th>\n",
       "      <th></th>\n",
       "      <th></th>\n",
       "      <th></th>\n",
       "      <th></th>\n",
       "      <th></th>\n",
       "      <th></th>\n",
       "      <th></th>\n",
       "      <th></th>\n",
       "      <th></th>\n",
       "      <th></th>\n",
       "      <th></th>\n",
       "      <th></th>\n",
       "      <th></th>\n",
       "      <th></th>\n",
       "      <th></th>\n",
       "      <th></th>\n",
       "      <th></th>\n",
       "      <th></th>\n",
       "      <th></th>\n",
       "      <th></th>\n",
       "    </tr>\n",
       "  </thead>\n",
       "  <tbody>\n",
       "    <tr>\n",
       "      <th>0</th>\n",
       "      <td>2</td>\n",
       "      <td>0</td>\n",
       "      <td>0</td>\n",
       "      <td>7</td>\n",
       "      <td>1</td>\n",
       "      <td>1</td>\n",
       "      <td>3</td>\n",
       "      <td>3</td>\n",
       "      <td>1</td>\n",
       "      <td>2</td>\n",
       "      <td>...</td>\n",
       "      <td>2</td>\n",
       "      <td>4</td>\n",
       "      <td>26</td>\n",
       "      <td>3</td>\n",
       "      <td>4</td>\n",
       "      <td>1</td>\n",
       "      <td>4</td>\n",
       "      <td>3</td>\n",
       "      <td>4</td>\n",
       "      <td>3</td>\n",
       "    </tr>\n",
       "    <tr>\n",
       "      <th>1</th>\n",
       "      <td>2</td>\n",
       "      <td>6</td>\n",
       "      <td>5</td>\n",
       "      <td>10</td>\n",
       "      <td>4</td>\n",
       "      <td>3</td>\n",
       "      <td>0</td>\n",
       "      <td>2</td>\n",
       "      <td>1</td>\n",
       "      <td>1</td>\n",
       "      <td>...</td>\n",
       "      <td>0</td>\n",
       "      <td>3</td>\n",
       "      <td>38</td>\n",
       "      <td>6</td>\n",
       "      <td>5</td>\n",
       "      <td>2</td>\n",
       "      <td>1</td>\n",
       "      <td>3</td>\n",
       "      <td>3</td>\n",
       "      <td>1</td>\n",
       "    </tr>\n",
       "    <tr>\n",
       "      <th>2</th>\n",
       "      <td>2</td>\n",
       "      <td>2</td>\n",
       "      <td>8</td>\n",
       "      <td>5</td>\n",
       "      <td>1</td>\n",
       "      <td>4</td>\n",
       "      <td>5</td>\n",
       "      <td>1</td>\n",
       "      <td>2</td>\n",
       "      <td>2</td>\n",
       "      <td>...</td>\n",
       "      <td>1</td>\n",
       "      <td>4</td>\n",
       "      <td>23</td>\n",
       "      <td>1</td>\n",
       "      <td>1</td>\n",
       "      <td>5</td>\n",
       "      <td>3</td>\n",
       "      <td>2</td>\n",
       "      <td>11</td>\n",
       "      <td>2</td>\n",
       "    </tr>\n",
       "    <tr>\n",
       "      <th>3</th>\n",
       "      <td>2</td>\n",
       "      <td>4</td>\n",
       "      <td>5</td>\n",
       "      <td>7</td>\n",
       "      <td>2</td>\n",
       "      <td>2</td>\n",
       "      <td>5</td>\n",
       "      <td>2</td>\n",
       "      <td>3</td>\n",
       "      <td>1</td>\n",
       "      <td>...</td>\n",
       "      <td>2</td>\n",
       "      <td>3</td>\n",
       "      <td>26</td>\n",
       "      <td>0</td>\n",
       "      <td>1</td>\n",
       "      <td>1</td>\n",
       "      <td>3</td>\n",
       "      <td>3</td>\n",
       "      <td>3</td>\n",
       "      <td>0</td>\n",
       "    </tr>\n",
       "    <tr>\n",
       "      <th>4</th>\n",
       "      <td>0</td>\n",
       "      <td>6</td>\n",
       "      <td>4</td>\n",
       "      <td>10</td>\n",
       "      <td>0</td>\n",
       "      <td>4</td>\n",
       "      <td>6</td>\n",
       "      <td>1</td>\n",
       "      <td>2</td>\n",
       "      <td>3</td>\n",
       "      <td>...</td>\n",
       "      <td>0</td>\n",
       "      <td>2</td>\n",
       "      <td>25</td>\n",
       "      <td>2</td>\n",
       "      <td>1</td>\n",
       "      <td>1</td>\n",
       "      <td>0</td>\n",
       "      <td>2</td>\n",
       "      <td>9</td>\n",
       "      <td>2</td>\n",
       "    </tr>\n",
       "    <tr>\n",
       "      <th>5</th>\n",
       "      <td>0</td>\n",
       "      <td>4</td>\n",
       "      <td>5</td>\n",
       "      <td>5</td>\n",
       "      <td>5</td>\n",
       "      <td>1</td>\n",
       "      <td>5</td>\n",
       "      <td>2</td>\n",
       "      <td>0</td>\n",
       "      <td>3</td>\n",
       "      <td>...</td>\n",
       "      <td>2</td>\n",
       "      <td>1</td>\n",
       "      <td>31</td>\n",
       "      <td>6</td>\n",
       "      <td>1</td>\n",
       "      <td>3</td>\n",
       "      <td>4</td>\n",
       "      <td>2</td>\n",
       "      <td>4</td>\n",
       "      <td>1</td>\n",
       "    </tr>\n",
       "    <tr>\n",
       "      <th>6</th>\n",
       "      <td>1</td>\n",
       "      <td>5</td>\n",
       "      <td>1</td>\n",
       "      <td>9</td>\n",
       "      <td>5</td>\n",
       "      <td>2</td>\n",
       "      <td>3</td>\n",
       "      <td>3</td>\n",
       "      <td>2</td>\n",
       "      <td>2</td>\n",
       "      <td>...</td>\n",
       "      <td>1</td>\n",
       "      <td>0</td>\n",
       "      <td>33</td>\n",
       "      <td>2</td>\n",
       "      <td>1</td>\n",
       "      <td>2</td>\n",
       "      <td>3</td>\n",
       "      <td>2</td>\n",
       "      <td>5</td>\n",
       "      <td>1</td>\n",
       "    </tr>\n",
       "    <tr>\n",
       "      <th>7</th>\n",
       "      <td>1</td>\n",
       "      <td>1</td>\n",
       "      <td>3</td>\n",
       "      <td>8</td>\n",
       "      <td>5</td>\n",
       "      <td>3</td>\n",
       "      <td>4</td>\n",
       "      <td>0</td>\n",
       "      <td>1</td>\n",
       "      <td>2</td>\n",
       "      <td>...</td>\n",
       "      <td>2</td>\n",
       "      <td>4</td>\n",
       "      <td>24</td>\n",
       "      <td>3</td>\n",
       "      <td>1</td>\n",
       "      <td>2</td>\n",
       "      <td>1</td>\n",
       "      <td>1</td>\n",
       "      <td>3</td>\n",
       "      <td>0</td>\n",
       "    </tr>\n",
       "  </tbody>\n",
       "</table>\n",
       "<p>8 rows × 302 columns</p>\n",
       "</div>"
      ],
      "text/plain": [
       "         0    1    2    3    4    5    6    7    8    9    ...  292  293  294  \\\n",
       "cluster                                                    ...                  \n",
       "0          2    0    0    7    1    1    3    3    1    2  ...    2    4   26   \n",
       "1          2    6    5   10    4    3    0    2    1    1  ...    0    3   38   \n",
       "2          2    2    8    5    1    4    5    1    2    2  ...    1    4   23   \n",
       "3          2    4    5    7    2    2    5    2    3    1  ...    2    3   26   \n",
       "4          0    6    4   10    0    4    6    1    2    3  ...    0    2   25   \n",
       "5          0    4    5    5    5    1    5    2    0    3  ...    2    1   31   \n",
       "6          1    5    1    9    5    2    3    3    2    2  ...    1    0   33   \n",
       "7          1    1    3    8    5    3    4    0    1    2  ...    2    4   24   \n",
       "\n",
       "         295  296  297  298  299  300  301  \n",
       "cluster                                     \n",
       "0          3    4    1    4    3    4    3  \n",
       "1          6    5    2    1    3    3    1  \n",
       "2          1    1    5    3    2   11    2  \n",
       "3          0    1    1    3    3    3    0  \n",
       "4          2    1    1    0    2    9    2  \n",
       "5          6    1    3    4    2    4    1  \n",
       "6          2    1    2    3    2    5    1  \n",
       "7          3    1    2    1    1    3    0  \n",
       "\n",
       "[8 rows x 302 columns]"
      ]
     },
     "execution_count": 334,
     "metadata": {},
     "output_type": "execute_result"
    }
   ],
   "source": [
    "aggregated_clusters = df.groupby('cluster').sum()\n",
    "aggregated_clusters"
   ]
  },
  {
   "cell_type": "code",
   "execution_count": 313,
   "metadata": {},
   "outputs": [
    {
     "data": {
      "text/plain": [
       "cluster\n",
       "0    [100, 294, 137, 43, 151, 164, 266, 153, 37, 88]\n",
       "1     [294, 100, 64, 151, 86, 149, 197, 43, 62, 137]\n",
       "2     [100, 294, 88, 24, 43, 64, 164, 239, 151, 145]\n",
       "3    [100, 294, 64, 164, 151, 61, 86, 153, 197, 281]\n",
       "4      [100, 294, 151, 64, 137, 88, 24, 149, 46, 14]\n",
       "5    [100, 294, 239, 88, 151, 164, 197, 64, 266, 86]\n",
       "6    [100, 294, 239, 64, 24, 164, 153, 132, 46, 282]\n",
       "7     [100, 294, 151, 64, 239, 43, 164, 86, 88, 109]\n",
       "dtype: object"
      ]
     },
     "execution_count": 313,
     "metadata": {},
     "output_type": "execute_result"
    }
   ],
   "source": [
    "bag_dimension = 10\n",
    "\n",
    "top_columns = aggregated_clusters.apply(lambda row: row.nlargest(bag_dimension).index.tolist(), axis=1)\n",
    "top_columns"
   ]
  },
  {
   "cell_type": "code",
   "execution_count": 331,
   "metadata": {},
   "outputs": [
    {
     "data": {
      "text/plain": [
       "array(['https', 'zijn', 'lockdown', 'door', 'mensen', 'naar', 'weer',\n",
       "       'mijn', 'deze', 'heeft'], dtype=object)"
      ]
     },
     "execution_count": 331,
     "metadata": {},
     "output_type": "execute_result"
    }
   ],
   "source": [
    "feature_names = tf_vectorizer.get_feature_names_out()\n",
    "feature_names[top_columns[0]]"
   ]
  },
  {
   "cell_type": "code",
   "execution_count": null,
   "metadata": {},
   "outputs": [],
   "source": []
  },
  {
   "cell_type": "markdown",
   "metadata": {},
   "source": [
    " ## 2.2 Results, evaluation and Interpretation \n",
    " \n",
    "Finally, you will describe, evaluate and interpret your findings from two methods. \n",
    "\n",
    "- In the report, you need to describe and discuss the similarity and difference of results from two methods.\n",
    "- While evaluating the results, human judgment is very important, so visualization techniques are helpful to evaluate the identified topics in an interpreted manner. \n",
    "    \n",
    "1. For evaluating the topic modelling algorithm, please first use the interactive tool **[pyLDAvis](https://nbviewer.jupyter.org/github/bmabey/pyLDAvis/blob/master/notebooks/pyLDAvis_overview.ipynb#topic=0&lambda=1&term=)** to examine the inter-topic separation of your findings. \n",
    "\n",
    "2. For interpreting the identified topics / clusters of both algorithms, we provide example code for several visualization techiques. You can use multiple ones to evaluate your results or come up with visualisations on your own. The files contain examples for how to use the visualisation functions.\n"
   ]
  },
  {
   "cell_type": "code",
   "execution_count": 264,
   "metadata": {},
   "outputs": [
    {
     "data": {
      "text/html": [
       "\n",
       "<link rel=\"stylesheet\" type=\"text/css\" href=\"https://cdn.jsdelivr.net/gh/bmabey/pyLDAvis@3.4.0/pyLDAvis/js/ldavis.v1.0.0.css\">\n",
       "\n",
       "\n",
       "<div id=\"ldavis_el38537121727473601146451271\" style=\"background-color:white;\"></div>\n",
       "<script type=\"text/javascript\">\n",
       "\n",
       "var ldavis_el38537121727473601146451271_data = {\"mdsDat\": {\"x\": [0.11708258848013904, 0.07265176070637566, 0.036010944765243476, 0.10119822906293169, -0.3269435230146901], \"y\": [0.10688643068556834, 0.09636060005345765, -0.21879420365228658, -0.015306317907602363, 0.030853490820863055], \"topics\": [1, 2, 3, 4, 5], \"cluster\": [1, 1, 1, 1, 1], \"Freq\": [25.021336782339226, 24.060606613939317, 20.79004102908919, 16.223797312300743, 13.904218262331527]}, \"tinfo\": {\"Term\": [\"heeft\", \"https\", \"vaccin\", \"laten\", \"mijn\", \"heb\", \"mensen\", \"normaal\", \"ben\", \"thuiswerken\", \"zeggen\", \"zijn\", \"corona\", \"nee\", \"tijd\", \"test\", \"mondkapjes\", \"etc\", \"blij\", \"gehad\", \"mag\", \"iemand\", \"altijd\", \"wie\", \"eens\", \"hebben\", \"werken\", \"nieuw\", \"kunnen\", \"waar\", \"mondkapje\", \"toe\", \"politie\", \"scholen\", \"positief\", \"binnen\", \"regering\", \"maatregelen\", \"vanwege\", \"zeker\", \"denk\", \"werd\", \"zie\", \"iedereen\", \"vooral\", \"gevaccineerd\", \"waren\", \"fvd\", \"zorg\", \"niemand\", \"nos\", \"wens\", \"griep\", \"minpres\", \"hebben\", \"erg\", \"rivm\", \"ziekenhuis\", \"nieuwjaar\", \"gezond\", \"veel\", \"vaccineren\", \"zijn\", \"mensen\", \"even\", \"geen\", \"vaccinatie\", \"door\", \"https\", \"zou\", \"toch\", \"steeds\", \"corona\", \"wordt\", \"deze\", \"over\", \"mee\", \"meer\", \"daar\", \"gelukkig\", \"lockdown\", \"goed\", \"duitsland\", \"elkaar\", \"denken\", \"nde\", \"werkt\", \"nederland\", \"zien\", \"vaccinaties\", \"ikwildieprik\", \"laat\", \"virus\", \"kunnen\", \"tijdens\", \"snel\", \"waarom\", \"extra\", \"telegraaf\", \"alles\", \"nen\", \"komen\", \"nhet\", \"lockdown\", \"wanneer\", \"via\", \"vraag\", \"willen\", \"ander\", \"tegen\", \"neemt\", \"helemaal\", \"maken\", \"nhttps\", \"gaat\", \"mensen\", \"deze\", \"vaccin\", \"https\", \"worden\", \"zijn\", \"door\", \"corona\", \"gaan\", \"dus\", \"weer\", \"vaccineren\", \"moet\", \"doen\", \"geen\", \"over\", \"naar\", \"afstand\", \"kinderen\", \"houden\", \"werk\", \"school\", \"prik\", \"blij\", \"maak\", \"coronavirus\", \"morgen\", \"niks\", \"onderwijs\", \"leven\", \"weken\", \"allemaal\", \"doe\", \"heb\", \"twee\", \"per\", \"haar\", \"groot\", \"ben\", \"men\", \"echt\", \"jullie\", \"dag\", \"voel\", \"moeten\", \"daarom\", \"gewoon\", \"eerste\", \"moet\", \"mijn\", \"dus\", \"naar\", \"alleen\", \"thuiswerken\", \"iemand\", \"meer\", \"want\", \"nooit\", \"jaar\", \"eenzaam\", \"hebben\", \"https\", \"geen\", \"gelukkig\", \"tijd\", \"test\", \"pcr\", \"ouders\", \"spelen\", \"nals\", \"loesje\", \"politieke\", \"klaar\", \"thuisonderwijs\", \"hele\", \"zegt\", \"werken\", \"groep\", \"thuis\", \"amp\", \"probeer\", \"kabinet\", \"eens\", \"toen\", \"rutte\", \"had\", \"grote\", \"hebt\", \"thuiswerken\", \"nik\", \"maanden\", \"beter\", \"andere\", \"terug\", \"mijn\", \"https\", \"goed\", \"over\", \"mag\", \"geen\", \"zijn\", \"wordt\", \"gelukkig\", \"jaar\", \"naar\", \"worden\", \"hier\", \"door\", \"weer\", \"normaal\", \"nee\", \"gehad\", \"nieuw\", \"horen\", \"ooit\", \"inspuiten\", \"springen\", \"daarna\", \"hoepeltje\", \"kartel\", \"graag\", \"zeggen\", \"wie\", \"altijd\", \"etc\", \"vrij\", \"heeft\", \"laten\", \"den\", \"mondkapjes\", \"doorheen\", \"blijft\", \"mag\", \"voelen\", \"twitter\", \"iemand\", \"waar\", \"januari\", \"auto\", \"vaccin\", \"gaan\", \"want\", \"corona\", \"weer\", \"naar\"], \"Freq\": [113.0, 338.0, 115.0, 68.0, 82.0, 66.0, 129.0, 35.0, 68.0, 62.0, 39.0, 215.0, 98.0, 30.0, 31.0, 31.0, 56.0, 36.0, 40.0, 27.0, 47.0, 43.0, 32.0, 32.0, 45.0, 82.0, 40.0, 24.0, 50.0, 54.0, 28.43883042284629, 19.96364269312094, 18.048793348078256, 14.308608558195163, 13.37145275223041, 12.429199263657011, 11.488944254257696, 11.486720579099568, 10.541724792886862, 20.456841997143986, 17.692187944802804, 16.75752665074591, 23.334689164075645, 28.523933322832463, 9.060052651394162, 11.92837293858484, 9.654695105949365, 12.429587630584852, 13.604967646596993, 11.538195593921996, 7.540370134740922, 12.11709007773453, 9.250918059984473, 7.233814217757486, 56.59545401233196, 12.143971164285135, 13.848592108869447, 9.472765597102088, 18.435429960987868, 8.66073766569184, 34.79311359114074, 30.72977583936929, 112.16477142899882, 64.22247381943764, 19.88543155082322, 63.52328160074702, 22.111748161645497, 43.16731184686817, 99.64197965677657, 21.99946316613405, 28.932598051773876, 19.502812281519414, 34.64047645913982, 25.857121937112094, 25.215360672317882, 29.224632034192286, 19.563243902678654, 26.020738162574442, 19.02680344217168, 20.605402490559133, 18.954572023714295, 17.968537845567827, 16.36022331163666, 18.940690085512657, 11.602588482230919, 10.587650180366907, 21.907209750581593, 24.236074453843383, 17.669736347481887, 12.868612118394429, 14.469049240550872, 22.45324798556476, 27.519705551489697, 40.695461685332674, 11.4979031374473, 10.446576952634485, 28.962360071449996, 10.085958861903679, 9.24239905542186, 14.847647930936429, 9.854115630573094, 16.16744679856932, 8.623411062562319, 55.43889149738075, 9.231162216926068, 19.70031047516852, 8.59149783553813, 15.357917563784897, 7.964438110956776, 31.840356045313104, 8.73558940808336, 11.656645301389704, 21.607092767319035, 38.32114679573508, 29.26059282777849, 59.259409220111536, 30.667615732620757, 47.93910373769165, 95.07073543596103, 26.517330692615722, 54.60992381464912, 29.73525489097204, 29.776870931930024, 25.04563211825686, 24.179693978742414, 23.484318589764367, 19.76227856531568, 18.64706841417086, 18.05889433607102, 23.78754123156938, 18.596674565292467, 18.69122904261765, 27.394142065842424, 23.508095675682746, 21.555917080480445, 17.67568839666409, 15.735370953686184, 15.730147902838677, 38.564782812661036, 12.818596228692996, 12.817932557351654, 11.850357444831573, 11.848074754984559, 9.906298520279842, 9.901830127759236, 9.90096745871335, 20.99570635292761, 16.44367946499775, 58.32019838846307, 12.731981563981115, 12.74364537451231, 15.06786990184154, 9.705161223043529, 56.34461165166791, 10.190829689617008, 32.91223984719884, 22.109038493236714, 20.274469832455974, 7.96632800918603, 22.096696534215045, 7.813710117464671, 30.9187141638567, 19.897886721430034, 25.71200945175102, 39.33665876678518, 34.422851175671696, 44.44327195437428, 26.68157211973977, 25.99995569587804, 19.87796565966855, 25.1776047751711, 19.344542653604844, 15.402596651280328, 19.170148671573788, 14.698071374981309, 18.71543605210456, 24.194310926824684, 19.11985413929786, 17.59120250508607, 31.144325510686507, 31.133349166072986, 19.53834598016893, 18.572056001858083, 14.70175965483692, 13.734155536047867, 11.802346812289523, 10.831384495478114, 10.453444005981114, 21.64363415172427, 16.849857929935, 8.47483253265199, 29.564255024160282, 15.374973059884734, 25.120122570990826, 10.183417428939634, 10.836137200073045, 12.902299927496223, 28.9776153628895, 9.879737732731018, 9.704146139646937, 8.736683924776177, 11.30444768369901, 7.826539266533687, 36.40845685875118, 7.790445281557142, 6.116351223720163, 8.767541941536948, 9.11247931055259, 15.247197812673537, 41.692272625127586, 119.16967030696621, 25.352576081366212, 25.713616625637297, 17.525107989375705, 28.288563839462103, 34.26442623464777, 18.873205466097435, 18.646885887658893, 16.75637807699515, 19.556357323552955, 14.278011570063809, 12.86695754312819, 13.850763459344865, 13.136241695102134, 35.09079772634676, 29.96250172553106, 26.880884875619238, 23.80254065184535, 21.75210999527752, 20.727397029924852, 19.703222402249455, 18.675997311112315, 22.58272965889365, 16.625489087193234, 16.625489087193234, 11.487424758380246, 34.304413288364856, 26.791129214927864, 26.31988047114226, 29.3429541871375, 19.46407697813589, 82.71389243358689, 46.486823719813415, 7.382138761680817, 34.748698818242936, 17.65600641473534, 21.704942721003952, 26.682386780991244, 7.161012523276899, 8.00918761240924, 23.537009422717937, 28.281366584483102, 10.938133385598032, 6.701726375268501, 52.81090585578388, 29.312888017412305, 20.953944381716386, 33.351463387214174, 24.591103749688912, 27.111196000608704], \"Total\": [113.0, 338.0, 115.0, 68.0, 82.0, 66.0, 129.0, 35.0, 68.0, 62.0, 39.0, 215.0, 98.0, 30.0, 31.0, 31.0, 56.0, 36.0, 40.0, 27.0, 47.0, 43.0, 32.0, 32.0, 45.0, 82.0, 40.0, 24.0, 50.0, 54.0, 29.230798034073477, 20.753096985454327, 18.870250317552316, 15.101409603346967, 14.159338920262682, 13.217453207234517, 12.27532973311765, 12.275358570596149, 11.333530716869246, 22.760934608538147, 19.847036319545467, 19.83379312592984, 28.419629468616595, 34.93837369480318, 11.37438059251882, 15.125148267018233, 12.324901900748989, 16.119532799431546, 17.990202060653218, 15.341757347614077, 10.447351022273699, 17.109392464147884, 13.24922970114589, 10.444935164557178, 82.72438099053248, 18.02486408362798, 20.846098524431444, 14.281882870430069, 27.879303357138504, 13.255106069518371, 56.19756363838588, 51.08944679473707, 215.72489315681665, 129.13645999391508, 33.12183393025533, 136.40061581727792, 37.85665319128576, 89.29090030370291, 338.2835826717265, 40.84196514292816, 62.3873793478336, 34.25785135421165, 98.1841096250626, 64.75098685801366, 63.66136605003769, 87.97139861585771, 38.96730854764855, 80.11133754861328, 44.738684922832974, 65.80193427095386, 84.67998646144655, 61.302718626518654, 17.14512393770354, 20.02055950862023, 12.388352812819933, 11.43625265436064, 24.798145370369454, 27.653846918329236, 20.926277221969205, 15.26918629220222, 17.177140548234956, 27.58024294222855, 34.212155878067996, 50.63343026812996, 14.448697032163814, 13.318844727255009, 37.065741608249404, 13.39195923807366, 12.364863003515664, 20.087022238717147, 13.385072358732835, 21.98539943303758, 12.392692092873412, 84.67998646144655, 14.248774974328866, 30.487568564098694, 13.301004318335817, 23.826401473616713, 12.465478327729631, 50.44761806252024, 14.243747201168645, 19.054841849331062, 35.47960845007265, 65.13217658881095, 51.492124706449694, 129.13645999391508, 63.66136605003769, 115.46038027546982, 338.2835826717265, 66.03257325110644, 215.72489315681665, 89.29090030370291, 98.1841096250626, 75.5165652833652, 75.75907581152141, 73.61728631405548, 51.08944679473707, 47.205485690719286, 43.087204036833555, 136.40061581727792, 87.97139861585771, 112.6063617984123, 28.175630687321316, 24.289351891829007, 22.346006048168707, 18.46001157924305, 16.516745613568137, 16.516620451253686, 40.79985010413366, 13.60212068984779, 13.602097141989438, 12.630554742419136, 12.630622988163854, 10.687347796432674, 10.687436787511137, 10.687252397680552, 23.284413570393188, 18.454666618199123, 66.42893712762469, 14.56910446261306, 14.63210384891515, 17.438543528908212, 11.623306628175861, 68.77263252620685, 12.579929565666188, 41.543235548146626, 28.038683845333203, 27.07652956970871, 10.737129408342772, 30.012465780861778, 10.643858626134147, 48.276942825446774, 31.789581963978257, 47.205485690719286, 82.38430206908869, 75.75907581152141, 112.6063617984123, 59.50098060604073, 62.99626735224193, 43.99257565870562, 80.11133754861328, 51.5054372154608, 27.037525189152486, 68.07961029523324, 24.785283570736485, 82.72438099053248, 338.2835826717265, 136.40061581727792, 65.80193427095386, 31.928652145907186, 31.92847566689963, 20.319857776956695, 19.35242375841621, 15.482814568633517, 14.515373906455132, 12.580587838120637, 11.61308975448456, 12.558262271613753, 26.14020255831314, 21.35622944565306, 11.623330769732755, 40.659278774620894, 21.152395704573387, 34.75368601184326, 14.530643227694851, 15.718168346358905, 19.25845687038763, 45.0593391921017, 15.402832567904936, 15.399334710056653, 14.432621318852838, 19.16314001066479, 13.418109901823836, 62.99626735224193, 13.558207289264885, 10.794968211569378, 15.615982979388395, 16.34984004550495, 27.859731595503597, 82.38430206908869, 338.2835826717265, 61.302718626518654, 87.97139861585771, 47.9689593876913, 136.40061581727792, 215.72489315681665, 64.75098685801366, 65.80193427095386, 68.07961029523324, 112.6063617984123, 66.03257325110644, 49.19276622237064, 89.29090030370291, 73.61728631405548, 35.86424268563926, 30.73310952063041, 27.65412152669277, 24.575357865847604, 22.522952273975324, 21.496799002112624, 20.4706669462618, 19.44433510900943, 23.534934788937722, 17.39195319563858, 17.39195319563858, 12.260181832300832, 39.68875683675604, 32.48601470318941, 32.37090508969354, 36.52948359992848, 25.31575173963762, 113.54496370275818, 68.92755556258193, 11.069555514367986, 56.85564499741936, 29.059919544637147, 36.88077324140009, 47.9689593876913, 12.883620994209462, 14.908487340906547, 43.99257565870562, 54.67226945453617, 21.682939975116096, 13.808116914390514, 115.46038027546982, 75.5165652833652, 51.5054372154608, 98.1841096250626, 73.61728631405548, 112.6063617984123], \"Category\": [\"Default\", \"Default\", \"Default\", \"Default\", \"Default\", \"Default\", \"Default\", \"Default\", \"Default\", \"Default\", \"Default\", \"Default\", \"Default\", \"Default\", \"Default\", \"Default\", \"Default\", \"Default\", \"Default\", \"Default\", \"Default\", \"Default\", \"Default\", \"Default\", \"Default\", \"Default\", \"Default\", \"Default\", \"Default\", \"Default\", \"Topic1\", \"Topic1\", \"Topic1\", \"Topic1\", \"Topic1\", \"Topic1\", \"Topic1\", \"Topic1\", \"Topic1\", \"Topic1\", \"Topic1\", \"Topic1\", \"Topic1\", \"Topic1\", \"Topic1\", \"Topic1\", \"Topic1\", \"Topic1\", \"Topic1\", \"Topic1\", \"Topic1\", \"Topic1\", \"Topic1\", \"Topic1\", \"Topic1\", \"Topic1\", \"Topic1\", \"Topic1\", \"Topic1\", \"Topic1\", \"Topic1\", \"Topic1\", \"Topic1\", \"Topic1\", \"Topic1\", \"Topic1\", \"Topic1\", \"Topic1\", \"Topic1\", \"Topic1\", \"Topic1\", \"Topic1\", \"Topic1\", \"Topic1\", \"Topic1\", \"Topic1\", \"Topic1\", \"Topic1\", \"Topic1\", \"Topic1\", \"Topic1\", \"Topic1\", \"Topic2\", \"Topic2\", \"Topic2\", \"Topic2\", \"Topic2\", \"Topic2\", \"Topic2\", \"Topic2\", \"Topic2\", \"Topic2\", \"Topic2\", \"Topic2\", \"Topic2\", \"Topic2\", \"Topic2\", \"Topic2\", \"Topic2\", \"Topic2\", \"Topic2\", \"Topic2\", \"Topic2\", \"Topic2\", \"Topic2\", \"Topic2\", \"Topic2\", \"Topic2\", \"Topic2\", \"Topic2\", \"Topic2\", \"Topic2\", \"Topic2\", \"Topic2\", \"Topic2\", \"Topic2\", \"Topic2\", \"Topic2\", \"Topic2\", \"Topic2\", \"Topic2\", \"Topic2\", \"Topic2\", \"Topic2\", \"Topic2\", \"Topic2\", \"Topic2\", \"Topic2\", \"Topic2\", \"Topic2\", \"Topic2\", \"Topic2\", \"Topic3\", \"Topic3\", \"Topic3\", \"Topic3\", \"Topic3\", \"Topic3\", \"Topic3\", \"Topic3\", \"Topic3\", \"Topic3\", \"Topic3\", \"Topic3\", \"Topic3\", \"Topic3\", \"Topic3\", \"Topic3\", \"Topic3\", \"Topic3\", \"Topic3\", \"Topic3\", \"Topic3\", \"Topic3\", \"Topic3\", \"Topic3\", \"Topic3\", \"Topic3\", \"Topic3\", \"Topic3\", \"Topic3\", \"Topic3\", \"Topic3\", \"Topic3\", \"Topic3\", \"Topic3\", \"Topic3\", \"Topic3\", \"Topic3\", \"Topic3\", \"Topic3\", \"Topic3\", \"Topic3\", \"Topic3\", \"Topic3\", \"Topic3\", \"Topic3\", \"Topic3\", \"Topic3\", \"Topic4\", \"Topic4\", \"Topic4\", \"Topic4\", \"Topic4\", \"Topic4\", \"Topic4\", \"Topic4\", \"Topic4\", \"Topic4\", \"Topic4\", \"Topic4\", \"Topic4\", \"Topic4\", \"Topic4\", \"Topic4\", \"Topic4\", \"Topic4\", \"Topic4\", \"Topic4\", \"Topic4\", \"Topic4\", \"Topic4\", \"Topic4\", \"Topic4\", \"Topic4\", \"Topic4\", \"Topic4\", \"Topic4\", \"Topic4\", \"Topic4\", \"Topic4\", \"Topic4\", \"Topic4\", \"Topic4\", \"Topic4\", \"Topic4\", \"Topic4\", \"Topic4\", \"Topic4\", \"Topic4\", \"Topic4\", \"Topic4\", \"Topic4\", \"Topic4\", \"Topic5\", \"Topic5\", \"Topic5\", \"Topic5\", \"Topic5\", \"Topic5\", \"Topic5\", \"Topic5\", \"Topic5\", \"Topic5\", \"Topic5\", \"Topic5\", \"Topic5\", \"Topic5\", \"Topic5\", \"Topic5\", \"Topic5\", \"Topic5\", \"Topic5\", \"Topic5\", \"Topic5\", \"Topic5\", \"Topic5\", \"Topic5\", \"Topic5\", \"Topic5\", \"Topic5\", \"Topic5\", \"Topic5\", \"Topic5\", \"Topic5\", \"Topic5\", \"Topic5\", \"Topic5\", \"Topic5\", \"Topic5\"], \"logprob\": [30.0, 29.0, 28.0, 27.0, 26.0, 25.0, 24.0, 23.0, 22.0, 21.0, 20.0, 19.0, 18.0, 17.0, 16.0, 15.0, 14.0, 13.0, 12.0, 11.0, 10.0, 9.0, 8.0, 7.0, 6.0, 5.0, 4.0, 3.0, 2.0, 1.0, -4.3097, -4.6635, -4.7643, -4.9966, -5.0643, -5.1374, -5.216, -5.2162, -5.3021, -4.6391, -4.7843, -4.8386, -4.5075, -4.3067, -5.4536, -5.1785, -5.39, -5.1373, -5.047, -5.2118, -5.6372, -5.1628, -5.4327, -5.6787, -3.6215, -5.1606, -5.0292, -5.409, -4.7432, -5.4986, -4.108, -4.2322, -2.9375, -3.4951, -4.6674, -3.506, -4.5613, -3.8923, -3.0558, -4.5664, -4.2925, -4.6869, -4.1124, -4.4048, -4.43, -4.2824, -4.6838, -4.3985, -4.7116, -4.6319, -4.7154, -4.7688, -4.8234, -4.677, -5.167, -5.2586, -4.5315, -4.4304, -4.7464, -5.0635, -4.9463, -4.5068, -4.3034, -3.9122, -5.1761, -5.272, -4.2523, -5.3071, -5.3945, -4.9204, -5.3304, -4.8353, -5.4638, -3.603, -5.3957, -4.6376, -5.4675, -4.8866, -5.5433, -4.1575, -5.4509, -5.1624, -4.5453, -3.9723, -4.242, -3.5363, -4.1951, -3.7483, -3.0637, -4.3405, -3.6181, -4.2259, -4.2245, -4.3976, -4.4328, -4.4619, -4.6345, -4.6926, -4.7246, -4.4491, -4.6953, -4.6902, -4.1618, -4.3148, -4.4015, -4.6, -4.7163, -4.7166, -3.8198, -4.9213, -4.9213, -4.9998, -5.0, -5.179, -5.1795, -5.1795, -4.4279, -4.6722, -3.4062, -4.9281, -4.9271, -4.7596, -5.1995, -3.4407, -5.1507, -3.9783, -4.3762, -4.4628, -5.3969, -4.3767, -5.4163, -4.0408, -4.4816, -4.2252, -3.8, -3.9335, -3.678, -4.1882, -4.2141, -4.4826, -4.2462, -4.5098, -4.7376, -4.5188, -4.7845, -4.5428, -4.2861, -4.5214, -4.6048, -3.7855, -3.7859, -4.2518, -4.3025, -4.5362, -4.6043, -4.7559, -4.8417, -4.8772, -4.1495, -4.3998, -5.0871, -3.8376, -4.4914, -4.0005, -4.9034, -4.8413, -4.6668, -3.8577, -4.9337, -4.9516, -5.0566, -4.799, -5.1667, -3.6294, -5.1713, -5.4132, -5.0531, -5.0145, -4.4998, -3.4939, -2.4436, -3.9913, -3.9772, -4.3605, -3.8817, -3.6901, -4.2864, -4.2985, -4.4054, -4.2509, -4.5655, -4.6695, -4.5958, -4.6488, -3.512, -3.6699, -3.7785, -3.9001, -3.9902, -4.0384, -4.0891, -4.1427, -3.9527, -4.259, -4.259, -4.6286, -3.5346, -3.7818, -3.7996, -3.6908, -4.1013, -2.6545, -3.2307, -5.0708, -3.5217, -4.1988, -3.9924, -3.7859, -5.1012, -4.9893, -3.9113, -3.7277, -4.6776, -5.1675, -3.1032, -3.6919, -4.0276, -3.5628, -3.8675, -3.7699], \"loglift\": [30.0, 29.0, 28.0, 27.0, 26.0, 25.0, 24.0, 23.0, 22.0, 21.0, 20.0, 19.0, 18.0, 17.0, 16.0, 15.0, 14.0, 13.0, 12.0, 11.0, 10.0, 9.0, 8.0, 7.0, 6.0, 5.0, 4.0, 3.0, 2.0, 1.0, 1.358, 1.3467, 1.3409, 1.3315, 1.3282, 1.324, 1.3192, 1.319, 1.313, 1.2787, 1.2705, 1.2169, 1.1883, 1.1826, 1.158, 1.148, 1.1413, 1.1255, 1.106, 1.1005, 1.0594, 1.0404, 1.0262, 1.0181, 1.0059, 0.9905, 0.9765, 0.9749, 0.9718, 0.9599, 0.906, 0.8771, 0.7314, 0.6869, 0.8752, 0.6213, 0.8477, 0.6586, 0.1631, 0.7667, 0.617, 0.8221, 0.3436, 0.4675, 0.4593, 0.2834, 0.6964, 0.2609, 0.5305, 0.2243, -0.1114, 0.1582, 1.3777, 1.3691, 1.3591, 1.3475, 1.3006, 1.2927, 1.2554, 1.2535, 1.253, 1.2189, 1.2069, 1.2061, 1.1962, 1.1817, 1.1779, 1.1411, 1.1335, 1.1224, 1.1183, 1.1172, 1.062, 1.001, 0.9905, 0.9879, 0.9875, 0.9854, 0.9766, 0.9644, 0.9357, 0.9331, 0.9287, 0.8942, 0.8594, 0.6456, 0.6942, 0.5456, 0.1553, 0.5122, 0.0508, 0.325, 0.2315, 0.3209, 0.2825, 0.282, 0.4748, 0.4958, 0.555, -0.3218, -0.1294, -0.3712, 1.5426, 1.538, 1.5347, 1.5273, 1.5222, 1.5219, 1.5144, 1.5114, 1.5113, 1.5069, 1.5067, 1.4948, 1.4943, 1.4943, 1.4672, 1.4553, 1.4405, 1.4359, 1.4325, 1.4246, 1.3903, 1.3714, 1.3601, 1.3378, 1.3331, 1.2814, 1.2722, 1.2645, 1.2616, 1.1251, 1.1022, 0.9631, 0.8315, 0.7819, 0.641, 0.7687, 0.6857, 0.7763, 0.4132, 0.5914, 1.008, 0.3034, 1.0482, 0.0845, -1.0671, -0.3942, 0.2514, 1.7938, 1.7935, 1.7795, 1.7775, 1.7669, 1.7634, 1.7548, 1.749, 1.6352, 1.6299, 1.5817, 1.5028, 1.5, 1.4997, 1.4941, 1.4632, 1.4468, 1.4181, 1.3772, 1.3746, 1.3569, 1.3167, 1.2909, 1.2796, 1.2704, 1.2646, 1.2506, 1.2415, 1.2341, 1.2159, 1.1376, 0.7754, 0.9357, 0.5887, 0.8118, 0.2456, -0.0212, 0.5859, 0.5577, 0.4168, 0.0681, 0.2873, 0.4776, -0.0449, 0.0952, 1.9512, 1.9476, 1.9446, 1.941, 1.9382, 1.9365, 1.9348, 1.9327, 1.9317, 1.9279, 1.9279, 1.9079, 1.8272, 1.7802, 1.766, 1.7539, 1.7101, 1.6562, 1.5791, 1.5678, 1.4806, 1.4747, 1.4428, 1.3864, 1.3857, 1.3516, 1.3475, 1.3138, 1.2887, 1.2501, 1.1908, 1.0267, 1.0736, 0.8932, 0.8765, 0.549]}, \"token.table\": {\"Topic\": [3, 1, 2, 3, 4, 2, 3, 2, 3, 4, 2, 5, 3, 4, 2, 3, 1, 3, 4, 1, 4, 5, 1, 3, 4, 2, 4, 5, 1, 3, 4, 2, 3, 5, 1, 2, 5, 3, 1, 2, 3, 4, 5, 2, 3, 2, 3, 3, 5, 1, 4, 2, 1, 2, 3, 3, 4, 1, 2, 3, 4, 1, 2, 3, 4, 4, 5, 2, 1, 2, 3, 4, 1, 3, 1, 4, 3, 5, 1, 2, 3, 2, 1, 2, 4, 3, 5, 1, 2, 2, 3, 1, 4, 1, 2, 3, 4, 5, 1, 2, 3, 4, 1, 2, 3, 4, 5, 5, 1, 3, 4, 5, 1, 2, 2, 3, 5, 1, 2, 1, 2, 3, 4, 5, 1, 2, 1, 4, 1, 3, 1, 4, 1, 3, 2, 4, 3, 4, 5, 1, 3, 4, 1, 4, 1, 2, 3, 4, 5, 3, 4, 5, 1, 2, 3, 1, 2, 3, 4, 5, 5, 5, 3, 1, 2, 3, 4, 1, 2, 3, 5, 2, 4, 5, 1, 2, 3, 4, 1, 2, 5, 1, 2, 3, 2, 4, 5, 3, 2, 4, 2, 4, 2, 3, 1, 2, 3, 1, 2, 5, 3, 1, 2, 3, 4, 4, 3, 2, 4, 5, 1, 3, 4, 5, 2, 3, 4, 5, 1, 2, 4, 1, 2, 3, 4, 5, 1, 3, 1, 2, 5, 1, 2, 3, 4, 1, 2, 3, 2, 3, 4, 1, 3, 4, 1, 1, 2, 3, 5, 3, 1, 2, 3, 4, 5, 4, 2, 2, 4, 5, 1, 2, 2, 4, 1, 2, 3, 1, 2, 4, 5, 1, 5, 5, 1, 4, 5, 2, 3, 4, 3, 2, 3, 4, 5, 1, 4, 3, 5, 4, 1, 2, 3, 4, 4, 3, 5, 1, 4, 1, 3, 4, 5, 1, 1, 2, 4, 2, 4, 1, 3, 1, 2, 4, 5, 1, 2, 3, 1, 2, 3, 4, 1, 2, 2, 4, 4, 2, 3, 4, 3, 4, 3, 4, 4, 2, 5, 1, 2, 3, 4, 5, 1, 2, 4, 3, 4, 2, 4, 5, 2, 3, 5, 1, 2, 2, 4, 1, 2, 1, 1, 2, 3, 5, 1, 2, 4, 1, 2, 3, 4, 5, 1, 2, 4, 5, 1, 4, 1, 2, 3, 5, 1, 3, 4, 5, 1, 2, 4, 1, 2, 1, 3, 4, 5, 1, 4, 2, 3, 4, 5, 3, 1, 2, 3, 1, 2, 3, 1, 3, 4, 2, 3, 4, 5, 1, 2, 3, 1, 2, 3, 4, 1, 2, 4, 5, 4, 5, 3, 4, 1, 5, 1, 3, 1, 3, 1, 2, 1, 2, 3, 4, 1, 2, 3, 1, 2, 3, 4], \"Freq\": [0.95827491138112, 0.2520966855876851, 0.2016773484701481, 0.45377403405783323, 0.10083867423507405, 0.08589436852053936, 0.9018908694656632, 0.7467508036650619, 0.14935016073301238, 0.049783386911004125, 0.15445969107585852, 0.8031903935944643, 0.27528031191187413, 0.6882007797796853, 0.6417724045297073, 0.32088620226485365, 0.24465071149731013, 0.1834880336229826, 0.5504641008689478, 0.28968468508774636, 0.14484234254387318, 0.5069481989035561, 0.08724400651252676, 0.8142773941169165, 0.08724400651252676, 0.19211086512835684, 0.5763325953850705, 0.19211086512835684, 0.9078904847896001, 0.9558858647877407, 0.04901978793783286, 0.2711439897028681, 0.13557199485143406, 0.5965167773463098, 0.3564731618349967, 0.3055484244299972, 0.3361032668729969, 0.9557349770624138, 0.4246883884220544, 0.33528030664899033, 0.13411212265959613, 0.1117601022163301, 0.9772706067072189, 0.18790178169872976, 0.751607126794919, 0.2215941295044093, 0.738647098348031, 0.27101359183808965, 0.6323650476222092, 0.9069364166111544, 0.10077071295679493, 0.9686517797250614, 0.39270285184188564, 0.48695153628393817, 0.10995679851572798, 0.8669893816570793, 0.054186836353567455, 0.18566997276409755, 0.4177574387192195, 0.3481311989326829, 0.023208746595512194, 0.48157202865852144, 0.33598048511059636, 0.02239869900737309, 0.15679089305161165, 0.37852823312547645, 0.619409836023507, 0.9332099352641412, 0.1979960795366356, 0.316793727258617, 0.448791113616374, 0.013199738635775707, 0.19257046049599055, 0.794353149545961, 0.3328943626103886, 0.643595767713418, 0.6051978367401136, 0.4034652244934091, 0.12582738598238008, 0.25165477196476016, 0.6291369299119003, 0.94902442620643, 0.6657470449887956, 0.11095784083146591, 0.1664367612471989, 0.19162603218441623, 0.7938792761925815, 0.6038312987775379, 0.3924903442053997, 0.746716729212389, 0.22401501876371668, 0.7444384492597191, 0.18610961231492978, 0.13242127687450322, 0.33105319218625806, 0.07945276612470192, 0.06621063843725161, 0.3840217029360593, 0.1942044547007679, 0.5631929186322269, 0.019420445470076788, 0.21362490017084468, 0.469206092776988, 0.17595228479137048, 0.1392955587931683, 0.20527766558993224, 0.014662690399280875, 0.9763463277594485, 0.3191395546752152, 0.27354818972161304, 0.2887453113728138, 0.13677409486080652, 0.7933806524176095, 0.19834516310440237, 0.33142115187058613, 0.6421284817492606, 0.020713821991911633, 0.6789836273507103, 0.3017705010447601, 0.2936248245312479, 0.16312490251735992, 0.13049992201388794, 0.4078122562933998, 0.8972134467874905, 0.6792847737571954, 0.22642825791906515, 0.2363798441478165, 0.7091395324434494, 0.08603403764432377, 0.8603403764432377, 0.3652846034681329, 0.5740186625927802, 0.11468847709010567, 0.8601635781757925, 0.3464374135188229, 0.6235873443338812, 0.8731134729518427, 0.01505368056813522, 0.10537576397694653, 0.689035074273006, 0.22967835809100204, 0.08461834245457969, 0.372630723446406, 0.5962091575142496, 0.09687792079264888, 0.11449208820949414, 0.008807083708422626, 0.05284250225053576, 0.7309879477990779, 0.14047423528738276, 0.7960206666285023, 0.046824745095794255, 0.20992039879567007, 0.6297611963870102, 0.15744029909675256, 0.2845946889165471, 0.18295372858920886, 0.1626255365237412, 0.26426649685107945, 0.12196915239280591, 0.9774635320582122, 0.9767813620695018, 0.9845159780489247, 0.29560997081268625, 0.2808294722720519, 0.0709463929950447, 0.35177586526709664, 0.8300329103272923, 0.17173094696426738, 0.4546221652298786, 0.5455465982758543, 0.8150367030348701, 0.11643381471926716, 0.9770077375838626, 0.23501897162182023, 0.23501897162182023, 0.2790850288009115, 0.24970765734818398, 0.23059603567312043, 0.23059603567312043, 0.5073112784808649, 0.10699503644852161, 0.10699503644852161, 0.7846302672891584, 0.31155144155011594, 0.6750281233585845, 0.9774635320582122, 0.9880872946665018, 0.15925770275723009, 0.7962885137861504, 0.7277557111815177, 0.2274236597442243, 0.8097417019325767, 0.17774817847300464, 0.14503135481361318, 0.7976724514748725, 0.036257838703403295, 0.17409583006472276, 0.14507985838726897, 0.6673673485814373, 0.9356780487988996, 0.2243741501854207, 0.6495041189577968, 0.04723666319693068, 0.08266416059462868, 0.9538505000250156, 0.9557333225033656, 0.09263575217648737, 0.5558145130589243, 0.27790725652946213, 0.8961041697265703, 0.06254044361799918, 0.3752426617079951, 0.5628639925619926, 0.6200744867564894, 0.05637040788695358, 0.3100372433782447, 0.02818520394347679, 0.513250741337302, 0.28228790773551604, 0.20530029653492077, 0.3245483198208074, 0.1622741599104037, 0.31206569213539176, 0.04993051074166268, 0.13730890453957237, 0.1589834020580295, 0.7949170102901475, 0.4955997709943085, 0.4568810388853782, 0.03871873210893036, 0.012138234771490633, 0.012138234771490633, 0.47339115608813465, 0.5098058604026066, 0.6701812782671085, 0.09574018260958692, 0.19148036521917383, 0.40249559393338574, 0.5507834443298962, 0.042367957256145866, 0.09995846465614389, 0.7330287408117219, 0.16659744109357316, 0.9578937929563616, 0.07035361220827865, 0.21106083662483596, 0.10553041831241798, 0.6155941068224382, 0.9500770349934475, 0.02664147879469363, 0.16872936569972632, 0.39074168898883993, 0.17760985863129086, 0.23977330915224268, 0.9644946172398673, 0.9618535312618949, 0.8678720205141719, 0.10848400256427149, 0.976145937327354, 0.3510312229909394, 0.6318562013836909, 0.7471009294526294, 0.22413027883578884, 0.1613854346587153, 0.7262344559642189, 0.08069271732935765, 0.18424073366621496, 0.5834289899430141, 0.13818055024966122, 0.09212036683310748, 0.7821789725977004, 0.1955447431494251, 0.9765880167854166, 0.6456402360352055, 0.10760670600586758, 0.21521341201173516, 0.0737560636642412, 0.368780318321206, 0.5900485093139296, 0.9500719015400262, 0.25889943517494773, 0.5547845039463165, 0.14794253438568442, 0.9759023857490982, 0.7657443482988215, 0.19143608707470539, 0.9356858399740576, 0.9768896289134117, 0.9817891669376584, 0.32965259682449183, 0.21597928757466706, 0.15914263294975467, 0.2955506040495444, 0.9842588574945922, 0.8884573356116415, 0.06834287197012627, 0.9538824179378879, 0.9472070080016555, 0.9181219598745805, 0.9687211767819928, 0.699827089111699, 0.25448257785879963, 0.8961062748744799, 0.6715884981351365, 0.19188242803861044, 0.09594121401930522, 0.32468935146495076, 0.6493787029299015, 0.9270657751642695, 0.9687138359058068, 0.1501631741308089, 0.7508158706540445, 0.9688160982298628, 0.9771483516140622, 0.5838077757185786, 0.14595194392964464, 0.26271349907336033, 0.23787049737667057, 0.6343213263377881, 0.03964508289611176, 0.07929016579222352, 0.24262298734300727, 0.7278689620290218, 0.4307292035052029, 0.5384115043815036, 0.9709201379800858, 0.1726435578072305, 0.11509570520482035, 0.7193481575301272, 0.1530210024607447, 0.8416155135340959, 0.4127228658584119, 0.5714624296501088, 0.9709147714202453, 0.7613143230502535, 0.138420786009137, 0.46483760502767496, 0.11220218052392154, 0.20837547811585427, 0.11220218052392154, 0.09617329759193274, 0.9637115855054228, 0.32461561715723375, 0.6492312343144675, 0.8922991823801069, 0.06863839864462361, 0.20122765854108293, 0.20122765854108293, 0.5366070894428878, 0.4157270215590816, 0.1212537146213988, 0.4590319196381526, 0.5811395922623237, 0.39623154017885703, 0.8513878703961413, 0.13098274929171405, 0.6067789327324138, 0.39147027918220245, 0.97057133163518, 0.6228028002283922, 0.10676619432486724, 0.2491211200913569, 0.03558873144162241, 0.19680152542782411, 0.6560050847594137, 0.16400127118985341, 0.17537626162420103, 0.8184225542462714, 0.7450781019537664, 0.0931347627442208, 0.0931347627442208, 0.23285379175220605, 0.07761793058406868, 0.07761793058406868, 0.5433255140884808, 0.7912518775676891, 0.17583375057059758, 0.30072917084057216, 0.6766406343912874, 0.19750549189386118, 0.7505208691966725, 0.14632646641187194, 0.27436212452225994, 0.05487242490445198, 0.5121426324415519, 0.1888536340101737, 0.7823936266135768, 0.026979090572881958, 0.28072588746797894, 0.6316332468029526, 0.0582462777172478, 0.36889309220923605, 0.15532340724599414, 0.4077239440207346, 0.8113654843283009, 0.1622730968656602, 0.31242662086022444, 0.163005193492291, 0.17658895961664858, 0.3395941531089396, 0.9356941922855957, 0.7013691471012526, 0.058447428925104385, 0.23378971570041754, 0.8571229866149475, 0.10083799842528794, 0.9750806451410734, 0.024594632028352402, 0.245946320283524, 0.737838960850572, 0.8871631193148471, 0.0806511926649861, 0.15391238493495818, 0.8311268786487742, 0.20985124444984132, 0.6295537333495239, 0.1259107466699048, 0.18172849260874332, 0.4088891083696725, 0.19687253365947194, 0.21201657471020055, 0.4015382816792113, 0.10810646045209536, 0.293431821227116, 0.20076914083960565, 0.1259802623842696, 0.8566657842130333, 0.25810157685712803, 0.6882708716190081, 0.8786985395800726, 0.08786985395800725, 0.8092997843409107, 0.14074778858102793, 0.6301690107425579, 0.2800751158855813, 0.14336042518114428, 0.8601625510868657, 0.5191797680881639, 0.2549543504004376, 0.06489747101102049, 0.1576081438839069, 0.778201376104592, 0.11117162515779885, 0.11117162515779885, 0.5386616418433854, 0.29381544100548296, 0.12242310041895123, 0.048969240167580495], \"Term\": [\"afstand\", \"alleen\", \"alleen\", \"alleen\", \"alleen\", \"allemaal\", \"allemaal\", \"alles\", \"alles\", \"alles\", \"altijd\", \"altijd\", \"amp\", \"amp\", \"ander\", \"ander\", \"andere\", \"andere\", \"andere\", \"auto\", \"auto\", \"auto\", \"ben\", \"ben\", \"ben\", \"beter\", \"beter\", \"beter\", \"binnen\", \"blij\", \"blij\", \"blijft\", \"blijft\", \"blijft\", \"corona\", \"corona\", \"corona\", \"coronavirus\", \"daar\", \"daar\", \"daar\", \"daar\", \"daarna\", \"daarom\", \"daarom\", \"dag\", \"dag\", \"den\", \"den\", \"denk\", \"denk\", \"denken\", \"deze\", \"deze\", \"deze\", \"doe\", \"doe\", \"doen\", \"doen\", \"doen\", \"doen\", \"door\", \"door\", \"door\", \"door\", \"doorheen\", \"doorheen\", \"duitsland\", \"dus\", \"dus\", \"dus\", \"dus\", \"echt\", \"echt\", \"eens\", \"eens\", \"eenzaam\", \"eenzaam\", \"eerste\", \"eerste\", \"eerste\", \"elkaar\", \"erg\", \"erg\", \"erg\", \"etc\", \"etc\", \"even\", \"even\", \"extra\", \"extra\", \"fvd\", \"fvd\", \"gaan\", \"gaan\", \"gaan\", \"gaan\", \"gaan\", \"gaat\", \"gaat\", \"gaat\", \"gaat\", \"geen\", \"geen\", \"geen\", \"geen\", \"geen\", \"gehad\", \"gelukkig\", \"gelukkig\", \"gelukkig\", \"gelukkig\", \"gevaccineerd\", \"gevaccineerd\", \"gewoon\", \"gewoon\", \"gewoon\", \"gezond\", \"gezond\", \"goed\", \"goed\", \"goed\", \"goed\", \"graag\", \"griep\", \"griep\", \"groep\", \"groep\", \"groot\", \"groot\", \"grote\", \"grote\", \"haar\", \"haar\", \"had\", \"had\", \"heb\", \"heb\", \"heb\", \"hebben\", \"hebben\", \"hebben\", \"hebt\", \"hebt\", \"heeft\", \"heeft\", \"heeft\", \"heeft\", \"heeft\", \"hele\", \"hele\", \"hele\", \"helemaal\", \"helemaal\", \"helemaal\", \"hier\", \"hier\", \"hier\", \"hier\", \"hier\", \"hoepeltje\", \"horen\", \"houden\", \"https\", \"https\", \"https\", \"https\", \"iedereen\", \"iedereen\", \"iemand\", \"iemand\", \"ikwildieprik\", \"ikwildieprik\", \"inspuiten\", \"jaar\", \"jaar\", \"jaar\", \"jaar\", \"januari\", \"januari\", \"januari\", \"jullie\", \"jullie\", \"jullie\", \"kabinet\", \"kabinet\", \"kartel\", \"kinderen\", \"klaar\", \"klaar\", \"komen\", \"komen\", \"kunnen\", \"kunnen\", \"laat\", \"laat\", \"laat\", \"laten\", \"laten\", \"laten\", \"leven\", \"lockdown\", \"lockdown\", \"lockdown\", \"lockdown\", \"loesje\", \"maak\", \"maanden\", \"maanden\", \"maanden\", \"maatregelen\", \"mag\", \"mag\", \"mag\", \"maken\", \"maken\", \"maken\", \"maken\", \"mee\", \"mee\", \"mee\", \"meer\", \"meer\", \"meer\", \"meer\", \"meer\", \"men\", \"men\", \"mensen\", \"mensen\", \"mensen\", \"mijn\", \"mijn\", \"mijn\", \"mijn\", \"minpres\", \"minpres\", \"minpres\", \"moet\", \"moet\", \"moet\", \"moeten\", \"moeten\", \"moeten\", \"mondkapje\", \"mondkapjes\", \"mondkapjes\", \"mondkapjes\", \"mondkapjes\", \"morgen\", \"naar\", \"naar\", \"naar\", \"naar\", \"naar\", \"nals\", \"nde\", \"nederland\", \"nederland\", \"nee\", \"neemt\", \"neemt\", \"nen\", \"nen\", \"nhet\", \"nhet\", \"nhet\", \"nhttps\", \"nhttps\", \"nhttps\", \"nhttps\", \"niemand\", \"niemand\", \"nieuw\", \"nieuwjaar\", \"nieuwjaar\", \"nieuwjaar\", \"nik\", \"nik\", \"nik\", \"niks\", \"nooit\", \"nooit\", \"nooit\", \"normaal\", \"nos\", \"nos\", \"onderwijs\", \"ooit\", \"ouders\", \"over\", \"over\", \"over\", \"over\", \"pcr\", \"per\", \"per\", \"politie\", \"politieke\", \"positief\", \"prik\", \"probeer\", \"probeer\", \"regering\", \"rivm\", \"rivm\", \"rivm\", \"rutte\", \"rutte\", \"scholen\", \"school\", \"snel\", \"snel\", \"spelen\", \"springen\", \"steeds\", \"steeds\", \"steeds\", \"tegen\", \"tegen\", \"tegen\", \"tegen\", \"telegraaf\", \"telegraaf\", \"terug\", \"terug\", \"test\", \"thuis\", \"thuis\", \"thuis\", \"thuisonderwijs\", \"thuisonderwijs\", \"thuiswerken\", \"thuiswerken\", \"tijd\", \"tijdens\", \"tijdens\", \"toch\", \"toch\", \"toch\", \"toch\", \"toch\", \"toe\", \"toen\", \"toen\", \"twee\", \"twee\", \"twitter\", \"twitter\", \"twitter\", \"vaccin\", \"vaccin\", \"vaccin\", \"vaccinatie\", \"vaccinatie\", \"vaccinaties\", \"vaccinaties\", \"vaccineren\", \"vaccineren\", \"vanwege\", \"veel\", \"veel\", \"veel\", \"veel\", \"via\", \"via\", \"via\", \"virus\", \"virus\", \"voel\", \"voel\", \"voel\", \"voelen\", \"voelen\", \"voelen\", \"voelen\", \"vooral\", \"vooral\", \"vraag\", \"vraag\", \"vrij\", \"vrij\", \"waar\", \"waar\", \"waar\", \"waar\", \"waarom\", \"waarom\", \"waarom\", \"wanneer\", \"wanneer\", \"want\", \"want\", \"want\", \"want\", \"waren\", \"waren\", \"weer\", \"weer\", \"weer\", \"weer\", \"weken\", \"wens\", \"wens\", \"wens\", \"werd\", \"werd\", \"werk\", \"werken\", \"werken\", \"werken\", \"werkt\", \"werkt\", \"wie\", \"wie\", \"willen\", \"willen\", \"willen\", \"worden\", \"worden\", \"worden\", \"worden\", \"wordt\", \"wordt\", \"wordt\", \"wordt\", \"zeggen\", \"zeggen\", \"zegt\", \"zegt\", \"zeker\", \"zeker\", \"zie\", \"zie\", \"ziekenhuis\", \"ziekenhuis\", \"zien\", \"zien\", \"zijn\", \"zijn\", \"zijn\", \"zijn\", \"zorg\", \"zorg\", \"zorg\", \"zou\", \"zou\", \"zou\", \"zou\"]}, \"R\": 30, \"lambda.step\": 0.01, \"plot.opts\": {\"xlab\": \"PC1\", \"ylab\": \"PC2\"}, \"topic.order\": [4, 1, 5, 2, 3]};\n",
       "\n",
       "function LDAvis_load_lib(url, callback){\n",
       "  var s = document.createElement('script');\n",
       "  s.src = url;\n",
       "  s.async = true;\n",
       "  s.onreadystatechange = s.onload = callback;\n",
       "  s.onerror = function(){console.warn(\"failed to load library \" + url);};\n",
       "  document.getElementsByTagName(\"head\")[0].appendChild(s);\n",
       "}\n",
       "\n",
       "if(typeof(LDAvis) !== \"undefined\"){\n",
       "   // already loaded: just create the visualization\n",
       "   !function(LDAvis){\n",
       "       new LDAvis(\"#\" + \"ldavis_el38537121727473601146451271\", ldavis_el38537121727473601146451271_data);\n",
       "   }(LDAvis);\n",
       "}else if(typeof define === \"function\" && define.amd){\n",
       "   // require.js is available: use it to load d3/LDAvis\n",
       "   require.config({paths: {d3: \"https://d3js.org/d3.v5\"}});\n",
       "   require([\"d3\"], function(d3){\n",
       "      window.d3 = d3;\n",
       "      LDAvis_load_lib(\"https://cdn.jsdelivr.net/gh/bmabey/pyLDAvis@3.4.0/pyLDAvis/js/ldavis.v3.0.0.js\", function(){\n",
       "        new LDAvis(\"#\" + \"ldavis_el38537121727473601146451271\", ldavis_el38537121727473601146451271_data);\n",
       "      });\n",
       "    });\n",
       "}else{\n",
       "    // require.js not available: dynamically load d3 & LDAvis\n",
       "    LDAvis_load_lib(\"https://d3js.org/d3.v5.js\", function(){\n",
       "         LDAvis_load_lib(\"https://cdn.jsdelivr.net/gh/bmabey/pyLDAvis@3.4.0/pyLDAvis/js/ldavis.v3.0.0.js\", function(){\n",
       "                 new LDAvis(\"#\" + \"ldavis_el38537121727473601146451271\", ldavis_el38537121727473601146451271_data);\n",
       "            })\n",
       "         });\n",
       "}\n",
       "</script>"
      ],
      "text/plain": [
       "PreparedData(topic_coordinates=              x         y  topics  cluster       Freq\n",
       "topic                                                \n",
       "3      0.117083  0.106886       1        1  25.021337\n",
       "0      0.072652  0.096361       2        1  24.060607\n",
       "4      0.036011 -0.218794       3        1  20.790041\n",
       "1      0.101198 -0.015306       4        1  16.223797\n",
       "2     -0.326944  0.030853       5        1  13.904218, topic_info=       Term        Freq       Total Category  logprob  loglift\n",
       "88    heeft  113.000000  113.000000  Default  30.0000  30.0000\n",
       "100   https  338.000000  338.000000  Default  29.0000  29.0000\n",
       "239  vaccin  115.000000  115.000000  Default  28.0000  28.0000\n",
       "132   laten   68.000000   68.000000  Default  27.0000  27.0000\n",
       "153    mijn   82.000000   82.000000  Default  26.0000  26.0000\n",
       "..      ...         ...         ...      ...      ...      ...\n",
       "61     gaan   29.312888   75.516565   Topic5  -3.6919   1.0267\n",
       "263    want   20.953944   51.505437   Topic5  -4.0276   1.0736\n",
       "24   corona   33.351463   98.184110   Topic5  -3.5628   0.8932\n",
       "266    weer   24.591104   73.617286   Topic5  -3.8675   0.8765\n",
       "164    naar   27.111196  112.606362   Topic5  -3.7699   0.5490\n",
       "\n",
       "[260 rows x 6 columns], token_table=      Topic      Freq     Term\n",
       "term                          \n",
       "1         3  0.958275  afstand\n",
       "3         1  0.252097   alleen\n",
       "3         2  0.201677   alleen\n",
       "3         3  0.453774   alleen\n",
       "3         4  0.100839   alleen\n",
       "...     ...       ...      ...\n",
       "299       3  0.111172     zorg\n",
       "300       1  0.538662      zou\n",
       "300       2  0.293815      zou\n",
       "300       3  0.122423      zou\n",
       "300       4  0.048969      zou\n",
       "\n",
       "[449 rows x 3 columns], R=30, lambda_step=0.01, plot_opts={'xlab': 'PC1', 'ylab': 'PC2'}, topic_order=[4, 1, 5, 2, 3])"
      ]
     },
     "execution_count": 264,
     "metadata": {},
     "output_type": "execute_result"
    }
   ],
   "source": [
    "import pyLDAvis\n",
    "import pyLDAvis.lda_model\n",
    "pyLDAvis.enable_notebook()\n",
    "\n",
    "pyLDAvis.lda_model.prepare(lda_tf, dtm_tf, tf_vectorizer)"
   ]
  },
  {
   "cell_type": "code",
   "execution_count": 265,
   "metadata": {},
   "outputs": [],
   "source": [
    "import sys\n",
    "sys.path.insert(1, '../others')\n",
    "\n",
    "from viz import show_sentences, show_top_k_topics, show_topic_distributions, show_topic_weights_and_counts, show_topic_wordclouds, show_wordcounts_and_topics\n",
    "\n"
   ]
  },
  {
   "cell_type": "markdown",
   "metadata": {},
   "source": [
    "# Bonus Tasks \n",
    "\n",
    "We would like to challenge you with the following bonus task. For each task that is successfully completed, you may obtain max. 1 extra point. \n",
    "\n",
    "1. Implement another clustering algorithm or design your own clustering algorithm. Discuss your findings and explain why this is a better (or worse) clustering algorithm than the above one (the clustering algorithm, not LDA).\n",
    "\n",
    "2. Can you think of other evaluation methods than the provided visualization techniques? If so, implement one and explain why it is a good evaluation for our task."
   ]
  },
  {
   "cell_type": "code",
   "execution_count": null,
   "metadata": {},
   "outputs": [],
   "source": []
  }
 ],
 "metadata": {
  "kernelspec": {
   "display_name": "Python 3 (ipykernel)",
   "language": "python",
   "name": "python3"
  },
  "language_info": {
   "codemirror_mode": {
    "name": "ipython",
    "version": 3
   },
   "file_extension": ".py",
   "mimetype": "text/x-python",
   "name": "python",
   "nbconvert_exporter": "python",
   "pygments_lexer": "ipython3",
   "version": "3.11.6"
  }
 },
 "nbformat": 4,
 "nbformat_minor": 2
}
