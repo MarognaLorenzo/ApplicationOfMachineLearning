{
 "cells": [
  {
   "cell_type": "markdown",
   "metadata": {
    "id": "bkjmmzJE2xeA"
   },
   "source": [
    "\n",
    "\n",
    "This notebook is to provide some guide \n",
    "on the usage of existing libraries \n",
    "to finish assignment 3.\n",
    "It is **NOT** necessary to follow this guide, \n",
    "instead, we only aim to provide one possible solution. \n"
   ]
  },
  {
   "cell_type": "markdown",
   "metadata": {},
   "source": [
    "## 1. Data Preprocessing\n",
    "\n",
    "For query the relevant text data, you can check the [NLTK book](http://www.nltk.org/book_1ed/ch03.html) section 3.4-3.5. \n",
    "\n",
    "For preprocessing, \n",
    "you can use [NLTK](http://www.nltk.org/book_1ed/ch03.html) (section 3.6) or [Spacy](https://spacy.io/). \n",
    "Spacy is one of the best production-ready NLP tool. \n"
   ]
  },
  {
   "cell_type": "code",
   "execution_count": 1,
   "metadata": {
    "colab": {
     "base_uri": "https://localhost:8080/"
    },
    "id": "f9No5Wvo5wzc",
    "outputId": "a7b2b06d-c3e2-4d42-c2b8-7b9316d7c945",
    "scrolled": true
   },
   "outputs": [
    {
     "name": "stdout",
     "output_type": "stream",
     "text": [
      "Collecting spacy==2.3.5\n",
      "  Downloading spacy-2.3.5-cp37-cp37m-macosx_10_9_x86_64.whl (10.2 MB)\n",
      "\u001b[K     |████████████████████████████████| 10.2 MB 5.2 MB/s eta 0:00:01\n",
      "\u001b[?25hCollecting cymem<2.1.0,>=2.0.2\n",
      "  Downloading cymem-2.0.5-cp37-cp37m-macosx_10_9_x86_64.whl (31 kB)\n",
      "Requirement already satisfied: numpy>=1.15.0 in /Users/Shirley/opt/anaconda3/envs/env3/lib/python3.7/site-packages (from spacy==2.3.5) (1.19.1)\n",
      "Collecting catalogue<1.1.0,>=0.0.7\n",
      "  Downloading catalogue-1.0.0-py2.py3-none-any.whl (7.7 kB)\n",
      "Collecting thinc<7.5.0,>=7.4.1\n",
      "  Downloading thinc-7.4.5-cp37-cp37m-macosx_10_9_x86_64.whl (969 kB)\n",
      "\u001b[K     |████████████████████████████████| 969 kB 8.0 MB/s eta 0:00:01\n",
      "\u001b[?25hCollecting preshed<3.1.0,>=3.0.2\n",
      "  Downloading preshed-3.0.5-cp37-cp37m-macosx_10_9_x86_64.whl (104 kB)\n",
      "\u001b[K     |████████████████████████████████| 104 kB 3.8 MB/s eta 0:00:01\n",
      "\u001b[?25hRequirement already satisfied: tqdm<5.0.0,>=4.38.0 in /Users/Shirley/opt/anaconda3/envs/env3/lib/python3.7/site-packages (from spacy==2.3.5) (4.48.2)\n",
      "Collecting murmurhash<1.1.0,>=0.28.0\n",
      "  Downloading murmurhash-1.0.5-cp37-cp37m-macosx_10_9_x86_64.whl (18 kB)\n",
      "Collecting plac<1.2.0,>=0.9.6\n",
      "  Downloading plac-1.1.3-py2.py3-none-any.whl (20 kB)\n",
      "Collecting srsly<1.1.0,>=1.0.2\n",
      "  Downloading srsly-1.0.5-cp37-cp37m-macosx_10_9_x86_64.whl (177 kB)\n",
      "\u001b[K     |████████████████████████████████| 177 kB 11.9 MB/s eta 0:00:01\n",
      "\u001b[?25hCollecting blis<0.8.0,>=0.4.0\n",
      "  Downloading blis-0.7.4-cp37-cp37m-macosx_10_9_x86_64.whl (5.8 MB)\n",
      "\u001b[K     |████████████████████████████████| 5.8 MB 18.6 MB/s eta 0:00:01\n",
      "\u001b[?25hCollecting wasabi<1.1.0,>=0.4.0\n",
      "  Downloading wasabi-0.8.2-py3-none-any.whl (23 kB)\n",
      "Requirement already satisfied: setuptools in /Users/Shirley/opt/anaconda3/envs/env3/lib/python3.7/site-packages (from spacy==2.3.5) (49.6.0.post20200814)\n",
      "Requirement already satisfied: requests<3.0.0,>=2.13.0 in /Users/Shirley/opt/anaconda3/envs/env3/lib/python3.7/site-packages (from spacy==2.3.5) (2.24.0)\n",
      "Requirement already satisfied: importlib-metadata>=0.20; python_version < \"3.8\" in /Users/Shirley/opt/anaconda3/envs/env3/lib/python3.7/site-packages (from catalogue<1.1.0,>=0.0.7->spacy==2.3.5) (1.7.0)\n",
      "Requirement already satisfied: chardet<4,>=3.0.2 in /Users/Shirley/opt/anaconda3/envs/env3/lib/python3.7/site-packages (from requests<3.0.0,>=2.13.0->spacy==2.3.5) (3.0.4)\n",
      "Requirement already satisfied: certifi>=2017.4.17 in /Users/Shirley/opt/anaconda3/envs/env3/lib/python3.7/site-packages (from requests<3.0.0,>=2.13.0->spacy==2.3.5) (2020.6.20)\n",
      "Requirement already satisfied: idna<3,>=2.5 in /Users/Shirley/opt/anaconda3/envs/env3/lib/python3.7/site-packages (from requests<3.0.0,>=2.13.0->spacy==2.3.5) (2.10)\n",
      "Requirement already satisfied: urllib3!=1.25.0,!=1.25.1,<1.26,>=1.21.1 in /Users/Shirley/opt/anaconda3/envs/env3/lib/python3.7/site-packages (from requests<3.0.0,>=2.13.0->spacy==2.3.5) (1.24.3)\n",
      "Requirement already satisfied: zipp>=0.5 in /Users/Shirley/opt/anaconda3/envs/env3/lib/python3.7/site-packages (from importlib-metadata>=0.20; python_version < \"3.8\"->catalogue<1.1.0,>=0.0.7->spacy==2.3.5) (3.1.0)\n",
      "Installing collected packages: cymem, catalogue, wasabi, murmurhash, plac, srsly, preshed, blis, thinc, spacy\n",
      "Successfully installed blis-0.7.4 catalogue-1.0.0 cymem-2.0.5 murmurhash-1.0.5 plac-1.1.3 preshed-3.0.5 spacy-2.3.5 srsly-1.0.5 thinc-7.4.5 wasabi-0.8.2\n",
      "Collecting nl_core_news_sm==2.3.0\n",
      "  Downloading https://github.com/explosion/spacy-models/releases/download/nl_core_news_sm-2.3.0/nl_core_news_sm-2.3.0.tar.gz (15.1 MB)\n",
      "\u001b[K     |████████████████████████████████| 15.1 MB 5.9 MB/s eta 0:00:01\n",
      "\u001b[?25hRequirement already satisfied: spacy<2.4.0,>=2.3.0 in /Users/Shirley/opt/anaconda3/envs/env3/lib/python3.7/site-packages (from nl_core_news_sm==2.3.0) (2.3.5)\n",
      "Requirement already satisfied: plac<1.2.0,>=0.9.6 in /Users/Shirley/opt/anaconda3/envs/env3/lib/python3.7/site-packages (from spacy<2.4.0,>=2.3.0->nl_core_news_sm==2.3.0) (1.1.3)\n",
      "Requirement already satisfied: thinc<7.5.0,>=7.4.1 in /Users/Shirley/opt/anaconda3/envs/env3/lib/python3.7/site-packages (from spacy<2.4.0,>=2.3.0->nl_core_news_sm==2.3.0) (7.4.5)\n",
      "Requirement already satisfied: cymem<2.1.0,>=2.0.2 in /Users/Shirley/opt/anaconda3/envs/env3/lib/python3.7/site-packages (from spacy<2.4.0,>=2.3.0->nl_core_news_sm==2.3.0) (2.0.5)\n",
      "Requirement already satisfied: numpy>=1.15.0 in /Users/Shirley/opt/anaconda3/envs/env3/lib/python3.7/site-packages (from spacy<2.4.0,>=2.3.0->nl_core_news_sm==2.3.0) (1.19.1)\n",
      "Requirement already satisfied: blis<0.8.0,>=0.4.0 in /Users/Shirley/opt/anaconda3/envs/env3/lib/python3.7/site-packages (from spacy<2.4.0,>=2.3.0->nl_core_news_sm==2.3.0) (0.7.4)\n",
      "Requirement already satisfied: wasabi<1.1.0,>=0.4.0 in /Users/Shirley/opt/anaconda3/envs/env3/lib/python3.7/site-packages (from spacy<2.4.0,>=2.3.0->nl_core_news_sm==2.3.0) (0.8.2)\n",
      "Requirement already satisfied: catalogue<1.1.0,>=0.0.7 in /Users/Shirley/opt/anaconda3/envs/env3/lib/python3.7/site-packages (from spacy<2.4.0,>=2.3.0->nl_core_news_sm==2.3.0) (1.0.0)\n",
      "Requirement already satisfied: tqdm<5.0.0,>=4.38.0 in /Users/Shirley/opt/anaconda3/envs/env3/lib/python3.7/site-packages (from spacy<2.4.0,>=2.3.0->nl_core_news_sm==2.3.0) (4.48.2)\n",
      "Requirement already satisfied: setuptools in /Users/Shirley/opt/anaconda3/envs/env3/lib/python3.7/site-packages (from spacy<2.4.0,>=2.3.0->nl_core_news_sm==2.3.0) (49.6.0.post20200814)\n",
      "Requirement already satisfied: murmurhash<1.1.0,>=0.28.0 in /Users/Shirley/opt/anaconda3/envs/env3/lib/python3.7/site-packages (from spacy<2.4.0,>=2.3.0->nl_core_news_sm==2.3.0) (1.0.5)\n",
      "Requirement already satisfied: requests<3.0.0,>=2.13.0 in /Users/Shirley/opt/anaconda3/envs/env3/lib/python3.7/site-packages (from spacy<2.4.0,>=2.3.0->nl_core_news_sm==2.3.0) (2.24.0)\n",
      "Requirement already satisfied: preshed<3.1.0,>=3.0.2 in /Users/Shirley/opt/anaconda3/envs/env3/lib/python3.7/site-packages (from spacy<2.4.0,>=2.3.0->nl_core_news_sm==2.3.0) (3.0.5)\n",
      "Requirement already satisfied: srsly<1.1.0,>=1.0.2 in /Users/Shirley/opt/anaconda3/envs/env3/lib/python3.7/site-packages (from spacy<2.4.0,>=2.3.0->nl_core_news_sm==2.3.0) (1.0.5)\n",
      "Requirement already satisfied: importlib-metadata>=0.20; python_version < \"3.8\" in /Users/Shirley/opt/anaconda3/envs/env3/lib/python3.7/site-packages (from catalogue<1.1.0,>=0.0.7->spacy<2.4.0,>=2.3.0->nl_core_news_sm==2.3.0) (1.7.0)\n",
      "Requirement already satisfied: idna<3,>=2.5 in /Users/Shirley/opt/anaconda3/envs/env3/lib/python3.7/site-packages (from requests<3.0.0,>=2.13.0->spacy<2.4.0,>=2.3.0->nl_core_news_sm==2.3.0) (2.10)\n",
      "Requirement already satisfied: certifi>=2017.4.17 in /Users/Shirley/opt/anaconda3/envs/env3/lib/python3.7/site-packages (from requests<3.0.0,>=2.13.0->spacy<2.4.0,>=2.3.0->nl_core_news_sm==2.3.0) (2020.6.20)\n",
      "Requirement already satisfied: urllib3!=1.25.0,!=1.25.1,<1.26,>=1.21.1 in /Users/Shirley/opt/anaconda3/envs/env3/lib/python3.7/site-packages (from requests<3.0.0,>=2.13.0->spacy<2.4.0,>=2.3.0->nl_core_news_sm==2.3.0) (1.24.3)\n",
      "Requirement already satisfied: chardet<4,>=3.0.2 in /Users/Shirley/opt/anaconda3/envs/env3/lib/python3.7/site-packages (from requests<3.0.0,>=2.13.0->spacy<2.4.0,>=2.3.0->nl_core_news_sm==2.3.0) (3.0.4)\n",
      "Requirement already satisfied: zipp>=0.5 in /Users/Shirley/opt/anaconda3/envs/env3/lib/python3.7/site-packages (from importlib-metadata>=0.20; python_version < \"3.8\"->catalogue<1.1.0,>=0.0.7->spacy<2.4.0,>=2.3.0->nl_core_news_sm==2.3.0) (3.1.0)\n",
      "Building wheels for collected packages: nl-core-news-sm\n",
      "  Building wheel for nl-core-news-sm (setup.py) ... \u001b[?25ldone\n",
      "\u001b[?25h  Created wheel for nl-core-news-sm: filename=nl_core_news_sm-2.3.0-py3-none-any.whl size=15073759 sha256=e0fd15b92d8901994916ce34b45c76576c1287dd4e57e3e14f86ada41effb48e\n",
      "  Stored in directory: /private/var/folders/dg/0150ty8932lcpszjw5qqrb9r0000gn/T/pip-ephem-wheel-cache-d_u8ecmo/wheels/12/3b/3c/9da5b39ba88c3a107db655ea6c60237b547f3138917c918321\n",
      "Successfully built nl-core-news-sm\n",
      "Installing collected packages: nl-core-news-sm\n",
      "Successfully installed nl-core-news-sm-2.3.0\n",
      "\u001b[38;5;2m✔ Download and installation successful\u001b[0m\n",
      "You can now load the model via spacy.load('nl_core_news_sm')\n"
     ]
    }
   ],
   "source": [
    "# For installation\n",
    "# recommend local runtime, because Google colab is not really compatiable with spacy...\n",
    "\n",
    "!pip install spacy==2.3.5\n",
    "!python -m spacy download nl_core_news_sm"
   ]
  },
  {
   "cell_type": "markdown",
   "metadata": {
    "id": "BSBxPtRW6B0p"
   },
   "source": [
    "Both spacy and NLTK support Dutch text data. \n",
    "In spacy, several [Dutch models](https://spacy.io/models/nl) provide similar functions but are of different sizes. \n",
    "With larger model you'll get higher accuracy, \n",
    "but the time and space complexities also increase. \n",
    "You can decide which model to use. "
   ]
  },
  {
   "cell_type": "code",
   "execution_count": null,
   "metadata": {
    "colab": {
     "base_uri": "https://localhost:8080/"
    },
    "id": "fDUntoC12t6j",
    "outputId": "f38c2cab-5380-47fc-e8e9-41be8f0d3523"
   },
   "outputs": [
    {
     "name": "stdout",
     "output_type": "stream",
     "text": [
      "Apple overweegt om voor 1 miljard een U.K. startup te kopen\n",
      "Apple\n",
      "False False False False\n",
      "overweegt\n",
      "False False False False\n",
      "om\n",
      "True False False False\n",
      "voor\n",
      "True False False False\n",
      "1\n",
      "False False False True\n",
      "miljard\n",
      "False False False False\n",
      "een\n",
      "True False False False\n",
      "U.K.\n",
      "False False False False\n",
      "startup\n",
      "False False False False\n",
      "te\n",
      "True False False False\n",
      "kopen\n",
      "False False False False\n"
     ]
    }
   ],
   "source": [
    "import spacy\n",
    "from spacy.lang.nl.examples import sentences \n",
    "\n",
    "nlp = spacy.load(\"nl_core_news_sm\")\n",
    "\n",
    "doc = nlp(sentences[0])\n",
    "print(doc.text)\n",
    "for token in doc:\n",
    "    print(token.text) \n",
    "    print(token.is_stop, token.is_space, token.is_punct, token.is_digit)"
   ]
  },
  {
   "cell_type": "markdown",
   "metadata": {},
   "source": [
    "## 2. Topic modelling and clustering\n",
    "\n",
    "The text data representation (vectorization) shall be consistent with the selection of algorithms. For clustering and topic modeling, \n",
    "you can use \n",
    "[scikit-learn](https://scikit-learn.org/stable/) or [gensim](https://radimrehurek.com/gensim/auto_examples/index.html#documentation) .\n",
    "\n",
    "Several links could be useful:\n",
    "- [Text_feature_engineering](https://scikit-learn.org/stable/modules/classes.html#module-sklearn.feature_extraction.text)\n",
    "- [LDA](http://scikit-learn.org/stable/modules/generated/sklearn.decomposition.LatentDirichletAllocation.html)\n",
    "- [LDA](https://radimrehurek.com/gensim/auto_examples/tutorials/run_lda.html#sphx-glr-auto-examples-tutorials-run-lda-py)\n",
    "- [K Means](http://scikit-learn.org/stable/modules/generated/sklearn.cluster.KMeans.html)\n"
   ]
  }
 ],
 "metadata": {
  "accelerator": "GPU",
  "colab": {
   "collapsed_sections": [],
   "name": "assignment3_tutorial.ipynb",
   "provenance": []
  },
  "kernelspec": {
   "display_name": "Python 3 (ipykernel)",
   "language": "python",
   "name": "python3"
  },
  "language_info": {
   "codemirror_mode": {
    "name": "ipython",
    "version": 3
   },
   "file_extension": ".py",
   "mimetype": "text/x-python",
   "name": "python",
   "nbconvert_exporter": "python",
   "pygments_lexer": "ipython3",
   "version": "3.7.13"
  }
 },
 "nbformat": 4,
 "nbformat_minor": 1
}
