{
 "cells": [
  {
   "cell_type": "markdown",
   "metadata": {},
   "source": [
    "# Assignment 4 – Robot in a maze"
   ]
  },
  {
   "cell_type": "markdown",
   "metadata": {},
   "source": [
    "In the  fourth assignment, you will delve into the application of RL algorithms to address the real-world challenge of navigating a robot through a maze dubbed 'robot in a maze'. The primary objectives of this assignment include:\n",
    "\n",
    " -   Formalizing a practical problem into a Markov Decision Process (MDP).\n",
    " -   Gaining familiarity with the OpenAI Gym framework (recently renamed as Gymnasium) and utilizing it to implement RL agents.\n",
    " -   Applying SARSA and Q-learning algorithms to solve the 'robot in a maze' MDP problem.\n",
    " -   Evaluating the outcomes of the reinforcement learning process and interpreting your findings.\n",
    " -   Reflecting on the distinctions between the two types of RL algorithms employed.\n",
    "\n",
    "By accomplishing these objectives, you will not only enhance your understanding of RL algorithms but also develop practical skills in formulating and solving complex problems in the context of autonomous navigation within a maze.\n",
    "\n",
    "In this assignment, you will be developing a robot to navigate its way through a maze. The project is divided into three parts (5 subtasks).\n",
    "\n",
    "  1. In the first part, you will familiarize yourself with the OpenAI Gym/Gymnasium framework.\n",
    "  2. In the second part, we have implemented the environment for you based on the Gym/Gymnasium framework. Your tasks include:  \n",
    "     2.1. formalizing the problem as an MDP model,    \n",
    "     2.2. implementing your own RL agents, and      \n",
    "     2.3. training them to find the shortest route out of a maze.\n",
    "  3. Finally, in the third part, you will evaluate and interpret the results obtained from the implemented RL agents\n"
   ]
  },
  {
   "cell_type": "markdown",
   "metadata": {},
   "source": [
    "## 1. OpenAI gym\n",
    "\n",
    "Gym/Gymnasium (https://gymnasium.farama.org/) is a widely used standard toolkit for developing and comparing reinforcement learning algorithms. Gymnasium is the maintained fork of OpenAI’s Gym library (more on this recent change is available if you're interested: https://farama.org/Announcing-The-Farama-Foundation).\n",
    "\n",
    "Gym/Gymnasium makes no assumptions about the structure of your agent and is compatible with any machine learning library, such as TensorFlow or Theano.\n",
    "\n",
    "The library is a collection of test problems — environments — that you can use to develop your reinforcement learning algorithms. These environments have a shared interface, allowing you to write general algorithms.\n",
    "\n",
    "First, we download and install the Gym/Gymnasium library. Then, import the Gymnasium class."
   ]
  },
  {
   "cell_type": "code",
   "execution_count": 1,
   "metadata": {},
   "outputs": [],
   "source": [
    "# !pip install gymnasium\n"
   ]
  },
  {
   "cell_type": "markdown",
   "metadata": {},
   "source": [
    "We are now going to explain how the RL framework of gym works. \n",
    "- An **ENVIRONMENT**, \n",
    "- You also have an **AGENT**,\n",
    "- In MDP problems, such as ours, the **ENVIRONMENT** provides an **OBSERVATION**, which represents the state of the **ENVIRONMENT** at the current moment.\n",
    "- The agent takes an **ACTION** based on its **OBSERVATION**,\n",
    "<!-- When a single **ACTION** is chosen and fed to our **ENVIRONMENT**, the **ENVIRONMENT** measures how good the action was taken and produces a **REWARD**, which is usually a numeric value. -->\n",
    "- When the agent takes an ACTION, the ENVIRONMENT assesses the effectiveness of the action and generates a REWARD, which is usually a numeric value.\n",
    "\n",
    "Please read the 'Basic usage' https://gymnasium.farama.org/content/basic_usage/ for better understanding the framework.  And do not forget import gymnasium before running other codes."
   ]
  },
  {
   "cell_type": "code",
   "execution_count": 2,
   "metadata": {},
   "outputs": [],
   "source": [
    "import gymnasium as gym\n",
    "from matplotlib import pyplot as plt"
   ]
  },
  {
   "cell_type": "markdown",
   "metadata": {},
   "source": [
    " ## 2. Tasks\n",
    "\n",
    "Next, you will tackle a practical Markov Decision Process (MDP) problem, the 'robot in a maze,' based on the gym framework. Your task involves implementing an RL agent and training it to discover the shortest route to achieve the maze goal. In this MDP, the environment is represented as a grid world (a maze), with the agent being a robot. At each time step, the robot begins at a random location and can move within the grid world. The overarching objective is to find the way out, reaching the final location. Consequently, you will need to identify a fixed goal position within the maze."
   ]
  },
  {
   "cell_type": "markdown",
   "metadata": {},
   "source": [
    "### 2.1 Model the practical task into a MDP\n",
    "\n",
    "To solve a RL problem, we start with formalizing the problem into a MDP model. Please describe this MDP model in your report. \n",
    "\n",
    "Notice: No empricial data provided in this assignment, so the point of 'data description and exploration' will be given to this step. \n",
    "\n",
    "While exploring your MDP model, you shall think about questions such as:\n",
    "- What is the environment? How does it look like?\n",
    "- What simulated data can your RL agent observe from the environment? How does it look like?\n",
    "- Which data is considered as the state? Which data is considered as the reward?"
   ]
  },
  {
   "cell_type": "markdown",
   "metadata": {},
   "source": [
    "#### Set up the environment\n",
    "\n",
    "There is no need to implement your own environment; you should use the environment provided in the file **environment.py**. However, please ensure to take a look at it so that you understand the inner workings of this environment.\n",
    "\n",
    "The core gym interface is **Env**, which serves as the unified environment interface. The following are the Env methods you should be familiar with:\n",
    "\n",
    "- reset(self): Reset the environment's state and return the observation.\n",
    "- step(self, action): Advance the environment by one timestep and return the observation, reward, done, and info.\n",
    "- render(self, mode='rgb_array'): Render one frame of the environment. The default mode will produce something human-friendly, such as pop up a window. However, in this assignment, there is no need to create a pop-up window.\n",
    "\n",
    "Please note that you need to install the [mazelab](https://github.com/yupei-du/mazelab.git) package, from **Yupei Du's** repository, to run the environment (a file with required packages is also provided). If you run the cell below for the first time, make sure to restart the IPython notebook at least once.\n"
   ]
  },
  {
   "cell_type": "code",
   "execution_count": 3,
   "metadata": {},
   "outputs": [],
   "source": [
    "# !git clone https://github.com/yupei-du/mazelab.git\n",
    "# !pip3 install -e ../mazelab\n",
    "# !pip3 install pandas\n",
    "# !pip3 install seaborn"
   ]
  },
  {
   "cell_type": "markdown",
   "metadata": {},
   "source": [
    "You can now check whether the required packages (e.g. mazela, pandas, tqdm, seaborn) are installed. Please install the ones are missing. \n",
    "\n",
    "ATTENTION: To run the given code, please use the python version 3.7-3.9, and the numpy version < 1.23"
   ]
  },
  {
   "cell_type": "code",
   "execution_count": 4,
   "metadata": {},
   "outputs": [],
   "source": [
    "# conda list"
   ]
  },
  {
   "cell_type": "markdown",
   "metadata": {},
   "source": [
    "We also provide a few helper functions to make it easier to debug your agents. \n",
    " - `animate_run` will enable you to see the agent's behavior. It takes a list of images which can be produced by the `env.render` function of the environment\n",
    " - `visualize_agent_brain` will provide you with a way to visualize the agents learned q_table. Use it after you have implemented and trained your agents. The first plot will show the highest q-value per state (position on the map) and the second will tell you which action the agent would choose at that state/position. It takes the environment and the agent as input.\n",
    "\n",
    "Below you will find a basic example of how the animation function works. Please notice that: whenever you **reset()** the environment, the agent will start at a random position (a different state). "
   ]
  },
  {
   "cell_type": "markdown",
   "metadata": {},
   "source": [
    "### 2.2  Implement the agents \n",
    "\n",
    "In this part, you are expected to implement two RL agents. \n",
    "\n",
    "- Agent 1 uses the Q-learning algorithm to learn the optimal solution\n",
    "- Agent 2 uses the SARSA algorithm to learn the optimal solution. To decide the action to take at each time step,  this agent uses the epsilon greedy action selection.\n",
    "\n",
    "Here, we have also provided an example agent: the Random Agent.  It follows a random policy to move at each step (randomly selecting an action). You can use this example agent as a baseline to evaluate your agents.\n"
   ]
  },
  {
   "cell_type": "code",
   "execution_count": 5,
   "metadata": {},
   "outputs": [],
   "source": [
    "import sys\n",
    "sys.path.append(\"../\")\n"
   ]
  },
  {
   "cell_type": "code",
   "execution_count": 6,
   "metadata": {},
   "outputs": [],
   "source": [
    "from others.environment import TaskEnv\n",
    "from typing import Tuple, List\n",
    "import numpy as np\n",
    "import random\n",
    "from mazelab import VonNeumannMotion\n",
    "from icecream import ic\n",
    "from tqdm import tqdm\n",
    "import seaborn as sns\n",
    "from IPython import display"
   ]
  },
  {
   "cell_type": "code",
   "execution_count": 7,
   "metadata": {},
   "outputs": [],
   "source": [
    "def animate_run(data:List[np.ndarray]):\n",
    "    init_img = data[0]\n",
    "    remaining_img = data[1:]\n",
    "    img_container = plt.imshow(init_img)  # only call this once\n",
    "    for img in remaining_img:\n",
    "        img_container.set_data(img)  # just update the data\n",
    "        display.display(plt.gcf())\n",
    "        display.clear_output(wait=True)\n",
    "\n",
    "\n",
    "def visualize_agent_brain(agent, env: TaskEnv):\n",
    "    fig, (ax1, ax2) = plt.subplots(1, 2, figsize=(10, 4))\n",
    "    ax1.set_title(\"Highest state value at position (x,y)\")\n",
    "    state_value_map = agent.q_table.max(axis=2)\n",
    "    sns.heatmap(state_value_map, ax=ax1)\n",
    "\n",
    "    ax2.set_title(\"Chosen action at position (x,y)\")\n",
    "    n = env.action_space.n + 1\n",
    "    path = env.maze.objects.free.positions\n",
    "    decisions_map = np.array([[x_, y_, agent.select_action([x_, y_],  use_greedy_strategy = True) + 1] for x_, y_ in path])\n",
    "    state_action_map = np.zeros_like(agent.q_table.max(axis=2))\n",
    "    state_action_map[decisions_map[:, 0], decisions_map[:, 1]] = decisions_map[:, 2]\n",
    "    cmap = sns.color_palette(\"tab10\", n)\n",
    "    sns.heatmap(state_action_map, cmap=cmap, ax=ax2)\n",
    "    colorbar = ax2.collections[0].colorbar\n",
    "    r = (colorbar.vmax) - colorbar.vmin\n",
    "    colorbar.set_ticks([colorbar.vmin + r / n * (0.5 + i) for i in range(n)])\n",
    "    colorbar.set_ticklabels(['N/A', 'north', 'south', 'west', 'east'])\n",
    "    fig.tight_layout()\n",
    "    return plt.show()"
   ]
  },
  {
   "cell_type": "code",
   "execution_count": 8,
   "metadata": {},
   "outputs": [],
   "source": [
    "directions_dic = {\n",
    "    0:'north',\n",
    "    1:'south',\n",
    "    2:'west',\n",
    "    3:'east'\n",
    "}"
   ]
  },
  {
   "cell_type": "code",
   "execution_count": 9,
   "metadata": {},
   "outputs": [],
   "source": [
    "# Random agent\n",
    "class RandomAgent():\n",
    "    def __init__(self,\n",
    "                 env: TaskEnv,\n",
    "                 exploration_rate: float = None,\n",
    "                 learning_rate: float = None,\n",
    "                 discount_factor: float = None) -> int:\n",
    "        self.epsilon = 1  # A random agent \"explores\" always, so epsilon will be 1\n",
    "        self.alpha = 0  # A random agent never learns, so there's no need for a learning rate\n",
    "        self.gamma = 0  # A random agent does not update it's q-table. Hence, it's zero.\n",
    "        self.q_table = np.zeros(env.observation_space.shape + (env.action_space.n, ), dtype=float)\n",
    "        self.actions = env.action_space\n",
    "\n",
    "    def select_action(self, state: Tuple[int, int], use_greedy_strategy: bool = False) -> int:\n",
    "        if not use_greedy_strategy:\n",
    "            if random.random() < self.epsilon:\n",
    "                next_action = self.actions.sample()\n",
    "                return next_action\n",
    "\n",
    "        x, y = state\n",
    "        max_val = np.max(self.q_table[x, y, :])\n",
    "        find_max_val = np.where(self.q_table[x, y, :] == max_val)\n",
    "        next_action = np.random.choice(find_max_val[0])\n",
    "        return next_action\n",
    "\n",
    "    def learn(self, state, action, next_state, reward, done):\n",
    "        return None\n",
    "\n",
    "\n",
    "    def solve(self, env: TaskEnv = None, starting_position : Tuple[int, int] = None):\n",
    "        current_state = env.reset()\n",
    "        if starting_position: \n",
    "            assert (starting_position in env.maze.objects.free.positions)\n",
    "            env.maze.objects.agent.positions[0] = starting_position\n",
    "            current_state = starting_position\n",
    "        positions = []\n",
    "        frames = []\n",
    "        score = 0\n",
    "        while(True):\n",
    "            positions.append(current_state)\n",
    "            frames.append(env.render())\n",
    "            action = self.select_action(state=current_state, use_greedy_strategy=True)\n",
    "            next_state, reward, terminated, _ = env.step(action)\n",
    "            score += reward\n",
    "            current_state = next_state\n",
    "            if terminated:\n",
    "                return positions, frames, score\n",
    "            \n",
    "    def score(self, env: TaskEnv = None, starting_position: tuple[int, int] = None):\n",
    "        current_state = env.reset()\n",
    "        if starting_position: \n",
    "            assert (starting_position in env.maze.objects.free.positions)\n",
    "            env.maze.objects.agent.positions[0] = starting_position\n",
    "            current_state = starting_position\n",
    "        score = 0\n",
    "        while(True):\n",
    "            action = self.select_action(state=current_state, use_greedy_strategy=True)\n",
    "            next_state, reward, terminated, _ = env.step(action)\n",
    "            score += reward\n",
    "            current_state = next_state\n",
    "            if terminated:\n",
    "                return score"
   ]
  },
  {
   "cell_type": "code",
   "execution_count": 10,
   "metadata": {},
   "outputs": [],
   "source": [
    "# Random agent\n",
    "class SARSAAgent():\n",
    "    def __init__(self,\n",
    "                 env: TaskEnv,\n",
    "                 exploration_rate: float = 0.1,\n",
    "                 learning_rate: float = 0.1,\n",
    "                 discount_factor: float = 0.9) -> int:\n",
    "        self.epsilon = exploration_rate  \n",
    "        self.alpha = learning_rate \n",
    "        self.gamma = discount_factor\n",
    "        self.q_table = np.zeros(env.observation_space.shape + (env.action_space.n, ), dtype=float)\n",
    "        self.actions = env.action_space\n",
    "\n",
    "    def select_action(self, state: Tuple[int, int], use_greedy_strategy: bool = False) -> int:\n",
    "        if not use_greedy_strategy:\n",
    "            if random.random() < self.epsilon:\n",
    "                next_action = self.actions.sample()\n",
    "                return next_action\n",
    "        x, y = state\n",
    "        max_val = np.max(self.q_table[x, y, :])\n",
    "        find_max_val = np.where(self.q_table[x, y, :] == max_val)\n",
    "        next_action = np.random.choice(find_max_val[0])\n",
    "        return next_action\n",
    "\n",
    "    def learn(self, state, action, next_state, reward, done):\n",
    "        self.q_table[tuple(state)][action] +=  self.alpha * (\\\n",
    "                                    reward + \n",
    "                                    (self.gamma * self.q_table[tuple(next_state)][self.select_action(next_state)])\n",
    "                                    -  self.q_table[tuple(state)][action]\n",
    "                                    )\n",
    "    def train(self, episodes = 10000, env:TaskEnv = None):\n",
    "        for _ in tqdm(range(episodes)):\n",
    "            current_state = env.reset()\n",
    "            while True:\n",
    "                action = self.select_action(state=current_state)  # agent policy that uses the observation and info\n",
    "                next_state, reward, terminated, _ = env.step(action)\n",
    "                self.learn(current_state, action, next_state, reward, None)\n",
    "                current_state = next_state\n",
    "                if terminated:\n",
    "                    break\n",
    "\n",
    "    def solve(self, env: TaskEnv = None, starting_position : Tuple[int, int] = None):\n",
    "        current_state = env.reset()\n",
    "        if starting_position: \n",
    "            assert (starting_position in env.maze.objects.free.positions)\n",
    "            env.maze.objects.agent.positions[0] = starting_position\n",
    "            current_state = starting_position\n",
    "        positions = []\n",
    "        frames = []\n",
    "        score = 0\n",
    "        while(True):\n",
    "            positions.append(current_state)\n",
    "            frames.append(env.render())\n",
    "            action = self.select_action(state=current_state, use_greedy_strategy=True)\n",
    "            next_state, reward, terminated, _ = env.step(action)\n",
    "            score += reward\n",
    "            current_state = next_state\n",
    "            if terminated:\n",
    "                return positions, frames, score\n",
    "    def score(self, env: TaskEnv = None, starting_position: tuple[int, int] = None):\n",
    "        current_state = env.reset()\n",
    "        if starting_position: \n",
    "            assert (starting_position in env.maze.objects.free.positions)\n",
    "            env.maze.objects.agent.positions[0] = starting_position\n",
    "            current_state = starting_position\n",
    "        score = 0\n",
    "        while(True):\n",
    "            action = self.select_action(state=current_state, use_greedy_strategy=True)\n",
    "            next_state, reward, terminated, _ = env.step(action)\n",
    "            score += reward\n",
    "            current_state = next_state\n",
    "            if terminated:\n",
    "                return score\n"
   ]
  },
  {
   "cell_type": "code",
   "execution_count": 11,
   "metadata": {},
   "outputs": [],
   "source": [
    "# Random agent\n",
    "class QLearningAgent():\n",
    "    def __init__(self,\n",
    "                 env: TaskEnv,\n",
    "                 exploration_rate: float = 0.1,\n",
    "                 learning_rate: float = 0.1,\n",
    "                 discount_factor: float = 0.9) -> int:\n",
    "        self.epsilon = exploration_rate  \n",
    "        self.alpha = learning_rate \n",
    "        self.gamma = discount_factor\n",
    "        self.q_table = np.zeros(env.observation_space.shape + (env.action_space.n, ), dtype=float)\n",
    "        self.actions = env.action_space\n",
    "\n",
    "    def select_action(self, state: Tuple[int, int], use_greedy_strategy: bool = False) -> int:\n",
    "        if not use_greedy_strategy:\n",
    "            if random.random() < self.epsilon:\n",
    "                next_action = self.actions.sample()\n",
    "                # print(\"\\t I chose a random action\")\n",
    "                return next_action\n",
    "        x, y = state\n",
    "        max_val = np.max(self.q_table[x, y, :])\n",
    "        find_max_val = np.where(self.q_table[x, y, :] == max_val)\n",
    "        next_action = np.random.choice(find_max_val[0])\n",
    "        # print(\"\\t I chose a greedy action\")\n",
    "        return next_action\n",
    "\n",
    "    def learn(self, state, action, next_state, reward, done):\n",
    "        self.q_table[tuple(state)][action] +=  self.alpha * (\\\n",
    "                                    reward + \n",
    "                                    (self.gamma * self.q_table[tuple(next_state)][self.select_action(next_state, use_greedy_strategy=True)])\n",
    "                                    -  self.q_table[tuple(state)][action]\n",
    "                                    )\n",
    "    def train(self, episodes = 10000, env:TaskEnv = None, disableTQDM = True):\n",
    "        for _ in tqdm(range(episodes), disable = disableTQDM):\n",
    "            current_state = env.reset()\n",
    "            while True:\n",
    "                action = self.select_action(state=current_state)  # agent policy that uses the observation and info\n",
    "                next_state, reward, terminated, _ = env.step(action)\n",
    "                self.learn(current_state, action, next_state, reward, None)\n",
    "                current_state = next_state\n",
    "                if terminated:\n",
    "                    break\n",
    "\n",
    "    def solve(self, env: TaskEnv = None, starting_position : Tuple[int, int] = None):\n",
    "        current_state = env.reset()\n",
    "        if starting_position: \n",
    "            assert (starting_position in env.maze.objects.free.positions)\n",
    "            env.maze.objects.agent.positions[0] = starting_position\n",
    "            current_state = starting_position\n",
    "        positions = []\n",
    "        frames = []\n",
    "        score = 0\n",
    "        while(True):\n",
    "            positions.append(current_state)\n",
    "            frames.append(env.render())\n",
    "            action = self.select_action(state=current_state, use_greedy_strategy=True)\n",
    "            next_state, reward, terminated, _ = env.step(action)\n",
    "            score += reward\n",
    "            current_state = next_state\n",
    "            if terminated:\n",
    "                return positions, frames, score\n",
    "    def score(self, env: TaskEnv = None, starting_position: tuple[int, int] = None):\n",
    "        current_state = env.reset()\n",
    "        if starting_position: \n",
    "            assert (starting_position in env.maze.objects.free.positions)\n",
    "            env.maze.objects.agent.positions[0] = starting_position\n",
    "            current_state = starting_position\n",
    "        score = 0\n",
    "        while(True):\n",
    "            action = self.select_action(state=current_state, use_greedy_strategy=True)\n",
    "            next_state, reward, terminated, _ = env.step(action)\n",
    "            score += reward\n",
    "            current_state = next_state\n",
    "            if terminated:\n",
    "                return score\n"
   ]
  },
  {
   "cell_type": "code",
   "execution_count": 12,
   "metadata": {},
   "outputs": [],
   "source": [
    "def printMaze(env : TaskEnv = None, starting_position : Tuple[int, int] = None):\n",
    "    if starting_position: \n",
    "        assert (starting_position in env.maze.objects.free.positions)\n",
    "        env.maze.objects.agent.positions[0] = starting_position\n",
    "    plt.imshow(env.render(), interpolation='nearest')\n",
    "    plt.show()"
   ]
  },
  {
   "cell_type": "code",
   "execution_count": 13,
   "metadata": {},
   "outputs": [
    {
     "data": {
      "text/plain": [
       "array([13,  9])"
      ]
     },
     "execution_count": 13,
     "metadata": {},
     "output_type": "execute_result"
    }
   ],
   "source": [
    "env = TaskEnv()\n",
    "env.reset()"
   ]
  },
  {
   "cell_type": "code",
   "execution_count": 14,
   "metadata": {},
   "outputs": [
    {
     "data": {
      "image/png": "[encoded data removed]",
      "text/plain": [
       "<Figure size 640x480 with 1 Axes>"
      ]
     },
     "metadata": {},
     "output_type": "display_data"
    }
   ],
   "source": [
    "printMaze(env)"
   ]
  },
  {
   "cell_type": "code",
   "execution_count": 15,
   "metadata": {},
   "outputs": [],
   "source": [
    "sagent = SARSAAgent(env)\n",
    "qagent = QLearningAgent(env)"
   ]
  },
  {
   "cell_type": "code",
   "execution_count": 16,
   "metadata": {},
   "outputs": [
    {
     "name": "stderr",
     "output_type": "stream",
     "text": [
      "  0%|          | 0/10000 [00:00<?, ?it/s]"
     ]
    },
    {
     "name": "stderr",
     "output_type": "stream",
     "text": [
      "100%|██████████| 10000/10000 [00:04<00:00, 2299.28it/s]\n",
      "100%|██████████| 10000/10000 [00:04<00:00, 2349.43it/s]\n"
     ]
    }
   ],
   "source": [
    "sagent.train(10000, env)\n",
    "qagent.train(10000, env)"
   ]
  },
  {
   "cell_type": "code",
   "execution_count": 31,
   "metadata": {},
   "outputs": [
    {
     "name": "stdout",
     "output_type": "stream",
     "text": [
      "-1.5299999999999998 -0.7099999999999997\n"
     ]
    }
   ],
   "source": [
    "sdirections, sframes , sscore = sagent.solve(env, starting_position=[1,1])\n",
    "qdirections, qframes , qscore = qagent.solve(env, starting_position=[1,1])\n",
    "print(sscore, qscore)"
   ]
  },
  {
   "cell_type": "code",
   "execution_count": 28,
   "metadata": {},
   "outputs": [
    {
     "data": {
      "image/png": "[encoded data removed]",
      "text/plain": [
       "<Figure size 640x480 with 1 Axes>"
      ]
     },
     "metadata": {},
     "output_type": "display_data"
    }
   ],
   "source": [
    "animate_run(sframes)"
   ]
  },
  {
   "cell_type": "code",
   "execution_count": 27,
   "metadata": {},
   "outputs": [
    {
     "data": {
      "image/png": "[encoded data removed]",
      "text/plain": [
       "<Figure size 640x480 with 1 Axes>"
      ]
     },
     "metadata": {},
     "output_type": "display_data"
    }
   ],
   "source": [
    "animate_run(qframes)"
   ]
  },
  {
   "cell_type": "code",
   "execution_count": 29,
   "metadata": {},
   "outputs": [
    {
     "data": {
      "image/png": "[encoded data removed]",
      "text/plain": [
       "<Figure size 1000x400 with 4 Axes>"
      ]
     },
     "metadata": {},
     "output_type": "display_data"
    },
    {
     "data": {
      "image/png": "[encoded data removed]",
      "text/plain": [
       "<Figure size 1000x400 with 4 Axes>"
      ]
     },
     "metadata": {},
     "output_type": "display_data"
    }
   ],
   "source": [
    "visualize_agent_brain(sagent, env)\n",
    "visualize_agent_brain(qagent, env)"
   ]
  },
  {
   "cell_type": "code",
   "execution_count": 21,
   "metadata": {},
   "outputs": [
    {
     "name": "stdout",
     "output_type": "stream",
     "text": [
      "-73.7\n"
     ]
    }
   ],
   "source": [
    "randomagent = RandomAgent(env)\n",
    "directions, frames , score  = randomagent.solve(env)\n",
    "print(score)"
   ]
  },
  {
   "cell_type": "code",
   "execution_count": 30,
   "metadata": {},
   "outputs": [
    {
     "data": {
      "text/plain": [
       "(-1.5299999999999998, -0.7099999999999997)"
      ]
     },
     "execution_count": 30,
     "metadata": {},
     "output_type": "execute_result"
    }
   ],
   "source": [
    "sagent.score(env, [1,1]), qagent.score(env, [1,1])"
   ]
  },
  {
   "cell_type": "markdown",
   "metadata": {},
   "source": [
    "### 2.3 Run the simulation\n",
    "\n",
    "Now, you write code for running a simulation. In each run, you shall setup the epsilon parameter. "
   ]
  },
  {
   "cell_type": "code",
   "execution_count": 37,
   "metadata": {},
   "outputs": [
    {
     "ename": "TypeError",
     "evalue": "Population must be a sequence.  For dicts or sets, use sorted(d).",
     "output_type": "error",
     "traceback": [
      "\u001b[0;31m---------------------------------------------------------------------------\u001b[0m",
      "\u001b[0;31mTypeError\u001b[0m                                 Traceback (most recent call last)",
      "Cell \u001b[0;32mIn[37], line 2\u001b[0m\n\u001b[1;32m      1\u001b[0m \u001b[38;5;66;03m# TODO: run the simulation\u001b[39;00m\n\u001b[0;32m----> 2\u001b[0m \u001b[43mrandom\u001b[49m\u001b[38;5;241;43m.\u001b[39;49m\u001b[43msample\u001b[49m\u001b[43m(\u001b[49m\u001b[43menv\u001b[49m\u001b[38;5;241;43m.\u001b[39;49m\u001b[43mmaze\u001b[49m\u001b[38;5;241;43m.\u001b[39;49m\u001b[43mobjects\u001b[49m\u001b[38;5;241;43m.\u001b[39;49m\u001b[43mfree\u001b[49m\u001b[38;5;241;43m.\u001b[39;49m\u001b[43mpositions\u001b[49m\u001b[43m,\u001b[49m\u001b[43m \u001b[49m\u001b[43mk\u001b[49m\u001b[38;5;241;43m=\u001b[39;49m\u001b[38;5;241;43m2\u001b[39;49m\u001b[43m)\u001b[49m\n",
      "File \u001b[0;32m/opt/homebrew/Cellar/python@3.11/3.11.6_1/Frameworks/Python.framework/Versions/3.11/lib/python3.11/random.py:439\u001b[0m, in \u001b[0;36mRandom.sample\u001b[0;34m(self, population, k, counts)\u001b[0m\n\u001b[1;32m    415\u001b[0m \u001b[38;5;66;03m# Sampling without replacement entails tracking either potential\u001b[39;00m\n\u001b[1;32m    416\u001b[0m \u001b[38;5;66;03m# selections (the pool) in a list or previous selections in a set.\u001b[39;00m\n\u001b[1;32m    417\u001b[0m \n\u001b[0;32m   (...)\u001b[0m\n\u001b[1;32m    435\u001b[0m \u001b[38;5;66;03m# too many calls to _randbelow(), making them slower and\u001b[39;00m\n\u001b[1;32m    436\u001b[0m \u001b[38;5;66;03m# causing them to eat more entropy than necessary.\u001b[39;00m\n\u001b[1;32m    438\u001b[0m \u001b[38;5;28;01mif\u001b[39;00m \u001b[38;5;129;01mnot\u001b[39;00m \u001b[38;5;28misinstance\u001b[39m(population, _Sequence):\n\u001b[0;32m--> 439\u001b[0m     \u001b[38;5;28;01mraise\u001b[39;00m \u001b[38;5;167;01mTypeError\u001b[39;00m(\u001b[38;5;124m\"\u001b[39m\u001b[38;5;124mPopulation must be a sequence.  \u001b[39m\u001b[38;5;124m\"\u001b[39m\n\u001b[1;32m    440\u001b[0m                     \u001b[38;5;124m\"\u001b[39m\u001b[38;5;124mFor dicts or sets, use sorted(d).\u001b[39m\u001b[38;5;124m\"\u001b[39m)\n\u001b[1;32m    441\u001b[0m n \u001b[38;5;241m=\u001b[39m \u001b[38;5;28mlen\u001b[39m(population)\n\u001b[1;32m    442\u001b[0m \u001b[38;5;28;01mif\u001b[39;00m counts \u001b[38;5;129;01mis\u001b[39;00m \u001b[38;5;129;01mnot\u001b[39;00m \u001b[38;5;28;01mNone\u001b[39;00m:\n",
      "\u001b[0;31mTypeError\u001b[0m: Population must be a sequence.  For dicts or sets, use sorted(d)."
     ]
    }
   ],
   "source": [
    "# TODO: run the simulation"
   ]
  },
  {
   "cell_type": "code",
   "execution_count": 51,
   "metadata": {},
   "outputs": [
    {
     "data": {
      "text/plain": [
       "[[1, 4], [1, 3], [12, 3], [9, 13], [9, 5], [13, 3]]"
      ]
     },
     "execution_count": 51,
     "metadata": {},
     "output_type": "execute_result"
    }
   ],
   "source": [
    "def get_starting_positions(env: TaskEnv = None, k: int = 5):\n",
    "        gx, gy = env.goal_idx[0]\n",
    "        dist = 1\n",
    "        res = []\n",
    "        while len(res) <= k:\n",
    "            start_tmp = random.sample(list(env.maze.objects.free.positions), 1)[0]\n",
    "            left_boundary, right_boundary = gx - dist, gx + dist\n",
    "            upper_boundary, lower_boundary = gy - dist, gy + dist\n",
    "            v_cond = start_tmp[0] not in range(left_boundary, right_boundary + 1)\n",
    "            h_cond = start_tmp[1] not in range(upper_boundary, lower_boundary + 1)\n",
    "            if v_cond or h_cond:\n",
    "                  res.append(start_tmp.tolist())\n",
    "        return res\n",
    "\n",
    "get_starting_positions(env)"
   ]
  },
  {
   "cell_type": "code",
   "execution_count": 82,
   "metadata": {},
   "outputs": [],
   "source": [
    "def test_agent(env: TaskEnv = None, agent : SARSAAgent | QLearningAgent | RandomAgent = None, total_training=10000, step = 200):\n",
    "    starting_positions = get_starting_positions(env)\n",
    "    scores = []\n",
    "    for _ in np.arange(0,total_training, step):\n",
    "        agent.train(step,env)\n",
    "        sum = 0\n",
    "        for position in starting_positions:\n",
    "            sum += agent.score(env, position)\n",
    "        scores.append(sum/6)\n",
    "    return scores\n"
   ]
  },
  {
   "cell_type": "code",
   "execution_count": 83,
   "metadata": {},
   "outputs": [],
   "source": [
    "newsagent = SARSAAgent(env)\n",
    "newqagent = QLearningAgent(env)"
   ]
  },
  {
   "cell_type": "code",
   "execution_count": 84,
   "metadata": {},
   "outputs": [
    {
     "name": "stderr",
     "output_type": "stream",
     "text": [
      "100%|██████████| 200/200 [00:00<00:00, 709.53it/s]\n",
      "100%|██████████| 200/200 [00:00<00:00, 1046.97it/s]\n",
      "100%|██████████| 200/200 [00:00<00:00, 973.15it/s]\n",
      "100%|██████████| 200/200 [00:00<00:00, 1298.43it/s]\n",
      "100%|██████████| 200/200 [00:00<00:00, 2496.22it/s]\n",
      "100%|██████████| 200/200 [00:00<00:00, 2717.14it/s]\n",
      "100%|██████████| 200/200 [00:00<00:00, 2552.38it/s]\n",
      "100%|██████████| 200/200 [00:00<00:00, 2672.15it/s]\n",
      "100%|██████████| 200/200 [00:00<00:00, 2824.67it/s]\n",
      "100%|██████████| 200/200 [00:00<00:00, 2795.34it/s]\n",
      "100%|██████████| 200/200 [00:00<00:00, 2702.88it/s]\n",
      "100%|██████████| 200/200 [00:00<00:00, 2855.14it/s]\n",
      "100%|██████████| 200/200 [00:00<00:00, 2772.24it/s]\n",
      "100%|██████████| 200/200 [00:00<00:00, 2613.60it/s]\n",
      "100%|██████████| 200/200 [00:00<00:00, 2695.49it/s]\n",
      "100%|██████████| 200/200 [00:00<00:00, 2776.46it/s]\n",
      "100%|██████████| 200/200 [00:00<00:00, 2697.74it/s]\n",
      "100%|██████████| 200/200 [00:00<00:00, 2885.04it/s]\n",
      "100%|██████████| 200/200 [00:00<00:00, 2777.97it/s]\n",
      "100%|██████████| 200/200 [00:00<00:00, 2866.03it/s]\n",
      "100%|██████████| 200/200 [00:00<00:00, 2904.58it/s]\n",
      "100%|██████████| 200/200 [00:00<00:00, 2765.25it/s]\n",
      "100%|██████████| 200/200 [00:00<00:00, 2759.87it/s]\n",
      "100%|██████████| 200/200 [00:00<00:00, 2623.43it/s]\n",
      "100%|██████████| 200/200 [00:00<00:00, 2787.33it/s]\n",
      "100%|██████████| 200/200 [00:00<00:00, 2727.20it/s]\n",
      "100%|██████████| 200/200 [00:00<00:00, 2641.03it/s]\n",
      "100%|██████████| 200/200 [00:00<00:00, 1744.59it/s]\n",
      "100%|██████████| 200/200 [00:00<00:00, 1183.43it/s]\n",
      "100%|██████████| 200/200 [00:00<00:00, 1688.05it/s]\n",
      "100%|██████████| 200/200 [00:00<00:00, 2191.42it/s]\n",
      "100%|██████████| 200/200 [00:00<00:00, 1486.07it/s]\n",
      "100%|██████████| 200/200 [00:00<00:00, 1516.47it/s]\n",
      "100%|██████████| 200/200 [00:00<00:00, 1885.11it/s]\n",
      "100%|██████████| 200/200 [00:00<00:00, 2623.54it/s]\n",
      "100%|██████████| 200/200 [00:00<00:00, 2673.79it/s]\n",
      "100%|██████████| 200/200 [00:00<00:00, 2710.88it/s]\n",
      "100%|██████████| 200/200 [00:00<00:00, 2793.07it/s]\n",
      "100%|██████████| 200/200 [00:00<00:00, 2855.89it/s]\n",
      "100%|██████████| 200/200 [00:00<00:00, 2911.16it/s]\n",
      "100%|██████████| 200/200 [00:00<00:00, 2764.03it/s]\n",
      "100%|██████████| 200/200 [00:00<00:00, 2791.11it/s]\n",
      "100%|██████████| 200/200 [00:00<00:00, 2937.89it/s]\n",
      "100%|██████████| 200/200 [00:00<00:00, 2997.19it/s]\n",
      "100%|██████████| 200/200 [00:00<00:00, 2824.39it/s]\n",
      "100%|██████████| 200/200 [00:00<00:00, 2845.35it/s]\n",
      "100%|██████████| 200/200 [00:00<00:00, 2860.16it/s]\n",
      "100%|██████████| 200/200 [00:00<00:00, 3031.83it/s]\n",
      "100%|██████████| 200/200 [00:00<00:00, 2796.38it/s]\n",
      "100%|██████████| 200/200 [00:00<00:00, 2889.80it/s]\n",
      "100%|██████████| 200/200 [00:00<00:00, 615.38it/s]\n",
      "100%|██████████| 200/200 [00:00<00:00, 771.62it/s]\n",
      "100%|██████████| 200/200 [00:00<00:00, 1081.03it/s]\n",
      "100%|██████████| 200/200 [00:00<00:00, 1672.45it/s]\n",
      "100%|██████████| 200/200 [00:00<00:00, 2129.97it/s]\n",
      "100%|██████████| 200/200 [00:00<00:00, 2857.51it/s]\n",
      "100%|██████████| 200/200 [00:00<00:00, 2863.81it/s]\n",
      "100%|██████████| 200/200 [00:00<00:00, 2829.81it/s]\n",
      "100%|██████████| 200/200 [00:00<00:00, 2933.58it/s]\n",
      "100%|██████████| 200/200 [00:00<00:00, 2762.65it/s]\n",
      "100%|██████████| 200/200 [00:00<00:00, 2725.31it/s]\n",
      "100%|██████████| 200/200 [00:00<00:00, 2932.76it/s]\n",
      "100%|██████████| 200/200 [00:00<00:00, 2863.18it/s]\n",
      "100%|██████████| 200/200 [00:00<00:00, 2729.33it/s]\n",
      "100%|██████████| 200/200 [00:00<00:00, 2829.02it/s]\n",
      "100%|██████████| 200/200 [00:00<00:00, 2849.46it/s]\n",
      "100%|██████████| 200/200 [00:00<00:00, 2742.40it/s]\n",
      "100%|██████████| 200/200 [00:00<00:00, 2801.71it/s]\n",
      "100%|██████████| 200/200 [00:00<00:00, 2951.68it/s]\n",
      "100%|██████████| 200/200 [00:00<00:00, 2780.21it/s]\n",
      "100%|██████████| 200/200 [00:00<00:00, 2975.40it/s]\n",
      "100%|██████████| 200/200 [00:00<00:00, 2861.92it/s]\n",
      "100%|██████████| 200/200 [00:00<00:00, 2944.51it/s]\n",
      "100%|██████████| 200/200 [00:00<00:00, 2925.47it/s]\n",
      "100%|██████████| 200/200 [00:00<00:00, 2892.26it/s]\n",
      "100%|██████████| 200/200 [00:00<00:00, 2766.36it/s]\n",
      "100%|██████████| 200/200 [00:00<00:00, 2846.32it/s]\n",
      "100%|██████████| 200/200 [00:00<00:00, 2653.19it/s]\n",
      "100%|██████████| 200/200 [00:00<00:00, 2911.42it/s]\n",
      "100%|██████████| 200/200 [00:00<00:00, 2817.85it/s]\n",
      "100%|██████████| 200/200 [00:00<00:00, 2895.32it/s]\n",
      "100%|██████████| 200/200 [00:00<00:00, 2936.52it/s]\n",
      "100%|██████████| 200/200 [00:00<00:00, 2862.25it/s]\n",
      "100%|██████████| 200/200 [00:00<00:00, 2740.14it/s]\n",
      "100%|██████████| 200/200 [00:00<00:00, 1591.28it/s]\n",
      "100%|██████████| 200/200 [00:00<00:00, 858.42it/s]\n",
      "100%|██████████| 200/200 [00:00<00:00, 922.65it/s]\n",
      "100%|██████████| 200/200 [00:00<00:00, 1457.95it/s]\n",
      "100%|██████████| 200/200 [00:00<00:00, 2592.93it/s]\n",
      "100%|██████████| 200/200 [00:00<00:00, 2684.53it/s]\n",
      "100%|██████████| 200/200 [00:00<00:00, 2738.11it/s]\n",
      "100%|██████████| 200/200 [00:00<00:00, 2714.95it/s]\n",
      "100%|██████████| 200/200 [00:00<00:00, 2961.03it/s]\n",
      "100%|██████████| 200/200 [00:00<00:00, 2805.59it/s]\n",
      "100%|██████████| 200/200 [00:00<00:00, 2822.95it/s]\n",
      "100%|██████████| 200/200 [00:00<00:00, 2832.54it/s]\n",
      "100%|██████████| 200/200 [00:00<00:00, 2871.79it/s]\n",
      "100%|██████████| 200/200 [00:00<00:00, 2969.51it/s]\n",
      "100%|██████████| 200/200 [00:00<00:00, 2793.02it/s]\n",
      "100%|██████████| 200/200 [00:00<00:00, 2856.58it/s]\n"
     ]
    }
   ],
   "source": [
    "sscores = test_agent(env, newsagent)\n",
    "qscores = test_agent(env, newqagent)"
   ]
  },
  {
   "cell_type": "code",
   "execution_count": 85,
   "metadata": {},
   "outputs": [
    {
     "data": {
      "image/png": "[encoded data removed]",
      "text/plain": [
       "<Figure size 640x480 with 1 Axes>"
      ]
     },
     "metadata": {},
     "output_type": "display_data"
    }
   ],
   "source": [
    "time = np.arange(0,10000,200)\n",
    "plt.plot(time, sscores, label = \"SARSA\", color = 'blue')\n",
    "plt.plot(time, qscores, label = \"Q Learner\", color = 'red')\n",
    "plt.show()"
   ]
  },
  {
   "cell_type": "markdown",
   "metadata": {},
   "source": [
    " ## 3. Play with parameters and analyse results\n",
    " \n",
    "Finally, you will describe, evaluate, and interpret the results obtained from the two RL agents. Additionally, compare your agents with the provided Random Agent. Feel free to utilize the provided helper functions for evaluating your agents. Some important points are:\n",
    "\n",
    "- Both quantified evaluation and human evaluation are needed in the report. The quantified evaluation should focus on the measurement of reward. In the human evaluation, you can use the provided visual tools to interpret your results. Your report should include at least one plot presenting comparable measures for the different agents.\n",
    "\n",
    "- While evaluating the results of Agent 2 (with SARSA algorithm), please try at least 2 different values of **epsilon** (expect 0) and discuss the influence of different epsilon values on the results. In the end, please identify a reasonable epsilon value that could balance the exploration and exploitation, then fix this value for comparing the two agents. Present your trails and results in the report.\n",
    "\n",
    "- In the report, you also need to parcitularly describe and discuss the similarity and difference of results from two RL agents (hint: on-policy VS off-policy). For this, please make sure that the compared results are obtained from the same environment (the same maze for two different agents). Also, while evaluating the results of two agents, please try at least 2 different values of **gamma**. In this way, you could discuss the influence of this discount factor in your report. \n",
    "\n",
    "- Please run the simulation multiple times and average the results for all your findings.\n"
   ]
  },
  {
   "cell_type": "code",
   "execution_count": 24,
   "metadata": {},
   "outputs": [],
   "source": [
    "# TODO: evaluation \n"
   ]
  },
  {
   "cell_type": "markdown",
   "metadata": {},
   "source": [
    "# Bonus Tasks \n",
    "\n",
    "We would like to challenge you with the following bonus task. For each task that is successfully completed, you may obtain max. 1 extra point. \n",
    "\n",
    "1. Implement a third RL agent using another RL algorithm (e.g. Monte Carlo methods, Expected SARSA or even neural network-based ones) and discuss your findings. Compare this third agent with the above ones and explain why this is a better (or worse) RL algorithm. You are allowed to reuse exsiting packages, but please cite them, test them in advance, and make sure that you can explain the used algorithm using your own words.\n",
    "\n",
    "2. Can you explore and show other evaluation results? If so, implement and present one extra result (e.g. a plot). And please explain why it is a good evaluation method for our task or how it shows the difference between two RL agents/algorithms."
   ]
  },
  {
   "cell_type": "code",
   "execution_count": null,
   "metadata": {},
   "outputs": [],
   "source": []
  }
 ],
 "metadata": {
  "kernelspec": {
   "display_name": "Python 3 (ipykernel)",
   "language": "python",
   "name": "python3"
  },
  "language_info": {
   "codemirror_mode": {
    "name": "ipython",
    "version": 3
   },
   "file_extension": ".py",
   "mimetype": "text/x-python",
   "name": "python",
   "nbconvert_exporter": "python",
   "pygments_lexer": "ipython3",
   "version": "3.11.6"
  }
 },
 "nbformat": 4,
 "nbformat_minor": 2
}
